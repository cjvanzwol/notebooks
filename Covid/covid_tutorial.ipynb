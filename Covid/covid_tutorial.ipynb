{
 "cells": [
  {
   "cell_type": "code",
   "execution_count": 1,
   "metadata": {},
   "outputs": [
    {
     "name": "stdout",
     "output_type": "stream",
     "text": [
      "Pulling data from sources.json:\n",
      "(Source: CBS)  deceased @ https://opendata.cbs.nl/statline/portal.html?_catalog=CBS&_la=nl&tableId=70895ned&_theme=76\n",
      "(Source: CBS)  population @ https://opendata.cbs.nl/statline/portal.html?_catalog=CBS&_la=nl&tableId=37230ned&_theme=76\n",
      "(Source: RIVM) counts_per_municipality @ https://data.rivm.nl/geonetwork/srv/dut/catalog.search#/metadata/5f6bc429-1596-490e-8618-1ed8fd768427\n",
      "(Source: RIVM) prevalence @ https://data.rivm.nl/geonetwork/srv/dut/catalog.search#/metadata/097155aa-75eb-4caa-8ed3-4c6edb80467e\n",
      "(Source: RIVM) r @ https://data.rivm.nl/geonetwork/srv/dut/catalog.search#/metadata/ed0699d1-c9d5-4436-8517-27eb993eab6e\n",
      "(Source: RIVM) homes_for_elderly @ https://data.rivm.nl/geonetwork/srv/dut/catalog.search#/metadata/0179dd26-7bf6-4021-857f-8623aaf8e73a\n",
      "(Source: RIVM) homes_for_disabled @ https://data.rivm.nl/geonetwork/srv/dut/catalog.search#/metadata/aa28b74d-7150-47bc-a7cb-98876e93381b\n",
      "(Source: RIVM) seventy_plus_living_at_home @ https://data.rivm.nl/geonetwork/srv/dut/catalog.search#/metadata/40508e17-7296-4f39-ad25-8ddd0c904087\n",
      "(Source: RIVM) sewage @ https://data.rivm.nl/geonetwork/srv/dut/catalog.search#/metadata/a2960b68-9d3f-4dc3-9485-600570cd52b9\n",
      "(Source: RIVM) support_and_behavior @ https://data.rivm.nl/geonetwork/srv/dut/catalog.search#/metadata/8a72d78a-fcf8-4882-b0ab-cd594961a267?tab=relations\n",
      "(Source: NICE) hospital_admission @ https://data.rivm.nl/geonetwork/srv/dut/catalog.search#/metadata/4f4ad069-8f24-4fe8-b2a7-533ef27a899f\n",
      "(Source: NICE) ic_admission @ https://data.rivm.nl/geonetwork/srv/dut/catalog.search#/metadata/45f911c4-3a62-42f1-b594-524a75db2c94\n",
      "(Source: LCPS) hospital_occupation @ https://lcps.nu/datafeed/\n",
      "(Source: Nivel) general_practioner @ https://www.nivel.nl/nl/nivel-zorgregistraties-eerste-lijn/monitor-cijfers-covid-19-achtige-klachten-huisartsenpraktijken#opendata\n",
      "\n",
      "Creating dataframes for analysis:\n",
      "dataframe from cbs created, per week per agegroup: deceased_week_agegroup\n",
      "dataframe from cbs created, per week: deceased_per_week\n",
      "dataframe from cbs created, per year per agegroup: deceased_year_agegroup\n",
      "dataframe from cbs created, per year per agegroup: deceased_per_year\n",
      "dataframe from cbs created, per month per municipality: population_month_municipality\n",
      "dataframe from cbs created, per year per municipality: population_year_municipality\n",
      "dataframe from cbs created, per month: population_per_month\n",
      "dataframe from cbs created, per month: population_per_year\n",
      "dataframe for RIVM data created, per day: rivm_per_day\n",
      "dataframe for RIVM data created: rivm_per_week\n",
      "dataframe for RIVM data created, per month: rivm_per_month\n",
      "dataframe for RIVM data created, per month: rivm_per_month\n",
      "dataframe CBS and RIVM combined, per week: per_week\n",
      "dataframe CBS and RIVM combined, per month: per_month\n",
      "dataframe CBS and RIVM combined, per month: per_year\n"
     ]
    }
   ],
   "source": [
    "%run ./data/data.ipynb"
   ]
  },
  {
   "cell_type": "markdown",
   "metadata": {},
   "source": [
    "# Epyestim: application to Covid-19 data (tutorial)"
   ]
  },
  {
   "cell_type": "markdown",
   "metadata": {},
   "source": [
    "This tutorial will guide you through basic applications of the `epyestim` package to Covid-19 data, provided by the module `covid19`. For a more general introduction to the package, check out the other tutorial notebooks.\n",
    "\n",
    "__Contents__:\n",
    "\n",
    "1. Estimating the effective reproduction number from reported cases\n",
    "2. Estimating the effective reproduction number from deaths, hospitalisations or test dates instead of reported cases\n",
    "3. Interpretation of results\n",
    "4. Common issues"
   ]
  },
  {
   "cell_type": "code",
   "execution_count": 2,
   "metadata": {},
   "outputs": [],
   "source": [
    "import os\n",
    "\n",
    "import numpy as np\n",
    "import pandas as pd\n",
    "import matplotlib as mpl\n",
    "import matplotlib.pyplot as plt\n",
    "plt.style.use('seaborn-white')\n",
    "\n",
    "%matplotlib inline\n",
    "\n",
    "from scipy.stats import gamma, poisson\n",
    "\n",
    "import epyestim\n",
    "import epyestim.covid19 as covid19"
   ]
  },
  {
   "cell_type": "markdown",
   "metadata": {},
   "source": [
    "## 1. Estimating the effective reproduction number from reported cases"
   ]
  },
  {
   "cell_type": "markdown",
   "metadata": {},
   "source": [
    "In the standard use case, epyestim estimates the effective reproduction number from a time series of reported cases. (Other cases will be discussed in section 2.) The reproduction number is computed using the function\n",
    "\n",
    "`covid19.r_covid(confirmed_cases, gt_distribution=generate_standard_si_distribution(), delay_distribution=generate_standard_delay_distribution(), a_prior=3, b_prior=1, smoothing_window=21, r_window_size=3, r_interval_dates=None, n_samples=100, quantiles=(0.025, 0.5, 0.975), auto_cutoff=True)`:\n",
    "\n",
    "*Mandatory argument*:\n",
    "* `confirmed_cases` (pandas.Series): the time series of confirmed cases\n",
    "\n",
    "*Optional arguments*:\n",
    "* `gt_distribution` (numpy.array): the generation time distribution (in days).\n",
    "* `delay_distribution` (numpy.array): the distribution of delays (in days) from onset to reporting.\n",
    "* `a_prior` (int): prior for the shape parameter of the Gamma distribution of the reproduction number\n",
    "* `b_prior` (int): prior for the scale parameter of the Gamma distribution of the reproduction number\n",
    "* `smoothing_window` (int): window size (in days) for the LOWESS smoothing of reported cases\n",
    "* `r_window_size` (int): window size (in days) for final rolling average\n",
    "* `r_interval_dates` (List[datetime.date]): time intervals for piece-wise constant reproduction number. If None, the time-varying reproduction number is computed instead.\n",
    "* `n_samples` (int): number of bootstrap samples\n",
    "* `quantiles` (Iterable[float]): quantiles of the posterior distribution of the reproduction number\n",
    "* `auto_cutoff` (bool): estimates are only provided after 1. cumulative cases have reached at least 12, 2. at least one mean generation time has passed since the index case and 3., if applicable, at least one r_window_size has passed since the index case.\n",
    "\n",
    "*Returns*:\n",
    "* `out` (pandas.DataFrame): data frame with index dates and columns 'cases', 'R_mean', 'R_var' and all the R-quantiles from `quantiles`.\n",
    "\n",
    "If you want piece-wise constant R over fixed time intervals, you must provide `r_interval_dates`, a list of interval boundaries in datetime.date format. It takes precedence over `r_window_size`."
   ]
  },
  {
   "cell_type": "markdown",
   "metadata": {},
   "source": [
    "### 1.1. The input series of reported cases"
   ]
  },
  {
   "cell_type": "markdown",
   "metadata": {},
   "source": [
    "The time series has to be provided in the format of a pandas series with date intex. As an example we use the time series of reported Covid-19 cases from Switzerland (source: John Hopkins CSSE Covid-19 repository):"
   ]
  },
  {
   "cell_type": "code",
   "execution_count": 16,
   "metadata": {},
   "outputs": [
    {
     "name": "stdout",
     "output_type": "stream",
     "text": [
      "<class 'pandas.core.series.Series'>\n"
     ]
    },
    {
     "data": {
      "text/plain": [
       "DatetimeIndex(['2020-01-22', '2020-01-23', '2020-01-24', '2020-01-25',\n",
       "               '2020-01-26', '2020-01-27', '2020-01-28', '2020-01-29',\n",
       "               '2020-01-30', '2020-01-31',\n",
       "               ...\n",
       "               '2020-10-31', '2020-11-01', '2020-11-02', '2020-11-03',\n",
       "               '2020-11-04', '2020-11-05', '2020-11-06', '2020-11-07',\n",
       "               '2020-11-08', '2020-11-09'],\n",
       "              dtype='datetime64[ns]', name='Date', length=293, freq=None)"
      ]
     },
     "execution_count": 16,
     "metadata": {},
     "output_type": "execute_result"
    }
   ],
   "source": [
    "ch_cases = pd.read_csv(\n",
    "    os.path.join('.', 'data', 'CH_covid_cases_reported.csv'),\n",
    "    parse_dates=['Date']\n",
    ").set_index('Date')['Cases']\n",
    "\n",
    "print(type(ch_cases))\n",
    "ch_cases.index"
   ]
  },
  {
   "cell_type": "code",
   "execution_count": 33,
   "metadata": {},
   "outputs": [],
   "source": [
    "ch_cases = counts_per_municipality['Positive_tests'].reset_index()\n",
    "ch_cases['Date'] = ch_cases['Date'].astype(str)\n",
    "ch_cases['Date'] = pd.to_datetime(ch_cases['Date'])\n",
    "ch_cases.set_index('Date',inplace=True)\n",
    "ch_cases = ch_cases['Positive_tests']"
   ]
  },
  {
   "cell_type": "markdown",
   "metadata": {},
   "source": [
    "### 1.2. The input distributions\n",
    "\n",
    "You can skip this section if you are happy to use our default Covid-19 generation time distribution and reporting delay distribution."
   ]
  },
  {
   "cell_type": "markdown",
   "metadata": {},
   "source": [
    "There are two distributions involved in the calculation:\n",
    "* The generation time distribution\n",
    "* The distribution of delays from infection to reporting.\n",
    "\n",
    "Both of them must be provided as numpy arrays. The index correspondnds to the delay (in days), the values to the relative frequencies. All values must be non-zero. (If your distribution has vanishing probability for instance for delay = 0 days, you must replace it with a small non-zero value.)"
   ]
  },
  {
   "cell_type": "markdown",
   "metadata": {},
   "source": [
    "For Covid-19, we provide default values for both distributions:\n",
    "* *Generation time distribution*: we provide the serial interval distribution (mean: 4.3 days) for Covid-19, as used by Flaxman et al., Nature 584, 257–261 (2020). https://doi.org/10.1038/s41586-020-2405-7\n",
    "* *Delay distribution*: we provide a standard infection to reporting delay distribution (mean: 10.3 days), obtained as a convolution of the incubation time distribution and onset to reporting delay distribution as used by Brauner et al. (2020) preprint: https://www.medrxiv.org/content/10.1101/2020.05.28.20116129v4\n",
    "\n",
    "They are accessed like so:"
   ]
  },
  {
   "cell_type": "code",
   "execution_count": 34,
   "metadata": {},
   "outputs": [],
   "source": [
    "si_distrb = covid19.generate_standard_si_distribution()\n",
    "delay_distrb = covid19.generate_standard_infection_to_reporting_distribution()"
   ]
  },
  {
   "cell_type": "code",
   "execution_count": 35,
   "metadata": {},
   "outputs": [
    {
     "data": {
      "image/png": "[encoded data removed]",
      "text/plain": [
       "<Figure size 864x216 with 2 Axes>"
      ]
     },
     "metadata": {
      "needs_background": "light"
     },
     "output_type": "display_data"
    }
   ],
   "source": [
    "fig, axs = plt.subplots(1, 2, figsize=(12,3))\n",
    "\n",
    "axs[0].bar(range(len(si_distrb)), si_distrb, width=1)\n",
    "axs[1].bar(range(len(delay_distrb)), delay_distrb, width=1)\n",
    "\n",
    "axs[0].set_title('Default serial interval distribution')\n",
    "axs[1].set_title('Default infection-to-reporting delay distribution')\n",
    "plt.show()"
   ]
  },
  {
   "cell_type": "markdown",
   "metadata": {},
   "source": [
    "One way to make your own distributions is to pick a standard continuous distribution from the scipy.stats package (an object of type `rv_continuous`) and discretise it by using our function `epyestim.discrete_distrb()`, like so:"
   ]
  },
  {
   "cell_type": "code",
   "execution_count": 36,
   "metadata": {},
   "outputs": [
    {
     "data": {
      "image/png": "[encoded data removed]",
      "text/plain": [
       "<Figure size 432x288 with 1 Axes>"
      ]
     },
     "metadata": {
      "needs_background": "light"
     },
     "output_type": "display_data"
    }
   ],
   "source": [
    "my_continuous_distrb = gamma(a=5, scale=2)\n",
    "my_discrete_distrb = epyestim.discrete_distrb(my_continuous_distrb)\n",
    "\n",
    "plt.bar(range(len(my_discrete_distrb)), my_discrete_distrb, width=1)\n",
    "plt.show()"
   ]
  },
  {
   "cell_type": "markdown",
   "metadata": {},
   "source": [
    "### 1.3. Estimating the time-varying R(t)\n",
    "\n",
    "Let's estimate the time-varying effective reproduction number R(t) for Switzerland, using our default distributions and parameters:"
   ]
  },
  {
   "cell_type": "code",
   "execution_count": 37,
   "metadata": {},
   "outputs": [
    {
     "data": {
      "text/html": [
       "<div>\n",
       "<style scoped>\n",
       "    .dataframe tbody tr th:only-of-type {\n",
       "        vertical-align: middle;\n",
       "    }\n",
       "\n",
       "    .dataframe tbody tr th {\n",
       "        vertical-align: top;\n",
       "    }\n",
       "\n",
       "    .dataframe thead th {\n",
       "        text-align: right;\n",
       "    }\n",
       "</style>\n",
       "<table border=\"1\" class=\"dataframe\">\n",
       "  <thead>\n",
       "    <tr style=\"text-align: right;\">\n",
       "      <th></th>\n",
       "      <th>cases</th>\n",
       "      <th>R_mean</th>\n",
       "      <th>R_var</th>\n",
       "      <th>Q0.025</th>\n",
       "      <th>Q0.5</th>\n",
       "      <th>Q0.975</th>\n",
       "    </tr>\n",
       "  </thead>\n",
       "  <tbody>\n",
       "    <tr>\n",
       "      <th>2021-03-23</th>\n",
       "      <td>5611.0</td>\n",
       "      <td>0.998406</td>\n",
       "      <td>0.000043</td>\n",
       "      <td>0.985605</td>\n",
       "      <td>0.998392</td>\n",
       "      <td>1.011290</td>\n",
       "    </tr>\n",
       "    <tr>\n",
       "      <th>2021-03-24</th>\n",
       "      <td>7566.0</td>\n",
       "      <td>0.977550</td>\n",
       "      <td>0.000042</td>\n",
       "      <td>0.964931</td>\n",
       "      <td>0.977536</td>\n",
       "      <td>0.990250</td>\n",
       "    </tr>\n",
       "    <tr>\n",
       "      <th>2021-03-25</th>\n",
       "      <td>7698.0</td>\n",
       "      <td>0.956259</td>\n",
       "      <td>0.000041</td>\n",
       "      <td>0.943742</td>\n",
       "      <td>0.956245</td>\n",
       "      <td>0.968836</td>\n",
       "    </tr>\n",
       "    <tr>\n",
       "      <th>2021-03-26</th>\n",
       "      <td>7574.0</td>\n",
       "      <td>0.934384</td>\n",
       "      <td>0.000040</td>\n",
       "      <td>0.922010</td>\n",
       "      <td>0.934370</td>\n",
       "      <td>0.946840</td>\n",
       "    </tr>\n",
       "    <tr>\n",
       "      <th>2021-03-27</th>\n",
       "      <td>8805.0</td>\n",
       "      <td>0.915335</td>\n",
       "      <td>0.000040</td>\n",
       "      <td>0.903024</td>\n",
       "      <td>0.915321</td>\n",
       "      <td>0.927729</td>\n",
       "    </tr>\n",
       "  </tbody>\n",
       "</table>\n",
       "</div>"
      ],
      "text/plain": [
       "             cases    R_mean     R_var    Q0.025      Q0.5    Q0.975\n",
       "2021-03-23  5611.0  0.998406  0.000043  0.985605  0.998392  1.011290\n",
       "2021-03-24  7566.0  0.977550  0.000042  0.964931  0.977536  0.990250\n",
       "2021-03-25  7698.0  0.956259  0.000041  0.943742  0.956245  0.968836\n",
       "2021-03-26  7574.0  0.934384  0.000040  0.922010  0.934370  0.946840\n",
       "2021-03-27  8805.0  0.915335  0.000040  0.903024  0.915321  0.927729"
      ]
     },
     "execution_count": 37,
     "metadata": {},
     "output_type": "execute_result"
    }
   ],
   "source": [
    "ch_time_varying_r = covid19.r_covid(ch_cases)\n",
    "\n",
    "ch_time_varying_r.tail()"
   ]
  },
  {
   "cell_type": "code",
   "execution_count": 38,
   "metadata": {},
   "outputs": [
    {
     "data": {
      "image/png": "[encoded data removed]",
      "text/plain": [
       "<Figure size 864x288 with 1 Axes>"
      ]
     },
     "metadata": {
      "needs_background": "light"
     },
     "output_type": "display_data"
    }
   ],
   "source": [
    "fig, ax = plt.subplots(1,1, figsize=(12, 4))\n",
    "\n",
    "ch_time_varying_r.loc[:,'Q0.5'].plot(ax=ax, color='red')\n",
    "ax.fill_between(ch_time_varying_r.index, \n",
    "                    ch_time_varying_r['Q0.025'], \n",
    "                    ch_time_varying_r['Q0.975'], \n",
    "                    color='red', alpha=0.2)\n",
    "ax.set_xlabel('date')\n",
    "ax.set_ylabel('R(t) with 95%-CI')\n",
    "ax.set_ylim([0,3])\n",
    "ax.axhline(y=1)\n",
    "ax.set_title('Estimate of time-varying effective reproduction number for Netherlands')\n",
    "plt.show()"
   ]
  },
  {
   "cell_type": "markdown",
   "metadata": {},
   "source": [
    "### 1.4. Estimating piece-wise constant R\n",
    "\n",
    "Let's compute the average effective reproduction number for Switzerland in the following time intervals (chosen to roughly coincide with the introduction/suspension of national non-pharmaceutical interventions):"
   ]
  },
  {
   "cell_type": "code",
   "execution_count": 39,
   "metadata": {},
   "outputs": [],
   "source": [
    "from datetime import date\n",
    "\n",
    "time_intervals = [date(2020, 3, 2), date(2020, 3, 13), date(2020, 3, 17), date(2020, 3, 21),\n",
    "                  date(2020, 4, 23), date(2020, 5, 10), date(2020, 5, 31), date(2020, 6, 7),\n",
    "                  date(2020, 6, 15), date(2020, 6, 23), date(2020, 7, 6), date(2020, 9, 30),\n",
    "                  date(2020, 10, 19), date(2020, 11, 4), date(2020, 11, 9), date(2020, 12, 1), date(2020, 12, 22), date(2021, 2, 9), date(2021, 3, 30)] "
   ]
  },
  {
   "cell_type": "code",
   "execution_count": 40,
   "metadata": {},
   "outputs": [
    {
     "name": "stderr",
     "output_type": "stream",
     "text": [
      "/home/cjvanzwol/miniconda3/envs/covid/lib/python3.9/site-packages/epyestim/main.py:128: UserWarning: First interval start reset to 2020-03-04 00:00:00. If you do not want that, set auto_cutoff=False.\n",
      "  warnings.warn(\n",
      "/home/cjvanzwol/miniconda3/envs/covid/lib/python3.9/site-packages/epyestim/main.py:134: UserWarning: First interval end reset to 2021-03-27 00:00:00. If you do not want that, set auto_cutoff=False.\n",
      "  warnings.warn(\n"
     ]
    },
    {
     "data": {
      "text/html": [
       "<div>\n",
       "<style scoped>\n",
       "    .dataframe tbody tr th:only-of-type {\n",
       "        vertical-align: middle;\n",
       "    }\n",
       "\n",
       "    .dataframe tbody tr th {\n",
       "        vertical-align: top;\n",
       "    }\n",
       "\n",
       "    .dataframe thead th {\n",
       "        text-align: right;\n",
       "    }\n",
       "</style>\n",
       "<table border=\"1\" class=\"dataframe\">\n",
       "  <thead>\n",
       "    <tr style=\"text-align: right;\">\n",
       "      <th></th>\n",
       "      <th>cases</th>\n",
       "      <th>R_mean</th>\n",
       "      <th>R_var</th>\n",
       "      <th>Q0.025</th>\n",
       "      <th>Q0.5</th>\n",
       "      <th>Q0.975</th>\n",
       "    </tr>\n",
       "  </thead>\n",
       "  <tbody>\n",
       "    <tr>\n",
       "      <th>2020-03-04</th>\n",
       "      <td>10</td>\n",
       "      <td>1.924834</td>\n",
       "      <td>0.001395</td>\n",
       "      <td>1.852270</td>\n",
       "      <td>1.924592</td>\n",
       "      <td>1.999134</td>\n",
       "    </tr>\n",
       "    <tr>\n",
       "      <th>2020-03-05</th>\n",
       "      <td>17</td>\n",
       "      <td>1.924834</td>\n",
       "      <td>0.001395</td>\n",
       "      <td>1.852270</td>\n",
       "      <td>1.924592</td>\n",
       "      <td>1.999134</td>\n",
       "    </tr>\n",
       "    <tr>\n",
       "      <th>2020-03-06</th>\n",
       "      <td>40</td>\n",
       "      <td>1.924834</td>\n",
       "      <td>0.001395</td>\n",
       "      <td>1.852270</td>\n",
       "      <td>1.924592</td>\n",
       "      <td>1.999134</td>\n",
       "    </tr>\n",
       "    <tr>\n",
       "      <th>2020-03-07</th>\n",
       "      <td>50</td>\n",
       "      <td>1.924834</td>\n",
       "      <td>0.001395</td>\n",
       "      <td>1.852270</td>\n",
       "      <td>1.924592</td>\n",
       "      <td>1.999134</td>\n",
       "    </tr>\n",
       "    <tr>\n",
       "      <th>2020-03-08</th>\n",
       "      <td>32</td>\n",
       "      <td>1.924834</td>\n",
       "      <td>0.001395</td>\n",
       "      <td>1.852270</td>\n",
       "      <td>1.924592</td>\n",
       "      <td>1.999134</td>\n",
       "    </tr>\n",
       "    <tr>\n",
       "      <th>...</th>\n",
       "      <td>...</td>\n",
       "      <td>...</td>\n",
       "      <td>...</td>\n",
       "      <td>...</td>\n",
       "      <td>...</td>\n",
       "      <td>...</td>\n",
       "    </tr>\n",
       "    <tr>\n",
       "      <th>2021-03-23</th>\n",
       "      <td>5611</td>\n",
       "      <td>1.063686</td>\n",
       "      <td>0.000004</td>\n",
       "      <td>1.059655</td>\n",
       "      <td>1.063685</td>\n",
       "      <td>1.067724</td>\n",
       "    </tr>\n",
       "    <tr>\n",
       "      <th>2021-03-24</th>\n",
       "      <td>7566</td>\n",
       "      <td>1.063686</td>\n",
       "      <td>0.000004</td>\n",
       "      <td>1.059655</td>\n",
       "      <td>1.063685</td>\n",
       "      <td>1.067724</td>\n",
       "    </tr>\n",
       "    <tr>\n",
       "      <th>2021-03-25</th>\n",
       "      <td>7698</td>\n",
       "      <td>1.063686</td>\n",
       "      <td>0.000004</td>\n",
       "      <td>1.059655</td>\n",
       "      <td>1.063685</td>\n",
       "      <td>1.067724</td>\n",
       "    </tr>\n",
       "    <tr>\n",
       "      <th>2021-03-26</th>\n",
       "      <td>7574</td>\n",
       "      <td>1.063686</td>\n",
       "      <td>0.000004</td>\n",
       "      <td>1.059655</td>\n",
       "      <td>1.063685</td>\n",
       "      <td>1.067724</td>\n",
       "    </tr>\n",
       "    <tr>\n",
       "      <th>2021-03-27</th>\n",
       "      <td>8805</td>\n",
       "      <td>NaN</td>\n",
       "      <td>NaN</td>\n",
       "      <td>NaN</td>\n",
       "      <td>NaN</td>\n",
       "      <td>NaN</td>\n",
       "    </tr>\n",
       "  </tbody>\n",
       "</table>\n",
       "<p>389 rows × 6 columns</p>\n",
       "</div>"
      ],
      "text/plain": [
       "            cases    R_mean     R_var    Q0.025      Q0.5    Q0.975\n",
       "2020-03-04     10  1.924834  0.001395  1.852270  1.924592  1.999134\n",
       "2020-03-05     17  1.924834  0.001395  1.852270  1.924592  1.999134\n",
       "2020-03-06     40  1.924834  0.001395  1.852270  1.924592  1.999134\n",
       "2020-03-07     50  1.924834  0.001395  1.852270  1.924592  1.999134\n",
       "2020-03-08     32  1.924834  0.001395  1.852270  1.924592  1.999134\n",
       "...           ...       ...       ...       ...       ...       ...\n",
       "2021-03-23   5611  1.063686  0.000004  1.059655  1.063685  1.067724\n",
       "2021-03-24   7566  1.063686  0.000004  1.059655  1.063685  1.067724\n",
       "2021-03-25   7698  1.063686  0.000004  1.059655  1.063685  1.067724\n",
       "2021-03-26   7574  1.063686  0.000004  1.059655  1.063685  1.067724\n",
       "2021-03-27   8805       NaN       NaN       NaN       NaN       NaN\n",
       "\n",
       "[389 rows x 6 columns]"
      ]
     },
     "execution_count": 40,
     "metadata": {},
     "output_type": "execute_result"
    }
   ],
   "source": [
    "ch_piecewise_r = covid19.r_covid(ch_cases, r_interval_dates = time_intervals)\n",
    "\n",
    "ch_piecewise_r"
   ]
  },
  {
   "cell_type": "code",
   "execution_count": 41,
   "metadata": {},
   "outputs": [
    {
     "data": {
      "image/png": "[encoded data removed]",
      "text/plain": [
       "<Figure size 864x288 with 1 Axes>"
      ]
     },
     "metadata": {
      "needs_background": "light"
     },
     "output_type": "display_data"
    }
   ],
   "source": [
    "fig, ax = plt.subplots(1,1, figsize=(12, 4))\n",
    "\n",
    "ch_piecewise_r.loc[:,'Q0.5'].plot(ax=ax, color='red')\n",
    "ax.fill_between(ch_piecewise_r.index, \n",
    "                    ch_piecewise_r['Q0.025'], \n",
    "                    ch_piecewise_r['Q0.975'], \n",
    "                    color='red', alpha=0.2)\n",
    "ax.set_xlabel('date')\n",
    "ax.set_ylabel('R(t) with 95%-CI')\n",
    "ax.set_ylim([0,3])\n",
    "ax.axhline(y=1)\n",
    "ax.set_title('Estimate of piece-wise constant effective reproduction number for Netherlands')\n",
    "plt.show()"
   ]
  },
  {
   "cell_type": "markdown",
   "metadata": {},
   "source": [
    "### 1.5. Custom options\n",
    "\n",
    "We have already seen how to customise the generation time distribution and reporting delay distribution. Let's look at some of the other optional arguments of `covid19.r_covid()`."
   ]
  },
  {
   "cell_type": "markdown",
   "metadata": {},
   "source": [
    "**1.5.1. Smoothing options**\n",
    "\n",
    "The argument `smoothing_window` controls the degree to which the initial case numbers are smoothed in order to account for spurious effects in the reporting process, such as reporting spikes due to backlog of cases, weekend patterns, etc.\n",
    "\n",
    "With the default value `smoothing_window=21`, initial case numbers are LOWESS-smoothed with a time window of 21 days. This is rather long, so let's check what happens if we smooth with a window of 7 days instead:"
   ]
  },
  {
   "cell_type": "code",
   "execution_count": 42,
   "metadata": {},
   "outputs": [
    {
     "ename": "KeyboardInterrupt",
     "evalue": "",
     "output_type": "error",
     "traceback": [
      "\u001b[0;31m---------------------------------------------------------------------------\u001b[0m",
      "\u001b[0;31mKeyboardInterrupt\u001b[0m                         Traceback (most recent call last)",
      "\u001b[0;32m<ipython-input-42-ce30e25b5349>\u001b[0m in \u001b[0;36m<module>\u001b[0;34m\u001b[0m\n\u001b[0;32m----> 1\u001b[0;31m \u001b[0mch_time_varying_r_\u001b[0m \u001b[0;34m=\u001b[0m \u001b[0mcovid19\u001b[0m\u001b[0;34m.\u001b[0m\u001b[0mr_covid\u001b[0m\u001b[0;34m(\u001b[0m\u001b[0mch_cases\u001b[0m\u001b[0;34m,\u001b[0m \u001b[0msmoothing_window\u001b[0m\u001b[0;34m=\u001b[0m\u001b[0;36m7\u001b[0m\u001b[0;34m)\u001b[0m\u001b[0;34m\u001b[0m\u001b[0;34m\u001b[0m\u001b[0m\n\u001b[0m",
      "\u001b[0;32m~/miniconda3/envs/covid/lib/python3.9/site-packages/epyestim/covid19.py\u001b[0m in \u001b[0;36mr_covid\u001b[0;34m(confirmed_cases, gt_distribution, delay_distribution, a_prior, b_prior, smoothing_window, r_window_size, r_interval_dates, n_samples, quantiles, auto_cutoff)\u001b[0m\n\u001b[1;32m     69\u001b[0m     \u001b[0;32mwith\u001b[0m \u001b[0mdefault\u001b[0m \u001b[0mparameters\u001b[0m \u001b[0;32mfor\u001b[0m \u001b[0mCovid\u001b[0m\u001b[0;34m-\u001b[0m\u001b[0;36m19.\u001b[0m\u001b[0;34m\u001b[0m\u001b[0;34m\u001b[0m\u001b[0m\n\u001b[1;32m     70\u001b[0m     \"\"\"\n\u001b[0;32m---> 71\u001b[0;31m     return bagging_r(\n\u001b[0m\u001b[1;32m     72\u001b[0m         \u001b[0mconfirmed_cases\u001b[0m\u001b[0;34m,\u001b[0m\u001b[0;34m\u001b[0m\u001b[0;34m\u001b[0m\u001b[0m\n\u001b[1;32m     73\u001b[0m         \u001b[0mgt_distribution\u001b[0m\u001b[0;34m=\u001b[0m\u001b[0mgt_distribution\u001b[0m\u001b[0;34m,\u001b[0m\u001b[0;34m\u001b[0m\u001b[0;34m\u001b[0m\u001b[0m\n",
      "\u001b[0;32m~/miniconda3/envs/covid/lib/python3.9/site-packages/epyestim/main.py\u001b[0m in \u001b[0;36mbagging_r\u001b[0;34m(confirmed_cases, gt_distribution, delay_distribution, a_prior, b_prior, smoothing_window, r_window_size, r_interval_dates, n_samples, quantiles, auto_cutoff)\u001b[0m\n\u001b[1;32m    143\u001b[0m     \u001b[0mbag\u001b[0m \u001b[0;34m=\u001b[0m \u001b[0;34m[\u001b[0m\u001b[0;34m]\u001b[0m\u001b[0;34m\u001b[0m\u001b[0;34m\u001b[0m\u001b[0m\n\u001b[1;32m    144\u001b[0m     \u001b[0;32mfor\u001b[0m \u001b[0m_\u001b[0m \u001b[0;32min\u001b[0m \u001b[0mrange\u001b[0m\u001b[0;34m(\u001b[0m\u001b[0mn_samples\u001b[0m\u001b[0;34m)\u001b[0m\u001b[0;34m:\u001b[0m\u001b[0;34m\u001b[0m\u001b[0;34m\u001b[0m\u001b[0m\n\u001b[0;32m--> 145\u001b[0;31m         posterior_r = sample_r(\n\u001b[0m\u001b[1;32m    146\u001b[0m             \u001b[0mconfirmed_cases\u001b[0m\u001b[0;34m=\u001b[0m\u001b[0mconfirmed_cases\u001b[0m\u001b[0;34m,\u001b[0m\u001b[0;34m\u001b[0m\u001b[0;34m\u001b[0m\u001b[0m\n\u001b[1;32m    147\u001b[0m             \u001b[0mgt_distribution\u001b[0m\u001b[0;34m=\u001b[0m\u001b[0mgt_distribution\u001b[0m\u001b[0;34m,\u001b[0m\u001b[0;34m\u001b[0m\u001b[0;34m\u001b[0m\u001b[0m\n",
      "\u001b[0;32m~/miniconda3/envs/covid/lib/python3.9/site-packages/epyestim/main.py\u001b[0m in \u001b[0;36msample_r\u001b[0;34m(confirmed_cases, gt_distribution, delay_distribution, a_prior, b_prior, smoothing_window, r_window_size, r_interval_dates)\u001b[0m\n\u001b[1;32m     31\u001b[0m     \u001b[0mbs_confirmed_cases\u001b[0m \u001b[0;34m=\u001b[0m \u001b[0mbootstrap\u001b[0m\u001b[0;34m.\u001b[0m\u001b[0mbootstrap_series\u001b[0m\u001b[0;34m(\u001b[0m\u001b[0mconfirmed_cases\u001b[0m\u001b[0;34m)\u001b[0m\u001b[0;34m\u001b[0m\u001b[0;34m\u001b[0m\u001b[0m\n\u001b[1;32m     32\u001b[0m     \u001b[0msm_bs_confirmed_cases\u001b[0m \u001b[0;34m=\u001b[0m \u001b[0msmoothen\u001b[0m\u001b[0;34m.\u001b[0m\u001b[0msmoothen_series\u001b[0m\u001b[0;34m(\u001b[0m\u001b[0mbs_confirmed_cases\u001b[0m\u001b[0;34m,\u001b[0m \u001b[0msmoothing_window\u001b[0m\u001b[0;34m)\u001b[0m\u001b[0;34m\u001b[0m\u001b[0;34m\u001b[0m\u001b[0m\n\u001b[0;32m---> 33\u001b[0;31m     \u001b[0mmax_likelihood_infections\u001b[0m \u001b[0;34m=\u001b[0m \u001b[0mdeconvolution\u001b[0m\u001b[0;34m.\u001b[0m\u001b[0mdeconvolve_series\u001b[0m\u001b[0;34m(\u001b[0m\u001b[0msm_bs_confirmed_cases\u001b[0m\u001b[0;34m,\u001b[0m \u001b[0mdelay_distribution\u001b[0m\u001b[0;34m)\u001b[0m\u001b[0;34m\u001b[0m\u001b[0;34m\u001b[0m\u001b[0m\n\u001b[0m\u001b[1;32m     34\u001b[0m     posterior_reproduction_number = estimate_r.estimate_r(\n\u001b[1;32m     35\u001b[0m         \u001b[0minfections_ts\u001b[0m\u001b[0;34m=\u001b[0m\u001b[0mmax_likelihood_infections\u001b[0m\u001b[0;34m,\u001b[0m\u001b[0;34m\u001b[0m\u001b[0;34m\u001b[0m\u001b[0m\n",
      "\u001b[0;32m~/miniconda3/envs/covid/lib/python3.9/site-packages/epyestim/deconvolution.py\u001b[0m in \u001b[0;36mdeconvolve_series\u001b[0;34m(ser, delay_distrb)\u001b[0m\n\u001b[1;32m     72\u001b[0m     \u001b[0;31m# Richardson-Lucy deconvolution iteration\u001b[0m\u001b[0;34m\u001b[0m\u001b[0;34m\u001b[0m\u001b[0;34m\u001b[0m\u001b[0m\n\u001b[1;32m     73\u001b[0m     \u001b[0;32mfor\u001b[0m \u001b[0m_\u001b[0m \u001b[0;32min\u001b[0m \u001b[0mrange\u001b[0m\u001b[0;34m(\u001b[0m\u001b[0;36m100\u001b[0m\u001b[0;34m)\u001b[0m\u001b[0;34m:\u001b[0m\u001b[0;34m\u001b[0m\u001b[0;34m\u001b[0m\u001b[0m\n\u001b[0;32m---> 74\u001b[0;31m         \u001b[0mexp_obs_array\u001b[0m \u001b[0;34m=\u001b[0m \u001b[0mdelay_kernel\u001b[0m\u001b[0;34m.\u001b[0m\u001b[0mdot\u001b[0m\u001b[0;34m(\u001b[0m\u001b[0mser_deconvolved\u001b[0m\u001b[0;34m)\u001b[0m\u001b[0;34m\u001b[0m\u001b[0;34m\u001b[0m\u001b[0m\n\u001b[0m\u001b[1;32m     75\u001b[0m         \u001b[0mexpected_observed\u001b[0m \u001b[0;34m=\u001b[0m \u001b[0mpd\u001b[0m\u001b[0;34m.\u001b[0m\u001b[0mSeries\u001b[0m\u001b[0;34m(\u001b[0m\u001b[0mexp_obs_array\u001b[0m\u001b[0;34m[\u001b[0m\u001b[0;34m(\u001b[0m\u001b[0mk\u001b[0m \u001b[0;34m-\u001b[0m \u001b[0;36m1\u001b[0m\u001b[0;34m)\u001b[0m\u001b[0;34m:\u001b[0m\u001b[0;34m]\u001b[0m\u001b[0;34m,\u001b[0m \u001b[0mindex\u001b[0m\u001b[0;34m=\u001b[0m\u001b[0mser\u001b[0m\u001b[0;34m.\u001b[0m\u001b[0mindex\u001b[0m\u001b[0;34m)\u001b[0m\u001b[0;34m\u001b[0m\u001b[0;34m\u001b[0m\u001b[0m\n\u001b[1;32m     76\u001b[0m         \u001b[0mmD_overE\u001b[0m \u001b[0;34m=\u001b[0m \u001b[0mdelay_kernel\u001b[0m\u001b[0;34m[\u001b[0m\u001b[0;34m(\u001b[0m\u001b[0mk\u001b[0m \u001b[0;34m-\u001b[0m \u001b[0;36m1\u001b[0m\u001b[0;34m)\u001b[0m\u001b[0;34m:\u001b[0m\u001b[0;34m,\u001b[0m \u001b[0;34m:\u001b[0m\u001b[0;34m]\u001b[0m \u001b[0;34m*\u001b[0m \u001b[0;34m(\u001b[0m\u001b[0mser\u001b[0m \u001b[0;34m/\u001b[0m \u001b[0mexpected_observed\u001b[0m\u001b[0;34m)\u001b[0m\u001b[0;34m.\u001b[0m\u001b[0mvalues\u001b[0m\u001b[0;34m.\u001b[0m\u001b[0mreshape\u001b[0m\u001b[0;34m(\u001b[0m\u001b[0;34m-\u001b[0m\u001b[0;36m1\u001b[0m\u001b[0;34m,\u001b[0m \u001b[0;36m1\u001b[0m\u001b[0;34m)\u001b[0m\u001b[0;34m\u001b[0m\u001b[0;34m\u001b[0m\u001b[0m\n",
      "\u001b[0;31mKeyboardInterrupt\u001b[0m: "
     ]
    }
   ],
   "source": [
    "ch_time_varying_r_ = covid19.r_covid(ch_cases, smoothing_window=7)"
   ]
  },
  {
   "cell_type": "code",
   "execution_count": null,
   "metadata": {},
   "outputs": [],
   "source": [
    "fig, ax = plt.subplots(1,1, figsize=(12, 4))\n",
    "\n",
    "ch_time_varying_r_.loc[:,'Q0.5'].plot(ax=ax, color='orange')\n",
    "ax.fill_between(ch_time_varying_r_.index, \n",
    "                    ch_time_varying_r_['Q0.025'], \n",
    "                    ch_time_varying_r_['Q0.975'], \n",
    "                    color='orange', alpha=0.2)\n",
    "ax.set_xlabel('date')\n",
    "ax.set_ylabel('R(t) with 95%-CI')\n",
    "ax.set_ylim([0,3])\n",
    "ax.axhline(y=1)\n",
    "ax.set_title('Estimate of time-varying effective reproduction number for Netherlands')\n",
    "plt.show()"
   ]
  },
  {
   "cell_type": "markdown",
   "metadata": {},
   "source": [
    "Obviously, this window is too small and tends to exacerbate weekly patterns rather than smooth them out (remember that the LOWESS algorithm weights values in the middle of the window much higher than at the edge of it). To a lesser extent we still see these fluctuations if we set `smoothing_window`. However, we can compensate for some of that by choosing `r_window_size=7`, which averages the final output over 7 days:"
   ]
  },
  {
   "cell_type": "code",
   "execution_count": null,
   "metadata": {},
   "outputs": [],
   "source": [
    "ch_time_varying_r_ = covid19.r_covid(ch_cases, smoothing_window=14, r_window_size=7)"
   ]
  },
  {
   "cell_type": "code",
   "execution_count": null,
   "metadata": {},
   "outputs": [],
   "source": [
    "fig, ax = plt.subplots(1,1, figsize=(12, 4))\n",
    "\n",
    "ch_time_varying_r_.loc[:,'Q0.5'].plot(ax=ax, color='orange')\n",
    "ax.fill_between(ch_time_varying_r_.index, \n",
    "                    ch_time_varying_r_['Q0.025'], \n",
    "                    ch_time_varying_r_['Q0.975'], \n",
    "                    color='orange', alpha=0.2)\n",
    "ax.set_xlabel('date')\n",
    "ax.set_ylabel('R(t) with 95%-CI')\n",
    "ax.set_ylim([0,3])\n",
    "ax.axhline(y=1)\n",
    "ax.set_title('Estimate of time-varying effective reproduction number for Netherlands')\n",
    "plt.show()"
   ]
  },
  {
   "cell_type": "markdown",
   "metadata": {},
   "source": [
    "**1.5.2. Speed it up**\n",
    "\n",
    "If speed is an issue, you can reduce the number of bootstrap samples, for example to `n_samples=10`. The loss in accuracy tends to be not very significant:"
   ]
  },
  {
   "cell_type": "code",
   "execution_count": null,
   "metadata": {},
   "outputs": [],
   "source": [
    "ch_time_varying_r_100samples = covid19.r_covid(ch_cases, n_samples=100, r_window_size=1)\n",
    "ch_time_varying_r_10samples = covid19.r_covid(ch_cases, n_samples=10, r_window_size=1)"
   ]
  },
  {
   "cell_type": "code",
   "execution_count": null,
   "metadata": {},
   "outputs": [],
   "source": [
    "fig, ax = plt.subplots(1,1, figsize=(12, 4))\n",
    "\n",
    "ch_time_varying_r_100samples.loc[:,'Q0.5'].plot(ax=ax, color='black', label='100 samples')\n",
    "ch_time_varying_r_10samples.loc[:,'Q0.5'].plot(ax=ax, color='red', label='10 samples')\n",
    "ax.set_xlabel('date')\n",
    "ax.set_ylabel('R(t)')\n",
    "ax.set_ylim([0,3])\n",
    "ax.axhline(y=1)\n",
    "ax.legend()\n",
    "ax.set_title('Estimate of time-varying effective reproduction number for Netherlands')\n",
    "plt.show()"
   ]
  },
  {
   "cell_type": "markdown",
   "metadata": {},
   "source": [
    "**1.5.3. Show uncut R(t)**\n",
    "\n",
    "If you want to show the estimate for R(t) before the conditions of Cori et al. for reliable estimation are met, you can set `auto_cutoff=False`:"
   ]
  },
  {
   "cell_type": "code",
   "execution_count": null,
   "metadata": {},
   "outputs": [],
   "source": [
    "ch_time_varying_r_ = covid19.r_covid(ch_cases, auto_cutoff=False)"
   ]
  },
  {
   "cell_type": "code",
   "execution_count": null,
   "metadata": {},
   "outputs": [],
   "source": [
    "fig, ax = plt.subplots(1,1, figsize=(12, 4))\n",
    "\n",
    "ch_time_varying_r_.loc[:,'Q0.5'].plot(ax=ax, color='green')\n",
    "ax.fill_between(ch_time_varying_r_.index, \n",
    "                    ch_time_varying_r_['Q0.025'], \n",
    "                    ch_time_varying_r_['Q0.975'], \n",
    "                    color='green', alpha=0.2)\n",
    "ax.set_xlabel('date')\n",
    "ax.set_ylabel('R(t) with 95%-CI')\n",
    "ax.set_ylim([0,3])\n",
    "ax.axhline(y=1)\n",
    "ax.set_title('Estimate of time-varying effective reproduction number for Netherlands')\n",
    "plt.show()"
   ]
  },
  {
   "cell_type": "markdown",
   "metadata": {},
   "source": [
    "*Note*: if you do use the default `auto_cutoff=True`, keep in mind that this is a rather minimal cutoff. Depending on the data at hand, you might have to cut off more days at the beginning until you get a reliable estimate."
   ]
  },
  {
   "cell_type": "markdown",
   "metadata": {},
   "source": [
    "**1.5.4. Different confidence bands**\n",
    "\n",
    "If you want to get different confidence bands, you can change `quantiles`:"
   ]
  },
  {
   "cell_type": "code",
   "execution_count": null,
   "metadata": {},
   "outputs": [],
   "source": [
    "ch_time_varying_r_ = covid19.r_covid(ch_cases, quantiles=(0.025, 0.25, 0.5, 0.75, 0.975))\n",
    "ch_time_varying_r_"
   ]
  },
  {
   "cell_type": "code",
   "execution_count": null,
   "metadata": {},
   "outputs": [],
   "source": [
    "fig, ax = plt.subplots(1,1, figsize=(12, 4))\n",
    "\n",
    "ch_time_varying_r_.loc[:,'Q0.5'].plot(ax=ax, color='brown')\n",
    "ax.fill_between(ch_time_varying_r_.index, \n",
    "                    ch_time_varying_r_['Q0.25'], \n",
    "                    ch_time_varying_r_['Q0.75'], \n",
    "                    color='brown', alpha=0.2)\n",
    "ax.fill_between(ch_time_varying_r_.index, \n",
    "                    ch_time_varying_r_['Q0.025'], \n",
    "                    ch_time_varying_r_['Q0.975'], \n",
    "                    color='brown', alpha=0.1)\n",
    "ax.set_xlabel('date')\n",
    "ax.set_ylabel('R(t) with 50%-CI and 95%-CI')\n",
    "ax.set_ylim([0,3])\n",
    "ax.axhline(y=1)\n",
    "ax.set_title('Estimate of time-varying effective reproduction number for Netherlands')\n",
    "plt.show()"
   ]
  },
  {
   "cell_type": "markdown",
   "metadata": {},
   "source": [
    "Remember that you can also always get the mean and variance by accessing the `\"R_mean\"`and `\"R_var\"` columns in the output dataframe of `covid19.r_covid()`."
   ]
  },
  {
   "cell_type": "markdown",
   "metadata": {},
   "source": [
    "## 2. Estimating the effective reproduction number from deaths, hospitalisations or test dates instead of reported cases\n",
    "\n",
    "If your input series contains dates of positive test, hospitalisations, death dates or reported deaths instead of reported confirmed cases, you can still use the function `covid19.r_covid()`. However, you must provide the `delay_distribution` which is appropriate to the data you have (i.e. the distribution of delays from onset of symptoms to the event registered by your data). See section 1.2. for how to make your own distribution.\n",
    "\n",
    "For instance, if your data contains death dates, you need to provide a distribution of delays from onset to death.\n",
    "\n",
    "Moreover, you might want to optimise `smoothing_window` and `r_window_size` for your application."
   ]
  },
  {
   "cell_type": "markdown",
   "metadata": {},
   "source": [
    "## 3. Interpretation of results"
   ]
  },
  {
   "cell_type": "markdown",
   "metadata": {},
   "source": [
    "We encourage everybody to have a closer look at the methodology used:\n",
    "* For R-estimation from infection dates (the paper incl. R package 'epiestim'): Anne Cori, Neil M. Ferguson, Christophe Fraser, Simon Cauchemez, A New Framework and Software to Estimate Time-Varying Reproduction Numbers During Epidemics, American Journal of Epidemiology, Volume 178, Issue 9, 1 November 2013, Pages 1505–1512, https://doi.org/10.1093/aje/kwt133\n",
    "* For inference of infection dates from reporting dates, see the preprint (incl. R implementation) by Huisman et al., https://ibz-shiny.ethz.ch/covid-19-re/methods.pdf\n",
    "\n",
    "Here, we just point out some essential things to keep in mind when interpreting the results."
   ]
  },
  {
   "cell_type": "markdown",
   "metadata": {},
   "source": [
    "### 3.1. Infection data versus reporting data\n",
    "\n",
    "Epyestim is built to estimate the effective reproduction number based on reporting numbers (be it reported cases, deaths or any other event that follows infection). Obviously, this yields less precise estimates than could be obtained if actual infection times were known. To understand the difference in accuracy, let us create some synthetic infection data:"
   ]
  },
  {
   "cell_type": "code",
   "execution_count": null,
   "metadata": {},
   "outputs": [],
   "source": [
    "true_r = pd.Series(\n",
    "    [2.0] * 30 + [0.9] * 30 + [0.7] * 30,\n",
    "    index=pd.date_range(start='2020-03-01', periods=90)\n",
    ")"
   ]
  },
  {
   "cell_type": "code",
   "execution_count": null,
   "metadata": {},
   "outputs": [],
   "source": [
    "fig, ax = plt.subplots()\n",
    "true_r.plot(ax=ax)\n",
    "ax.set_title(\"True reproduction number\")\n",
    "plt.show()"
   ]
  },
  {
   "cell_type": "code",
   "execution_count": null,
   "metadata": {},
   "outputs": [],
   "source": [
    "def _synthetic_infections(seed, r_ts):\n",
    "    assert len(seed) == len(si_distrb)\n",
    "\n",
    "    generated_incidence = seed[:]\n",
    "    for r in r_ts:\n",
    "        mu = r * sum(p * i for i, p in zip(si_distrb[1:], generated_incidence[::-1]))\n",
    "        generated_incidence.append(\n",
    "            poisson(mu=mu).rvs()\n",
    "        )\n",
    "\n",
    "    return pd.Series(generated_incidence[len(seed):], index=r_ts.index)"
   ]
  },
  {
   "cell_type": "code",
   "execution_count": null,
   "metadata": {},
   "outputs": [],
   "source": [
    "incidence_ts = _synthetic_infections(\n",
    "    seed=[1, 0, 1, 0, 2, 1, 3, 4, 4, 5, 7, 4, 8, 8, 3, 10, 0, 11], r_ts=true_r\n",
    ")"
   ]
  },
  {
   "cell_type": "code",
   "execution_count": null,
   "metadata": {},
   "outputs": [],
   "source": [
    "fig, ax = plt.subplots()\n",
    "incidence_ts.plot(ax=ax)\n",
    "ax.set_ylabel(\"Daily infections\")\n",
    "ax.set_title(\"True incidence\")\n",
    "plt.show()"
   ]
  },
  {
   "cell_type": "markdown",
   "metadata": {},
   "source": [
    "Now let's create a time series of reported confirmed cases from these true infection data. We use convolution by the standard delay distribution to obtain the expected number of confirmed cases on each day, and then add some noise and a weekly pattern to it:"
   ]
  },
  {
   "cell_type": "code",
   "execution_count": null,
   "metadata": {},
   "outputs": [],
   "source": [
    "import scipy.linalg as la\n",
    "\n",
    "col = delay_distrb[:90]\n",
    "row = np.concatenate(([delay_distrb[0]], np.zeros(89)), axis=None)\n",
    "\n",
    "delay_kernel = la.toeplitz(col, row)\n",
    "        \n",
    "plt.imshow(delay_kernel[:,:], cmap='viridis')\n",
    "plt.show()"
   ]
  },
  {
   "cell_type": "code",
   "execution_count": null,
   "metadata": {},
   "outputs": [],
   "source": [
    "confirmed_expected = delay_kernel @ incidence_ts\n",
    "confirmed_noise = np.random.normal(0, 1, size=90)/10\n",
    "week_pattern = np.sin(2*np.pi*np.arange(90)/7)/5\n",
    "confirmed_cases = pd.Series(confirmed_expected*(1 + confirmed_noise + week_pattern), index=incidence_ts.index).astype(int)"
   ]
  },
  {
   "cell_type": "code",
   "execution_count": null,
   "metadata": {},
   "outputs": [],
   "source": [
    "fig, ax = plt.subplots()\n",
    "incidence_ts.plot(ax=ax, label='infected')\n",
    "confirmed_cases.plot(ax=ax, label='confirmed')\n",
    "ax.set_ylabel(\"Daily infections and confirmed cases\")\n",
    "ax.legend()\n",
    "plt.show()"
   ]
  },
  {
   "cell_type": "markdown",
   "metadata": {},
   "source": [
    "Now let's compare direct estimation of R from the infection time series with indirect estimation from the time series of reported cases. (The direct estimation is invoked by the function `epyestim.estimate_r.estimate_r()` which outputs the shape and scale of the gamma posterior distributions. We use the function `epyestim.estimate_r.gamma_quantiles()` to extract the confidence intervals. Feel free to check out the code...)."
   ]
  },
  {
   "cell_type": "code",
   "execution_count": null,
   "metadata": {},
   "outputs": [],
   "source": [
    "r_direct = dict()\n",
    "r_indirect = dict()\n",
    "\n",
    "for r_window_size in [1, 3, 7]:\n",
    "    \n",
    "    # direct estimate from the infection data\n",
    "    r_direct[r_window_size] = epyestim.estimate_r.estimate_r(\n",
    "        infections_ts = incidence_ts,\n",
    "        gt_distribution = si_distrb,\n",
    "        a_prior = 3,\n",
    "        b_prior = 1,\n",
    "        window_size = r_window_size\n",
    "    )\n",
    "    for q in [0.025, 0.5, 0.975]:\n",
    "        r_direct[r_window_size][f'Q{q}'] = epyestim.estimate_r.gamma_quantiles(q, r_direct[r_window_size]['a_posterior'], \n",
    "                                                                               r_direct[r_window_size]['b_posterior'])\n",
    "    \n",
    "    # indirect estimate from the reporting data\n",
    "    r_indirect[r_window_size] = covid19.r_covid(\n",
    "        confirmed_cases,\n",
    "        smoothing_window = 21,\n",
    "        r_window_size = r_window_size,\n",
    "        auto_cutoff = False\n",
    "    )"
   ]
  },
  {
   "cell_type": "code",
   "execution_count": null,
   "metadata": {},
   "outputs": [],
   "source": [
    "fig, axs = plt.subplots(1,3, figsize=(20.48, 5))\n",
    "\n",
    "for i, windows in enumerate(r_direct.keys()):\n",
    "    ax = axs[i]\n",
    "    r_direct[windows].loc[:,'Q0.5'].plot(ax=ax, color='black', label='from infection data')\n",
    "    ax.fill_between(r_direct[windows].index, \n",
    "                    r_direct[windows]['Q0.025'], \n",
    "                    r_direct[windows]['Q0.975'], \n",
    "                    color='grey', alpha=0.2)\n",
    "    r_indirect[windows].loc[:,'Q0.5'].plot(ax=ax, color='red', label='from reporting data')\n",
    "    ax.fill_between(r_indirect[windows].index, \n",
    "                    r_indirect[windows]['Q0.025'], \n",
    "                    r_indirect[windows]['Q0.975'], \n",
    "                    color='red', alpha=0.2)\n",
    "    true_r.plot(ax=ax, label='true R')\n",
    "    ax.set_ylim([0,4])\n",
    "    ax.set_xlim([date(2020, 3, 1), date(2021, 3, 29)])\n",
    "    ax.set_title(f'R-window = {windows}')\n",
    "    ax.legend()\n",
    "\n",
    "plt.show()"
   ]
  },
  {
   "cell_type": "markdown",
   "metadata": {},
   "source": [
    "This comparison shows that estimating R form reported data tends to give pretty accurate results (provided we use the correct serial interval and delay distribution) *if* R does not change abruptly. Rapid changes are only fully absorbed with a delay of around `smoothing_window/2`, which amounts to 10 days in our default settings.\n",
    "\n",
    "Note also, that an accurate estimate of R can not be expected in the 10 days or so prior to the last data point, since only a fraction of infections occuring in that time frame will have been reported already. The deconvolution algorithm which infers the infections from the reported cases does in principle take that into account. However, the uncertainity of the estimate during that time period increases, and our confidence intervals do not reflect that. Hence, by default (`auto_cutoff=True`) the estimates are cut off at one mean delay (from the input `delay_distribution`) before the end of the time series."
   ]
  },
  {
   "cell_type": "markdown",
   "metadata": {},
   "source": [
    "### 3.2. The influence of the distributions on the result"
   ]
  },
  {
   "cell_type": "markdown",
   "metadata": {},
   "source": [
    "It should be noted that use of an incorrect generation time distribution will lead to a systematic bias of the estimate. For instance, let's redo the above comparison using a different generation time distribution (mean = 7 days instead of 4 days, both values which have been suggested in the literature):"
   ]
  },
  {
   "cell_type": "code",
   "execution_count": null,
   "metadata": {},
   "outputs": [],
   "source": [
    "alternative_si_distrb = epyestim.discrete_distrb(gamma(a=10, scale=0.7))\n",
    "\n",
    "plt.bar(range(len(my_discrete_distrb)), my_discrete_distrb, width=1)\n",
    "plt.show()"
   ]
  },
  {
   "cell_type": "code",
   "execution_count": null,
   "metadata": {},
   "outputs": [],
   "source": [
    "r_indirect_ = dict()\n",
    "\n",
    "for r_window_size in [1, 3, 7]:\n",
    "    r_indirect_[r_window_size] = covid19.r_covid(\n",
    "        confirmed_cases,\n",
    "        gt_distribution = alternative_si_distrb,\n",
    "        smoothing_window = 21,\n",
    "        r_window_size = r_window_size,\n",
    "        auto_cutoff = False\n",
    "    )"
   ]
  },
  {
   "cell_type": "code",
   "execution_count": null,
   "metadata": {},
   "outputs": [],
   "source": [
    "fig, axs = plt.subplots(1,3, figsize=(20.48, 5))\n",
    "\n",
    "for i, windows in enumerate(r_direct.keys()):\n",
    "    ax = axs[i]\n",
    "    r_direct[windows].loc[:,'Q0.5'].plot(ax=ax, color='black', label='from infection data')\n",
    "    ax.fill_between(r_direct[windows].index, \n",
    "                    r_direct[windows]['Q0.025'], \n",
    "                    r_direct[windows]['Q0.975'], \n",
    "                    color='grey', alpha=0.2)\n",
    "    r_indirect_[windows].loc[:,'Q0.5'].plot(ax=ax, color='orange', label='from reporting data')\n",
    "    ax.fill_between(r_indirect_[windows].index, \n",
    "                    r_indirect_[windows]['Q0.025'], \n",
    "                    r_indirect_[windows]['Q0.975'], \n",
    "                    color='orange', alpha=0.2)\n",
    "    true_r.plot(ax=ax, label='true R')\n",
    "    ax.set_ylim([0,4])\n",
    "    ax.set_xlim([date(2020, 3, 1), date(2020, 5, 29)])\n",
    "    ax.set_title(f'R-window = {windows}')\n",
    "    ax.legend()\n",
    "\n",
    "plt.show()"
   ]
  },
  {
   "cell_type": "markdown",
   "metadata": {},
   "source": [
    "We see that using too long a generation time leads to overestimation in the range R>1 and underestimation in the range R<1. This underscores the importance of using accurate generation time distributions. However, it should be kept in mind that these distributions can change over the course of the epidemic. Our package currently does not support time-varying distributions."
   ]
  },
  {
   "cell_type": "markdown",
   "metadata": {},
   "source": [
    "Finally, let's also do the same comparison with an alternative reporting delay distribution (based on same incubation period distribution, but different onset to reporting delay distribution as found for Singapore in early 2020 by Tariq et al., BMC Med 18, 166 (2020). https://doi.org/10.1186/s12916-020-01615-9):"
   ]
  },
  {
   "cell_type": "code",
   "execution_count": null,
   "metadata": {},
   "outputs": [],
   "source": [
    "alternative_onset_to_reporting_distrb = covid19.generate_standard_incubation_time_distribution()\n",
    "covid19.generate_onset_to_reporting_distribution_singapore()\n",
    "alternative_delay_distrb = np.convolve(covid19.generate_standard_incubation_time_distribution(),\n",
    "                                       alternative_onset_to_reporting_distrb)\n",
    "\n",
    "plt.bar(range(len(alternative_delay_distrb)), alternative_delay_distrb, width=1)\n",
    "plt.show()"
   ]
  },
  {
   "cell_type": "code",
   "execution_count": null,
   "metadata": {},
   "outputs": [],
   "source": [
    "r_indirect_ = dict()\n",
    "\n",
    "for r_window_size in [1, 3, 7]:\n",
    "    r_indirect_[r_window_size] = covid19.r_covid(\n",
    "        confirmed_cases,\n",
    "        delay_distribution = alternative_delay_distrb,\n",
    "        smoothing_window = 21,\n",
    "        r_window_size = r_window_size,\n",
    "        auto_cutoff = False\n",
    "    )"
   ]
  },
  {
   "cell_type": "code",
   "execution_count": null,
   "metadata": {},
   "outputs": [],
   "source": [
    "fig, axs = plt.subplots(1,3, figsize=(20.48, 5))\n",
    "\n",
    "for i, windows in enumerate(r_direct.keys()):\n",
    "    ax = axs[i]\n",
    "    r_direct[windows].loc[:,'Q0.5'].plot(ax=ax, color='black', label='from infection data')\n",
    "    ax.fill_between(r_direct[windows].index, \n",
    "                    r_direct[windows]['Q0.025'], \n",
    "                    r_direct[windows]['Q0.975'], \n",
    "                    color='grey', alpha=0.2)\n",
    "    r_indirect_[windows].loc[:,'Q0.5'].plot(ax=ax, color='green', label='from reporting data')\n",
    "    ax.fill_between(r_indirect_[windows].index, \n",
    "                    r_indirect_[windows]['Q0.025'], \n",
    "                    r_indirect_[windows]['Q0.975'], \n",
    "                    color='green', alpha=0.2)\n",
    "    true_r.plot(ax=ax, label='true R')\n",
    "    ax.set_ylim([0,4])\n",
    "    ax.set_xlim([date(2020, 3, 1), date(2020, 5, 29)])\n",
    "    ax.set_title(f'R-window = {windows}')\n",
    "    ax.legend()\n",
    "\n",
    "plt.show()"
   ]
  },
  {
   "cell_type": "markdown",
   "metadata": {},
   "source": [
    "We see: for the most part, the estimate is less sensitive to the delay distribution than to the generation time distribution."
   ]
  },
  {
   "cell_type": "markdown",
   "metadata": {},
   "source": [
    "## 4. Common issues"
   ]
  },
  {
   "cell_type": "markdown",
   "metadata": {},
   "source": [
    "### 4.1. AssertionError: deconvolution has nan in iteration X\n",
    "\n",
    "This error happens if there are very long streaks of zeros in your data *after* an outbreak (zeros at the beginning get ignored or cut off, respectively). Here is a baby example (the time series for the cruise ship 'Diamond Princess'):"
   ]
  },
  {
   "cell_type": "code",
   "execution_count": null,
   "metadata": {},
   "outputs": [],
   "source": [
    "cases = [ 0,  0,  0,  0,  0,  0,  0,  0,  0,  0,  0,  0,  0,  0,  0,  0, 61,\n",
    "        0,  3, 71,  0, 40,  0, 43, 67, 70, 99, 88, 79, 13,  0,  0, 57,  0,\n",
    "        0, 14,  0,  0,  0,  0,  0,  1,  0,  0,  0,  0,  0,  0,  0,  0,  0,\n",
    "        0,  0,  0,  0,  0,  6,  0,  0,  0,  0,  0,  0,  0,  0,  0,  0,  0,\n",
    "        0,  0,  0,  0,  0,  0,  0,  0,  0,  0,  0,  0,  0,  0,  0,  0,  0,\n",
    "        0,  0,  0,  0,  0,  0,  0,  0,  0,  0,  0,  0,  0,  0,  0,  0,  0,\n",
    "        0,  0,  0,  0,  0,  0,  0,  0,  0,  0,  0,  0,  0,  0,  0,  0,  0,\n",
    "        0,  0,  0,  0,  0,  0,  0,  0,  0,  0,  0,  0,  0,  0,  0,  0,  0,\n",
    "        0,  0,  0,  0,  0,  0,  0,  0,  0,  0,  0,  0,  0,  0,  0,  0,  0,\n",
    "        0,  0,  0,  0,  0,  0,  0,  0,  0,  0,  0,  0,  0,  0,  0,  0,  0,\n",
    "        0,  0,  0,  0,  0,  0,  0,  0,  0,  0,  0,  0,  0,  0,  0,  0,  0,\n",
    "        0,  0,  0,  0,  0,  0,  0,  0,  0,  0,  0,  0,  0,  0,  0,  0,  0,\n",
    "        0,  0,  0,  0,  0,  0,  0,  0,  0,  0,  0,  0,  0,  0,  0,  0,  0,\n",
    "        0,  0,  0,  0,  0,  0,  0,  0,  0,  0,  0,  0,  0,  0,  0,  0,  0]\n",
    "\n",
    "example_series = pd.Series(cases, index=pd.date_range(date(2020,1,22), periods=238))\n",
    "\n",
    "try:\n",
    "    example_r = covid19.r_covid(example_series, smoothing_window=1, r_window_size=1)\n",
    "    print('Everything worked fine!')\n",
    "except AssertionError as err:\n",
    "    print(f'AssertionError: {err}')"
   ]
  },
  {
   "cell_type": "markdown",
   "metadata": {},
   "source": [
    "This is easily resolved by cutting the tail of the series (but we avoid automatising it due to potential unwanted side effects):"
   ]
  },
  {
   "cell_type": "code",
   "execution_count": null,
   "metadata": {},
   "outputs": [],
   "source": [
    "example_series_ = example_series[:-100]\n",
    "try:\n",
    "    example_r = covid19.r_covid(example_series_, smoothing_window=1, r_window_size=1)\n",
    "    print('Everything worked fine!')\n",
    "except AssertionError as err:\n",
    "    print(f'AssertionError: {err}')"
   ]
  },
  {
   "cell_type": "code",
   "execution_count": null,
   "metadata": {},
   "outputs": [],
   "source": []
  },
  {
   "cell_type": "code",
   "execution_count": null,
   "metadata": {},
   "outputs": [],
   "source": []
  },
  {
   "cell_type": "code",
   "execution_count": null,
   "metadata": {},
   "outputs": [],
   "source": []
  },
  {
   "cell_type": "code",
   "execution_count": null,
   "metadata": {},
   "outputs": [],
   "source": []
  },
  {
   "cell_type": "code",
   "execution_count": null,
   "metadata": {},
   "outputs": [],
   "source": []
  },
  {
   "cell_type": "code",
   "execution_count": null,
   "metadata": {},
   "outputs": [],
   "source": []
  }
 ],
 "metadata": {
  "kernelspec": {
   "display_name": "Covid",
   "language": "python",
   "name": "covid"
  },
  "language_info": {
   "codemirror_mode": {
    "name": "ipython",
    "version": 3
   },
   "file_extension": ".py",
   "mimetype": "text/x-python",
   "name": "python",
   "nbconvert_exporter": "python",
   "pygments_lexer": "ipython3",
   "version": "3.9.2"
  }
 },
 "nbformat": 4,
 "nbformat_minor": 4
}
