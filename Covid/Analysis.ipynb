{
 "cells": [
  {
   "cell_type": "markdown",
   "metadata": {},
   "source": [
    "# Analysis with covid data"
   ]
  },
  {
   "cell_type": "markdown",
   "metadata": {},
   "source": [
    "# death covid vs death total\n",
    "- location\n",
    "- age"
   ]
  },
  {
   "cell_type": "markdown",
   "metadata": {},
   "source": [
    "# death covid vs death other reasons (cbs)\n",
    "- age\n",
    "- location\n",
    "- covid = longen\n",
    "- griep = longen\n",
    "- longen wat zit daar allemaal in"
   ]
  },
  {
   "cell_type": "markdown",
   "metadata": {},
   "source": [
    "# timelime\n",
    "- important dates\n",
    "\n",
    "lines:\n",
    "- (positive)tests\n",
    "- R\n",
    "- hospital\n",
    " - ic\n",
    "    - new\n",
    "    - onder handen\n",
    " - hospital\n",
    "   - new\n",
    "   - onder handen\n",
    "- death\n",
    "  - covid\n",
    "  - normal"
   ]
  },
  {
   "cell_type": "markdown",
   "metadata": {},
   "source": [
    "# compare different sources\n",
    "- rivm (lscp, nice)\n",
    "- who\n",
    "- "
   ]
  }
 ],
 "metadata": {
  "kernelspec": {
   "display_name": "Python 3",
   "language": "python",
   "name": "python3"
  },
  "language_info": {
   "codemirror_mode": {
    "name": "ipython",
    "version": 3
   },
   "file_extension": ".py",
   "mimetype": "text/x-python",
   "name": "python",
   "nbconvert_exporter": "python",
   "pygments_lexer": "ipython3",
   "version": "3.8.3"
  }
 },
 "nbformat": 4,
 "nbformat_minor": 4
}
