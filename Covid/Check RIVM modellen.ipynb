{
 "cells": [
  {
   "cell_type": "markdown",
   "id": "serious-spanish",
   "metadata": {},
   "source": [
    "# Check RIVM modellen\n",
    "https://www.rivm.nl/coronavirus-covid-19/hoe-berekeningen-bijdragen-aan-bestrijding-van-virus/rekenmodellen\n",
    "\n",
    "https://github.com/lo-hfk/epyestim\n",
    "https://pypi.org/project/SEIR/"
   ]
  },
  {
   "cell_type": "code",
   "execution_count": null,
   "id": "surgical-express",
   "metadata": {},
   "outputs": [],
   "source": []
  }
 ],
 "metadata": {
  "kernelspec": {
   "display_name": "Python 3",
   "language": "python",
   "name": "python3"
  },
  "language_info": {
   "codemirror_mode": {
    "name": "ipython",
    "version": 3
   },
   "file_extension": ".py",
   "mimetype": "text/x-python",
   "name": "python",
   "nbconvert_exporter": "python",
   "pygments_lexer": "ipython3",
   "version": "3.8.8"
  }
 },
 "nbformat": 4,
 "nbformat_minor": 5
}
