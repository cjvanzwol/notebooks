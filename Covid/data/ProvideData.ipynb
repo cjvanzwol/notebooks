{
 "cells": [
  {
   "cell_type": "markdown",
   "metadata": {},
   "source": [
    "# This notebook is used to develop the script that gets the data and make it suitable for the Covid notebook"
   ]
  },
  {
   "cell_type": "code",
   "execution_count": null,
   "metadata": {},
   "outputs": [],
   "source": [
    "# check if online version is newer than downloaded version (with try-except OR if-then)\n",
    "## try: downloaded is newest\n",
    "## except: download newest\n",
    "## load file into pandas.df\n",
    "## print: name of df\n"
   ]
  },
  {
   "cell_type": "markdown",
   "metadata": {},
   "source": [
    "## Prepare df\n",
    "final df show looks like a pivot_table:\n",
    "\n",
    "\n",
    "|   | region |\n",
    "|   | indicator |\n",
    "|---|---|\n",
    "| PeriodIndex |\n",
    "| YYYY-MM | date |\n",
    "|  | date |   |"
   ]
  },
  {
   "cell_type": "code",
   "execution_count": null,
   "metadata": {},
   "outputs": [],
   "source": []
  }
 ],
 "metadata": {
  "kernelspec": {
   "display_name": "Python 3",
   "language": "python",
   "name": "python3"
  },
  "language_info": {
   "codemirror_mode": {
    "name": "ipython",
    "version": 3
   },
   "file_extension": ".py",
   "mimetype": "text/x-python",
   "name": "python",
   "nbconvert_exporter": "python",
   "pygments_lexer": "ipython3",
   "version": "3.7.3"
  }
 },
 "nbformat": 4,
 "nbformat_minor": 4
}
