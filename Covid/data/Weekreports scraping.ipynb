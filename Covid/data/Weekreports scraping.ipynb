{
 "cells": [
  {
   "cell_type": "markdown",
   "id": "filled-wisdom",
   "metadata": {
    "tags": []
   },
   "source": [
    "# Tests per agegroup\n",
    "Data extracted from weekly report of RIVM"
   ]
  },
  {
   "cell_type": "code",
   "execution_count": 38,
   "id": "short-outdoors",
   "metadata": {},
   "outputs": [],
   "source": [
    "import os\n",
    "import pandas as pd\n",
    "import tabula\n",
    "import requests\n",
    "from bs4 import BeautifulSoup\n",
    "import PyPDF2\n",
    "import re\n",
    "from tqdm.notebook import tqdm\n",
    "from datetime import datetime as dt\n",
    "import matplotlib.pyplot as plt\n",
    "import seaborn as sns\n",
    "\n",
    "rivm_url = 'https://www.rivm.nl/coronavirus-covid-19/actueel/wekelijkse-update-epidemiologische-situatie-covid-19-in-nederland'\n",
    "response = requests.get(rivm_url)\n",
    "rivm_pdf_data_loc = './pdfs/'"
   ]
  },
  {
   "cell_type": "code",
   "execution_count": 39,
   "id": "caroline-toner",
   "metadata": {},
   "outputs": [],
   "source": [
    "url = []\n",
    "href = []\n",
    "period = []\n",
    "name = []\n",
    "datetime = []\n",
    "week = []\n",
    "filename = []\n",
    "\n",
    "def columns(l):\n",
    "    def ll(l):\n",
    "        return -l.count('')\n",
    "    \n",
    "    if 'http' in l:\n",
    "        l = l[ll(l) + 20:]\n",
    "    \n",
    "    href.append(l)\n",
    "    period.append(pd.Period(l[ll(l) + 22 : ll(l) + 29],\"M\"))\n",
    "    name.append(l[ll(l) + 65 : -4])\n",
    "    datetime.append(pd.to_datetime(l[ll(l) + 65 : ll(l) + 73], format=\"%Y%m%d\"))\n",
    "    filename.append(l[ll(l) + 65:])\n",
    "    url.append('https://www.rivm.nl'+l)"
   ]
  },
  {
   "cell_type": "code",
   "execution_count": 40,
   "id": "civilian-louisiana",
   "metadata": {
    "tags": []
   },
   "outputs": [],
   "source": [
    "soup = BeautifulSoup(response.text, 'html.parser') \n",
    "aa = soup.find_all('a')\n",
    "for a in aa:\n",
    "    link = a.get('href')\n",
    "    if link == None:\n",
    "        pass\n",
    "    elif link.endswith('.pdf'):\n",
    "        columns(link)\n",
    "\n",
    "pdfs = pd.DataFrame([period, datetime, week, name, filename, href, url]).T\n",
    "pdfs = pdfs.rename(columns={0:'period',1:'date',2:'week',3:'name',4:'filename',5:'href',6:'url'})\n",
    "pdfs['week'] = pdfs.date.dt.isocalendar().week\n",
    "pdfs.sort_values(by='period', inplace=True)"
   ]
  },
  {
   "cell_type": "code",
   "execution_count": 41,
   "id": "seeing-shame",
   "metadata": {},
   "outputs": [],
   "source": [
    "def extract_tabel(pdf,date):\n",
    "    \n",
    "    def check_tabel(value):\n",
    "        for key in checks:\n",
    "            if checks[key]:\n",
    "                pass\n",
    "            elif isinstance(value,str) and key in value:\n",
    "                checks[key] = True\n",
    "    \n",
    "    def create_agegroup_tabel(tabel):\n",
    "        #print(tabel)\n",
    "        if checks['Leeftijdsgroep'] and checks['fgelopen']:\n",
    "            category = 'Leeftijd'\n",
    "        elif checks['Groep'] and checks['fgelopen'] and checks['Kinderen']:\n",
    "            category = 'Groep'\n",
    "        elif checks['Groep'] and checks['Kinderen']:\n",
    "            category = 'Groep'\n",
    "        else:\n",
    "            category = ''\n",
    "        #print('cat='+category)\n",
    "        \n",
    "        if category != '':\n",
    "            #tabel.dropna(inplace=True)\n",
    "            if tabel.empty:\n",
    "                #print(\"df empty\")\n",
    "                pass\n",
    "            else:\n",
    "                #print('cat='+category)\n",
    "                first_column = tabel.columns[0]\n",
    "                #first_column = 'Unnamed: 0'\n",
    "                if len(tabel.columns) > 1:\n",
    "                    second_column = tabel.columns[1]\n",
    "                agegroup_tabel = tabel.loc[(tabel[first_column].str.count('-') > 0)]                \n",
    "                if category == 'Leeftijd':\n",
    "                    agegroup_tabel = agegroup_tabel.append(tabel.loc[(tabel[first_column].str.find('+') > 0)])\n",
    "                    agegroup_tabel.rename(columns={first_column:'Leeftijdsgroep',second_column:date}, inplace=True)\n",
    "                elif category == 'Groep':\n",
    "                    agegroup_tabel = agegroup_tabel.append(tabel.loc[(tabel[first_column].str.count('fgelopen') > 0)])\n",
    "                    agegroup_tabel = agegroup_tabel.append(tabel.loc[(tabel[first_column].str.count('Groep') > 0)])\n",
    "                agegroup_tabel = agegroup_tabel.sort_index()\n",
    "                agegroup_tabel['Date'] = date\n",
    "                csv = pdf[:-4]+'-'+category+'.csv'\n",
    "                agegroup_tabel.to_csv(csv, index=False)\n",
    "                #print('CSV CREATED')\n",
    "                #print(agegroup_tabel)\n",
    "                return True\n",
    "        #else:\n",
    "            #print(\"NOTHING\")\n",
    "    \n",
    "    #print('extracting '+pdf)\n",
    "    #print(pdf)\n",
    "    found_pages = []\n",
    "    object = PyPDF2.PdfFileReader(pdf)\n",
    "    NumPages = object.getNumPages()\n",
    "    String = \"SARS-COV-2.*TESTEN.*AFGENOMEN.*DOOR.*DE.*GGD\"\n",
    "    \n",
    "    for i in tqdm(range(0, NumPages)):\n",
    "        PageObj = object.getPage(i)\n",
    "        Text = PageObj.extractText()\n",
    "        if re.search(String,Text):\n",
    "            found_pages.append(i)\n",
    "    \n",
    "    if len(found_pages) == 0:\n",
    "        print(\"NO CHAPTER FOUND in \"+str(pdf))\n",
    "    else:\n",
    "        tabels = tabula.read_pdf(input_path=pdf, pages=found_pages, guess=True, stream=False, multiple_tables=True)\n",
    "        csv_created = None\n",
    "        for tabel in tabels:\n",
    "            checks = {\n",
    "                'Leeftijdsgroep': False,\n",
    "                'fgelopen': False,\n",
    "                'Groep': False,\n",
    "                'Kinderen': False}\n",
    "            for column in tabel:\n",
    "                check_tabel(column)\n",
    "                for i in tabel[column].values:\n",
    "                    check_tabel(i)\n",
    "            #print(checks)\n",
    "            create_agegroup_tabel(tabel)"
   ]
  },
  {
   "cell_type": "code",
   "execution_count": 42,
   "id": "frequent-spectrum",
   "metadata": {
    "tags": []
   },
   "outputs": [
    {
     "name": "stdout",
     "output_type": "stream",
     "text": [
      "Checking for new weekreport\n"
     ]
    },
    {
     "data": {
      "application/vnd.jupyter.widget-view+json": {
       "model_id": "58d368818bc84d788ff5cebf2f2265c5",
       "version_major": 2,
       "version_minor": 0
      },
      "text/plain": [
       "  0%|          | 0/42 [00:00<?, ?it/s]"
      ]
     },
     "metadata": {},
     "output_type": "display_data"
    },
    {
     "name": "stdout",
     "output_type": "stream",
     "text": [
      "DONE\n"
     ]
    }
   ],
   "source": [
    "# download all pdfs\n",
    "print('Checking for new weekreport')\n",
    "for row in pdfs.itertuples():\n",
    "    pdf = rivm_pdf_data_loc+row.filename\n",
    "    try:\n",
    "        try:\n",
    "            csv = pdf[:-4]+'-Leeftijd.csv'\n",
    "            os.stat(csv)\n",
    "        except:\n",
    "            csv = pdf[:-4]+'-Groep.csv'\n",
    "            os.stat(csv)\n",
    "        #print('skiping '+csv+' exists')\n",
    "    except:\n",
    "        #print(pdf)\n",
    "        try:\n",
    "            os.stat(pdf)\n",
    "        except:\n",
    "            #print('downloading '+row.filename)\n",
    "            r = requests.get(row.url, stream=True)\n",
    "            with open(pdf, 'wb') as f:\n",
    "                f.write(r.content)\n",
    "        finally:\n",
    "            #print(\"extracting tabels from pdf\")\n",
    "            extract_tabel(pdf, row.date)\n",
    "print(\"DONE\")"
   ]
  },
  {
   "cell_type": "code",
   "execution_count": 43,
   "id": "caroline-force",
   "metadata": {},
   "outputs": [],
   "source": [
    "#debug = 0\n",
    "#untill = 42\n",
    "\n",
    "def add_data_from(f):    \n",
    "    def merge_split(df):\n",
    "        df_temp = df[df.columns].apply(\n",
    "            lambda x: ' '.join(x.dropna().astype(str)),\n",
    "            axis=1\n",
    "        )\n",
    "        df_temp = pd.DataFrame(df_temp.str.split(expand=True))\n",
    "        return df_temp\n",
    "    \n",
    "    #if debug == untill:\n",
    "    #    print(filename)\n",
    "    #    print(debug)\n",
    "    df = pd.read_csv(rivm_pdf_data_loc+f)\n",
    "    # selecting usable rows\n",
    "    if df.iloc[0,0] == 'Groep Aantal positief Aantal getest Percentage positief':\n",
    "        text_in_column = 'Tabel 12: Aantal testen en percentage positief per doelgroep in de afgelopen twee weken1.'\n",
    "        if (text_in_column in df.iloc[:,0].values) == False:\n",
    "            text_in_column = 'Tabel 13: Aantal testen en percentage positief per doelgroep in de afgelopen week1.'\n",
    "        df = df.iloc[df.index[df.index[df.iloc[:,0] == text_in_column].values[0]:,...]]\n",
    "    \n",
    "    if df.columns[0] != 'Leeftijdsgroep':\n",
    "        df = df[df.iloc[:,0].str.contains('jaar')]\n",
    "    df.iloc[:,0].replace({'jaar2':'jaar', '70\\+':'70 en ouder', '80\\+':'80 en ouder'}, regex=True, inplace=True)\n",
    "        \n",
    "    # setting Date to index\n",
    "    date = [int(i) for i in df.iloc[0,-1].split('-')]\n",
    "    date = dt(date[0], date[1], date[2])\n",
    "    df['Date'] = pd.to_datetime(df['Date'])\n",
    "    df.set_index('Date', inplace=True)\n",
    "    df.index = pd.DatetimeIndex(df.index)\n",
    "\n",
    "    # setting Agegroup\n",
    "    df_temp = merge_split(df)\n",
    "    if '-' in df_temp.iloc[0,0]:\n",
    "        df_temp2 = df_temp.iloc[:,0].str.split('-',expand=True)\n",
    "        df_temp2['Agegroup'] = df_temp2.iloc[:,0]+' - '+df_temp2.iloc[:,1]\n",
    "        if '95+' in df_temp2.iloc[-1,0]:\n",
    "            df_temp2.iloc[-1,-1] = '95 en ouder'\n",
    "        df_temp.iloc[:,0] = df_temp2['Agegroup']\n",
    "        df_temp = merge_split(df_temp)\n",
    "    \n",
    "    df['Agegroup'] = df_temp.iloc[:,0]+' '+df_temp.iloc[:,1]+' '+df_temp.iloc[:,2]\n",
    "    # setting values\n",
    "    if date > dt(2020, 12, 1):\n",
    "        df['Tested positive'] = df_temp.iloc[:,-2]\n",
    "        df['Total tested'] = df_temp.iloc[:,-3]\n",
    "    else:\n",
    "        df['Tested positive'] = df_temp.iloc[:,-3]\n",
    "        df['Total tested'] = df_temp.iloc[:,-2]\n",
    "    df['cat'] = f.find('Leeftijd')\n",
    "    df['cat'].replace({-1: 'Groep', 14: 'Leeftijd', 20: 'Leeftijd', 22: 'Leeftijd'}, inplace=True)\n",
    "\n",
    "    #if debug == untill:\n",
    "    #    print(df_temp)\n",
    "    df = df[['Agegroup', 'Tested positive', 'Total tested', 'cat']]\n",
    "    return df"
   ]
  },
  {
   "cell_type": "code",
   "execution_count": 44,
   "id": "continental-benefit",
   "metadata": {},
   "outputs": [
    {
     "data": {
      "text/html": [
       "<div>\n",
       "<style scoped>\n",
       "    .dataframe tbody tr th:only-of-type {\n",
       "        vertical-align: middle;\n",
       "    }\n",
       "\n",
       "    .dataframe tbody tr th {\n",
       "        vertical-align: top;\n",
       "    }\n",
       "\n",
       "    .dataframe thead th {\n",
       "        text-align: right;\n",
       "    }\n",
       "</style>\n",
       "<table border=\"1\" class=\"dataframe\">\n",
       "  <thead>\n",
       "    <tr style=\"text-align: right;\">\n",
       "      <th></th>\n",
       "      <th>Agegroup</th>\n",
       "      <th>Tested positive</th>\n",
       "      <th>Total tested</th>\n",
       "      <th>Percentage</th>\n",
       "    </tr>\n",
       "    <tr>\n",
       "      <th>Date</th>\n",
       "      <th></th>\n",
       "      <th></th>\n",
       "      <th></th>\n",
       "      <th></th>\n",
       "    </tr>\n",
       "  </thead>\n",
       "  <tbody>\n",
       "    <tr>\n",
       "      <th>2020-07-07</th>\n",
       "      <td>Kinderen 0-6 jaar</td>\n",
       "      <td>25</td>\n",
       "      <td>7033</td>\n",
       "      <td>0.355467</td>\n",
       "    </tr>\n",
       "    <tr>\n",
       "      <th>2020-07-07</th>\n",
       "      <td>Kinderen 7-12 jaar</td>\n",
       "      <td>50</td>\n",
       "      <td>19446</td>\n",
       "      <td>0.257122</td>\n",
       "    </tr>\n",
       "    <tr>\n",
       "      <th>2020-07-07</th>\n",
       "      <td>Kinderen 13-18 jaar</td>\n",
       "      <td>97</td>\n",
       "      <td>8661</td>\n",
       "      <td>1.119963</td>\n",
       "    </tr>\n",
       "    <tr>\n",
       "      <th>2020-07-21</th>\n",
       "      <td>Kinderen 0-6 jaar</td>\n",
       "      <td>5</td>\n",
       "      <td>898</td>\n",
       "      <td>0.556793</td>\n",
       "    </tr>\n",
       "    <tr>\n",
       "      <th>2020-07-21</th>\n",
       "      <td>Kinderen 7-12 jaar</td>\n",
       "      <td>23</td>\n",
       "      <td>6221</td>\n",
       "      <td>0.369715</td>\n",
       "    </tr>\n",
       "    <tr>\n",
       "      <th>...</th>\n",
       "      <td>...</td>\n",
       "      <td>...</td>\n",
       "      <td>...</td>\n",
       "      <td>...</td>\n",
       "    </tr>\n",
       "    <tr>\n",
       "      <th>2021-04-13</th>\n",
       "      <td>40 - 49</td>\n",
       "      <td>6972</td>\n",
       "      <td>68309</td>\n",
       "      <td>10.206561</td>\n",
       "    </tr>\n",
       "    <tr>\n",
       "      <th>2021-04-13</th>\n",
       "      <td>50 - 59</td>\n",
       "      <td>7558</td>\n",
       "      <td>60096</td>\n",
       "      <td>12.576544</td>\n",
       "    </tr>\n",
       "    <tr>\n",
       "      <th>2021-04-13</th>\n",
       "      <td>60 - 69</td>\n",
       "      <td>4410</td>\n",
       "      <td>42946</td>\n",
       "      <td>10.268710</td>\n",
       "    </tr>\n",
       "    <tr>\n",
       "      <th>2021-04-13</th>\n",
       "      <td>70 - 79</td>\n",
       "      <td>2339</td>\n",
       "      <td>19561</td>\n",
       "      <td>11.957466</td>\n",
       "    </tr>\n",
       "    <tr>\n",
       "      <th>2021-04-13</th>\n",
       "      <td>80 en ouder</td>\n",
       "      <td>445</td>\n",
       "      <td>3472</td>\n",
       "      <td>12.816820</td>\n",
       "    </tr>\n",
       "  </tbody>\n",
       "</table>\n",
       "<p>269 rows × 4 columns</p>\n",
       "</div>"
      ],
      "text/plain": [
       "                       Agegroup  Tested positive  Total tested  Percentage\n",
       "Date                                                                      \n",
       "2020-07-07    Kinderen 0-6 jaar               25          7033    0.355467\n",
       "2020-07-07   Kinderen 7-12 jaar               50         19446    0.257122\n",
       "2020-07-07  Kinderen 13-18 jaar               97          8661    1.119963\n",
       "2020-07-21    Kinderen 0-6 jaar                5           898    0.556793\n",
       "2020-07-21   Kinderen 7-12 jaar               23          6221    0.369715\n",
       "...                         ...              ...           ...         ...\n",
       "2021-04-13              40 - 49             6972         68309   10.206561\n",
       "2021-04-13              50 - 59             7558         60096   12.576544\n",
       "2021-04-13              60 - 69             4410         42946   10.268710\n",
       "2021-04-13              70 - 79             2339         19561   11.957466\n",
       "2021-04-13          80 en ouder              445          3472   12.816820\n",
       "\n",
       "[269 rows x 4 columns]"
      ]
     },
     "execution_count": 44,
     "metadata": {},
     "output_type": "execute_result"
    }
   ],
   "source": [
    "# clean up extracted tabels\n",
    "data = pd.DataFrame()\n",
    "csvs = os.listdir(rivm_pdf_data_loc)\n",
    "csvs.sort()\n",
    "first = True\n",
    "for filename in csvs:\n",
    "    skip = False\n",
    "    #if debug == untill+1:\n",
    "    #    break\n",
    "    if '.csv' in filename:\n",
    "        if filename in ['20210413_1259-Groep.csv']:\n",
    "            #debug += 1\n",
    "            pass\n",
    "        else:\n",
    "            data = pd.concat([data,add_data_from(filename)])\n",
    "            #debug += 1\n",
    "\n",
    "data.index = pd.DatetimeIndex(data.index)\n",
    "data['Tested positive'] = data['Tested positive'].astype(int)\n",
    "data['Total tested'] = data['Total tested'].astype(int)\n",
    "\n",
    "data_temp = data['cat'].reset_index().drop_duplicates().groupby('Date').count()\n",
    "data_temp.rename(columns={'cat':'count'}, inplace=True)\n",
    "data = pd.merge(data,data_temp, on='Date')\n",
    "data['cat_count'] = data['cat']+data['count'].astype(str)\n",
    "data = data[data['cat_count'] != 'Groep2']\n",
    "data.drop(columns=['cat', 'count', 'cat_count'], inplace=True)\n",
    "\n",
    "#calculate percentage\n",
    "data['Percentage'] = data['Tested positive'] / data['Total tested'] * 100\n",
    "data"
   ]
  },
  {
   "cell_type": "code",
   "execution_count": 45,
   "id": "wound-polymer",
   "metadata": {},
   "outputs": [],
   "source": [
    "data['Agegroup'].replace({\n",
    "    'Kinderen 0-3 jaar': '0 - 3', \n",
    "    'Kinderen 0-6 jaar': '0 - 6', \n",
    "    'Kinderen 4-11 jaar': '4 - 11', \n",
    "    'Kinderen 4-11 jaar3': '4 - 11', \n",
    "    'Kinderen 4-12 jaar': '4 - 12', \n",
    "    'Kinderen 7-12 jaar': '7 - 12', \n",
    "    'Kinderen 12-17 jaar': '12 - 17',\n",
    "    'Kinderen 12-17 jaar4': '12 - 17',\n",
    "    'Kinderen 13-17 jaar': '13 - 17',\n",
    "    'Kinderen 13-18 jaar': '13 - 18', \n",
    "    'Jongvolwassenen 18-24 jaar': '18 - 24'}, inplace=True)"
   ]
  },
  {
   "cell_type": "code",
   "execution_count": 46,
   "id": "massive-large",
   "metadata": {},
   "outputs": [],
   "source": [
    "data['Group'] = data['Agegroup'].copy()\n",
    "data.loc[:,'Group'].replace({\n",
    "    '0 - 3': 'Kinderen', \n",
    "    '0 - 4': 'Kinderen',\n",
    "    '0 - 6': 'Kinderen', \n",
    "    '0 - 12': 'Basisschool',\n",
    "    '5 - 9': 'Basisschool',\n",
    "    '10 - 14': 'Basisschool',\n",
    "    '4 - 12': 'Basisschool', \n",
    "    '7 - 12': 'Basisschool', \n",
    "    '12 - 17': 'Pubers',\n",
    "    '13 - 17': 'Pubers',\n",
    "    '13 - 18': 'Pubers', \n",
    "    '15 - 19': 'Pubers', \n",
    "    '18 - 24': 'Jongvolwassenen',\n",
    "    '20 - 24': 'Jongvolwassenen', \n",
    "    '25 - 29': 'Jongvolwassenen',\n",
    "    '30 - 34': 'Volwassenen',\n",
    "    '30 - 39': 'Volwassenen', \n",
    "    '35 - 39': 'Volwassenen',\n",
    "    '40 - 44': 'Volwassenen',\n",
    "    '40 - 49': 'Volwassenen',\n",
    "    '45 - 49': 'Volwassenen',\n",
    "    '50 - 54': 'Volwassenen',\n",
    "    '50 - 59': 'Volwassenen',\n",
    "    '55 - 59': 'Volwassenen',\n",
    "    '60 - 64': 'Volwassenen',\n",
    "    '60 - 69': 'Volwassenen', \n",
    "    '65 - 69': 'Volwassenen',\n",
    "    '70 en ouder': '70 en ouder',\n",
    "    '70 - 74': '70 en ouder',\n",
    "    '70 - 79': '70 en ouder', \n",
    "    '75 - 79': '70 en ouder',\n",
    "    '80 en ouder': '70 en ouder',\n",
    "    '80 - 84': '70 en ouder',\n",
    "    '85 - 89': '70 en ouder',\n",
    "    '90 - 94': '70 en ouder'}, inplace=True)"
   ]
  },
  {
   "cell_type": "code",
   "execution_count": 47,
   "id": "heavy-group",
   "metadata": {},
   "outputs": [],
   "source": [
    "data['Agerange'] = data['Agegroup'].copy()\n",
    "data.loc[:,'Agerange'].replace({\n",
    "    '0 - 3': '0 - 12', \n",
    "    '0 - 4': '0 - 12',\n",
    "    '0 - 6': '0 - 12', \n",
    "    '0 - 12': '0 - 12',\n",
    "    '5 - 9': '0 - 12',\n",
    "    '10 - 14': 'groep 7/8 + brugklas',\n",
    "    '4 - 12': '0 - 12', \n",
    "    '7 - 12': '0 - 12', \n",
    "    '12 - 17': '13 - 24',\n",
    "    '13 - 17': '13 - 24',\n",
    "    '13 - 18': '13 - 24', \n",
    "    '15 - 19': '13 - 24', \n",
    "    '18 - 24': '13 - 24',\n",
    "    '20 - 24': '13 - 24', \n",
    "    '25 - 29': '25 - 39',\n",
    "    '30 - 34': '25 - 39',\n",
    "    '30 - 39': '25 - 39', \n",
    "    '35 - 39': '25 - 39',\n",
    "    '40 - 44': '40 - 49',\n",
    "    '40 - 49': '40 - 49',\n",
    "    '45 - 49': '40 - 49',\n",
    "    '50 - 54': '50 - 59',\n",
    "    '50 - 59': '50 - 59',\n",
    "    '55 - 59': '50 - 59',\n",
    "    '60 - 64': '60 - 69',\n",
    "    '60 - 69': '60 - 69', \n",
    "    '65 - 69': '60 - 69',\n",
    "    '70 en ouder': '70 en ouder',\n",
    "    '70 - 74': '70 en ouder',\n",
    "    '70 - 79': '70 en ouder', \n",
    "    '75 - 79': '70 en ouder',\n",
    "    '80 en ouder': '70 en ouder',\n",
    "    '80 - 84': '70 en ouder',\n",
    "    '85 - 89': '70 en ouder',\n",
    "    '90 - 94': '70 en ouder',\n",
    "    '95 en ouder': '70 en ouder'}, inplace=True)"
   ]
  },
  {
   "cell_type": "code",
   "execution_count": 48,
   "id": "exotic-processor",
   "metadata": {},
   "outputs": [
    {
     "data": {
      "application/vnd.jupyter.widget-view+json": {
       "model_id": "cd88544a7b7240e7bbc31b05d672813f",
       "version_major": 2,
       "version_minor": 0
      },
      "text/plain": [
       "Canvas(toolbar=Toolbar(toolitems=[('Home', 'Reset original view', 'home', 'home'), ('Back', 'Back to previous …"
      ]
     },
     "metadata": {},
     "output_type": "display_data"
    }
   ],
   "source": [
    "%matplotlib widget\n",
    "import seaborn as sns # Calls in seaborn\n",
    "\n",
    "# These lines generate the data to be plotted\n",
    "kinderen = data[data.loc[:,'Agerange'] == '0 - 12']\n",
    "kindere = kinderen.groupby(by=kinderen.index).mean()\n",
    "x = kinderen.index\n",
    "y = kinderen['Total tested']\n",
    "y1 = kinderen['Tested positive']\n",
    "y2 = kinderen['Percentage']\n",
    "\n",
    "fig, ax1 = plt.subplots() # initializes figure and plots\n",
    "\n",
    "ax2 = ax1.twinx() # applies twinx to ax2, which is the second y axis. \n",
    "\n",
    "sns.lineplot(x = x, y = y, ax = ax1, estimator='max') # plots the first set of data, and sets it to ax1. \n",
    "#sns.lineplot(x = x, y = y, ax = ax1, estimator=None, style=True, dashes=[(2, 2)], color='lightblue') # plots the first set of data, and sets it to ax1. \n",
    "sns.lineplot(x = x, y = y1, ax = ax1, estimator='max') # plots the first set of data, and sets it to ax1. \n",
    "sns.lineplot(x = x, y = y2, ax = ax2, color='mediumseagreen', estimator='max') # plots the first set of data, and sets it to ax1. \n",
    "\n",
    "# these lines add the annotations for the plot. \n",
    "ax1.set_xlabel('Date')\n",
    "ax1.set_ylabel('Counts')\n",
    "ax2.set_ylabel('Percentage', color='mediumseagreen')\n",
    "\n",
    "ax1.set_title(label='0 - 12 jaar')\n",
    "fig.legend(labels=['Total tested', 'Tested positive', 'Percentage'], loc='upper left')\n",
    "plt.show(); # shows the plot."
   ]
  },
  {
   "cell_type": "code",
   "execution_count": 49,
   "id": "angry-thickness",
   "metadata": {},
   "outputs": [
    {
     "data": {
      "application/vnd.jupyter.widget-view+json": {
       "model_id": "146ca110f079460db021d979f350598b",
       "version_major": 2,
       "version_minor": 0
      },
      "text/plain": [
       "Canvas(toolbar=Toolbar(toolitems=[('Home', 'Reset original view', 'home', 'home'), ('Back', 'Back to previous …"
      ]
     },
     "metadata": {},
     "output_type": "display_data"
    },
    {
     "data": {
      "text/plain": [
       "Text(0.5, 1.0, 'Aantal testen')"
      ]
     },
     "execution_count": 49,
     "metadata": {},
     "output_type": "execute_result"
    }
   ],
   "source": [
    "%matplotlib widget\n",
    "sns.lineplot(data=data, x=\"Date\", y=\"Total tested\", hue=\"Agerange\", estimator='max').set_title('Aantal testen')"
   ]
  },
  {
   "cell_type": "code",
   "execution_count": 50,
   "id": "promotional-oxide",
   "metadata": {},
   "outputs": [
    {
     "data": {
      "application/vnd.jupyter.widget-view+json": {
       "model_id": "293fb3ed6ce648c2acbd93c1b7f0a8b7",
       "version_major": 2,
       "version_minor": 0
      },
      "text/plain": [
       "Canvas(toolbar=Toolbar(toolitems=[('Home', 'Reset original view', 'home', 'home'), ('Back', 'Back to previous …"
      ]
     },
     "metadata": {},
     "output_type": "display_data"
    },
    {
     "data": {
      "text/plain": [
       "Text(0.5, 1.0, 'Aantal positieve testen')"
      ]
     },
     "execution_count": 50,
     "metadata": {},
     "output_type": "execute_result"
    }
   ],
   "source": [
    "%matplotlib widget\n",
    "sns.lineplot(data=data, x=\"Date\", y=\"Tested positive\", hue=\"Agerange\", estimator='max').set_title('Aantal positieve testen')"
   ]
  },
  {
   "cell_type": "code",
   "execution_count": 51,
   "id": "vocational-nature",
   "metadata": {},
   "outputs": [
    {
     "data": {
      "application/vnd.jupyter.widget-view+json": {
       "model_id": "0ef133e9f2e94f99a14e2276edd8244e",
       "version_major": 2,
       "version_minor": 0
      },
      "text/plain": [
       "Canvas(toolbar=Toolbar(toolitems=[('Home', 'Reset original view', 'home', 'home'), ('Back', 'Back to previous …"
      ]
     },
     "metadata": {},
     "output_type": "display_data"
    },
    {
     "data": {
      "text/plain": [
       "Text(0.5, 1.0, 'Aantal testen')"
      ]
     },
     "execution_count": 51,
     "metadata": {},
     "output_type": "execute_result"
    }
   ],
   "source": [
    "%matplotlib widget\n",
    "sns.lineplot(data=data, x=\"Date\", y=\"Total tested\", hue=\"Group\", estimator='max').set_title('Aantal testen')"
   ]
  },
  {
   "cell_type": "code",
   "execution_count": 52,
   "id": "emerging-oregon",
   "metadata": {},
   "outputs": [
    {
     "data": {
      "application/vnd.jupyter.widget-view+json": {
       "model_id": "0f726878d22d4f3894a43d5199313d7d",
       "version_major": 2,
       "version_minor": 0
      },
      "text/plain": [
       "Canvas(toolbar=Toolbar(toolitems=[('Home', 'Reset original view', 'home', 'home'), ('Back', 'Back to previous …"
      ]
     },
     "metadata": {},
     "output_type": "display_data"
    },
    {
     "data": {
      "text/plain": [
       "Text(0.5, 1.0, 'Aantal positieve testen')"
      ]
     },
     "execution_count": 52,
     "metadata": {},
     "output_type": "execute_result"
    }
   ],
   "source": [
    "%matplotlib widget\n",
    "sns.lineplot(data=data, x=\"Date\", y=\"Tested positive\", hue=\"Group\", estimator='max').set_title('Aantal positieve testen')"
   ]
  },
  {
   "cell_type": "code",
   "execution_count": 53,
   "id": "alleged-blair",
   "metadata": {},
   "outputs": [
    {
     "data": {
      "application/vnd.jupyter.widget-view+json": {
       "model_id": "153e2911afc4427392de01bc0794ac72",
       "version_major": 2,
       "version_minor": 0
      },
      "text/plain": [
       "Canvas(toolbar=Toolbar(toolitems=[('Home', 'Reset original view', 'home', 'home'), ('Back', 'Back to previous …"
      ]
     },
     "metadata": {},
     "output_type": "display_data"
    }
   ],
   "source": [
    "%matplotlib widget\n",
    "import seaborn as sns # Calls in seaborn\n",
    "\n",
    "# These lines generate the data to be plotted\n",
    "grouped = data[(data['Group'] == 'Kinderen') | (data['Group'] == 'Basisschool') | (data['Group'] == 'Pubers') | (data['Group'] == '4 - 11')].groupby(by=['Date','Group']).sum()\n",
    "grouped.reset_index(level='Group', inplace=True)\n",
    "grouped['Percantage'] = grouped['Tested positive'] / grouped['Total tested'] * 100\n",
    "\n",
    "x = grouped.index\n",
    "y = grouped['Total tested']\n",
    "y1 = grouped['Tested positive']\n",
    "y2 = grouped['Percentage']\n",
    "\n",
    "fig, ax1 = plt.subplots() # initializes figure and plots\n",
    "\n",
    "ax2 = ax1.twinx() # applies twinx to ax2, which is the second y axis. \n",
    "\n",
    "sns.lineplot(x = x, y = y, ax = ax1, estimator='max') # plots the first set of data, and sets it to ax1. \n",
    "#sns.lineplot(x = x, y = y, ax = ax1, estimator=None, style=True, dashes=[(2, 2)], color='lightblue') # plots the first set of data, and sets it to ax1. \n",
    "sns.lineplot(x = x, y = y1, ax = ax1, estimator='max') # plots the first set of data, and sets it to ax1. \n",
    "sns.lineplot(x = x, y = y2, ax = ax2, color='mediumseagreen', estimator='max') # plots the first set of data, and sets it to ax1. \n",
    "\n",
    "# these lines add the annotations for the plot. \n",
    "ax1.set_xlabel('Date')\n",
    "ax1.set_ylabel('Counts')\n",
    "ax2.set_ylabel('Percentage', color='mediumseagreen')\n",
    "\n",
    "ax1.set_title(label='Data in groups for children')\n",
    "fig.legend(labels=['Total tested', 'Tested positive', 'Percentage'], loc='upper left')\n",
    "plt.show(); # shows the plot."
   ]
  },
  {
   "cell_type": "markdown",
   "id": "taken-gender",
   "metadata": {},
   "source": [
    "## What can be used from the reports\n",
    "\n",
    "### Chapter 4 agegroups\n",
    "Reported, Hospitalised, Deceased agegroups\n",
    "\n",
    "cumulatief"
   ]
  },
  {
   "cell_type": "code",
   "execution_count": null,
   "id": "colonial-asset",
   "metadata": {},
   "outputs": [],
   "source": []
  }
 ],
 "metadata": {
  "kernelspec": {
   "display_name": "Covid",
   "language": "python",
   "name": "covid"
  },
  "language_info": {
   "codemirror_mode": {
    "name": "ipython",
    "version": 3
   },
   "file_extension": ".py",
   "mimetype": "text/x-python",
   "name": "python",
   "nbconvert_exporter": "python",
   "pygments_lexer": "ipython3",
   "version": "3.9.2"
  }
 },
 "nbformat": 4,
 "nbformat_minor": 5
}
