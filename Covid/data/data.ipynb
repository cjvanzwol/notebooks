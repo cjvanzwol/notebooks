{
 "cells": [
  {
   "cell_type": "code",
   "execution_count": 125,
   "id": "nutritional-picking",
   "metadata": {},
   "outputs": [],
   "source": [
    "import os, json\n",
    "import pandas as pd\n",
    "import cbsodata\n",
    "\n",
    "with open('./sources.json', 'r') as json_file:\n",
    "    resources = json.load(json_file)"
   ]
  },
  {
   "cell_type": "code",
   "execution_count": 145,
   "id": "touched-huntington",
   "metadata": {},
   "outputs": [
    {
     "name": "stdout",
     "output_type": "stream",
     "text": [
      "Pulling data and defining teh following variables:\n",
      "deceased\n",
      "population\n",
      "covid_deceased\n",
      "positive_tests\n"
     ]
    }
   ],
   "source": [
    "print('Pulling data and defining teh following variables:')\n",
    "for org,sets in resources.items():\n",
    "    if org == 'CBS':\n",
    "        for dataset,identifier in sets.items():\n",
    "            name = '_'.join(dataset.lower().split())\n",
    "            data_loc = './data/'+org.lower()+'_'+name+'.csv'\n",
    "            try:\n",
    "                os.stat(data_loc)\n",
    "            except:\n",
    "                pd.DataFrame(cbs.get_data(identifier)).to_csv(data_loc, index=False)\n",
    "            finally:\n",
    "                globals()[name] = pd.read_csv(data_loc)\n",
    "            #metadata = cbsodata.get_info(identifier)\n",
    "            #print('Data loaded from '+org+': '+metadata['Title'])\n",
    "            print(dataset)\n",
    "    elif org == 'RIVM':\n",
    "        for dataset,urls in sets.items():\n",
    "            name = '_'.join(dataset.lower().split())\n",
    "            data_loc = './data/'+org.lower()+'_'+name+'.csv'\n",
    "            try:\n",
    "                os.stat(data_loc)\n",
    "            except:\n",
    "                pd.read_json(urls['data']).to_csv(data_loc, index=False)\n",
    "            finally:\n",
    "                globals()[name] = pd.read_csv(data_loc)\n",
    "            #print(urls['meta'])\n",
    "            print(name)\n",
    "    else:\n",
    "        print('Organisation \"'+org+'\" not recognised. Chaeck en and change organisation')    "
   ]
  }
 ],
 "metadata": {
  "kernelspec": {
   "display_name": "Covid",
   "language": "python",
   "name": "covid"
  },
  "language_info": {
   "codemirror_mode": {
    "name": "ipython",
    "version": 3
   },
   "file_extension": ".py",
   "mimetype": "text/x-python",
   "name": "python",
   "nbconvert_exporter": "python",
   "pygments_lexer": "ipython3",
   "version": "3.9.2"
  }
 },
 "nbformat": 4,
 "nbformat_minor": 5
}
