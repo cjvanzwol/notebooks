{
 "cells": [
  {
   "cell_type": "markdown",
   "id": "remarkable-bacteria",
   "metadata": {
    "tags": []
   },
   "source": [
    "# Tests per agegroup\n",
    "Data extracted from weekly report of RIVM"
   ]
  },
  {
   "cell_type": "code",
   "execution_count": 1,
   "id": "governmental-article",
   "metadata": {},
   "outputs": [],
   "source": [
    "import os\n",
    "import pandas as pd\n",
    "import tabula\n",
    "import requests\n",
    "from bs4 import BeautifulSoup\n",
    "import PyPDF2\n",
    "import re\n",
    "\n",
    "rivm_url = 'https://www.rivm.nl/coronavirus-covid-19/actueel/wekelijkse-update-epidemiologische-situatie-covid-19-in-nederland'\n",
    "response = requests.get(rivm_url)\n",
    "rivm_pdf_data_loc = './data/pdfs/'"
   ]
  },
  {
   "cell_type": "code",
   "execution_count": 2,
   "id": "adapted-giving",
   "metadata": {},
   "outputs": [],
   "source": [
    "href = []\n",
    "period = []\n",
    "name = []\n",
    "datetime = []\n",
    "week = []\n",
    "filename = []\n",
    "url = []\n",
    "\n",
    "def columns(l):\n",
    "    href.append(l)\n",
    "    period.append(pd.Period(l[-l.count('')+22:-l.count('')+29],\"M\"))\n",
    "    name.append(l[-l.count('')+30:-4])\n",
    "    datetime.append(pd.to_datetime(l[-l.count('')+65:-l.count('')+73], format=\"%Y%m%d\"))\n",
    "    filename.append(l[-l.count('')+65:])\n",
    "    url.append('https://www.rivm.nl'+l)"
   ]
  },
  {
   "cell_type": "code",
   "execution_count": 3,
   "id": "absolute-baseline",
   "metadata": {
    "tags": []
   },
   "outputs": [],
   "source": [
    "soup = BeautifulSoup(response.text, 'html.parser') \n",
    "aa = soup.find_all('a')\n",
    "for a in aa:\n",
    "    link = a.get('href')\n",
    "    if link == None:\n",
    "        pass\n",
    "    elif link.endswith('.pdf'):\n",
    "        columns(link)\n",
    "\n",
    "pdfs = pd.DataFrame([period, datetime, week, name, filename, href, url]).T\n",
    "pdfs = pdfs.rename(columns={0:'period',1:'date',2:'week',3:'name',4:'filename',5:'href',6:'url'})\n",
    "pdfs['week'] = pdfs.date.dt.isocalendar().week"
   ]
  },
  {
   "cell_type": "code",
   "execution_count": 48,
   "id": "express-louisville",
   "metadata": {},
   "outputs": [],
   "source": [
    "def extract_tabel(pdf,csv,date):\n",
    "    \n",
    "    def check_tabel(value):\n",
    "        for key in checks:\n",
    "            if checks[key]:\n",
    "                pass\n",
    "            elif isinstance(value,str) and key in value:\n",
    "                checks[key] = True\n",
    "    \n",
    "    def create_agegroup_tabel(tabel):\n",
    "        #print(tabel)\n",
    "        if checks['Leeftijdsgroep'] and checks['fgelopen']:\n",
    "            category = 'Leeftijd'\n",
    "        elif checks['Groep'] and checks['fgelopen'] and checks['Kinderen']:\n",
    "            category = 'Groep'\n",
    "        elif checks['Groep'] and checks['Kinderen']:\n",
    "            category = 'Groep'\n",
    "        else:\n",
    "            category = ''\n",
    "        #print('cat='+category)\n",
    "        \n",
    "        if category != '':\n",
    "            tabel.dropna(inplace=True)\n",
    "            if tabel.empty:\n",
    "                #print(\"df empty\")\n",
    "                pass\n",
    "            else:\n",
    "                first_column = tabel.columns[0]\n",
    "                #first_column = 'Unnamed: 0'\n",
    "                if len(tabel.columns) > 1:\n",
    "                    second_column = tabel.columns[1]\n",
    "                agegroup_tabel = tabel.loc[(tabel[first_column].str.count('-') > 0)]                \n",
    "                if category == 'Leeftijd':\n",
    "                    agegroup_tabel = agegroup_tabel.append(tabel.loc[(tabel[first_column].str.find('+') > 0)])\n",
    "                    agegroup_tabel.rename(columns={first_column:'Leeftijdsgroep',second_column:date}, inplace=True)\n",
    "                elif category == 'Groep':\n",
    "                    agegroup_tabel = agegroup_tabel.append(tabel.loc[(tabel[first_column].str.count('fgelopen') > 0)])\n",
    "                    agegroup_tabel = agegroup_tabel.append(tabel.loc[(tabel[first_column].str.count('Groep') > 0)])\n",
    "                agegroup_tabel = agegroup_tabel.sort_index()\n",
    "                agegroup_tabel.to_csv(csv, index=False)\n",
    "                #print('CSV CREATED')\n",
    "                #print(agegroup_tabel)\n",
    "                return True\n",
    "        #else:\n",
    "            #print(\"NOTHING\")\n",
    "    \n",
    "    print('extracting '+pdf)\n",
    "    #print(pdf)\n",
    "    found_pages = []\n",
    "    object = PyPDF2.PdfFileReader(pdf)\n",
    "    NumPages = object.getNumPages()\n",
    "    String = \"SARS-COV-2.*TESTEN.*AFGENOMEN.*DOOR.*DE.*GGD\"\n",
    "    \n",
    "    for i in range(0, NumPages):\n",
    "        PageObj = object.getPage(i)\n",
    "        Text = PageObj.extractText()\n",
    "        if re.search(String,Text):\n",
    "            found_pages.append(i)\n",
    "    \n",
    "    if len(found_pages) == 0:\n",
    "        print(\"NO CHAPTER FOUND in \"+str(pdf))\n",
    "    else:\n",
    "        tabels = tabula.read_pdf(input_path=pdf, pages=found_pages, guess=True, stream=False)\n",
    "        csv_created = None\n",
    "        for tabel in tabels:\n",
    "            checks = {\n",
    "                'Leeftijdsgroep': False,\n",
    "                'fgelopen': False,\n",
    "                'Groep': False,\n",
    "                'Kinderen': False}\n",
    "            for column in tabel:\n",
    "                check_tabel(column)\n",
    "                for i in tabel[column].values:\n",
    "                    check_tabel(i)\n",
    "            #print(checks)\n",
    "            csv_created = create_agegroup_tabel(tabel)\n",
    "            #print(csv_created)\n",
    "        if csv_created == None:\n",
    "            no_tabel_found.append(pdf)\n",
    "            print('No tabel found in: '+pdf)"
   ]
  },
  {
   "cell_type": "code",
   "execution_count": 49,
   "id": "apparent-upset",
   "metadata": {
    "tags": []
   },
   "outputs": [
    {
     "name": "stdout",
     "output_type": "stream",
     "text": [
      "downloading 20210323_1159.pdf\n",
      "extracting ./data/pdfs/20210323_1159.pdf\n"
     ]
    },
    {
     "name": "stderr",
     "output_type": "stream",
     "text": [
      "Got stderr: Mar 24, 2021 9:24:54 PM org.apache.pdfbox.pdmodel.font.PDType1Font <init>\n",
      "WARNING: Using fallback font LiberationSans for base font Symbol\n",
      "Mar 24, 2021 9:24:54 PM org.apache.pdfbox.pdmodel.font.PDType1Font <init>\n",
      "WARNING: Using fallback font LiberationSans for base font ZapfDingbats\n",
      "\n"
     ]
    },
    {
     "name": "stdout",
     "output_type": "stream",
     "text": [
      "No tabel found in: ./data/pdfs/20210323_1159.pdf\n",
      "downloading 20210316_1159.pdf\n",
      "extracting ./data/pdfs/20210316_1159.pdf\n"
     ]
    },
    {
     "name": "stderr",
     "output_type": "stream",
     "text": [
      "Got stderr: Mar 24, 2021 9:29:37 PM org.apache.pdfbox.pdmodel.font.PDType1Font <init>\n",
      "WARNING: Using fallback font LiberationSans for base font Symbol\n",
      "Mar 24, 2021 9:29:37 PM org.apache.pdfbox.pdmodel.font.PDType1Font <init>\n",
      "WARNING: Using fallback font LiberationSans for base font ZapfDingbats\n",
      "\n"
     ]
    },
    {
     "name": "stdout",
     "output_type": "stream",
     "text": [
      "No tabel found in: ./data/pdfs/20210316_1159.pdf\n",
      "extracting ./data/pdfs/20210309_1259.pdf\n"
     ]
    },
    {
     "name": "stderr",
     "output_type": "stream",
     "text": [
      "Got stderr: Mar 24, 2021 9:30:04 PM org.apache.pdfbox.pdmodel.font.PDType1Font <init>\n",
      "WARNING: Using fallback font LiberationSans for base font Symbol\n",
      "Mar 24, 2021 9:30:04 PM org.apache.pdfbox.pdmodel.font.PDType1Font <init>\n",
      "WARNING: Using fallback font LiberationSans for base font ZapfDingbats\n",
      "\n"
     ]
    },
    {
     "name": "stdout",
     "output_type": "stream",
     "text": [
      "No tabel found in: ./data/pdfs/20210309_1259.pdf\n",
      "extracting ./data/pdfs/20210302_1122_final_0.pdf\n"
     ]
    },
    {
     "name": "stderr",
     "output_type": "stream",
     "text": [
      "Got stderr: Mar 24, 2021 9:30:33 PM org.apache.pdfbox.pdmodel.font.PDType1Font <init>\n",
      "WARNING: Using fallback font LiberationSans for base font Symbol\n",
      "Mar 24, 2021 9:30:33 PM org.apache.pdfbox.pdmodel.font.PDType1Font <init>\n",
      "WARNING: Using fallback font LiberationSans for base font ZapfDingbats\n",
      "\n"
     ]
    },
    {
     "name": "stdout",
     "output_type": "stream",
     "text": [
      "No tabel found in: ./data/pdfs/20210302_1122_final_0.pdf\n",
      "extracting ./data/pdfs/20210223_1223_final.pdf\n"
     ]
    },
    {
     "name": "stderr",
     "output_type": "stream",
     "text": [
      "Got stderr: Mar 24, 2021 9:31:03 PM org.apache.pdfbox.pdmodel.font.PDType1Font <init>\n",
      "WARNING: Using fallback font LiberationSans for base font Symbol\n",
      "Mar 24, 2021 9:31:03 PM org.apache.pdfbox.pdmodel.font.PDType1Font <init>\n",
      "WARNING: Using fallback font LiberationSans for base font ZapfDingbats\n",
      "\n"
     ]
    },
    {
     "name": "stdout",
     "output_type": "stream",
     "text": [
      "No tabel found in: ./data/pdfs/20210223_1223_final.pdf\n",
      "extracting ./data/pdfs/20210216_1423.pdf\n"
     ]
    },
    {
     "name": "stderr",
     "output_type": "stream",
     "text": [
      "Got stderr: Mar 24, 2021 9:31:32 PM org.apache.pdfbox.pdmodel.font.PDType1Font <init>\n",
      "WARNING: Using fallback font LiberationSans for base font Symbol\n",
      "Mar 24, 2021 9:31:32 PM org.apache.pdfbox.pdmodel.font.PDType1Font <init>\n",
      "WARNING: Using fallback font LiberationSans for base font ZapfDingbats\n",
      "\n"
     ]
    },
    {
     "name": "stdout",
     "output_type": "stream",
     "text": [
      "No tabel found in: ./data/pdfs/20210216_1423.pdf\n",
      "extracting ./data/pdfs/20210209_1115_final.pdf\n"
     ]
    },
    {
     "name": "stderr",
     "output_type": "stream",
     "text": [
      "Got stderr: Mar 24, 2021 9:31:45 PM org.apache.pdfbox.pdmodel.font.PDType1Font <init>\n",
      "WARNING: Using fallback font LiberationSans for base font Symbol\n",
      "Mar 24, 2021 9:31:45 PM org.apache.pdfbox.pdmodel.font.PDType1Font <init>\n",
      "WARNING: Using fallback font LiberationSans for base font ZapfDingbats\n",
      "\n"
     ]
    },
    {
     "name": "stdout",
     "output_type": "stream",
     "text": [
      "No tabel found in: ./data/pdfs/20210209_1115_final.pdf\n",
      "extracting ./data/pdfs/20210202_1259_final.pdf\n"
     ]
    },
    {
     "name": "stderr",
     "output_type": "stream",
     "text": [
      "Got stderr: Mar 24, 2021 9:31:58 PM org.apache.pdfbox.pdmodel.font.PDType1Font <init>\n",
      "WARNING: Using fallback font LiberationSans for base font Symbol\n",
      "Mar 24, 2021 9:31:58 PM org.apache.pdfbox.pdmodel.font.PDType1Font <init>\n",
      "WARNING: Using fallback font LiberationSans for base font ZapfDingbats\n",
      "\n"
     ]
    },
    {
     "name": "stdout",
     "output_type": "stream",
     "text": [
      "No tabel found in: ./data/pdfs/20210202_1259_final.pdf\n",
      "extracting ./data/pdfs/20210126_1259_final.pdf\n"
     ]
    },
    {
     "name": "stderr",
     "output_type": "stream",
     "text": [
      "Got stderr: Mar 24, 2021 9:32:10 PM org.apache.pdfbox.pdmodel.font.PDType1Font <init>\n",
      "WARNING: Using fallback font LiberationSans for base font Symbol\n",
      "Mar 24, 2021 9:32:10 PM org.apache.pdfbox.pdmodel.font.PDType1Font <init>\n",
      "WARNING: Using fallback font LiberationSans for base font ZapfDingbats\n",
      "\n"
     ]
    },
    {
     "name": "stdout",
     "output_type": "stream",
     "text": [
      "No tabel found in: ./data/pdfs/20210126_1259_final.pdf\n",
      "extracting ./data/pdfs/20210119_1259_final.pdf\n"
     ]
    },
    {
     "name": "stderr",
     "output_type": "stream",
     "text": [
      "Got stderr: Mar 24, 2021 9:32:25 PM org.apache.pdfbox.pdmodel.font.PDType1Font <init>\n",
      "WARNING: Using fallback font LiberationSans for base font Symbol\n",
      "Mar 24, 2021 9:32:25 PM org.apache.pdfbox.pdmodel.font.PDType1Font <init>\n",
      "WARNING: Using fallback font LiberationSans for base font ZapfDingbats\n",
      "\n"
     ]
    },
    {
     "name": "stdout",
     "output_type": "stream",
     "text": [
      "No tabel found in: ./data/pdfs/20210119_1259_final.pdf\n",
      "extracting ./data/pdfs/20210112_1259_final.pdf\n"
     ]
    },
    {
     "name": "stderr",
     "output_type": "stream",
     "text": [
      "Got stderr: Mar 24, 2021 9:32:40 PM org.apache.pdfbox.pdmodel.font.PDType1Font <init>\n",
      "WARNING: Using fallback font LiberationSans for base font Symbol\n",
      "Mar 24, 2021 9:32:40 PM org.apache.pdfbox.pdmodel.font.PDType1Font <init>\n",
      "WARNING: Using fallback font LiberationSans for base font ZapfDingbats\n",
      "\n"
     ]
    },
    {
     "name": "stdout",
     "output_type": "stream",
     "text": [
      "No tabel found in: ./data/pdfs/20210112_1259_final.pdf\n",
      "extracting ./data/pdfs/20210105_1254.pdf\n"
     ]
    },
    {
     "name": "stderr",
     "output_type": "stream",
     "text": [
      "Got stderr: Mar 24, 2021 9:32:57 PM org.apache.pdfbox.pdmodel.font.PDType1Font <init>\n",
      "WARNING: Using fallback font LiberationSans for base font Symbol\n",
      "Mar 24, 2021 9:32:57 PM org.apache.pdfbox.pdmodel.font.PDType1Font <init>\n",
      "WARNING: Using fallback font LiberationSans for base font ZapfDingbats\n",
      "\n"
     ]
    },
    {
     "name": "stdout",
     "output_type": "stream",
     "text": [
      "No tabel found in: ./data/pdfs/20210105_1254.pdf\n",
      "extracting ./data/pdfs/20201229_1229.pdf\n"
     ]
    },
    {
     "name": "stderr",
     "output_type": "stream",
     "text": [
      "Got stderr: Mar 24, 2021 9:33:10 PM org.apache.pdfbox.pdmodel.font.PDType1Font <init>\n",
      "WARNING: Using fallback font LiberationSans for base font Symbol\n",
      "Mar 24, 2021 9:33:10 PM org.apache.pdfbox.pdmodel.font.PDType1Font <init>\n",
      "WARNING: Using fallback font LiberationSans for base font ZapfDingbats\n",
      "\n"
     ]
    },
    {
     "name": "stdout",
     "output_type": "stream",
     "text": [
      "No tabel found in: ./data/pdfs/20201229_1229.pdf\n",
      "extracting ./data/pdfs/20200915_1433_NICEedit.pdf\n"
     ]
    },
    {
     "name": "stderr",
     "output_type": "stream",
     "text": [
      "Got stderr: Mar 24, 2021 9:33:25 PM org.apache.pdfbox.pdmodel.font.PDType1Font <init>\n",
      "WARNING: Using fallback font LiberationSans for base font Symbol\n",
      "Mar 24, 2021 9:33:26 PM org.apache.pdfbox.pdmodel.font.PDType1Font <init>\n",
      "WARNING: Using fallback font LiberationSans for base font ZapfDingbats\n",
      "\n"
     ]
    },
    {
     "name": "stdout",
     "output_type": "stream",
     "text": [
      "No tabel found in: ./data/pdfs/20200915_1433_NICEedit.pdf\n",
      "extracting ./data/pdfs/20200707_1251.pdf\n"
     ]
    },
    {
     "name": "stderr",
     "output_type": "stream",
     "text": [
      "Got stderr: Mar 24, 2021 9:33:36 PM org.apache.pdfbox.pdmodel.font.PDType1Font <init>\n",
      "WARNING: Using fallback font LiberationSans for base font Symbol\n",
      "Mar 24, 2021 9:33:36 PM org.apache.pdfbox.pdmodel.font.PDType1Font <init>\n",
      "WARNING: Using fallback font LiberationSans for base font ZapfDingbats\n",
      "\n"
     ]
    },
    {
     "name": "stdout",
     "output_type": "stream",
     "text": [
      "No tabel found in: ./data/pdfs/20200707_1251.pdf\n",
      "extracting ./data/pdfs/20200714_1040.pdf\n"
     ]
    },
    {
     "name": "stderr",
     "output_type": "stream",
     "text": [
      "Got stderr: Mar 24, 2021 9:33:46 PM org.apache.pdfbox.pdmodel.font.PDType1Font <init>\n",
      "WARNING: Using fallback font LiberationSans for base font Symbol\n",
      "Mar 24, 2021 9:33:46 PM org.apache.pdfbox.pdmodel.font.PDType1Font <init>\n",
      "WARNING: Using fallback font LiberationSans for base font ZapfDingbats\n",
      "\n"
     ]
    },
    {
     "name": "stdout",
     "output_type": "stream",
     "text": [
      "No tabel found in: ./data/pdfs/20200714_1040.pdf\n",
      "extracting ./data/pdfs/20200721_1135.pdf\n"
     ]
    },
    {
     "name": "stderr",
     "output_type": "stream",
     "text": [
      "Got stderr: Mar 24, 2021 9:33:54 PM org.apache.pdfbox.pdmodel.font.PDType1Font <init>\n",
      "WARNING: Using fallback font LiberationSans for base font Symbol\n",
      "Mar 24, 2021 9:33:54 PM org.apache.pdfbox.pdmodel.font.PDType1Font <init>\n",
      "WARNING: Using fallback font LiberationSans for base font ZapfDingbats\n",
      "\n"
     ]
    },
    {
     "name": "stdout",
     "output_type": "stream",
     "text": [
      "extracting ./data/pdfs/20200728_1052.pdf\n"
     ]
    },
    {
     "name": "stderr",
     "output_type": "stream",
     "text": [
      "Got stderr: Mar 24, 2021 9:34:05 PM org.apache.pdfbox.pdmodel.font.PDType1Font <init>\n",
      "WARNING: Using fallback font LiberationSans for base font Symbol\n",
      "Mar 24, 2021 9:34:05 PM org.apache.pdfbox.pdmodel.font.PDType1Font <init>\n",
      "WARNING: Using fallback font LiberationSans for base font ZapfDingbats\n",
      "\n"
     ]
    },
    {
     "name": "stdout",
     "output_type": "stream",
     "text": [
      "No tabel found in: ./data/pdfs/20200728_1052.pdf\n",
      "extracting ./data/pdfs/20200804_1306.pdf\n"
     ]
    },
    {
     "name": "stderr",
     "output_type": "stream",
     "text": [
      "Got stderr: Mar 24, 2021 9:34:17 PM org.apache.pdfbox.pdmodel.font.PDType1Font <init>\n",
      "WARNING: Using fallback font LiberationSans for base font Symbol\n",
      "Mar 24, 2021 9:34:17 PM org.apache.pdfbox.pdmodel.font.PDType1Font <init>\n",
      "WARNING: Using fallback font LiberationSans for base font ZapfDingbats\n",
      "\n"
     ]
    },
    {
     "name": "stdout",
     "output_type": "stream",
     "text": [
      "extracting ./data/pdfs/20200811_1158_0.pdf\n"
     ]
    },
    {
     "name": "stderr",
     "output_type": "stream",
     "text": [
      "Got stderr: Mar 24, 2021 9:34:27 PM org.apache.pdfbox.pdmodel.font.PDType1Font <init>\n",
      "WARNING: Using fallback font LiberationSans for base font Symbol\n",
      "Mar 24, 2021 9:34:28 PM org.apache.pdfbox.pdmodel.font.PDType1Font <init>\n",
      "WARNING: Using fallback font LiberationSans for base font ZapfDingbats\n",
      "\n"
     ]
    },
    {
     "name": "stdout",
     "output_type": "stream",
     "text": [
      "No tabel found in: ./data/pdfs/20200811_1158_0.pdf\n",
      "extracting ./data/pdfs/20200818_1224.pdf\n"
     ]
    },
    {
     "name": "stderr",
     "output_type": "stream",
     "text": [
      "Got stderr: Mar 24, 2021 9:34:38 PM org.apache.pdfbox.pdmodel.font.PDType1Font <init>\n",
      "WARNING: Using fallback font LiberationSans for base font Symbol\n",
      "Mar 24, 2021 9:34:38 PM org.apache.pdfbox.pdmodel.font.PDType1Font <init>\n",
      "WARNING: Using fallback font LiberationSans for base font ZapfDingbats\n",
      "\n"
     ]
    },
    {
     "name": "stdout",
     "output_type": "stream",
     "text": [
      "No tabel found in: ./data/pdfs/20200818_1224.pdf\n",
      "extracting ./data/pdfs/20200825_1217.pdf\n"
     ]
    },
    {
     "name": "stderr",
     "output_type": "stream",
     "text": [
      "Got stderr: Mar 24, 2021 9:34:49 PM org.apache.pdfbox.pdmodel.font.PDType1Font <init>\n",
      "WARNING: Using fallback font LiberationSans for base font Symbol\n",
      "Mar 24, 2021 9:34:49 PM org.apache.pdfbox.pdmodel.font.PDType1Font <init>\n",
      "WARNING: Using fallback font LiberationSans for base font ZapfDingbats\n",
      "\n"
     ]
    },
    {
     "name": "stdout",
     "output_type": "stream",
     "text": [
      "extracting ./data/pdfs/20200901_1353_1.pdf\n"
     ]
    },
    {
     "name": "stderr",
     "output_type": "stream",
     "text": [
      "Got stderr: Mar 24, 2021 9:34:59 PM org.apache.pdfbox.pdmodel.font.PDType1Font <init>\n",
      "WARNING: Using fallback font LiberationSans for base font Symbol\n",
      "Mar 24, 2021 9:35:00 PM org.apache.pdfbox.pdmodel.font.PDType1Font <init>\n",
      "WARNING: Using fallback font LiberationSans for base font ZapfDingbats\n",
      "\n"
     ]
    },
    {
     "name": "stdout",
     "output_type": "stream",
     "text": [
      "No tabel found in: ./data/pdfs/20200901_1353_1.pdf\n",
      "extracting ./data/pdfs/20200908_1159.pdf\n"
     ]
    },
    {
     "name": "stderr",
     "output_type": "stream",
     "text": [
      "Got stderr: Mar 24, 2021 9:35:11 PM org.apache.pdfbox.pdmodel.font.PDType1Font <init>\n",
      "WARNING: Using fallback font LiberationSans for base font Symbol\n",
      "Mar 24, 2021 9:35:11 PM org.apache.pdfbox.pdmodel.font.PDType1Font <init>\n",
      "WARNING: Using fallback font LiberationSans for base font ZapfDingbats\n",
      "\n"
     ]
    },
    {
     "name": "stdout",
     "output_type": "stream",
     "text": [
      "extracting ./data/pdfs/20200922_1141.pdf\n"
     ]
    },
    {
     "name": "stderr",
     "output_type": "stream",
     "text": [
      "Got stderr: Mar 24, 2021 9:35:24 PM org.apache.pdfbox.pdmodel.font.PDType1Font <init>\n",
      "WARNING: Using fallback font LiberationSans for base font Symbol\n",
      "Mar 24, 2021 9:35:24 PM org.apache.pdfbox.pdmodel.font.PDType1Font <init>\n",
      "WARNING: Using fallback font LiberationSans for base font ZapfDingbats\n",
      "\n"
     ]
    },
    {
     "name": "stdout",
     "output_type": "stream",
     "text": [
      "No tabel found in: ./data/pdfs/20200922_1141.pdf\n",
      "extracting ./data/pdfs/20201222_1259.pdf\n"
     ]
    },
    {
     "name": "stderr",
     "output_type": "stream",
     "text": [
      "Got stderr: Mar 24, 2021 9:35:35 PM org.apache.pdfbox.pdmodel.font.PDType1Font <init>\n",
      "WARNING: Using fallback font LiberationSans for base font Symbol\n",
      "Mar 24, 2021 9:35:35 PM org.apache.pdfbox.pdmodel.font.PDType1Font <init>\n",
      "WARNING: Using fallback font LiberationSans for base font ZapfDingbats\n",
      "\n"
     ]
    },
    {
     "name": "stdout",
     "output_type": "stream",
     "text": [
      "No tabel found in: ./data/pdfs/20201222_1259.pdf\n",
      "extracting ./data/pdfs/20200929_1159.pdf\n"
     ]
    },
    {
     "name": "stderr",
     "output_type": "stream",
     "text": [
      "Got stderr: Mar 24, 2021 9:35:46 PM org.apache.pdfbox.pdmodel.font.PDType1Font <init>\n",
      "WARNING: Using fallback font LiberationSans for base font Symbol\n",
      "Mar 24, 2021 9:35:47 PM org.apache.pdfbox.pdmodel.font.PDType1Font <init>\n",
      "WARNING: Using fallback font LiberationSans for base font ZapfDingbats\n",
      "\n"
     ]
    },
    {
     "name": "stdout",
     "output_type": "stream",
     "text": [
      "No tabel found in: ./data/pdfs/20200929_1159.pdf\n",
      "extracting ./data/pdfs/20201006_1159_metRt.pdf\n"
     ]
    },
    {
     "name": "stderr",
     "output_type": "stream",
     "text": [
      "Got stderr: Mar 24, 2021 9:36:00 PM org.apache.pdfbox.pdmodel.font.PDType1Font <init>\n",
      "WARNING: Using fallback font LiberationSans for base font Symbol\n",
      "Mar 24, 2021 9:36:00 PM org.apache.pdfbox.pdmodel.font.PDType1Font <init>\n",
      "WARNING: Using fallback font LiberationSans for base font ZapfDingbats\n",
      "\n"
     ]
    },
    {
     "name": "stdout",
     "output_type": "stream",
     "text": [
      "No tabel found in: ./data/pdfs/20201006_1159_metRt.pdf\n",
      "extracting ./data/pdfs/20201013_1159_0.pdf\n"
     ]
    },
    {
     "name": "stderr",
     "output_type": "stream",
     "text": [
      "Got stderr: Mar 24, 2021 9:36:14 PM org.apache.pdfbox.pdmodel.font.PDType1Font <init>\n",
      "WARNING: Using fallback font LiberationSans for base font Symbol\n",
      "Mar 24, 2021 9:36:15 PM org.apache.pdfbox.pdmodel.font.PDType1Font <init>\n",
      "WARNING: Using fallback font LiberationSans for base font ZapfDingbats\n",
      "\n"
     ]
    },
    {
     "name": "stdout",
     "output_type": "stream",
     "text": [
      "No tabel found in: ./data/pdfs/20201013_1159_0.pdf\n",
      "extracting ./data/pdfs/20201020_1141_0.pdf\n"
     ]
    },
    {
     "name": "stderr",
     "output_type": "stream",
     "text": [
      "Got stderr: Mar 24, 2021 9:36:30 PM org.apache.pdfbox.pdmodel.font.PDType1Font <init>\n",
      "WARNING: Using fallback font LiberationSans for base font Symbol\n",
      "Mar 24, 2021 9:36:30 PM org.apache.pdfbox.pdmodel.font.PDType1Font <init>\n",
      "WARNING: Using fallback font LiberationSans for base font ZapfDingbats\n",
      "\n"
     ]
    },
    {
     "name": "stdout",
     "output_type": "stream",
     "text": [
      "No tabel found in: ./data/pdfs/20201020_1141_0.pdf\n",
      "extracting ./data/pdfs/20201027_1159.pdf\n"
     ]
    },
    {
     "name": "stderr",
     "output_type": "stream",
     "text": [
      "Got stderr: Mar 24, 2021 9:36:45 PM org.apache.pdfbox.pdmodel.font.PDType1Font <init>\n",
      "WARNING: Using fallback font LiberationSans for base font Symbol\n",
      "Mar 24, 2021 9:36:45 PM org.apache.pdfbox.pdmodel.font.PDType1Font <init>\n",
      "WARNING: Using fallback font LiberationSans for base font ZapfDingbats\n",
      "\n"
     ]
    },
    {
     "name": "stdout",
     "output_type": "stream",
     "text": [
      "No tabel found in: ./data/pdfs/20201027_1159.pdf\n",
      "extracting ./data/pdfs/20201103_1216_0.pdf\n"
     ]
    },
    {
     "name": "stderr",
     "output_type": "stream",
     "text": [
      "Got stderr: Mar 24, 2021 9:37:00 PM org.apache.pdfbox.pdmodel.font.PDType1Font <init>\n",
      "WARNING: Using fallback font LiberationSans for base font Symbol\n",
      "Mar 24, 2021 9:37:00 PM org.apache.pdfbox.pdmodel.font.PDType1Font <init>\n",
      "WARNING: Using fallback font LiberationSans for base font ZapfDingbats\n",
      "\n"
     ]
    },
    {
     "name": "stdout",
     "output_type": "stream",
     "text": [
      "No tabel found in: ./data/pdfs/20201103_1216_0.pdf\n",
      "extracting ./data/pdfs/20201110_1158.pdf\n"
     ]
    },
    {
     "name": "stderr",
     "output_type": "stream",
     "text": [
      "Got stderr: Mar 24, 2021 9:37:16 PM org.apache.pdfbox.pdmodel.font.PDType1Font <init>\n",
      "WARNING: Using fallback font LiberationSans for base font Symbol\n",
      "Mar 24, 2021 9:37:16 PM org.apache.pdfbox.pdmodel.font.PDType1Font <init>\n",
      "WARNING: Using fallback font LiberationSans for base font ZapfDingbats\n",
      "\n"
     ]
    },
    {
     "name": "stdout",
     "output_type": "stream",
     "text": [
      "No tabel found in: ./data/pdfs/20201110_1158.pdf\n",
      "extracting ./data/pdfs/20201117_1237.pdf\n"
     ]
    },
    {
     "name": "stderr",
     "output_type": "stream",
     "text": [
      "Got stderr: Mar 24, 2021 9:37:32 PM org.apache.pdfbox.pdmodel.font.PDType1Font <init>\n",
      "WARNING: Using fallback font LiberationSans for base font Symbol\n",
      "Mar 24, 2021 9:37:32 PM org.apache.pdfbox.pdmodel.font.PDType1Font <init>\n",
      "WARNING: Using fallback font LiberationSans for base font ZapfDingbats\n",
      "\n"
     ]
    },
    {
     "name": "stdout",
     "output_type": "stream",
     "text": [
      "No tabel found in: ./data/pdfs/20201117_1237.pdf\n",
      "extracting ./data/pdfs/20201124_1131.pdf\n"
     ]
    },
    {
     "name": "stderr",
     "output_type": "stream",
     "text": [
      "Got stderr: Mar 24, 2021 9:37:47 PM org.apache.pdfbox.pdmodel.font.PDType1Font <init>\n",
      "WARNING: Using fallback font LiberationSans for base font Symbol\n",
      "Mar 24, 2021 9:37:47 PM org.apache.pdfbox.pdmodel.font.PDType1Font <init>\n",
      "WARNING: Using fallback font LiberationSans for base font ZapfDingbats\n",
      "\n"
     ]
    },
    {
     "name": "stdout",
     "output_type": "stream",
     "text": [
      "No tabel found in: ./data/pdfs/20201124_1131.pdf\n",
      "extracting ./data/pdfs/20201201_1159.pdf\n"
     ]
    },
    {
     "name": "stderr",
     "output_type": "stream",
     "text": [
      "Got stderr: Mar 24, 2021 9:38:03 PM org.apache.pdfbox.pdmodel.font.PDType1Font <init>\n",
      "WARNING: Using fallback font LiberationSans for base font Symbol\n",
      "Mar 24, 2021 9:38:03 PM org.apache.pdfbox.pdmodel.font.PDType1Font <init>\n",
      "WARNING: Using fallback font LiberationSans for base font ZapfDingbats\n",
      "\n"
     ]
    },
    {
     "name": "stdout",
     "output_type": "stream",
     "text": [
      "No tabel found in: ./data/pdfs/20201201_1159.pdf\n",
      "extracting ./data/pdfs/20201208_1159.pdf\n"
     ]
    },
    {
     "name": "stderr",
     "output_type": "stream",
     "text": [
      "Got stderr: Mar 24, 2021 9:38:16 PM org.apache.pdfbox.pdmodel.font.PDType1Font <init>\n",
      "WARNING: Using fallback font LiberationSans for base font Symbol\n",
      "Mar 24, 2021 9:38:16 PM org.apache.pdfbox.pdmodel.font.PDType1Font <init>\n",
      "WARNING: Using fallback font LiberationSans for base font ZapfDingbats\n",
      "\n"
     ]
    },
    {
     "name": "stdout",
     "output_type": "stream",
     "text": [
      "No tabel found in: ./data/pdfs/20201208_1159.pdf\n",
      "extracting ./data/pdfs/20201215_1259.pdf\n"
     ]
    },
    {
     "name": "stderr",
     "output_type": "stream",
     "text": [
      "Got stderr: Mar 24, 2021 9:38:30 PM org.apache.pdfbox.pdmodel.font.PDType1Font <init>\n",
      "WARNING: Using fallback font LiberationSans for base font Symbol\n",
      "Mar 24, 2021 9:38:30 PM org.apache.pdfbox.pdmodel.font.PDType1Font <init>\n",
      "WARNING: Using fallback font LiberationSans for base font ZapfDingbats\n",
      "\n"
     ]
    },
    {
     "name": "stdout",
     "output_type": "stream",
     "text": [
      "No tabel found in: ./data/pdfs/20201215_1259.pdf\n",
      "DONE\n"
     ]
    }
   ],
   "source": [
    "# download all pdfs\n",
    "no_tabel_found = []\n",
    "for row in pdfs.itertuples():\n",
    "    pdf = rivm_pdf_data_loc+row.filename\n",
    "    csv = pdf[:-3]+'csv'\n",
    "    try:\n",
    "        os.stat(csv)\n",
    "        print('skiping '+csv+' exists')\n",
    "    except:\n",
    "        #print(pdf)\n",
    "        try:\n",
    "            os.stat(path)\n",
    "        except:\n",
    "            print('downloading '+row.filename)\n",
    "            r = requests.get(row.url, stream=True)\n",
    "            with open(pdf, 'wb') as f:\n",
    "                f.write(r.content)\n",
    "        finally:\n",
    "            extract_tabel(pdf, csv, row.date)\n",
    "print(\"DONE\")"
   ]
  },
  {
   "cell_type": "code",
   "execution_count": 19,
   "id": "geographic-vegetable",
   "metadata": {
    "collapsed": true,
    "jupyter": {
     "outputs_hidden": true,
     "source_hidden": true
    },
    "tags": []
   },
   "outputs": [
    {
     "name": "stdout",
     "output_type": "stream",
     "text": [
      "['./data/pdfs/20200714_1040.pdf', './data/pdfs/20200714_1040.pdf']\n",
      "./data/pdfs/20200714_1040.pdf\n",
      "extracting ./data/pdfs/20200714_1040.pdf\n"
     ]
    },
    {
     "name": "stderr",
     "output_type": "stream",
     "text": [
      "Got stderr: Mar 24, 2021 9:04:56 PM org.apache.pdfbox.pdmodel.font.PDType1Font <init>\n",
      "WARNING: Using fallback font LiberationSans for base font Symbol\n",
      "Mar 24, 2021 9:04:56 PM org.apache.pdfbox.pdmodel.font.PDType1Font <init>\n",
      "WARNING: Using fallback font LiberationSans for base font ZapfDingbats\n",
      "\n"
     ]
    },
    {
     "name": "stdout",
     "output_type": "stream",
     "text": [
      "No tabel found in: ./data/pdfs/20200714_1040.pdf\n"
     ]
    }
   ],
   "source": [
    "# TEST\n",
    "print(no_tabel_found)\n",
    "pdf = no_tabel_found[0]\n",
    "\n",
    "csv = pdf[:-3]+'csv'\n",
    "try:\n",
    "    os.stat(csv)\n",
    "    print('Skipping csv exists')\n",
    "except:\n",
    "    print(pdf)\n",
    "    try:\n",
    "        os.stat(pdf)\n",
    "    except:\n",
    "        print('downloading')\n",
    "        #r = requests.get(row.url, stream=True)\n",
    "        #with open(path, 'wb') as f:\n",
    "        #   f.write(r.content)\n",
    "    finally:\n",
    "        extract_tabel(pdf, csv, 'xxx')"
   ]
  },
  {
   "cell_type": "code",
   "execution_count": null,
   "id": "gross-oasis",
   "metadata": {},
   "outputs": [],
   "source": [
    "# clean up extracted tabels\n",
    "## values in string as list. Find out what value to use.\n",
    "##\n",
    "data = pd.DataFrame()\n",
    "n = 0\n",
    "for filename in os.listdir(rivm_pdf_data_loc):\n",
    "    if '.csv' in filename:\n",
    "        path = rivm_pdf_data_loc+filename\n",
    "        df = pd.read_csv(path)\n",
    "        \n",
    "        print(df)\n",
    "        print('---')\n",
    "        \n",
    "        if n == 0: \n",
    "            data = pd.concat([data,df])\n",
    "            n+=1\n",
    "        else:\n",
    "            data = data.merge(df, on='Leeftijdsgroep', how='outer')\n",
    "            break\n",
    "print('===')\n",
    "print(data)"
   ]
  },
  {
   "cell_type": "code",
   "execution_count": null,
   "id": "latin-factor",
   "metadata": {},
   "outputs": [],
   "source": [
    "# create data df\n",
    "n = 0\n",
    "for...\n",
    "    print('tabel to data')\n",
    "    if n == 0:\n",
    "        data = tab\n",
    "        data = data.rename(columns={data.columns[0]:'Leeftijdsgroep',data.columns[1]:row.date})\n",
    "        #print(data.columns)\n",
    "    else:\n",
    "        tab = tab.rename(columns={tab.columns[0]:'Leeftijdsgroep',tab.columns[1]:row.date})\n",
    "        data = data.merge(tab, on=data.columns[0], how='outer')\n",
    "        #print(data.columns)\n",
    "n+=1\n",
    "data.to_csv(csv, index=False)\n",
    "print('done')"
   ]
  },
  {
   "cell_type": "code",
   "execution_count": null,
   "id": "typical-venue",
   "metadata": {},
   "outputs": [],
   "source": [
    "data"
   ]
  },
  {
   "cell_type": "markdown",
   "id": "sporting-terminology",
   "metadata": {},
   "source": [
    "## Chapter 7 or 9"
   ]
  },
  {
   "cell_type": "markdown",
   "id": "selected-webmaster",
   "metadata": {},
   "source": [
    "## What can be used from the reports\n",
    "\n",
    "### Chapter 4 agegroups\n",
    "Reported, Hospitalised, Deceased agegroups\n",
    "\n",
    "https://data.rivm.nl/covid-19/COVID-19_casus_landelijk.json"
   ]
  },
  {
   "cell_type": "code",
   "execution_count": null,
   "id": "physical-armstrong",
   "metadata": {},
   "outputs": [],
   "source": []
  }
 ],
 "metadata": {
  "kernelspec": {
   "display_name": "covid",
   "language": "python",
   "name": "covid"
  },
  "language_info": {
   "codemirror_mode": {
    "name": "ipython",
    "version": 3
   },
   "file_extension": ".py",
   "mimetype": "text/x-python",
   "name": "python",
   "nbconvert_exporter": "python",
   "pygments_lexer": "ipython3",
   "version": "3.8.8"
  }
 },
 "nbformat": 4,
 "nbformat_minor": 5
}
