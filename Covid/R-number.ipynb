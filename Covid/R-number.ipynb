{
 "cells": [
  {
   "cell_type": "markdown",
   "id": "funny-kidney",
   "metadata": {},
   "source": [
    "# EpiEstim\n",
    "Used by RIVM to model covid in Netherlands (https://www.rivm.nl/coronavirus-covid-19/hoe-berekeningen-bijdragen-aan-bestrijding-van-virus/rekenmodellen)\n",
    "\n",
    "Pythonversion of the model is [epyestim](https://pypi.org/project/epyestim/)\n",
    "\n",
    "[Tutorial notebook](https://github.com/lo-hfk/epyestim/blob/ca2ca928b744f324dade248c24a40872b69a5222/notebooks/covid_tutorial.ipynb)"
   ]
  },
  {
   "cell_type": "code",
   "execution_count": 1,
   "id": "short-suite",
   "metadata": {},
   "outputs": [],
   "source": [
    "import epyestim"
   ]
  },
  {
   "cell_type": "code",
   "execution_count": null,
   "id": "minute-moment",
   "metadata": {},
   "outputs": [],
   "source": []
  }
 ],
 "metadata": {
  "kernelspec": {
   "display_name": "Covid",
   "language": "python",
   "name": "covid"
  },
  "language_info": {
   "codemirror_mode": {
    "name": "ipython",
    "version": 3
   },
   "file_extension": ".py",
   "mimetype": "text/x-python",
   "name": "python",
   "nbconvert_exporter": "python",
   "pygments_lexer": "ipython3",
   "version": "3.9.2"
  }
 },
 "nbformat": 4,
 "nbformat_minor": 5
}
