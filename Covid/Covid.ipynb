{
 "cells": [
  {
   "cell_type": "markdown",
   "metadata": {
    "cell_id": "00000-c087e9d7-6f70-4473-bd1a-e8288fdfad33",
    "output_cleared": false
   },
   "source": [
    "# Covid-19 data analysis for the Netherland\n",
    "## uses covid data to learn datascience in pyhton with Jupyterlab\n",
    "\n",
    "*Goals*\n",
    "1. learning datawcience\n",
    "2. learning python\n",
    "3. learning Jupyterlab\n",
    "4. maybe get some insight in covid"
   ]
  },
  {
   "cell_type": "code",
   "execution_count": 1,
   "metadata": {
    "cell_id": "00001-7613d7a8-73ef-42cd-b9b4-832ce58f5791",
    "execution_millis": 1,
    "execution_start": 1604921726539,
    "output_cleared": false,
    "source_hash": "3b84bebe"
   },
   "outputs": [],
   "source": [
    "## install modules for Google Colab\n",
    "# uncomment line below and run cell\n",
    "#!pip install tabula-py cbsodata"
   ]
  },
  {
   "cell_type": "code",
   "execution_count": 1,
   "metadata": {
    "cell_id": "00002-31ca9e06-efb1-41d2-9676-0c8438d8dfe5",
    "execution_millis": 2,
    "execution_start": 1604921727639,
    "output_cleared": false,
    "source_hash": "a1a7133b"
   },
   "outputs": [],
   "source": [
    "#from IPython.display import Markdown as md\n",
    "import os\n",
    "import pandas as pd\n",
    "import cbsodata as cbs\n",
    "from datetime import datetime\n",
    "import matplotlib.pyplot as plt\n",
    "%matplotlib widget\n",
    "import tabula\n",
    "\n",
    "#import numpy as np\n",
    "\n",
    "## Revert to charts in pandas, for simplicity. \n",
    "#To DO: add Bokeh - https://docs.bokeh.org/\n",
    "#from bokeh.io import output_notebook\n",
    "#from bokeh.plotting import figure, show\n",
    "#from bokeh.palettes import viridis\n",
    "#import pandas_bokeh\n",
    "#output_notebook()"
   ]
  },
  {
   "cell_type": "markdown",
   "metadata": {
    "cell_id": "00005-eb25f615-6736-4703-a256-c39ae4156f1d",
    "output_cleared": false
   },
   "source": [
    "## Collecting data\n",
    "\n",
    "### CBS\n",
    "https://opendata.cbs.nl/statline/portal.html"
   ]
  },
  {
   "cell_type": "code",
   "execution_count": 7,
   "metadata": {
    "cell_id": "00006-7bca383e-5270-414d-aae1-6beb8c224746",
    "execution_millis": 87411,
    "execution_start": 1604934404995,
    "output_cleared": false,
    "source_hash": "44135caa"
   },
   "outputs": [
    {
     "name": "stdout",
     "output_type": "stream",
     "text": [
      "Importing: Bevolkingsontwikkeling; maand en jaar 2002-now (Population statistics, month and year)\n",
      "except\n",
      "DONE\n"
     ]
    },
    {
     "data": {
      "text/html": [
       "<div>\n",
       "<style scoped>\n",
       "    .dataframe tbody tr th:only-of-type {\n",
       "        vertical-align: middle;\n",
       "    }\n",
       "\n",
       "    .dataframe tbody tr th {\n",
       "        vertical-align: top;\n",
       "    }\n",
       "\n",
       "    .dataframe thead th {\n",
       "        text-align: right;\n",
       "    }\n",
       "</style>\n",
       "<table border=\"1\" class=\"dataframe\">\n",
       "  <thead>\n",
       "    <tr style=\"text-align: right;\">\n",
       "      <th></th>\n",
       "      <th>ID</th>\n",
       "      <th>RegioS</th>\n",
       "      <th>Perioden</th>\n",
       "      <th>BevolkingAanHetBeginVanDePeriode_1</th>\n",
       "      <th>LevendGeborenKinderen_2</th>\n",
       "      <th>Overledenen_3</th>\n",
       "      <th>TotaleVestiging_4</th>\n",
       "      <th>VestigingVanuitEenAndereGemeente_5</th>\n",
       "      <th>Immigratie_6</th>\n",
       "      <th>TotaalVertrekInclAdmCorrecties_7</th>\n",
       "      <th>VertrekNaarAndereGemeente_8</th>\n",
       "      <th>EmigratieInclusiefAdmCorrecties_9</th>\n",
       "      <th>OverigeCorrecties_10</th>\n",
       "      <th>Bevolkingsgroei_11</th>\n",
       "      <th>BevolkingsgroeiRelatief_12</th>\n",
       "      <th>BevolkingsgroeiSinds1Januari_13</th>\n",
       "      <th>BevolkingsgroeiSinds1JanuariRela_14</th>\n",
       "      <th>BevolkingAanHetEindeVanDePeriode_15</th>\n",
       "    </tr>\n",
       "  </thead>\n",
       "  <tbody>\n",
       "    <tr>\n",
       "      <th>0</th>\n",
       "      <td>0</td>\n",
       "      <td>Nederland</td>\n",
       "      <td>2002 januari</td>\n",
       "      <td>16105285.0</td>\n",
       "      <td>17019.0</td>\n",
       "      <td>13469.0</td>\n",
       "      <td>66547.0</td>\n",
       "      <td>55181.0</td>\n",
       "      <td>11366.0</td>\n",
       "      <td>62482.0</td>\n",
       "      <td>55181.0</td>\n",
       "      <td>7301.0</td>\n",
       "      <td>NaN</td>\n",
       "      <td>7615.0</td>\n",
       "      <td>0.05</td>\n",
       "      <td>7615.0</td>\n",
       "      <td>0.05</td>\n",
       "      <td>16112900.0</td>\n",
       "    </tr>\n",
       "    <tr>\n",
       "      <th>1</th>\n",
       "      <td>1</td>\n",
       "      <td>Nederland</td>\n",
       "      <td>2002 februari</td>\n",
       "      <td>16112900.0</td>\n",
       "      <td>15448.0</td>\n",
       "      <td>11735.0</td>\n",
       "      <td>55999.0</td>\n",
       "      <td>47049.0</td>\n",
       "      <td>8950.0</td>\n",
       "      <td>53659.0</td>\n",
       "      <td>47049.0</td>\n",
       "      <td>6610.0</td>\n",
       "      <td>NaN</td>\n",
       "      <td>6053.0</td>\n",
       "      <td>0.04</td>\n",
       "      <td>13668.0</td>\n",
       "      <td>0.08</td>\n",
       "      <td>16118953.0</td>\n",
       "    </tr>\n",
       "    <tr>\n",
       "      <th>2</th>\n",
       "      <td>2</td>\n",
       "      <td>Nederland</td>\n",
       "      <td>2002 maart</td>\n",
       "      <td>16118953.0</td>\n",
       "      <td>16792.0</td>\n",
       "      <td>13281.0</td>\n",
       "      <td>58798.0</td>\n",
       "      <td>49290.0</td>\n",
       "      <td>9508.0</td>\n",
       "      <td>57137.0</td>\n",
       "      <td>49290.0</td>\n",
       "      <td>7847.0</td>\n",
       "      <td>NaN</td>\n",
       "      <td>5172.0</td>\n",
       "      <td>0.03</td>\n",
       "      <td>18840.0</td>\n",
       "      <td>0.12</td>\n",
       "      <td>16124125.0</td>\n",
       "    </tr>\n",
       "    <tr>\n",
       "      <th>3</th>\n",
       "      <td>3</td>\n",
       "      <td>Nederland</td>\n",
       "      <td>2002 april</td>\n",
       "      <td>16124125.0</td>\n",
       "      <td>15995.0</td>\n",
       "      <td>11968.0</td>\n",
       "      <td>55730.0</td>\n",
       "      <td>46464.0</td>\n",
       "      <td>9266.0</td>\n",
       "      <td>53636.0</td>\n",
       "      <td>46464.0</td>\n",
       "      <td>7172.0</td>\n",
       "      <td>NaN</td>\n",
       "      <td>6121.0</td>\n",
       "      <td>0.04</td>\n",
       "      <td>24961.0</td>\n",
       "      <td>0.15</td>\n",
       "      <td>16130246.0</td>\n",
       "    </tr>\n",
       "    <tr>\n",
       "      <th>4</th>\n",
       "      <td>4</td>\n",
       "      <td>Nederland</td>\n",
       "      <td>2002 mei</td>\n",
       "      <td>16130246.0</td>\n",
       "      <td>16800.0</td>\n",
       "      <td>11623.0</td>\n",
       "      <td>58679.0</td>\n",
       "      <td>49782.0</td>\n",
       "      <td>8897.0</td>\n",
       "      <td>57295.0</td>\n",
       "      <td>49782.0</td>\n",
       "      <td>7513.0</td>\n",
       "      <td>NaN</td>\n",
       "      <td>6561.0</td>\n",
       "      <td>0.04</td>\n",
       "      <td>31522.0</td>\n",
       "      <td>0.20</td>\n",
       "      <td>16136807.0</td>\n",
       "    </tr>\n",
       "    <tr>\n",
       "      <th>...</th>\n",
       "      <td>...</td>\n",
       "      <td>...</td>\n",
       "      <td>...</td>\n",
       "      <td>...</td>\n",
       "      <td>...</td>\n",
       "      <td>...</td>\n",
       "      <td>...</td>\n",
       "      <td>...</td>\n",
       "      <td>...</td>\n",
       "      <td>...</td>\n",
       "      <td>...</td>\n",
       "      <td>...</td>\n",
       "      <td>...</td>\n",
       "      <td>...</td>\n",
       "      <td>...</td>\n",
       "      <td>...</td>\n",
       "      <td>...</td>\n",
       "      <td>...</td>\n",
       "    </tr>\n",
       "    <tr>\n",
       "      <th>147739</th>\n",
       "      <td>147739</td>\n",
       "      <td>Zwolle</td>\n",
       "      <td>2020 mei</td>\n",
       "      <td>129038.0</td>\n",
       "      <td>139.0</td>\n",
       "      <td>59.0</td>\n",
       "      <td>487.0</td>\n",
       "      <td>463.0</td>\n",
       "      <td>24.0</td>\n",
       "      <td>453.0</td>\n",
       "      <td>408.0</td>\n",
       "      <td>45.0</td>\n",
       "      <td>NaN</td>\n",
       "      <td>114.0</td>\n",
       "      <td>0.09</td>\n",
       "      <td>312.0</td>\n",
       "      <td>0.24</td>\n",
       "      <td>129152.0</td>\n",
       "    </tr>\n",
       "    <tr>\n",
       "      <th>147740</th>\n",
       "      <td>147740</td>\n",
       "      <td>Zwolle</td>\n",
       "      <td>2020 juni</td>\n",
       "      <td>129152.0</td>\n",
       "      <td>97.0</td>\n",
       "      <td>72.0</td>\n",
       "      <td>457.0</td>\n",
       "      <td>428.0</td>\n",
       "      <td>29.0</td>\n",
       "      <td>492.0</td>\n",
       "      <td>488.0</td>\n",
       "      <td>4.0</td>\n",
       "      <td>NaN</td>\n",
       "      <td>-10.0</td>\n",
       "      <td>-0.01</td>\n",
       "      <td>302.0</td>\n",
       "      <td>0.23</td>\n",
       "      <td>129142.0</td>\n",
       "    </tr>\n",
       "    <tr>\n",
       "      <th>147741</th>\n",
       "      <td>147741</td>\n",
       "      <td>Zwolle</td>\n",
       "      <td>2020 juli</td>\n",
       "      <td>129142.0</td>\n",
       "      <td>131.0</td>\n",
       "      <td>61.0</td>\n",
       "      <td>639.0</td>\n",
       "      <td>586.0</td>\n",
       "      <td>53.0</td>\n",
       "      <td>638.0</td>\n",
       "      <td>536.0</td>\n",
       "      <td>102.0</td>\n",
       "      <td>NaN</td>\n",
       "      <td>71.0</td>\n",
       "      <td>0.05</td>\n",
       "      <td>373.0</td>\n",
       "      <td>0.29</td>\n",
       "      <td>129213.0</td>\n",
       "    </tr>\n",
       "    <tr>\n",
       "      <th>147742</th>\n",
       "      <td>147742</td>\n",
       "      <td>Zwolle</td>\n",
       "      <td>2020 augustus</td>\n",
       "      <td>129213.0</td>\n",
       "      <td>120.0</td>\n",
       "      <td>74.0</td>\n",
       "      <td>654.0</td>\n",
       "      <td>586.0</td>\n",
       "      <td>68.0</td>\n",
       "      <td>561.0</td>\n",
       "      <td>516.0</td>\n",
       "      <td>45.0</td>\n",
       "      <td>NaN</td>\n",
       "      <td>139.0</td>\n",
       "      <td>0.11</td>\n",
       "      <td>512.0</td>\n",
       "      <td>0.40</td>\n",
       "      <td>129352.0</td>\n",
       "    </tr>\n",
       "    <tr>\n",
       "      <th>147743</th>\n",
       "      <td>147743</td>\n",
       "      <td>Zwolle</td>\n",
       "      <td>2020 september</td>\n",
       "      <td>129352.0</td>\n",
       "      <td>130.0</td>\n",
       "      <td>81.0</td>\n",
       "      <td>619.0</td>\n",
       "      <td>528.0</td>\n",
       "      <td>91.0</td>\n",
       "      <td>555.0</td>\n",
       "      <td>493.0</td>\n",
       "      <td>62.0</td>\n",
       "      <td>NaN</td>\n",
       "      <td>113.0</td>\n",
       "      <td>0.09</td>\n",
       "      <td>625.0</td>\n",
       "      <td>0.49</td>\n",
       "      <td>129465.0</td>\n",
       "    </tr>\n",
       "  </tbody>\n",
       "</table>\n",
       "<p>147744 rows × 18 columns</p>\n",
       "</div>"
      ],
      "text/plain": [
       "            ID     RegioS        Perioden  BevolkingAanHetBeginVanDePeriode_1  \\\n",
       "0            0  Nederland    2002 januari                          16105285.0   \n",
       "1            1  Nederland   2002 februari                          16112900.0   \n",
       "2            2  Nederland      2002 maart                          16118953.0   \n",
       "3            3  Nederland      2002 april                          16124125.0   \n",
       "4            4  Nederland        2002 mei                          16130246.0   \n",
       "...        ...        ...             ...                                 ...   \n",
       "147739  147739     Zwolle        2020 mei                            129038.0   \n",
       "147740  147740     Zwolle       2020 juni                            129152.0   \n",
       "147741  147741     Zwolle       2020 juli                            129142.0   \n",
       "147742  147742     Zwolle   2020 augustus                            129213.0   \n",
       "147743  147743     Zwolle  2020 september                            129352.0   \n",
       "\n",
       "        LevendGeborenKinderen_2  Overledenen_3  TotaleVestiging_4  \\\n",
       "0                       17019.0        13469.0            66547.0   \n",
       "1                       15448.0        11735.0            55999.0   \n",
       "2                       16792.0        13281.0            58798.0   \n",
       "3                       15995.0        11968.0            55730.0   \n",
       "4                       16800.0        11623.0            58679.0   \n",
       "...                         ...            ...                ...   \n",
       "147739                    139.0           59.0              487.0   \n",
       "147740                     97.0           72.0              457.0   \n",
       "147741                    131.0           61.0              639.0   \n",
       "147742                    120.0           74.0              654.0   \n",
       "147743                    130.0           81.0              619.0   \n",
       "\n",
       "        VestigingVanuitEenAndereGemeente_5  Immigratie_6  \\\n",
       "0                                  55181.0       11366.0   \n",
       "1                                  47049.0        8950.0   \n",
       "2                                  49290.0        9508.0   \n",
       "3                                  46464.0        9266.0   \n",
       "4                                  49782.0        8897.0   \n",
       "...                                    ...           ...   \n",
       "147739                               463.0          24.0   \n",
       "147740                               428.0          29.0   \n",
       "147741                               586.0          53.0   \n",
       "147742                               586.0          68.0   \n",
       "147743                               528.0          91.0   \n",
       "\n",
       "        TotaalVertrekInclAdmCorrecties_7  VertrekNaarAndereGemeente_8  \\\n",
       "0                                62482.0                      55181.0   \n",
       "1                                53659.0                      47049.0   \n",
       "2                                57137.0                      49290.0   \n",
       "3                                53636.0                      46464.0   \n",
       "4                                57295.0                      49782.0   \n",
       "...                                  ...                          ...   \n",
       "147739                             453.0                        408.0   \n",
       "147740                             492.0                        488.0   \n",
       "147741                             638.0                        536.0   \n",
       "147742                             561.0                        516.0   \n",
       "147743                             555.0                        493.0   \n",
       "\n",
       "        EmigratieInclusiefAdmCorrecties_9  OverigeCorrecties_10  \\\n",
       "0                                  7301.0                   NaN   \n",
       "1                                  6610.0                   NaN   \n",
       "2                                  7847.0                   NaN   \n",
       "3                                  7172.0                   NaN   \n",
       "4                                  7513.0                   NaN   \n",
       "...                                   ...                   ...   \n",
       "147739                               45.0                   NaN   \n",
       "147740                                4.0                   NaN   \n",
       "147741                              102.0                   NaN   \n",
       "147742                               45.0                   NaN   \n",
       "147743                               62.0                   NaN   \n",
       "\n",
       "        Bevolkingsgroei_11  BevolkingsgroeiRelatief_12  \\\n",
       "0                   7615.0                        0.05   \n",
       "1                   6053.0                        0.04   \n",
       "2                   5172.0                        0.03   \n",
       "3                   6121.0                        0.04   \n",
       "4                   6561.0                        0.04   \n",
       "...                    ...                         ...   \n",
       "147739               114.0                        0.09   \n",
       "147740               -10.0                       -0.01   \n",
       "147741                71.0                        0.05   \n",
       "147742               139.0                        0.11   \n",
       "147743               113.0                        0.09   \n",
       "\n",
       "        BevolkingsgroeiSinds1Januari_13  BevolkingsgroeiSinds1JanuariRela_14  \\\n",
       "0                                7615.0                                 0.05   \n",
       "1                               13668.0                                 0.08   \n",
       "2                               18840.0                                 0.12   \n",
       "3                               24961.0                                 0.15   \n",
       "4                               31522.0                                 0.20   \n",
       "...                                 ...                                  ...   \n",
       "147739                            312.0                                 0.24   \n",
       "147740                            302.0                                 0.23   \n",
       "147741                            373.0                                 0.29   \n",
       "147742                            512.0                                 0.40   \n",
       "147743                            625.0                                 0.49   \n",
       "\n",
       "        BevolkingAanHetEindeVanDePeriode_15  \n",
       "0                                16112900.0  \n",
       "1                                16118953.0  \n",
       "2                                16124125.0  \n",
       "3                                16130246.0  \n",
       "4                                16136807.0  \n",
       "...                                     ...  \n",
       "147739                             129152.0  \n",
       "147740                             129142.0  \n",
       "147741                             129213.0  \n",
       "147742                             129352.0  \n",
       "147743                             129465.0  \n",
       "\n",
       "[147744 rows x 18 columns]"
      ]
     },
     "execution_count": 7,
     "metadata": {},
     "output_type": "execute_result"
    }
   ],
   "source": [
    "print('Importing: Bevolkingsontwikkeling; maand en jaar 2002-now (Population statistics, month and year)')\n",
    "cbs_data_loc = './data/cbs_population.pkl'\n",
    "try:\n",
    "    os.stat(cbs_data_loc)\n",
    "    print('try')\n",
    "except:\n",
    "    pd.DataFrame(cbs.get_data('37230ned')).to_pickle(cbs_data_loc)\n",
    "    print('except')\n",
    "finally:\n",
    "    population = pd.read_pickle(cbs_data_loc)\n",
    "print('DONE')\n",
    "population"
   ]
  },
  {
   "cell_type": "code",
   "execution_count": 4,
   "metadata": {
    "cell_id": "00007-99b80138-53f3-4842-a5fe-42eca07f0a11",
    "execution_millis": 2,
    "execution_start": 1604934492408,
    "output_cleared": false,
    "source_hash": "f33bd192"
   },
   "outputs": [
    {
     "name": "stdout",
     "output_type": "stream",
     "text": [
      "Preparing Dataframe for analyses\n",
      "Dropping unnecessary columns\n",
      "DONE\n"
     ]
    }
   ],
   "source": [
    "print('Preparing Dataframe for analyses')\n",
    "print('Dropping unnecessary columns')\n",
    "population = population.drop(columns=['ID', 'BevolkingAanHetBeginVanDePeriode_1','TotaleVestiging_4',\n",
    "       'VestigingVanuitEenAndereGemeente_5', 'Immigratie_6',\n",
    "       'TotaalVertrekInclAdmCorrecties_7', 'VertrekNaarAndereGemeente_8',\n",
    "       'EmigratieInclusiefAdmCorrecties_9', 'OverigeCorrecties_10',\n",
    "       'Bevolkingsgroei_11', 'BevolkingsgroeiRelatief_12',\n",
    "       'BevolkingsgroeiSinds1Januari_13',\n",
    "       'BevolkingsgroeiSinds1JanuariRela_14'])\n",
    "population = population.rename(columns={\"LevendGeborenKinderen_2\": \"Born\", \"Overledenen_3\": \"Deceased\", \"BevolkingAanHetEindeVanDePeriode_15\": \"Population\"})\n",
    "print('DONE')"
   ]
  },
  {
   "cell_type": "code",
   "execution_count": 5,
   "metadata": {
    "cell_id": "00008-eb9c018f-bd94-4d74-8a95-8d7b4f29a097",
    "execution_millis": 1,
    "execution_start": 1604927596819,
    "output_cleared": false,
    "source_hash": "8d10a70"
   },
   "outputs": [],
   "source": [
    "# defining function for calculating percentage\n",
    "def percentage(df,d,n):\n",
    "    df[d+'_perc'] = df[d]/df[n]*100"
   ]
  },
  {
   "cell_type": "code",
   "execution_count": 6,
   "metadata": {
    "cell_id": "00012-de433ea3-0162-4f4f-be0e-a598a0b1bf6d",
    "execution_millis": 3152,
    "execution_start": 1604934379492,
    "output_cleared": false,
    "source_hash": "f8654fa4",
    "tags": []
   },
   "outputs": [
    {
     "name": "stdout",
     "output_type": "stream",
     "text": [
      "Setting PeriodIndex\n",
      "DONE\n"
     ]
    }
   ],
   "source": [
    "print('Setting PeriodIndex')\n",
    "population['year'] = population.loc[:,'Perioden'].str.slice(stop=4)\n",
    "population['month'] = population.loc[:,'Perioden'].str.slice(start=5)\n",
    "population_y = population.loc[population['month'] == '',:]\n",
    "population_y = population_y.drop(columns='month')\n",
    "population_y = population_y.set_index(population_y['year'])\n",
    "population_y.index = pd.PeriodIndex(population_y.index,freq='Y')\n",
    "\n",
    "population = population.loc[population['month'] != '',:]\n",
    "population['month'] = population.loc[:,'month'].replace({\n",
    "    'januari': '01',\n",
    "    'februari': '02',\n",
    "    'maart': '03',\n",
    "    'april': '04',\n",
    "    'mei': '05',\n",
    "    'juni': '06',\n",
    "    'juli': '07',\n",
    "    'augustus': '08',\n",
    "    'september': '09',\n",
    "    'oktober': '10',\n",
    "    'november': '11',\n",
    "    'december': '12'})\n",
    "\n",
    "population = population.set_index(population['year'] + '-' + population['month'])\n",
    "population.index = pd.PeriodIndex(population.index, freq='M')\n",
    "print('DONE')"
   ]
  },
  {
   "cell_type": "code",
   "execution_count": 7,
   "metadata": {
    "cell_id": "00008-56c37449-05a4-49ed-be0d-4c47c8dfa774",
    "execution_millis": 4,
    "execution_start": 1604934385188,
    "output_cleared": false,
    "source_hash": "e0a9c6d4",
    "tags": []
   },
   "outputs": [
    {
     "name": "stdout",
     "output_type": "stream",
     "text": [
      "         RegioS Perioden      Born  Deceased  Population  year\n",
      "year                                                          \n",
      "2002  Nederland     2002  202083.0  142355.0  16192572.0  2002\n",
      "2003  Nederland     2003  200297.0  141936.0  16258032.0  2003\n",
      "2004  Nederland     2004  194007.0  136553.0  16305526.0  2004\n",
      "2005  Nederland     2005  187910.0  136402.0  16334210.0  2005\n",
      "2006  Nederland     2006  185057.0  135372.0  16357992.0  2006\n",
      "...         ...      ...       ...       ...         ...   ...\n",
      "2015     Zwolle     2015    1491.0     967.0    124896.0  2015\n",
      "2016     Zwolle     2016    1541.0     913.0    125548.0  2016\n",
      "2017     Zwolle     2017    1443.0     977.0    126116.0  2017\n",
      "2018     Zwolle     2018    1458.0     988.0    127497.0  2018\n",
      "2019     Zwolle     2019    1460.0     953.0    128840.0  2019\n",
      "\n",
      "[10944 rows x 6 columns]\n"
     ]
    }
   ],
   "source": [
    "print(population_y)"
   ]
  },
  {
   "cell_type": "code",
   "execution_count": 8,
   "metadata": {
    "cell_id": "00008-905c3269-8bbb-4218-b91f-2dba8a352734",
    "execution_millis": 0,
    "execution_start": 1604934330891,
    "output_cleared": false,
    "source_hash": "be3bdb74",
    "tags": []
   },
   "outputs": [
    {
     "name": "stdout",
     "output_type": "stream",
     "text": [
      "Calculating percentage deceased of population\n",
      "DONE\n"
     ]
    }
   ],
   "source": [
    "print('Calculating percentage deceased of population')\n",
    "percentage(population,'Deceased','Population')\n",
    "percentage(population_y,'Deceased', 'Population')\n",
    "print('DONE')"
   ]
  },
  {
   "cell_type": "code",
   "execution_count": 9,
   "metadata": {
    "cell_id": "00011-f64e6707-802b-4566-98e6-f3c3a4db4b33",
    "execution_millis": 19,
    "execution_start": 1604927407570,
    "output_cleared": false,
    "source_hash": "7c436d14",
    "tags": []
   },
   "outputs": [
    {
     "name": "stdout",
     "output_type": "stream",
     "text": [
      "Ceating dataframe for Nederland\n",
      "DONE\n"
     ]
    }
   ],
   "source": [
    "print('Ceating dataframe for Nederland')\n",
    "population_nl = population[population['RegioS'] == 'Nederland']\n",
    "population = population[population['RegioS'] != 'Nederland']\n",
    "population_y_nl = population_y[population_y['RegioS'] == 'Nederland']\n",
    "population_y = population_y[population_y['RegioS'] != 'Nederland']\n",
    "print('DONE')"
   ]
  },
  {
   "cell_type": "code",
   "execution_count": 1,
   "metadata": {
    "cell_id": "00013-ff08f7b3-30ff-4be4-b373-ccedaf56d2ea",
    "execution_millis": 1463,
    "execution_start": 1604927411641,
    "output_cleared": false,
    "source_hash": "196e35b6",
    "tags": []
   },
   "outputs": [
    {
     "ename": "NameError",
     "evalue": "name 'population_nl' is not defined",
     "output_type": "error",
     "traceback": [
      "\u001b[0;31m---------------------------------------------------------------------------\u001b[0m",
      "\u001b[0;31mNameError\u001b[0m                                 Traceback (most recent call last)",
      "\u001b[0;32m<ipython-input-1-b70a4641d82e>\u001b[0m in \u001b[0;36m<module>\u001b[0;34m\u001b[0m\n\u001b[0;32m----> 1\u001b[0;31m \u001b[0mpopulation_nl\u001b[0m\u001b[0;34m.\u001b[0m\u001b[0mplot\u001b[0m\u001b[0;34m(\u001b[0m\u001b[0msubplots\u001b[0m\u001b[0;34m=\u001b[0m\u001b[0;32mTrue\u001b[0m\u001b[0;34m,\u001b[0m\u001b[0mfigsize\u001b[0m\u001b[0;34m=\u001b[0m\u001b[0;34m(\u001b[0m\u001b[0;36m20\u001b[0m\u001b[0;34m,\u001b[0m\u001b[0;36m10\u001b[0m\u001b[0;34m)\u001b[0m\u001b[0;34m)\u001b[0m\u001b[0;34m\u001b[0m\u001b[0;34m\u001b[0m\u001b[0m\n\u001b[0m\u001b[1;32m      2\u001b[0m \u001b[0mpopulation_nl\u001b[0m\u001b[0;34m.\u001b[0m\u001b[0mpivot\u001b[0m\u001b[0;34m(\u001b[0m\u001b[0mindex\u001b[0m\u001b[0;34m=\u001b[0m\u001b[0;34m'month'\u001b[0m\u001b[0;34m,\u001b[0m\u001b[0mcolumns\u001b[0m\u001b[0;34m=\u001b[0m\u001b[0;34m'year'\u001b[0m\u001b[0;34m,\u001b[0m \u001b[0mvalues\u001b[0m\u001b[0;34m=\u001b[0m\u001b[0;34m'Deceased'\u001b[0m\u001b[0;34m)\u001b[0m\u001b[0;34m.\u001b[0m\u001b[0mplot\u001b[0m\u001b[0;34m(\u001b[0m\u001b[0mfigsize\u001b[0m\u001b[0;34m=\u001b[0m\u001b[0;34m(\u001b[0m\u001b[0;36m20\u001b[0m\u001b[0;34m,\u001b[0m\u001b[0;36m10\u001b[0m\u001b[0;34m)\u001b[0m\u001b[0;34m)\u001b[0m\u001b[0;34m\u001b[0m\u001b[0;34m\u001b[0m\u001b[0m\n\u001b[1;32m      3\u001b[0m \u001b[0mpopulation_nl\u001b[0m\u001b[0;34m.\u001b[0m\u001b[0mpivot\u001b[0m\u001b[0;34m(\u001b[0m\u001b[0mindex\u001b[0m\u001b[0;34m=\u001b[0m\u001b[0;34m'month'\u001b[0m\u001b[0;34m,\u001b[0m\u001b[0mcolumns\u001b[0m\u001b[0;34m=\u001b[0m\u001b[0;34m'year'\u001b[0m\u001b[0;34m,\u001b[0m\u001b[0mvalues\u001b[0m\u001b[0;34m=\u001b[0m\u001b[0;34m'Deceased_perc'\u001b[0m\u001b[0;34m)\u001b[0m\u001b[0;34m.\u001b[0m\u001b[0mplot\u001b[0m\u001b[0;34m(\u001b[0m\u001b[0mfigsize\u001b[0m\u001b[0;34m=\u001b[0m\u001b[0;34m(\u001b[0m\u001b[0;36m20\u001b[0m\u001b[0;34m,\u001b[0m\u001b[0;36m10\u001b[0m\u001b[0;34m)\u001b[0m\u001b[0;34m)\u001b[0m\u001b[0;34m\u001b[0m\u001b[0;34m\u001b[0m\u001b[0m\n",
      "\u001b[0;31mNameError\u001b[0m: name 'population_nl' is not defined"
     ]
    }
   ],
   "source": [
    "population_nl.plot(subplots=True,figsize=(20,10))\n",
    "population_nl.pivot(index='month',columns='year', values='Deceased').plot(figsize=(20,10))\n",
    "population_nl.pivot(index='month',columns='year',values='Deceased_perc').plot(figsize=(20,10))"
   ]
  },
  {
   "cell_type": "code",
   "execution_count": null,
   "metadata": {
    "cell_id": "00011-bd0d525d-5098-4022-b2e9-fd4eabf9c8cc",
    "execution_millis": 2,
    "execution_start": 1604927463015,
    "output_cleared": false,
    "source_hash": "cbc3ba2c",
    "tags": []
   },
   "outputs": [],
   "source": [
    "x=population_y_nl.index\n",
    "print(x)\n",
    "ax=population_y_nl.plot(kind='line',x=x, y='Deceased', color='DarkBlue',figsize=(20,10))\n",
    "ax2=population_y_nl.plot(kind='line',y='Deceased_perc', secondary_y=True,color='Red', ax=ax)\n",
    "ax.set_ylabel('Deceased')\n",
    "ax2.set_ylabel('% of population')\n",
    "plt.tight_layout()\n",
    "plt.show()"
   ]
  },
  {
   "cell_type": "code",
   "execution_count": null,
   "metadata": {
    "cell_id": "00010-b41d4c0d-2ab3-4559-818b-11b714e6c2d7",
    "execution_millis": 372,
    "execution_start": 1604924308711,
    "output_cleared": false,
    "source_hash": "432dfd14"
   },
   "outputs": [],
   "source": [
    "#print('Ceating dataframe for Landsdeel')\n",
    "print('SKIPPING Landsdeel')\n",
    "#population_ld = population[population['RegioS'].str.slice(start=-4) == '(LD)']\n",
    "population = population[population['RegioS'].str.slice(start=-4) != '(LD)']\n",
    "#print('DONE')\n",
    "\n",
    "print('Ceating dataframe for Provincies')\n",
    "#print('SKIPPING Province')\n",
    "population_pv = population[population['RegioS'].str.slice(start=-4) == '(PV)']\n",
    "population_pv['RegioS'] = population_pv['RegioS'].str.slice(stop=-5)\n",
    "population = population[population['RegioS'].str.slice(start=-4) != '(PV)']\n",
    "print('DONE')\n",
    "\n",
    "print('Ceating dataframe for COROP-gebied')\n",
    "print('SKIPPING COROP-gebied')\n",
    "#population_cr = population[population['RegioS'].str.slice(start=-4) == '(CR)']\n",
    "population = population[population['RegioS'].str.slice(start=-4) != '(CR)']\n",
    "#print('DONE')\n",
    "\n",
    "print('Ceating dataframe for Gemeenten')\n",
    "population_gm = population\n",
    "print('DONE')\n",
    "#del(population)"
   ]
  },
  {
   "cell_type": "code",
   "execution_count": null,
   "metadata": {
    "cell_id": "00011-c016c714-5146-4563-91ea-0805f64d2bae",
    "execution_millis": 2320,
    "output_cleared": false,
    "source_hash": "67b3926c"
   },
   "outputs": [],
   "source": [
    "population_pv.pivot(columns='RegioS',values='Deceased_perc').plot(figsize=(20,10))\n",
    "df = population_gm[population_gm.index == '2020']\n",
    "df = df.pivot(columns='RegioS',values='Deceased_perc')\n",
    "df\n",
    "#df.plot(figsize=(20,40))"
   ]
  },
  {
   "cell_type": "code",
   "execution_count": null,
   "metadata": {
    "cell_id": "00012-6e4c5232-d649-4761-ae9a-c448f1a9ced5",
    "execution_millis": 2,
    "output_cleared": false,
    "source_hash": "6a4b376f"
   },
   "outputs": [],
   "source": [
    "#TO DO\n",
    "# add CBS oversterfte (look for source)\n",
    "# causes of death: 7052_95, 82899NED, 7233, 71426ned/71936ned verkeer,84726NED, 37360ned age, 70895ned, 7022gza, 80202ned, 71044NED, 71045NED\n",
    "# age of death 37979ned, 83194NED, 70895ned\n",
    "# 83110NED"
   ]
  },
  {
   "cell_type": "markdown",
   "metadata": {
    "cell_id": "00013-be83571f-8731-49d8-860a-eb4d20a17ae2",
    "output_cleared": false
   },
   "source": [
    "### and then reproducting the coronadashboard\n",
    "The data I use is the sources used formhet Coronadashbord of the Dutch government. https://coronadashboard.rijksoverheid.nl/\n",
    "  \n",
    "This contains:\n",
    "*medical indicators*"
   ]
  },
  {
   "cell_type": "code",
   "execution_count": null,
   "metadata": {
    "cell_id": "00014-99b1c62f-49aa-4861-b208-e1d728c252f6",
    "execution_millis": 55561,
    "output_cleared": false,
    "source_hash": "7cba26b7"
   },
   "outputs": [],
   "source": [
    "print(\"- number of positive tests\")\n",
    "# number of positive tests (https://data.rivm.nl/geonetwork/srv/dut/catalog.search#/metadata/5f6bc429-1596-490e-8618-1ed8fd768427)\n",
    "positive_tests = pd.read_json('https://data.rivm.nl/covid-19/COVID-19_aantallen_gemeente_per_dag.json')\n",
    "positive_tests.plot()"
   ]
  },
  {
   "cell_type": "code",
   "execution_count": null,
   "metadata": {
    "cell_id": "00015-b259e4c8-8f7a-4572-ab6c-a5a05dd135d8",
    "execution_millis": 47,
    "output_cleared": false,
    "source_hash": "f98695e0"
   },
   "outputs": [],
   "source": [
    "print('Date of report for RIVM positive tests data = ' + str(positive_tests.loc[0,'Date_of_report']))\n",
    "positive_tests = positive_tests.drop(columns='Date_of_report')"
   ]
  },
  {
   "cell_type": "code",
   "execution_count": null,
   "metadata": {
    "cell_id": "00016-d0b7c68c-d5fd-4129-b638-022f9aebadd8",
    "execution_millis": 126,
    "output_cleared": false,
    "source_hash": "27ec402e"
   },
   "outputs": [],
   "source": [
    "positive_tests = positive_tests.set_index(pd.PeriodIndex(positive_tests['Date_of_publication'], freq='d'))\n",
    "positive_tests = positive_tests.drop(columns='Date_of_publication')\n",
    "positive_tests['P'] = positive_tests.index.strftime('%Y-%m')\n",
    "positive_tests = positive_tests.rename(index={'Date_of_publication':'date'})\n",
    "positive_tests"
   ]
  },
  {
   "cell_type": "code",
   "execution_count": null,
   "metadata": {
    "cell_id": "00017-9ec23c25-b600-443f-912e-3b57525d4082",
    "output_cleared": false,
    "source_hash": "5ee24e6a"
   },
   "outputs": [],
   "source": [
    "positive_tests_nl = positive_tests.sum(level='Date_of_publication')\n",
    "positive_tests_nl['P'] = positive_tests_nl.index.strftime('%Y-%m')\n",
    "positive_tests_nl"
   ]
  },
  {
   "cell_type": "code",
   "execution_count": null,
   "metadata": {
    "cell_id": "00018-65586d41-905e-44f3-a954-997880aabaad",
    "output_cleared": false,
    "source_hash": "7f29ea4d"
   },
   "outputs": [],
   "source": [
    "pop_latest = population_nl.loc[population_nl['P'].max(),'Population']\n",
    "pop_latest"
   ]
  },
  {
   "cell_type": "code",
   "execution_count": null,
   "metadata": {
    "cell_id": "00019-5a013cd9-dc1d-4d5f-8bfa-f9a1f2a9963e",
    "output_cleared": false,
    "source_hash": "4a8d250a"
   },
   "outputs": [],
   "source": [
    "print(type(population_nl.P[0]))\n",
    "print(type(positive_tests_nl.P[0]))\n",
    "\n",
    "pd.merge_asof(positive_tests_nl,population_nl,left_on='P',right_on='P')"
   ]
  },
  {
   "cell_type": "markdown",
   "metadata": {
    "cell_id": "00020-5e1c81a9-68cf-47fb-beea-edcb93019c47",
    "output_cleared": false
   },
   "source": [
    "# Gemiddeld aantal positief geteste mensen per 100.000 inwoners\n",
    "## Dit getal laat zien van hoeveel mensen gisteren per 100.000 inwoners gemeld is dat ze positief getest zijn en COVID-19 hebben.\n",
    "positive_tests_nl['p100k'] = positive_tests_nl['Total_reported'] / population_nl.loc[if(positive_tests_nl['P'] > population_nl['P'].max()):\n",
    "                                                                                     population_nl.loc[positive_tests_nl['P'],'Population']\n",
    "                                                                                else:\n",
    "                                                                                     positive_tests_nl['P']\n",
    "                                                                                ,'Population'] * 100000\n",
    "\n",
    "\n",
    "#pt_agg['mov_avg_p100k'] = np.average(pt_agg['']])\n",
    "#np.mean(pt[len(pt.columns)-1].Total_reported)"
   ]
  },
  {
   "cell_type": "code",
   "execution_count": null,
   "metadata": {
    "cell_id": "00021-9c3169c9-8418-4646-b996-21c7e87f0abe",
    "output_cleared": false,
    "source_hash": "ea46dbb9"
   },
   "outputs": [],
   "source": [
    "# Aantal positief geteste mensen\n",
    "## Dit getal laat zien van hoeveel mensen gisteren gemeld is dat ze positief getest zijn en COVID-19 hebben."
   ]
  },
  {
   "cell_type": "code",
   "execution_count": null,
   "metadata": {
    "cell_id": "00022-621f7fa1-42f9-41ce-95b3-366ea50a8d01",
    "output_cleared": false,
    "source_hash": "34d06dc3"
   },
   "outputs": [],
   "source": [
    "#Verdeling positief geteste mensen in Nederland\n",
    "## per gemeente\n",
    "\n",
    "## per veiligheidsregio\n",
    "\n"
   ]
  },
  {
   "cell_type": "markdown",
   "metadata": {
    "cell_id": "00023-4861208b-4d99-4fec-89d6-b6bc7e272cfc",
    "output_cleared": false
   },
   "source": [
    "# TESTING BOKEH WITH OTHER DATA\n",
    "pt_agg = pt.groupby(by=['Date_of_report'],as_index=False).sum()\n",
    "\n",
    "q = figure(plot_width=800, plot_height=400, title=\"My Line Plot\", x_axis_type=\"datetime\")\n",
    "\n",
    "q.multi_line(\n",
    "    xs=[\n",
    "        pt_agg['Date_of_report'],\n",
    "        pt_agg['Date_of_report'],\n",
    "        pt_agg['Date_of_report']\n",
    "    ],\n",
    "    ys=[\n",
    "        pt_agg['Deceased'], \n",
    "        pt_agg['Hospital_admission'],\n",
    "        pt_agg['Total_reported']\n",
    "    ],\n",
    "    color=viridis(len(pt_agg.columns)-1)\n",
    ")\n",
    "\n",
    "show(q)"
   ]
  },
  {
   "cell_type": "code",
   "execution_count": null,
   "metadata": {
    "cell_id": "00024-77fd1f02-778c-4142-a125-0965925c1ba5",
    "output_cleared": false,
    "source_hash": "c2467e2a"
   },
   "outputs": [],
   "source": [
    "print(\"- Percentage positive tested of all tests done\")\n",
    "# https://www.rivm.nl/archief-weekrapportages-covid-19-in-nederland\n",
    "pt_perc = tabula.read_pdf('https://www.rivm.nl/sites/default/files/2020-10/COVID-19_WebSite_rapport_wekelijks_20201013_1159_0.pdf', pages=29, guess=True, stream=True)\n",
    "print(pt_perc)\n",
    "\n",
    "## To DO:\n",
    "## 1) extract data from latest pdf\n",
    "## 2) scrape all pdfs for data to compare data thought time"
   ]
  },
  {
   "cell_type": "code",
   "execution_count": null,
   "metadata": {
    "cell_id": "00025-0aba9257-4693-4cca-bf52-eff3410f9e15",
    "output_cleared": false,
    "source_hash": "ec60ed16"
   },
   "outputs": [],
   "source": [
    "print(\"- number of infectious people\")\n",
    "# https://data.rivm.nl/geonetwork/srv/dut/catalog.search#/metadata/097155aa-75eb-4caa-8ed3-4c6edb80467e\n",
    "infected = pd.read_json('https://data.rivm.nl/covid-19/COVID-19_prevalentie.json')\n",
    "print(infected.head())"
   ]
  },
  {
   "cell_type": "code",
   "execution_count": null,
   "metadata": {
    "cell_id": "00026-0a0758a0-da20-49e1-8b89-f6f45b2c1a3a",
    "output_cleared": false,
    "source_hash": "157def74"
   },
   "outputs": [],
   "source": [
    "print(\"- R (reproductionnumber)\")\n",
    "# https://data.rivm.nl/geonetwork/srv/dut/catalog.search#/metadata/ed0699d1-c9d5-4436-8517-27eb993eab6e\n",
    "R = pd.read_json('https://data.rivm.nl/covid-19/COVID-19_reproductiegetal.json')\n",
    "print(R.head())"
   ]
  },
  {
   "cell_type": "code",
   "execution_count": null,
   "metadata": {
    "cell_id": "00027-3f00b86a-c760-44fc-b1a4-6b2ae6eb8674",
    "output_cleared": false,
    "source_hash": "78527f76"
   },
   "outputs": [],
   "source": [
    "print(\"- hospital admissions per day\")\n",
    "# NICE https://www.databronnencovid19.nl/Bron?naam=Nationale-Intensive-Care-Evaluatie\n",
    "hosp_nice = pd.read_json('https://stichting-nice.nl/covid-19/public/intake-count/')\n",
    "print(hosp_nice.head())\n",
    "# LCPS https://lcps.nu/datafeed/\n",
    "hosp_lcps = pd.read_csv('https://lcps.nu/wp-content/uploads/covid-19.csv')\n",
    "print(hosp_lcps.head())\n",
    "# Dashbaord changed source data https://www.nu.nl/coronavirus/6083846/ministerie-meldde-maandenlang-veel-te-weinig-opnames-coronapatienten.html\n",
    "# other sources: https://www.stichting-nice.nl/covid-19-op-de-zkh.jsp\n",
    "# 37852, 84522NED"
   ]
  },
  {
   "cell_type": "code",
   "execution_count": null,
   "metadata": {
    "cell_id": "00028-259d46c5-1c9e-4a63-9055-347767519cb4",
    "output_cleared": false,
    "source_hash": "5d0d35d4"
   },
   "outputs": [],
   "source": [
    "print(\"- icu admissions per day\")\n",
    "# url\n",
    "ic_NICE_new_intake = pd.read_json('https://stichting-nice.nl/covid-19/public/new-intake/').T\n",
    "ic_NICE_new_intake0 = pd.DataFrame()\n",
    "for row in ic_NICE_new_intake[0]:\n",
    "    ic_NICE_new_intake0 = ic_NICE_new_intake0.append(row, ignore_index=True)\n",
    "print(ic_NICE_new_intake0)\n",
    "ic_NICE_new_intake0['date'] = ic_NICE_new_intake['date']\n",
    "ic_NICE_new_intake1 = pd.DataFrame()\n",
    "for row in ic_NICE_new_intake[1]:\n",
    "    ic_NICE_new_intake1 = ic_NICE_new_intake1.append(row, ignore_index=True)\n",
    "ic_NICE_new_intake01 = pd.concat([ic_NICE_new_intake0,ic_NICE_new_intake1])\n",
    "print(ic_NICE_new_intake01.head())\n",
    "ic_NICE_new_intake_confirmed = pd.read_json('https://stichting-nice.nl/covid-19/public/new-intake/confirmed/')\n",
    "#print(ic_NICE_new_intake_confirmed.head())\n",
    "ic_NICE_intake_count = pd.read_json('https://stichting-nice.nl/covid-19/public/intake-count/')\n",
    "#print(ic_NICE_intake_count.head())\n",
    "print('IC data: 3 sources IMPORTED')\n",
    "## To DO: conpare ic1 and ic2\n",
    "#other sources: "
   ]
  },
  {
   "cell_type": "code",
   "execution_count": null,
   "metadata": {
    "cell_id": "00029-6c5ff2ac-487b-4f72-81a9-cba95baf860c",
    "execution_millis": 0,
    "output_cleared": false,
    "source_hash": "b494ea87"
   },
   "outputs": [],
   "source": [
    "ic_NICE_new_intake0"
   ]
  },
  {
   "cell_type": "code",
   "execution_count": null,
   "metadata": {
    "cell_id": "00035-cb740d8f-ff22-473c-b994-9381304f1dc3",
    "output_cleared": false,
    "source_hash": "363e10e2",
    "tags": []
   },
   "outputs": [],
   "source": [
    "# 84069NED"
   ]
  },
  {
   "cell_type": "code",
   "execution_count": null,
   "metadata": {
    "cell_id": "00035-091d4618-91aa-4ce8-8f1f-95328fc36adb",
    "output_cleared": false,
    "source_hash": "b623e53d",
    "tags": []
   },
   "outputs": [],
   "source": []
  },
  {
   "cell_type": "code",
   "execution_count": null,
   "metadata": {
    "cell_id": "00035-cf81f33e-339d-4d33-800b-2f44a2b26409",
    "output_cleared": false,
    "source_hash": "b623e53d",
    "tags": []
   },
   "outputs": [],
   "source": []
  },
  {
   "cell_type": "code",
   "execution_count": null,
   "metadata": {
    "cell_id": "00035-1fe5fd54-31b1-4772-bb7a-f566744a5d94",
    "output_cleared": false,
    "source_hash": "b623e53d",
    "tags": []
   },
   "outputs": [],
   "source": []
  },
  {
   "cell_type": "markdown",
   "metadata": {
    "cell_id": "00030-a0837743-44b2-4d50-ada8-b7d5fd3834a6",
    "output_cleared": false
   },
   "source": [
    "# SINGLE LINE TEST\n",
    "# create a new plot (with a title) using figure\n",
    "ic_new_intake0 = figure(plot_width=800, plot_height=400, x_axis_type=\"datetime\", title=\"NICE new-intake\")\n",
    "# add a line renderer \n",
    "ic_new_intake0.line(\n",
    "    ic_NICE_new_intake0['date'], \n",
    "    ic_NICE_new_intake0['value']\n",
    ")\n",
    "show(ic_new_intake0)"
   ]
  },
  {
   "cell_type": "markdown",
   "metadata": {
    "cell_id": "00031-055045e9-6dd5-45d4-9b6d-bf5f46740db8",
    "output_cleared": false
   },
   "source": [
    "# SINGLE LINE TEST\n",
    "# create a new plot (with a title) using figure\n",
    "ic_new_intake_confirmed = figure(plot_width=800, plot_height=400, x_axis_type=\"datetime\", title=\"NICE new-intake confirmed\")\n",
    "# add a line renderer \n",
    "ic_new_intake_confirmed.line(\n",
    "    ic_NICE_new_intake_confirmed['date'], \n",
    "    ic_NICE_new_intake_confirmed['value']\n",
    ")"
   ]
  },
  {
   "cell_type": "markdown",
   "metadata": {
    "cell_id": "00032-5f51ae08-ce06-450e-94df-ce6b0387a391",
    "output_cleared": false
   },
   "source": [
    "# SINGLE LINE TEST\n",
    "# create a new plot (with a title) using figure\n",
    "ic_intake_count = figure(plot_width=800, plot_height=400, x_axis_type=\"datetime\", title=\"NICE intake count\")\n",
    "# add a line renderer \n",
    "ic_intake_count.line(\n",
    "    ic_NICE_intake_count['date'], \n",
    "    ic_NICE_intake_count['value']\n",
    ")"
   ]
  },
  {
   "cell_type": "markdown",
   "metadata": {
    "cell_id": "00033-41913077-5eda-44cc-afae-0f6cf8520d5c",
    "output_cleared": false
   },
   "source": [
    "## MULTIPLE LINE TEST\n",
    "ic_all = figure(title=\"IC1 & IC_opnames_NICE\", plot_width=800, plot_height=400, x_axis_type=\"datetime\")\n",
    "\n",
    "ic_all.multi_line([ic1.date, ic_opnames.date],\n",
    "              [ic1.value, ic_opnames.value],\n",
    "              color=viridis(3))"
   ]
  },
  {
   "cell_type": "markdown",
   "metadata": {
    "cell_id": "00034-c08587fe-4dbd-4768-bcba-f435798f8b6a",
    "output_cleared": false
   },
   "source": [
    "show(ic_new_intake)\n",
    "show(ic_new_intake_confirmed)\n",
    "show(ic_intake_count)\n",
    "show(ic_all)"
   ]
  },
  {
   "cell_type": "code",
   "execution_count": null,
   "metadata": {
    "cell_id": "00035-af075381-06b1-43c5-aeed-cb0ed01a0f62",
    "output_cleared": false,
    "source_hash": "2ae03f16"
   },
   "outputs": [],
   "source": [
    "## sources NICE for their website:\n",
    "# /covid-19/public/zkh/global\n",
    "# /covid-19/public/zkh/new-intake/\n",
    "# /covid-19/public/zkh/intake-count/\n",
    "# /covid-19/public/zkh/intake-cumulative/\n",
    "# /covid-19/public/zkh/died-and-survivors-cumulative/\n",
    "# /covid-19/public/zkh/age-distribution-died-and-survivors/\n",
    "# /covid-19/public/zkh/age-distribution-status/\n",
    "# /covid-19/public/zkh/behandelduur-distribution/\n",
    "# /covid-19/public/zkh/behandelduur-distribution/\n",
    "## TO DO: check which used and which to use extra.\n",
    "## sources LCPS?\n",
    "# https://lcps.nu/wp-content/uploads/\n",
    "## Maybe scrape website to find more public data: https://scrapy.org/ OR https://www.crummy.com/software/BeautifulSoup/bs4/doc/"
   ]
  },
  {
   "cell_type": "markdown",
   "metadata": {
    "cell_id": "00036-d501e9d3-e824-4536-9ec9-87d0f3d9c762",
    "output_cleared": false
   },
   "source": [
    "*early signs*"
   ]
  },
  {
   "cell_type": "code",
   "execution_count": null,
   "metadata": {
    "cell_id": "00037-57458370-a07b-492f-89ef-9750d2e21bf2",
    "output_cleared": false,
    "source_hash": "c2f55165"
   },
   "outputs": [],
   "source": [
    "print(\"- patient reporting covid symptoms at family doctor\")\n",
    "# https://www.nivel.nl/nl/nivel-zorgregistraties-eerste-lijn/nivel-zorgregistraties-eerste-lijn\n"
   ]
  },
  {
   "cell_type": "code",
   "execution_count": null,
   "metadata": {
    "cell_id": "00038-7a8572c8-3335-4d0c-a214-0d7c393b0dae",
    "output_cleared": false,
    "source_hash": "e9e66056"
   },
   "outputs": [],
   "source": [
    "print(\"- sewagewate\")\n",
    "# https://data.rivm.nl/geonetwork/srv/dut/catalog.search#/metadata/a2960b68-9d3f-4dc3-9485-600570cd52b9\n",
    "sw = pd.read_json('https://data.rivm.nl/covid-19/COVID-19_rioolwaterdata.json')\n",
    "print(sw.head())"
   ]
  },
  {
   "cell_type": "markdown",
   "metadata": {
    "cell_id": "00039-bf6ad82d-16a9-4321-bad7-0f3c3ba6e9cd",
    "output_cleared": false
   },
   "source": [
    "*homes for elderly*"
   ]
  },
  {
   "cell_type": "code",
   "execution_count": null,
   "metadata": {
    "cell_id": "00040-a57324b6-e86a-46e6-9750-50b10d39b623",
    "output_cleared": false,
    "source_hash": "270ed24b"
   },
   "outputs": [],
   "source": [
    "print(\"- positive testst\")\n",
    "# from pdf. https://www.rivm.nl/documenten/wekelijkse-update-epidemiologische-situatie-covid-19-in-nederland"
   ]
  },
  {
   "cell_type": "code",
   "execution_count": null,
   "metadata": {
    "cell_id": "00041-c33e3639-d55a-452a-8807-6149431b972b",
    "output_cleared": false,
    "source_hash": "f0e4e1d2"
   },
   "outputs": [],
   "source": [
    "print(\"- infected locations\")\n",
    "# from pdf. https://www.rivm.nl/documenten/wekelijkse-update-epidemiologische-situatie-covid-19-in-nederland"
   ]
  },
  {
   "cell_type": "code",
   "execution_count": null,
   "metadata": {
    "cell_id": "00042-4f92df9a-d991-451a-bf28-333276a707cd",
    "output_cleared": false,
    "source_hash": "cc94df93"
   },
   "outputs": [],
   "source": [
    "print(\"- number deseased\")\n",
    "# from pdf. https://www.rivm.nl/documenten/wekelijkse-update-epidemiologische-situatie-covid-19-in-nederland"
   ]
  },
  {
   "cell_type": "markdown",
   "metadata": {
    "cell_id": "00043-c9fa5537-9388-4227-acc4-c64c3c9fb7f1",
    "output_cleared": false
   },
   "source": [
    "**metadata**"
   ]
  },
  {
   "cell_type": "code",
   "execution_count": null,
   "metadata": {
    "cell_id": "00044-ab789607-ae73-4f6a-b4fb-a9648ba0c392",
    "output_cleared": false,
    "source_hash": "abefa8b4"
   },
   "outputs": [],
   "source": [
    "print(\"- municipalities in Netherlands\")\n",
    "## https://www.cbs.nl/nl-nl/onze-diensten/methoden/classificaties/overig/gemeentelijke-indelingen-per-jaar/indeling%20per%20jaar/gemeentelijke-indeling-op-1-januari-2020\n",
    "municipality = pd.read_excel('https://www.cbs.nl/-/media/_excel/2020/03/gemeenten-alfabetisch-2020.xlsx')\n",
    "print(municipality.head())\n",
    "# aantallen per gemeente: https://data.rivm.nl/geonetwork/srv/dut/catalog.search#/metadata/5f6bc429-1596-490e-8618-1ed8fd768427\n"
   ]
  },
  {
   "cell_type": "markdown",
   "metadata": {
    "cell_id": "00045-dcb546a2-a7ab-48ec-8363-46a648685e5f",
    "output_cleared": false
   },
   "source": [
    "### missing data, i would like to calculate of collect\n",
    "- covid numbers relitive to all data\n",
    "- deseased for whole country (possible source: https://data.rivm.nl/geonetwork/srv/dut/catalog.search#/metadata/1c0fcd57-1102-4620-9cfa-441e93ea5604)\n",
    "\n",
    "### more data"
   ]
  },
  {
   "cell_type": "markdown",
   "metadata": {
    "cell_id": "00046-2cbde6a9-a240-4171-8915-43c2b4012ebd",
    "output_cleared": false
   },
   "source": [
    "- Karakteristieken elke geteste persoon: https://data.rivm.nl/geonetwork/srv/dut/catalog.search#/metadata/2c4357c8-76e4-4662-9574-1deb8a73f724?tab=relations\n",
    "- https://data.rivm.nl"
   ]
  },
  {
   "cell_type": "code",
   "execution_count": null,
   "metadata": {
    "cell_id": "00047-232db9cf-c538-4c55-8aa8-e513b7f7bbc3",
    "output_cleared": false,
    "source_hash": "a637a860"
   },
   "outputs": [],
   "source": [
    "#check data collection\n",
    "from pivottablejs import pivot_ui\n",
    "from IPython.display import HTML\n",
    "\n",
    "df_to_check = ic1\n",
    "\n",
    "pivot_ui(df_to_check, outfile_path='pivottablejs.html')\n",
    "HTML('pivottablejs.html')"
   ]
  },
  {
   "cell_type": "code",
   "execution_count": null,
   "metadata": {
    "cell_id": "00048-353eaabc-86d7-4265-9601-326df1fea846",
    "output_cleared": false,
    "source_hash": "b623e53d"
   },
   "outputs": [],
   "source": []
  }
 ],
 "metadata": {
  "deepnote_execution_queue": [],
  "deepnote_notebook_id": "057ef9e6-7042-4172-a7ca-da4122c96267",
  "kernelspec": {
   "display_name": "covid",
   "language": "python",
   "name": "covid"
  },
  "language_info": {
   "codemirror_mode": {
    "name": "ipython",
    "version": 3
   },
   "file_extension": ".py",
   "mimetype": "text/x-python",
   "name": "python",
   "nbconvert_exporter": "python",
   "pygments_lexer": "ipython3",
   "version": "3.7.8"
  }
 },
 "nbformat": 4,
 "nbformat_minor": 4
}
