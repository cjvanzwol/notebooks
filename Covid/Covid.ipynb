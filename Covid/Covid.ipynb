{
 "cells": [
  {
   "cell_type": "markdown",
   "metadata": {
    "cell_id": "00000-c087e9d7-6f70-4473-bd1a-e8288fdfad33",
    "output_cleared": false
   },
   "source": [
    "# Covid-19 data analysis for the Netherland\n",
    "## uses covid data to learn datascience in pyhton with Jupyterlab\n",
    "\n",
    "*Goals*\n",
    "1. learning datawcience\n",
    "2. learning python\n",
    "3. learning Jupyterlab\n",
    "4. maybe get some insight in covid"
   ]
  },
  {
   "cell_type": "code",
   "execution_count": 1,
   "metadata": {
    "cell_id": "00001-7613d7a8-73ef-42cd-b9b4-832ce58f5791",
    "execution_millis": 1,
    "execution_start": 1604921726539,
    "output_cleared": false,
    "source_hash": "3b84bebe"
   },
   "outputs": [],
   "source": [
    "## install modules for Google Colab\n",
    "# uncomment line below and run cell\n",
    "#!pip install tabula-py cbsodata"
   ]
  },
  {
   "cell_type": "code",
   "execution_count": 7,
   "metadata": {
    "cell_id": "00002-31ca9e06-efb1-41d2-9676-0c8438d8dfe5",
    "execution_millis": 2,
    "execution_start": 1604921727639,
    "output_cleared": false,
    "source_hash": "a1a7133b"
   },
   "outputs": [],
   "source": [
    "#from IPython.display import Markdown as md\n",
    "import os\n",
    "import pandas as pd\n",
    "import numpy as np\n",
    "import cbsodata as cbs\n",
    "from datetime import datetime\n",
    "import matplotlib.pyplot as plt\n",
    "%matplotlib widget\n",
    "import tabula\n",
    "\n",
    "#import numpy as np\n",
    "\n",
    "## Revert to charts in pandas, for simplicity. \n",
    "#To DO: add Bokeh - https://docs.bokeh.org/\n",
    "#from bokeh.io import output_notebook\n",
    "#from bokeh.plotting import figure, show\n",
    "#from bokeh.palettes import viridis\n",
    "#import pandas_bokeh\n",
    "#output_notebook()"
   ]
  },
  {
   "cell_type": "code",
   "execution_count": 8,
   "metadata": {
    "cell_id": "00008-eb9c018f-bd94-4d74-8a95-8d7b4f29a097",
    "execution_millis": 1,
    "execution_start": 1604927596819,
    "output_cleared": false,
    "source_hash": "8d10a70"
   },
   "outputs": [],
   "source": [
    "# defining function for calculating percentage\n",
    "def percentage(df, d, n):\n",
    "    name = '%_'+d+'_OF_'+n\n",
    "    df[name] = df[d]/df[n]*100\n",
    "    df[name].replace(np.nan, 0, inplace=True)\n",
    "\n",
    "\n",
    "def moving_average(df, n, p):\n",
    "    name = 'mva_'+n\n",
    "    windows = df[n].rolling(p)\n",
    "    positive_tests[name] = windows.mean()\n",
    "\n",
    "\n",
    "def running_total(df, n):\n",
    "    name = 'rt_'+n\n",
    "    df[name] = np.cumsum(df[n])"
   ]
  },
  {
   "cell_type": "code",
   "execution_count": 9,
   "metadata": {},
   "outputs": [],
   "source": [
    "cbs_population_data_loc = './data/cbs_population.csv'\n",
    "cbs_deceased_data_loc = './data/cbs_deseaced.csv'\n",
    "rivm_positive_tests_loc = './data/rivm_positive_tests.csv'"
   ]
  },
  {
   "cell_type": "markdown",
   "metadata": {
    "cell_id": "00005-eb25f615-6736-4703-a256-c39ae4156f1d",
    "output_cleared": false
   },
   "source": [
    "## Collecting data\n",
    "\n",
    "### CBS\n",
    "https://opendata.cbs.nl/statline/portal.html"
   ]
  },
  {
   "cell_type": "code",
   "execution_count": 10,
   "metadata": {},
   "outputs": [
    {
     "name": "stdout",
     "output_type": "stream",
     "text": [
      "Importing: Overledenen; geslacht en leeftijd, per week (Deseased; gender and age, per week)\n",
      "DONE\n"
     ]
    }
   ],
   "source": [
    "print('Importing: Overledenen; geslacht en leeftijd, per week (Deseased; gender and age, per week)')\n",
    "try:\n",
    "    os.stat(cbs_deceased_data_loc)\n",
    "except:\n",
    "    deseaced = pd.DataFrame(cbs.get_data('70895ned'))\n",
    "    deseaced.to_csv(cbs_deceased_data_loc, index=False)\n",
    "finally:\n",
    "    deseaced = pd.read_csv(cbs_deceased_data_loc, index_col='ID')\n",
    "print('DONE')"
   ]
  },
  {
   "cell_type": "code",
   "execution_count": 11,
   "metadata": {},
   "outputs": [
    {
     "data": {
      "application/vnd.jupyter.widget-view+json": {
       "model_id": "66879c25ee3e4311987ee835740ed7c9",
       "version_major": 2,
       "version_minor": 0
      },
      "text/plain": [
       "Canvas(toolbar=Toolbar(toolitems=[('Home', 'Reset original view', 'home', 'home'), ('Back', 'Back to previous …"
      ]
     },
     "metadata": {},
     "output_type": "display_data"
    },
    {
     "data": {
      "text/plain": [
       "array([<AxesSubplot:xlabel='ID'>], dtype=object)"
      ]
     },
     "execution_count": 11,
     "metadata": {},
     "output_type": "execute_result"
    }
   ],
   "source": [
    "deseaced.plot(subplots=True,figsize=(20,10))"
   ]
  },
  {
   "cell_type": "code",
   "execution_count": 32,
   "metadata": {
    "cell_id": "00006-7bca383e-5270-414d-aae1-6beb8c224746",
    "execution_millis": 87411,
    "execution_start": 1604934404995,
    "output_cleared": false,
    "source_hash": "44135caa"
   },
   "outputs": [
    {
     "name": "stdout",
     "output_type": "stream",
     "text": [
      "Importing: Bevolkingsontwikkeling; maand en jaar 2002-now (Population statistics, month and year)\n",
      "DONE\n"
     ]
    }
   ],
   "source": [
    "print('Importing: Bevolkingsontwikkeling; maand en jaar 2002-now (Population statistics, month and year)')\n",
    "try:\n",
    "    os.stat(cbs_population_data_loc)\n",
    "except:\n",
    "    population = pd.DataFrame(cbs.get_data('37230ned'))\n",
    "    population.to_csv(cbs_population_data_loc, index=False)\n",
    "finally:\n",
    "    population = pd.read_csv(cbs_population_data_loc, index_col='ID')\n",
    "print('DONE')"
   ]
  },
  {
   "cell_type": "code",
   "execution_count": 7,
   "metadata": {
    "cell_id": "00007-99b80138-53f3-4842-a5fe-42eca07f0a11",
    "execution_millis": 2,
    "execution_start": 1604934492408,
    "output_cleared": false,
    "source_hash": "f33bd192"
   },
   "outputs": [
    {
     "name": "stdout",
     "output_type": "stream",
     "text": [
      "Preparing Dataframe for analyses\n",
      "Dropping unnecessary columns\n",
      "DONE\n"
     ]
    }
   ],
   "source": [
    "print('Preparing Dataframe for analyses')\n",
    "print('Dropping unnecessary columns')\n",
    "population = population.drop(columns=['BevolkingAanHetBeginVanDePeriode_1','TotaleVestiging_4',\n",
    "       'VestigingVanuitEenAndereGemeente_5', 'Immigratie_6',\n",
    "       'TotaalVertrekInclAdmCorrecties_7', 'VertrekNaarAndereGemeente_8',\n",
    "       'EmigratieInclusiefAdmCorrecties_9', 'OverigeCorrecties_10',\n",
    "       'Bevolkingsgroei_11', 'BevolkingsgroeiRelatief_12',\n",
    "       'BevolkingsgroeiSinds1Januari_13',\n",
    "       'BevolkingsgroeiSinds1JanuariRela_14'])\n",
    "population = population.rename(columns={\"LevendGeborenKinderen_2\": \"Born\", \"Overledenen_3\": \"Deceased\", \"BevolkingAanHetEindeVanDePeriode_15\": \"Population\"})\n",
    "print('DONE')"
   ]
  },
  {
   "cell_type": "code",
   "execution_count": 8,
   "metadata": {
    "cell_id": "00012-de433ea3-0162-4f4f-be0e-a598a0b1bf6d",
    "execution_millis": 3152,
    "execution_start": 1604934379492,
    "output_cleared": false,
    "source_hash": "f8654fa4",
    "tags": []
   },
   "outputs": [
    {
     "name": "stdout",
     "output_type": "stream",
     "text": [
      "Setting PeriodIndex\n",
      "DONE\n"
     ]
    }
   ],
   "source": [
    "print('Setting PeriodIndex')\n",
    "population['year'] = population.loc[:,'Perioden'].str.slice(stop=4)\n",
    "population['month'] = population.loc[:,'Perioden'].str.slice(start=5)\n",
    "population_y = population.loc[population['month'] == '',:]\n",
    "population_y = population_y.drop(columns='month')\n",
    "population_y = population_y.set_index(population_y['year'])\n",
    "population_y.index = pd.PeriodIndex(population_y.index,freq='Y')\n",
    "\n",
    "population = population.loc[population['month'] != '',:]\n",
    "population['month'] = population.loc[:,'month'].replace({\n",
    "    'januari': '01',\n",
    "    'februari': '02',\n",
    "    'maart': '03',\n",
    "    'april': '04',\n",
    "    'mei': '05',\n",
    "    'juni': '06',\n",
    "    'juli': '07',\n",
    "    'augustus': '08',\n",
    "    'september': '09',\n",
    "    'oktober': '10',\n",
    "    'november': '11',\n",
    "    'december': '12'})\n",
    "\n",
    "population = population.set_index(population['year'] + '-' + population['month'])\n",
    "population.index = pd.PeriodIndex(population.index, freq='M')\n",
    "print('DONE')"
   ]
  },
  {
   "cell_type": "code",
   "execution_count": 9,
   "metadata": {
    "cell_id": "00008-905c3269-8bbb-4218-b91f-2dba8a352734",
    "execution_millis": 0,
    "execution_start": 1604934330891,
    "output_cleared": false,
    "source_hash": "be3bdb74",
    "tags": []
   },
   "outputs": [
    {
     "name": "stdout",
     "output_type": "stream",
     "text": [
      "Calculating percentage deceased of population\n",
      "DONE\n"
     ]
    }
   ],
   "source": [
    "print('Calculating percentage deceased of population')\n",
    "percentage(population,'Deceased','Population')\n",
    "percentage(population_y,'Deceased', 'Population')\n",
    "print('DONE')"
   ]
  },
  {
   "cell_type": "code",
   "execution_count": 10,
   "metadata": {
    "cell_id": "00011-f64e6707-802b-4566-98e6-f3c3a4db4b33",
    "execution_millis": 19,
    "execution_start": 1604927407570,
    "output_cleared": false,
    "source_hash": "7c436d14",
    "tags": []
   },
   "outputs": [
    {
     "name": "stdout",
     "output_type": "stream",
     "text": [
      "Ceating dataframe for Nederland\n",
      "DONE\n"
     ]
    }
   ],
   "source": [
    "print('Ceating dataframe for Nederland')\n",
    "population_nl = population[population['RegioS'] == 'Nederland']\n",
    "population = population[population['RegioS'] != 'Nederland']\n",
    "population_y_nl = population_y[population_y['RegioS'] == 'Nederland']\n",
    "population_y = population_y[population_y['RegioS'] != 'Nederland']\n",
    "print('DONE')"
   ]
  },
  {
   "cell_type": "code",
   "execution_count": 13,
   "metadata": {
    "cell_id": "00013-ff08f7b3-30ff-4be4-b373-ccedaf56d2ea",
    "execution_millis": 1463,
    "execution_start": 1604927411641,
    "output_cleared": false,
    "source_hash": "196e35b6",
    "tags": []
   },
   "outputs": [
    {
     "data": {
      "application/vnd.jupyter.widget-view+json": {
       "model_id": "c5d3be50c6b04a3287c6155ed4a8c054",
       "version_major": 2,
       "version_minor": 0
      },
      "text/plain": [
       "Canvas(toolbar=Toolbar(toolitems=[('Home', 'Reset original view', 'home', 'home'), ('Back', 'Back to previous …"
      ]
     },
     "metadata": {},
     "output_type": "display_data"
    },
    {
     "data": {
      "application/vnd.jupyter.widget-view+json": {
       "model_id": "cb3dacdbd930428386ec3f74f8059577",
       "version_major": 2,
       "version_minor": 0
      },
      "text/plain": [
       "Canvas(toolbar=Toolbar(toolitems=[('Home', 'Reset original view', 'home', 'home'), ('Back', 'Back to previous …"
      ]
     },
     "metadata": {},
     "output_type": "display_data"
    },
    {
     "data": {
      "application/vnd.jupyter.widget-view+json": {
       "model_id": "7a5211acbdc84093904c1e065b788836",
       "version_major": 2,
       "version_minor": 0
      },
      "text/plain": [
       "Canvas(toolbar=Toolbar(toolitems=[('Home', 'Reset original view', 'home', 'home'), ('Back', 'Back to previous …"
      ]
     },
     "metadata": {},
     "output_type": "display_data"
    },
    {
     "data": {
      "text/plain": [
       "<AxesSubplot:xlabel='month'>"
      ]
     },
     "execution_count": 13,
     "metadata": {},
     "output_type": "execute_result"
    }
   ],
   "source": [
    "population_nl.plot(subplots=True,figsize=(20,10))\n",
    "population_nl.pivot(index='month',columns='year', values='Deceased').plot(figsize=(20,10))\n",
    "population_nl.pivot(index='month',columns='year',values='%_Deceased_OF_Population').plot(figsize=(20,10))"
   ]
  },
  {
   "cell_type": "code",
   "execution_count": 14,
   "metadata": {
    "cell_id": "00011-bd0d525d-5098-4022-b2e9-fd4eabf9c8cc",
    "execution_millis": 2,
    "execution_start": 1604927463015,
    "output_cleared": false,
    "source_hash": "cbc3ba2c",
    "tags": []
   },
   "outputs": [
    {
     "data": {
      "application/vnd.jupyter.widget-view+json": {
       "model_id": "dc3c4ffb828a4d629bc51f904f082ec5",
       "version_major": 2,
       "version_minor": 0
      },
      "text/plain": [
       "Canvas(toolbar=Toolbar(toolitems=[('Home', 'Reset original view', 'home', 'home'), ('Back', 'Back to previous …"
      ]
     },
     "metadata": {},
     "output_type": "display_data"
    }
   ],
   "source": [
    "x=population_y_nl.index\n",
    "ax=population_y_nl.plot(kind='line', y='Deceased', color='DarkBlue',figsize=(20,10))\n",
    "ax2=population_y_nl.plot(kind='line',y='%_Deceased_OF_Population', secondary_y=True,color='Red', ax=ax)\n",
    "ax.set_ylabel('Deceased')\n",
    "ax2.set_ylabel('% of population')\n",
    "plt.tight_layout()\n",
    "plt.show()"
   ]
  },
  {
   "cell_type": "code",
   "execution_count": 15,
   "metadata": {
    "cell_id": "00010-b41d4c0d-2ab3-4559-818b-11b714e6c2d7",
    "execution_millis": 372,
    "execution_start": 1604924308711,
    "output_cleared": false,
    "source_hash": "432dfd14"
   },
   "outputs": [
    {
     "name": "stdout",
     "output_type": "stream",
     "text": [
      "SKIPPING Landsdeel\n",
      "Ceating dataframe for Provincies\n"
     ]
    },
    {
     "name": "stderr",
     "output_type": "stream",
     "text": [
      "<ipython-input-15-5b4683af27f6>:10: SettingWithCopyWarning: \n",
      "A value is trying to be set on a copy of a slice from a DataFrame.\n",
      "Try using .loc[row_indexer,col_indexer] = value instead\n",
      "\n",
      "See the caveats in the documentation: https://pandas.pydata.org/pandas-docs/stable/user_guide/indexing.html#returning-a-view-versus-a-copy\n",
      "  population_pv['RegioS'] = population_pv['RegioS'].str.slice(stop=-5)\n"
     ]
    },
    {
     "name": "stdout",
     "output_type": "stream",
     "text": [
      "DONE\n",
      "Ceating dataframe for COROP-gebied\n",
      "SKIPPING COROP-gebied\n",
      "Ceating dataframe for Gemeenten\n",
      "DONE\n"
     ]
    }
   ],
   "source": [
    "#print('Ceating dataframe for Landsdeel')\n",
    "print('SKIPPING Landsdeel')\n",
    "#population_ld = population[population['RegioS'].str.slice(start=-4) == '(LD)']\n",
    "population = population[population['RegioS'].str.slice(start=-4) != '(LD)']\n",
    "#print('DONE')\n",
    "\n",
    "print('Ceating dataframe for Provincies')\n",
    "#print('SKIPPING Province')\n",
    "population_pv = population[population['RegioS'].str.slice(start=-4) == '(PV)']\n",
    "population_pv['RegioS'] = population_pv['RegioS'].str.slice(stop=-5)\n",
    "population = population[population['RegioS'].str.slice(start=-4) != '(PV)']\n",
    "print('DONE')\n",
    "\n",
    "print('Ceating dataframe for COROP-gebied')\n",
    "print('SKIPPING COROP-gebied')\n",
    "#population_cr = population[population['RegioS'].str.slice(start=-4) == '(CR)']\n",
    "population = population[population['RegioS'].str.slice(start=-4) != '(CR)']\n",
    "#print('DONE')\n",
    "\n",
    "print('Ceating dataframe for Gemeenten')\n",
    "population_gm = population\n",
    "print('DONE')\n",
    "#del(population)"
   ]
  },
  {
   "cell_type": "code",
   "execution_count": 16,
   "metadata": {
    "cell_id": "00011-c016c714-5146-4563-91ea-0805f64d2bae",
    "execution_millis": 2320,
    "output_cleared": false,
    "source_hash": "67b3926c"
   },
   "outputs": [
    {
     "data": {
      "application/vnd.jupyter.widget-view+json": {
       "model_id": "8411039c2736483ea06f50cae003d61d",
       "version_major": 2,
       "version_minor": 0
      },
      "text/plain": [
       "Canvas(toolbar=Toolbar(toolitems=[('Home', 'Reset original view', 'home', 'home'), ('Back', 'Back to previous …"
      ]
     },
     "metadata": {},
     "output_type": "display_data"
    },
    {
     "data": {
      "text/plain": [
       "<AxesSubplot:>"
      ]
     },
     "execution_count": 16,
     "metadata": {},
     "output_type": "execute_result"
    }
   ],
   "source": [
    "provincies = population_pv.pivot(columns='RegioS',values='%_Deceased_OF_Population')\n",
    "provincies.plot(figsize=(20,10))"
   ]
  },
  {
   "cell_type": "code",
   "execution_count": 17,
   "metadata": {},
   "outputs": [
    {
     "data": {
      "application/vnd.jupyter.widget-view+json": {
       "model_id": "836f079f650d486b99ce3841c29e16fb",
       "version_major": 2,
       "version_minor": 0
      },
      "text/plain": [
       "Canvas(toolbar=Toolbar(toolitems=[('Home', 'Reset original view', 'home', 'home'), ('Back', 'Back to previous …"
      ]
     },
     "metadata": {},
     "output_type": "display_data"
    },
    {
     "data": {
      "text/plain": [
       "array([<AxesSubplot:>, <AxesSubplot:>, <AxesSubplot:>, <AxesSubplot:>,\n",
       "       <AxesSubplot:>, <AxesSubplot:>, <AxesSubplot:>, <AxesSubplot:>,\n",
       "       <AxesSubplot:>, <AxesSubplot:>, <AxesSubplot:>, <AxesSubplot:>],\n",
       "      dtype=object)"
      ]
     },
     "execution_count": 17,
     "metadata": {},
     "output_type": "execute_result"
    }
   ],
   "source": [
    "provincies.plot(figsize=(20,50),subplots=True)"
   ]
  },
  {
   "cell_type": "code",
   "execution_count": 18,
   "metadata": {},
   "outputs": [
    {
     "data": {
      "application/vnd.jupyter.widget-view+json": {
       "model_id": "c1530fd1573f4943ada195cd72763899",
       "version_major": 2,
       "version_minor": 0
      },
      "text/plain": [
       "Canvas(toolbar=Toolbar(toolitems=[('Home', 'Reset original view', 'home', 'home'), ('Back', 'Back to previous …"
      ]
     },
     "metadata": {},
     "output_type": "display_data"
    },
    {
     "data": {
      "text/plain": [
       "<AxesSubplot:>"
      ]
     },
     "execution_count": 18,
     "metadata": {},
     "output_type": "execute_result"
    }
   ],
   "source": [
    "prov2020 = population_pv[population_pv.index >= '2020'].pivot(columns='RegioS',values='%_Deceased_OF_Population')\n",
    "prov2020.plot(figsize=(20,10))"
   ]
  },
  {
   "cell_type": "code",
   "execution_count": 19,
   "metadata": {},
   "outputs": [
    {
     "data": {
      "application/vnd.jupyter.widget-view+json": {
       "model_id": "d0cdff743bca4c0093e18c4919e6b619",
       "version_major": 2,
       "version_minor": 0
      },
      "text/plain": [
       "Canvas(toolbar=Toolbar(toolitems=[('Home', 'Reset original view', 'home', 'home'), ('Back', 'Back to previous …"
      ]
     },
     "metadata": {},
     "output_type": "display_data"
    },
    {
     "data": {
      "text/plain": [
       "array([<AxesSubplot:>, <AxesSubplot:>, <AxesSubplot:>, <AxesSubplot:>,\n",
       "       <AxesSubplot:>, <AxesSubplot:>, <AxesSubplot:>, <AxesSubplot:>,\n",
       "       <AxesSubplot:>, <AxesSubplot:>, <AxesSubplot:>, <AxesSubplot:>],\n",
       "      dtype=object)"
      ]
     },
     "execution_count": 19,
     "metadata": {},
     "output_type": "execute_result"
    }
   ],
   "source": [
    "prov2020.plot(figsize=(20,50),subplots=True)"
   ]
  },
  {
   "cell_type": "code",
   "execution_count": null,
   "metadata": {},
   "outputs": [],
   "source": []
  },
  {
   "cell_type": "raw",
   "metadata": {
    "cell_id": "00012-6e4c5232-d649-4761-ae9a-c448f1a9ced5",
    "execution_millis": 2,
    "output_cleared": false,
    "source_hash": "6a4b376f"
   },
   "source": [
    "#TO DO\n",
    "# add CBS oversterfte (look for source)\n",
    "# causes of death: 7052_95, 82899NED, 7233, 71426ned/71936ned verkeer,84726NED, 37360ned age, 70895ned, 7022gza, 80202ned, 71044NED, 71045NED\n",
    "# age of death 37979ned, 83194NED, 70895ned\n",
    "# 83110NED"
   ]
  },
  {
   "cell_type": "markdown",
   "metadata": {
    "cell_id": "00013-be83571f-8731-49d8-860a-eb4d20a17ae2",
    "output_cleared": false
   },
   "source": [
    "### and then reproducting the coronadashboard\n",
    "The data I use is the sources used formhet Coronadashbord of the Dutch government. https://coronadashboard.rijksoverheid.nl/\n",
    "  \n",
    "This contains:\n",
    "*medical indicators*"
   ]
  },
  {
   "cell_type": "code",
   "execution_count": 20,
   "metadata": {
    "cell_id": "00014-99b1c62f-49aa-4861-b208-e1d728c252f6",
    "execution_millis": 55561,
    "output_cleared": false,
    "source_hash": "7cba26b7"
   },
   "outputs": [
    {
     "name": "stdout",
     "output_type": "stream",
     "text": [
      "- number of positive tests\n",
      "DONE\n"
     ]
    }
   ],
   "source": [
    "print(\"- number of positive tests\") #https://data.rivm.nl/geonetwork/srv/dut/catalog.search#/metadata/5f6bc429-1596-490e-8618-1ed8fd768427\n",
    "url = 'https://data.rivm.nl/covid-19/COVID-19_aantallen_gemeente_per_dag.json'\n",
    "try:\n",
    "    os.stat(rivm_positive_tests_loc)\n",
    "except:\n",
    "    positive_tests = pd.read_json(url)\n",
    "    positive_tests.to_csv(rivm_positive_tests_loc, index=False)\n",
    "finally:\n",
    "    positive_tests = pd.read_csv(rivm_positive_tests_loc)\n",
    "print('DONE')"
   ]
  },
  {
   "cell_type": "code",
   "execution_count": 21,
   "metadata": {
    "cell_id": "00015-b259e4c8-8f7a-4572-ab6c-a5a05dd135d8",
    "execution_millis": 47,
    "output_cleared": false,
    "source_hash": "f98695e0"
   },
   "outputs": [
    {
     "name": "stdout",
     "output_type": "stream",
     "text": [
      "Date of report for RIVM positive tests data = 2021-01-01 10:00:00\n"
     ]
    }
   ],
   "source": [
    "rivm_date_of_report = positive_tests.loc[0,'Date_of_report']\n",
    "print('Date of report for RIVM positive tests data = ' + str(rivm_date_of_report))\n",
    "positive_tests = positive_tests.drop(columns='Date_of_report')"
   ]
  },
  {
   "cell_type": "code",
   "execution_count": 22,
   "metadata": {},
   "outputs": [],
   "source": [
    "# cumulatives\n",
    "running_total(positive_tests, 'Total_reported')\n",
    "running_total(positive_tests, 'Hospital_admission')\n",
    "running_total(positive_tests, 'Deceased')"
   ]
  },
  {
   "cell_type": "code",
   "execution_count": 23,
   "metadata": {},
   "outputs": [],
   "source": [
    "# percentages\n",
    "percentage(positive_tests, 'rt_Deceased', 'rt_Total_reported')\n",
    "percentage(positive_tests, 'rt_Deceased', 'rt_Hospital_admission')\n",
    "percentage(positive_tests, 'rt_Hospital_admission', 'rt_Total_reported')"
   ]
  },
  {
   "cell_type": "code",
   "execution_count": 24,
   "metadata": {},
   "outputs": [
    {
     "name": "stdout",
     "output_type": "stream",
     "text": [
      "pfr on 2021-01-01 10:00:00is 1.431882200396441%\n",
      "hfr on 2021-01-01 10:00:00is 57.20452515629651%\n"
     ]
    }
   ],
   "source": [
    "pfr = positive_tests.loc[positive_tests.index.argmax(),'%_rt_Deceased_OF_rt_Total_reported']\n",
    "hfr = positive_tests.loc[positive_tests.index.argmax(),'%_rt_Deceased_OF_rt_Hospital_admission']\n",
    "print('pfr on '+rivm_date_of_report+ 'is '+str(pfr)+'%')\n",
    "print('hfr on '+rivm_date_of_report+ 'is '+str(hfr)+'%')"
   ]
  },
  {
   "cell_type": "code",
   "execution_count": 25,
   "metadata": {},
   "outputs": [
    {
     "data": {
      "application/vnd.jupyter.widget-view+json": {
       "model_id": "6b7d6659a6ca4a18924500f100ba6560",
       "version_major": 2,
       "version_minor": 0
      },
      "text/plain": [
       "Canvas(toolbar=Toolbar(toolitems=[('Home', 'Reset original view', 'home', 'home'), ('Back', 'Back to previous …"
      ]
     },
     "metadata": {},
     "output_type": "display_data"
    },
    {
     "data": {
      "application/vnd.jupyter.widget-view+json": {
       "model_id": "0decc50e14a6404ebeab800548340a45",
       "version_major": 2,
       "version_minor": 0
      },
      "text/plain": [
       "Canvas(toolbar=Toolbar(toolitems=[('Home', 'Reset original view', 'home', 'home'), ('Back', 'Back to previous …"
      ]
     },
     "metadata": {},
     "output_type": "display_data"
    },
    {
     "data": {
      "application/vnd.jupyter.widget-view+json": {
       "model_id": "0b0f967e3f8d4d3f955791ec2050af88",
       "version_major": 2,
       "version_minor": 0
      },
      "text/plain": [
       "Canvas(toolbar=Toolbar(toolitems=[('Home', 'Reset original view', 'home', 'home'), ('Back', 'Back to previous …"
      ]
     },
     "metadata": {},
     "output_type": "display_data"
    },
    {
     "data": {
      "application/vnd.jupyter.widget-view+json": {
       "model_id": "f1a6e12770cf45c79405087f92613380",
       "version_major": 2,
       "version_minor": 0
      },
      "text/plain": [
       "Canvas(toolbar=Toolbar(toolitems=[('Home', 'Reset original view', 'home', 'home'), ('Back', 'Back to previous …"
      ]
     },
     "metadata": {},
     "output_type": "display_data"
    },
    {
     "data": {
      "text/plain": [
       "<AxesSubplot:>"
      ]
     },
     "execution_count": 25,
     "metadata": {},
     "output_type": "execute_result"
    }
   ],
   "source": [
    "positive_tests.plot(figsize=(20,20),subplots=True)\n",
    "positive_tests.plot(y=['Total_reported', 'Hospital_admission', 'Deceased'], figsize=(20, 10))\n",
    "positive_tests.plot(y=['rt_Total_reported', 'rt_Hospital_admission', 'rt_Deceased'], figsize=(20, 10))\n",
    "positive_tests.plot(y=['%_rt_Deceased_OF_rt_Total_reported', '%_rt_Deceased_OF_rt_Hospital_admission', '%_rt_Hospital_admission_OF_rt_Total_reported'], figsize=(20, 10))"
   ]
  },
  {
   "cell_type": "code",
   "execution_count": 26,
   "metadata": {
    "cell_id": "00016-d0b7c68c-d5fd-4129-b638-022f9aebadd8",
    "execution_millis": 126,
    "output_cleared": false,
    "source_hash": "27ec402e"
   },
   "outputs": [
    {
     "data": {
      "text/html": [
       "<div>\n",
       "<style scoped>\n",
       "    .dataframe tbody tr th:only-of-type {\n",
       "        vertical-align: middle;\n",
       "    }\n",
       "\n",
       "    .dataframe tbody tr th {\n",
       "        vertical-align: top;\n",
       "    }\n",
       "\n",
       "    .dataframe thead th {\n",
       "        text-align: right;\n",
       "    }\n",
       "</style>\n",
       "<table border=\"1\" class=\"dataframe\">\n",
       "  <thead>\n",
       "    <tr style=\"text-align: right;\">\n",
       "      <th></th>\n",
       "      <th>Municipality_code</th>\n",
       "      <th>Municipality_name</th>\n",
       "      <th>Province</th>\n",
       "      <th>Security_region_code</th>\n",
       "      <th>Security_region_name</th>\n",
       "      <th>Municipal_health_service</th>\n",
       "      <th>ROAZ_region</th>\n",
       "      <th>Total_reported</th>\n",
       "      <th>Hospital_admission</th>\n",
       "      <th>Deceased</th>\n",
       "      <th>rt_Total_reported</th>\n",
       "      <th>rt_Hospital_admission</th>\n",
       "      <th>rt_Deceased</th>\n",
       "      <th>%_rt_Deceased_OF_rt_Total_reported</th>\n",
       "      <th>%_rt_Deceased_OF_rt_Hospital_admission</th>\n",
       "      <th>%_rt_Hospital_admission_OF_rt_Total_reported</th>\n",
       "      <th>P</th>\n",
       "    </tr>\n",
       "    <tr>\n",
       "      <th>Date_of_publication</th>\n",
       "      <th></th>\n",
       "      <th></th>\n",
       "      <th></th>\n",
       "      <th></th>\n",
       "      <th></th>\n",
       "      <th></th>\n",
       "      <th></th>\n",
       "      <th></th>\n",
       "      <th></th>\n",
       "      <th></th>\n",
       "      <th></th>\n",
       "      <th></th>\n",
       "      <th></th>\n",
       "      <th></th>\n",
       "      <th></th>\n",
       "      <th></th>\n",
       "      <th></th>\n",
       "    </tr>\n",
       "  </thead>\n",
       "  <tbody>\n",
       "    <tr>\n",
       "      <th>2020-02-27</th>\n",
       "      <td>GM0003</td>\n",
       "      <td>Appingedam</td>\n",
       "      <td>Groningen</td>\n",
       "      <td>VR01</td>\n",
       "      <td>Groningen</td>\n",
       "      <td>GGD Groningen</td>\n",
       "      <td>Acute Zorgnetwerk Noord Nederland</td>\n",
       "      <td>0</td>\n",
       "      <td>0</td>\n",
       "      <td>0</td>\n",
       "      <td>0</td>\n",
       "      <td>0</td>\n",
       "      <td>0</td>\n",
       "      <td>0.000000</td>\n",
       "      <td>0.000000</td>\n",
       "      <td>0.000000</td>\n",
       "      <td>2020-02</td>\n",
       "    </tr>\n",
       "    <tr>\n",
       "      <th>2020-02-27</th>\n",
       "      <td>GM0010</td>\n",
       "      <td>Delfzijl</td>\n",
       "      <td>Groningen</td>\n",
       "      <td>VR01</td>\n",
       "      <td>Groningen</td>\n",
       "      <td>GGD Groningen</td>\n",
       "      <td>Acute Zorgnetwerk Noord Nederland</td>\n",
       "      <td>0</td>\n",
       "      <td>0</td>\n",
       "      <td>0</td>\n",
       "      <td>0</td>\n",
       "      <td>0</td>\n",
       "      <td>0</td>\n",
       "      <td>0.000000</td>\n",
       "      <td>0.000000</td>\n",
       "      <td>0.000000</td>\n",
       "      <td>2020-02</td>\n",
       "    </tr>\n",
       "    <tr>\n",
       "      <th>2020-02-27</th>\n",
       "      <td>GM0014</td>\n",
       "      <td>Groningen</td>\n",
       "      <td>Groningen</td>\n",
       "      <td>VR01</td>\n",
       "      <td>Groningen</td>\n",
       "      <td>GGD Groningen</td>\n",
       "      <td>Acute Zorgnetwerk Noord Nederland</td>\n",
       "      <td>0</td>\n",
       "      <td>0</td>\n",
       "      <td>0</td>\n",
       "      <td>0</td>\n",
       "      <td>0</td>\n",
       "      <td>0</td>\n",
       "      <td>0.000000</td>\n",
       "      <td>0.000000</td>\n",
       "      <td>0.000000</td>\n",
       "      <td>2020-02</td>\n",
       "    </tr>\n",
       "    <tr>\n",
       "      <th>2020-02-27</th>\n",
       "      <td>GM0024</td>\n",
       "      <td>Loppersum</td>\n",
       "      <td>Groningen</td>\n",
       "      <td>VR01</td>\n",
       "      <td>Groningen</td>\n",
       "      <td>GGD Groningen</td>\n",
       "      <td>Acute Zorgnetwerk Noord Nederland</td>\n",
       "      <td>0</td>\n",
       "      <td>0</td>\n",
       "      <td>0</td>\n",
       "      <td>0</td>\n",
       "      <td>0</td>\n",
       "      <td>0</td>\n",
       "      <td>0.000000</td>\n",
       "      <td>0.000000</td>\n",
       "      <td>0.000000</td>\n",
       "      <td>2020-02</td>\n",
       "    </tr>\n",
       "    <tr>\n",
       "      <th>2020-02-27</th>\n",
       "      <td>GM0034</td>\n",
       "      <td>Almere</td>\n",
       "      <td>Flevoland</td>\n",
       "      <td>VR25</td>\n",
       "      <td>Flevoland</td>\n",
       "      <td>GGD Flevoland</td>\n",
       "      <td>SpoedZorgNet</td>\n",
       "      <td>0</td>\n",
       "      <td>0</td>\n",
       "      <td>0</td>\n",
       "      <td>0</td>\n",
       "      <td>0</td>\n",
       "      <td>0</td>\n",
       "      <td>0.000000</td>\n",
       "      <td>0.000000</td>\n",
       "      <td>0.000000</td>\n",
       "      <td>2020-02</td>\n",
       "    </tr>\n",
       "    <tr>\n",
       "      <th>...</th>\n",
       "      <td>...</td>\n",
       "      <td>...</td>\n",
       "      <td>...</td>\n",
       "      <td>...</td>\n",
       "      <td>...</td>\n",
       "      <td>...</td>\n",
       "      <td>...</td>\n",
       "      <td>...</td>\n",
       "      <td>...</td>\n",
       "      <td>...</td>\n",
       "      <td>...</td>\n",
       "      <td>...</td>\n",
       "      <td>...</td>\n",
       "      <td>...</td>\n",
       "      <td>...</td>\n",
       "      <td>...</td>\n",
       "      <td>...</td>\n",
       "    </tr>\n",
       "    <tr>\n",
       "      <th>2021-01-01</th>\n",
       "      <td>NaN</td>\n",
       "      <td>NaN</td>\n",
       "      <td>Limburg</td>\n",
       "      <td>VR23</td>\n",
       "      <td>Limburg-Noord</td>\n",
       "      <td>GGD Limburg-Noord</td>\n",
       "      <td>Netwerk Acute Zorg Limburg</td>\n",
       "      <td>0</td>\n",
       "      <td>0</td>\n",
       "      <td>0</td>\n",
       "      <td>805155</td>\n",
       "      <td>20154</td>\n",
       "      <td>11529</td>\n",
       "      <td>1.431898</td>\n",
       "      <td>57.204525</td>\n",
       "      <td>2.503121</td>\n",
       "      <td>2021-01</td>\n",
       "    </tr>\n",
       "    <tr>\n",
       "      <th>2021-01-01</th>\n",
       "      <td>NaN</td>\n",
       "      <td>NaN</td>\n",
       "      <td>Limburg</td>\n",
       "      <td>VR24</td>\n",
       "      <td>Limburg-Zuid</td>\n",
       "      <td>GGD Zuid-Limburg</td>\n",
       "      <td>Netwerk Acute Zorg Limburg</td>\n",
       "      <td>2</td>\n",
       "      <td>0</td>\n",
       "      <td>0</td>\n",
       "      <td>805157</td>\n",
       "      <td>20154</td>\n",
       "      <td>11529</td>\n",
       "      <td>1.431895</td>\n",
       "      <td>57.204525</td>\n",
       "      <td>2.503114</td>\n",
       "      <td>2021-01</td>\n",
       "    </tr>\n",
       "    <tr>\n",
       "      <th>2021-01-01</th>\n",
       "      <td>NaN</td>\n",
       "      <td>NaN</td>\n",
       "      <td>Zuid-Holland</td>\n",
       "      <td>VR15</td>\n",
       "      <td>Haaglanden</td>\n",
       "      <td>GGD Haaglanden</td>\n",
       "      <td>Netwerk Acute Zorg West</td>\n",
       "      <td>7</td>\n",
       "      <td>0</td>\n",
       "      <td>0</td>\n",
       "      <td>805164</td>\n",
       "      <td>20154</td>\n",
       "      <td>11529</td>\n",
       "      <td>1.431882</td>\n",
       "      <td>57.204525</td>\n",
       "      <td>2.503093</td>\n",
       "      <td>2021-01</td>\n",
       "    </tr>\n",
       "    <tr>\n",
       "      <th>2021-01-01</th>\n",
       "      <td>NaN</td>\n",
       "      <td>NaN</td>\n",
       "      <td>Friesland</td>\n",
       "      <td>VR02</td>\n",
       "      <td>Fryslân</td>\n",
       "      <td>GGD Fryslân</td>\n",
       "      <td>Acute Zorgnetwerk Noord Nederland</td>\n",
       "      <td>0</td>\n",
       "      <td>0</td>\n",
       "      <td>0</td>\n",
       "      <td>805164</td>\n",
       "      <td>20154</td>\n",
       "      <td>11529</td>\n",
       "      <td>1.431882</td>\n",
       "      <td>57.204525</td>\n",
       "      <td>2.503093</td>\n",
       "      <td>2021-01</td>\n",
       "    </tr>\n",
       "    <tr>\n",
       "      <th>2021-01-01</th>\n",
       "      <td>NaN</td>\n",
       "      <td>NaN</td>\n",
       "      <td>Noord-Holland</td>\n",
       "      <td>VR11</td>\n",
       "      <td>Zaanstreek-Waterland</td>\n",
       "      <td>GGD Zaanstreek/Waterland</td>\n",
       "      <td>NaN</td>\n",
       "      <td>0</td>\n",
       "      <td>0</td>\n",
       "      <td>0</td>\n",
       "      <td>805164</td>\n",
       "      <td>20154</td>\n",
       "      <td>11529</td>\n",
       "      <td>1.431882</td>\n",
       "      <td>57.204525</td>\n",
       "      <td>2.503093</td>\n",
       "      <td>2021-01</td>\n",
       "    </tr>\n",
       "  </tbody>\n",
       "</table>\n",
       "<p>118110 rows × 17 columns</p>\n",
       "</div>"
      ],
      "text/plain": [
       "                    Municipality_code Municipality_name       Province  \\\n",
       "Date_of_publication                                                      \n",
       "2020-02-27                     GM0003        Appingedam      Groningen   \n",
       "2020-02-27                     GM0010          Delfzijl      Groningen   \n",
       "2020-02-27                     GM0014         Groningen      Groningen   \n",
       "2020-02-27                     GM0024         Loppersum      Groningen   \n",
       "2020-02-27                     GM0034            Almere      Flevoland   \n",
       "...                               ...               ...            ...   \n",
       "2021-01-01                        NaN               NaN        Limburg   \n",
       "2021-01-01                        NaN               NaN        Limburg   \n",
       "2021-01-01                        NaN               NaN   Zuid-Holland   \n",
       "2021-01-01                        NaN               NaN      Friesland   \n",
       "2021-01-01                        NaN               NaN  Noord-Holland   \n",
       "\n",
       "                    Security_region_code  Security_region_name  \\\n",
       "Date_of_publication                                              \n",
       "2020-02-27                          VR01             Groningen   \n",
       "2020-02-27                          VR01             Groningen   \n",
       "2020-02-27                          VR01             Groningen   \n",
       "2020-02-27                          VR01             Groningen   \n",
       "2020-02-27                          VR25             Flevoland   \n",
       "...                                  ...                   ...   \n",
       "2021-01-01                          VR23         Limburg-Noord   \n",
       "2021-01-01                          VR24          Limburg-Zuid   \n",
       "2021-01-01                          VR15            Haaglanden   \n",
       "2021-01-01                          VR02               Fryslân   \n",
       "2021-01-01                          VR11  Zaanstreek-Waterland   \n",
       "\n",
       "                     Municipal_health_service  \\\n",
       "Date_of_publication                             \n",
       "2020-02-27                      GGD Groningen   \n",
       "2020-02-27                      GGD Groningen   \n",
       "2020-02-27                      GGD Groningen   \n",
       "2020-02-27                      GGD Groningen   \n",
       "2020-02-27                      GGD Flevoland   \n",
       "...                                       ...   \n",
       "2021-01-01                  GGD Limburg-Noord   \n",
       "2021-01-01                   GGD Zuid-Limburg   \n",
       "2021-01-01                     GGD Haaglanden   \n",
       "2021-01-01                        GGD Fryslân   \n",
       "2021-01-01           GGD Zaanstreek/Waterland   \n",
       "\n",
       "                                           ROAZ_region  Total_reported  \\\n",
       "Date_of_publication                                                      \n",
       "2020-02-27           Acute Zorgnetwerk Noord Nederland               0   \n",
       "2020-02-27           Acute Zorgnetwerk Noord Nederland               0   \n",
       "2020-02-27           Acute Zorgnetwerk Noord Nederland               0   \n",
       "2020-02-27           Acute Zorgnetwerk Noord Nederland               0   \n",
       "2020-02-27                                SpoedZorgNet               0   \n",
       "...                                                ...             ...   \n",
       "2021-01-01                  Netwerk Acute Zorg Limburg               0   \n",
       "2021-01-01                  Netwerk Acute Zorg Limburg               2   \n",
       "2021-01-01                     Netwerk Acute Zorg West               7   \n",
       "2021-01-01           Acute Zorgnetwerk Noord Nederland               0   \n",
       "2021-01-01                                         NaN               0   \n",
       "\n",
       "                     Hospital_admission  Deceased  rt_Total_reported  \\\n",
       "Date_of_publication                                                    \n",
       "2020-02-27                            0         0                  0   \n",
       "2020-02-27                            0         0                  0   \n",
       "2020-02-27                            0         0                  0   \n",
       "2020-02-27                            0         0                  0   \n",
       "2020-02-27                            0         0                  0   \n",
       "...                                 ...       ...                ...   \n",
       "2021-01-01                            0         0             805155   \n",
       "2021-01-01                            0         0             805157   \n",
       "2021-01-01                            0         0             805164   \n",
       "2021-01-01                            0         0             805164   \n",
       "2021-01-01                            0         0             805164   \n",
       "\n",
       "                     rt_Hospital_admission  rt_Deceased  \\\n",
       "Date_of_publication                                       \n",
       "2020-02-27                               0            0   \n",
       "2020-02-27                               0            0   \n",
       "2020-02-27                               0            0   \n",
       "2020-02-27                               0            0   \n",
       "2020-02-27                               0            0   \n",
       "...                                    ...          ...   \n",
       "2021-01-01                           20154        11529   \n",
       "2021-01-01                           20154        11529   \n",
       "2021-01-01                           20154        11529   \n",
       "2021-01-01                           20154        11529   \n",
       "2021-01-01                           20154        11529   \n",
       "\n",
       "                     %_rt_Deceased_OF_rt_Total_reported  \\\n",
       "Date_of_publication                                       \n",
       "2020-02-27                                     0.000000   \n",
       "2020-02-27                                     0.000000   \n",
       "2020-02-27                                     0.000000   \n",
       "2020-02-27                                     0.000000   \n",
       "2020-02-27                                     0.000000   \n",
       "...                                                 ...   \n",
       "2021-01-01                                     1.431898   \n",
       "2021-01-01                                     1.431895   \n",
       "2021-01-01                                     1.431882   \n",
       "2021-01-01                                     1.431882   \n",
       "2021-01-01                                     1.431882   \n",
       "\n",
       "                     %_rt_Deceased_OF_rt_Hospital_admission  \\\n",
       "Date_of_publication                                           \n",
       "2020-02-27                                         0.000000   \n",
       "2020-02-27                                         0.000000   \n",
       "2020-02-27                                         0.000000   \n",
       "2020-02-27                                         0.000000   \n",
       "2020-02-27                                         0.000000   \n",
       "...                                                     ...   \n",
       "2021-01-01                                        57.204525   \n",
       "2021-01-01                                        57.204525   \n",
       "2021-01-01                                        57.204525   \n",
       "2021-01-01                                        57.204525   \n",
       "2021-01-01                                        57.204525   \n",
       "\n",
       "                     %_rt_Hospital_admission_OF_rt_Total_reported        P  \n",
       "Date_of_publication                                                         \n",
       "2020-02-27                                               0.000000  2020-02  \n",
       "2020-02-27                                               0.000000  2020-02  \n",
       "2020-02-27                                               0.000000  2020-02  \n",
       "2020-02-27                                               0.000000  2020-02  \n",
       "2020-02-27                                               0.000000  2020-02  \n",
       "...                                                           ...      ...  \n",
       "2021-01-01                                               2.503121  2021-01  \n",
       "2021-01-01                                               2.503114  2021-01  \n",
       "2021-01-01                                               2.503093  2021-01  \n",
       "2021-01-01                                               2.503093  2021-01  \n",
       "2021-01-01                                               2.503093  2021-01  \n",
       "\n",
       "[118110 rows x 17 columns]"
      ]
     },
     "execution_count": 26,
     "metadata": {},
     "output_type": "execute_result"
    }
   ],
   "source": [
    "positive_tests = positive_tests.set_index(pd.PeriodIndex(positive_tests['Date_of_publication'], freq='d'))\n",
    "positive_tests = positive_tests.drop(columns='Date_of_publication')\n",
    "positive_tests['P'] = positive_tests.index.strftime('%Y-%m')\n",
    "positive_tests = positive_tests.rename(index={'Date_of_publication':'date'})\n",
    "positive_tests"
   ]
  },
  {
   "cell_type": "code",
   "execution_count": 27,
   "metadata": {
    "cell_id": "00017-9ec23c25-b600-443f-912e-3b57525d4082",
    "output_cleared": false,
    "source_hash": "5ee24e6a"
   },
   "outputs": [
    {
     "data": {
      "text/html": [
       "<div>\n",
       "<style scoped>\n",
       "    .dataframe tbody tr th:only-of-type {\n",
       "        vertical-align: middle;\n",
       "    }\n",
       "\n",
       "    .dataframe tbody tr th {\n",
       "        vertical-align: top;\n",
       "    }\n",
       "\n",
       "    .dataframe thead th {\n",
       "        text-align: right;\n",
       "    }\n",
       "</style>\n",
       "<table border=\"1\" class=\"dataframe\">\n",
       "  <thead>\n",
       "    <tr style=\"text-align: right;\">\n",
       "      <th></th>\n",
       "      <th>Total_reported</th>\n",
       "      <th>Hospital_admission</th>\n",
       "      <th>Deceased</th>\n",
       "      <th>rt_Total_reported</th>\n",
       "      <th>rt_Hospital_admission</th>\n",
       "      <th>rt_Deceased</th>\n",
       "      <th>%_rt_Deceased_OF_rt_Total_reported</th>\n",
       "      <th>%_rt_Deceased_OF_rt_Hospital_admission</th>\n",
       "      <th>%_rt_Hospital_admission_OF_rt_Total_reported</th>\n",
       "      <th>P</th>\n",
       "    </tr>\n",
       "    <tr>\n",
       "      <th>Date_of_publication</th>\n",
       "      <th></th>\n",
       "      <th></th>\n",
       "      <th></th>\n",
       "      <th></th>\n",
       "      <th></th>\n",
       "      <th></th>\n",
       "      <th></th>\n",
       "      <th></th>\n",
       "      <th></th>\n",
       "      <th></th>\n",
       "    </tr>\n",
       "  </thead>\n",
       "  <tbody>\n",
       "    <tr>\n",
       "      <th>2020-02-27</th>\n",
       "      <td>0</td>\n",
       "      <td>1</td>\n",
       "      <td>0</td>\n",
       "      <td>0</td>\n",
       "      <td>157</td>\n",
       "      <td>0</td>\n",
       "      <td>0.000000</td>\n",
       "      <td>0.000000</td>\n",
       "      <td>inf</td>\n",
       "      <td>2020-02</td>\n",
       "    </tr>\n",
       "    <tr>\n",
       "      <th>2020-02-28</th>\n",
       "      <td>1</td>\n",
       "      <td>0</td>\n",
       "      <td>0</td>\n",
       "      <td>157</td>\n",
       "      <td>381</td>\n",
       "      <td>0</td>\n",
       "      <td>0.000000</td>\n",
       "      <td>0.000000</td>\n",
       "      <td>inf</td>\n",
       "      <td>2020-02</td>\n",
       "    </tr>\n",
       "    <tr>\n",
       "      <th>2020-02-29</th>\n",
       "      <td>1</td>\n",
       "      <td>1</td>\n",
       "      <td>0</td>\n",
       "      <td>652</td>\n",
       "      <td>525</td>\n",
       "      <td>0</td>\n",
       "      <td>0.000000</td>\n",
       "      <td>0.000000</td>\n",
       "      <td>3.175000e+04</td>\n",
       "      <td>2020-02</td>\n",
       "    </tr>\n",
       "    <tr>\n",
       "      <th>2020-03-01</th>\n",
       "      <td>3</td>\n",
       "      <td>0</td>\n",
       "      <td>0</td>\n",
       "      <td>1207</td>\n",
       "      <td>762</td>\n",
       "      <td>0</td>\n",
       "      <td>0.000000</td>\n",
       "      <td>0.000000</td>\n",
       "      <td>2.902667e+04</td>\n",
       "      <td>2020-03</td>\n",
       "    </tr>\n",
       "    <tr>\n",
       "      <th>2020-03-02</th>\n",
       "      <td>5</td>\n",
       "      <td>0</td>\n",
       "      <td>0</td>\n",
       "      <td>2839</td>\n",
       "      <td>762</td>\n",
       "      <td>0</td>\n",
       "      <td>0.000000</td>\n",
       "      <td>0.000000</td>\n",
       "      <td>1.113317e+04</td>\n",
       "      <td>2020-03</td>\n",
       "    </tr>\n",
       "    <tr>\n",
       "      <th>...</th>\n",
       "      <td>...</td>\n",
       "      <td>...</td>\n",
       "      <td>...</td>\n",
       "      <td>...</td>\n",
       "      <td>...</td>\n",
       "      <td>...</td>\n",
       "      <td>...</td>\n",
       "      <td>...</td>\n",
       "      <td>...</td>\n",
       "      <td>...</td>\n",
       "    </tr>\n",
       "    <tr>\n",
       "      <th>2020-12-28</th>\n",
       "      <td>7423</td>\n",
       "      <td>92</td>\n",
       "      <td>44</td>\n",
       "      <td>292208820</td>\n",
       "      <td>7498995</td>\n",
       "      <td>4198609</td>\n",
       "      <td>547.443629</td>\n",
       "      <td>21331.805079</td>\n",
       "      <td>9.777697e+02</td>\n",
       "      <td>2020-12</td>\n",
       "    </tr>\n",
       "    <tr>\n",
       "      <th>2020-12-29</th>\n",
       "      <td>7539</td>\n",
       "      <td>114</td>\n",
       "      <td>171</td>\n",
       "      <td>295070112</td>\n",
       "      <td>7539239</td>\n",
       "      <td>4242151</td>\n",
       "      <td>547.751543</td>\n",
       "      <td>21437.854805</td>\n",
       "      <td>9.734837e+02</td>\n",
       "      <td>2020-12</td>\n",
       "    </tr>\n",
       "    <tr>\n",
       "      <th>2020-12-30</th>\n",
       "      <td>9480</td>\n",
       "      <td>95</td>\n",
       "      <td>112</td>\n",
       "      <td>298378076</td>\n",
       "      <td>7578729</td>\n",
       "      <td>4296600</td>\n",
       "      <td>548.635359</td>\n",
       "      <td>21599.935070</td>\n",
       "      <td>9.677383e+02</td>\n",
       "      <td>2020-12</td>\n",
       "    </tr>\n",
       "    <tr>\n",
       "      <th>2020-12-31</th>\n",
       "      <td>9705</td>\n",
       "      <td>140</td>\n",
       "      <td>109</td>\n",
       "      <td>302032490</td>\n",
       "      <td>7624800</td>\n",
       "      <td>4337126</td>\n",
       "      <td>547.109473</td>\n",
       "      <td>21671.938284</td>\n",
       "      <td>9.618380e+02</td>\n",
       "      <td>2020-12</td>\n",
       "    </tr>\n",
       "    <tr>\n",
       "      <th>2021-01-01</th>\n",
       "      <td>8215</td>\n",
       "      <td>78</td>\n",
       "      <td>98</td>\n",
       "      <td>305418917</td>\n",
       "      <td>7666023</td>\n",
       "      <td>4376905</td>\n",
       "      <td>546.004907</td>\n",
       "      <td>21753.100361</td>\n",
       "      <td>9.563165e+02</td>\n",
       "      <td>2021-01</td>\n",
       "    </tr>\n",
       "  </tbody>\n",
       "</table>\n",
       "<p>310 rows × 10 columns</p>\n",
       "</div>"
      ],
      "text/plain": [
       "                     Total_reported  Hospital_admission  Deceased  \\\n",
       "Date_of_publication                                                 \n",
       "2020-02-27                        0                   1         0   \n",
       "2020-02-28                        1                   0         0   \n",
       "2020-02-29                        1                   1         0   \n",
       "2020-03-01                        3                   0         0   \n",
       "2020-03-02                        5                   0         0   \n",
       "...                             ...                 ...       ...   \n",
       "2020-12-28                     7423                  92        44   \n",
       "2020-12-29                     7539                 114       171   \n",
       "2020-12-30                     9480                  95       112   \n",
       "2020-12-31                     9705                 140       109   \n",
       "2021-01-01                     8215                  78        98   \n",
       "\n",
       "                     rt_Total_reported  rt_Hospital_admission  rt_Deceased  \\\n",
       "Date_of_publication                                                          \n",
       "2020-02-27                           0                    157            0   \n",
       "2020-02-28                         157                    381            0   \n",
       "2020-02-29                         652                    525            0   \n",
       "2020-03-01                        1207                    762            0   \n",
       "2020-03-02                        2839                    762            0   \n",
       "...                                ...                    ...          ...   \n",
       "2020-12-28                   292208820                7498995      4198609   \n",
       "2020-12-29                   295070112                7539239      4242151   \n",
       "2020-12-30                   298378076                7578729      4296600   \n",
       "2020-12-31                   302032490                7624800      4337126   \n",
       "2021-01-01                   305418917                7666023      4376905   \n",
       "\n",
       "                     %_rt_Deceased_OF_rt_Total_reported  \\\n",
       "Date_of_publication                                       \n",
       "2020-02-27                                     0.000000   \n",
       "2020-02-28                                     0.000000   \n",
       "2020-02-29                                     0.000000   \n",
       "2020-03-01                                     0.000000   \n",
       "2020-03-02                                     0.000000   \n",
       "...                                                 ...   \n",
       "2020-12-28                                   547.443629   \n",
       "2020-12-29                                   547.751543   \n",
       "2020-12-30                                   548.635359   \n",
       "2020-12-31                                   547.109473   \n",
       "2021-01-01                                   546.004907   \n",
       "\n",
       "                     %_rt_Deceased_OF_rt_Hospital_admission  \\\n",
       "Date_of_publication                                           \n",
       "2020-02-27                                         0.000000   \n",
       "2020-02-28                                         0.000000   \n",
       "2020-02-29                                         0.000000   \n",
       "2020-03-01                                         0.000000   \n",
       "2020-03-02                                         0.000000   \n",
       "...                                                     ...   \n",
       "2020-12-28                                     21331.805079   \n",
       "2020-12-29                                     21437.854805   \n",
       "2020-12-30                                     21599.935070   \n",
       "2020-12-31                                     21671.938284   \n",
       "2021-01-01                                     21753.100361   \n",
       "\n",
       "                     %_rt_Hospital_admission_OF_rt_Total_reported        P  \n",
       "Date_of_publication                                                         \n",
       "2020-02-27                                                    inf  2020-02  \n",
       "2020-02-28                                                    inf  2020-02  \n",
       "2020-02-29                                           3.175000e+04  2020-02  \n",
       "2020-03-01                                           2.902667e+04  2020-03  \n",
       "2020-03-02                                           1.113317e+04  2020-03  \n",
       "...                                                           ...      ...  \n",
       "2020-12-28                                           9.777697e+02  2020-12  \n",
       "2020-12-29                                           9.734837e+02  2020-12  \n",
       "2020-12-30                                           9.677383e+02  2020-12  \n",
       "2020-12-31                                           9.618380e+02  2020-12  \n",
       "2021-01-01                                           9.563165e+02  2021-01  \n",
       "\n",
       "[310 rows x 10 columns]"
      ]
     },
     "execution_count": 27,
     "metadata": {},
     "output_type": "execute_result"
    }
   ],
   "source": [
    "positive_tests_nl = positive_tests.sum(level='Date_of_publication')\n",
    "positive_tests_nl['P'] = positive_tests_nl.index.strftime('%Y-%m')\n",
    "positive_tests_nl"
   ]
  },
  {
   "cell_type": "code",
   "execution_count": 28,
   "metadata": {
    "cell_id": "00018-65586d41-905e-44f3-a954-997880aabaad",
    "output_cleared": false,
    "source_hash": "7f29ea4d"
   },
   "outputs": [
    {
     "ename": "KeyError",
     "evalue": "'P'",
     "output_type": "error",
     "traceback": [
      "\u001b[0;31m---------------------------------------------------------------------------\u001b[0m",
      "\u001b[0;31mKeyError\u001b[0m                                  Traceback (most recent call last)",
      "\u001b[0;32m/opt/conda/envs/Covid/lib/python3.9/site-packages/pandas/core/indexes/base.py\u001b[0m in \u001b[0;36mget_loc\u001b[0;34m(self, key, method, tolerance)\u001b[0m\n\u001b[1;32m   3079\u001b[0m             \u001b[0;32mtry\u001b[0m\u001b[0;34m:\u001b[0m\u001b[0;34m\u001b[0m\u001b[0;34m\u001b[0m\u001b[0m\n\u001b[0;32m-> 3080\u001b[0;31m                 \u001b[0;32mreturn\u001b[0m \u001b[0mself\u001b[0m\u001b[0;34m.\u001b[0m\u001b[0m_engine\u001b[0m\u001b[0;34m.\u001b[0m\u001b[0mget_loc\u001b[0m\u001b[0;34m(\u001b[0m\u001b[0mcasted_key\u001b[0m\u001b[0;34m)\u001b[0m\u001b[0;34m\u001b[0m\u001b[0;34m\u001b[0m\u001b[0m\n\u001b[0m\u001b[1;32m   3081\u001b[0m             \u001b[0;32mexcept\u001b[0m \u001b[0mKeyError\u001b[0m \u001b[0;32mas\u001b[0m \u001b[0merr\u001b[0m\u001b[0;34m:\u001b[0m\u001b[0;34m\u001b[0m\u001b[0;34m\u001b[0m\u001b[0m\n",
      "\u001b[0;32mpandas/_libs/index.pyx\u001b[0m in \u001b[0;36mpandas._libs.index.IndexEngine.get_loc\u001b[0;34m()\u001b[0m\n",
      "\u001b[0;32mpandas/_libs/index.pyx\u001b[0m in \u001b[0;36mpandas._libs.index.IndexEngine.get_loc\u001b[0;34m()\u001b[0m\n",
      "\u001b[0;32mpandas/_libs/hashtable_class_helper.pxi\u001b[0m in \u001b[0;36mpandas._libs.hashtable.PyObjectHashTable.get_item\u001b[0;34m()\u001b[0m\n",
      "\u001b[0;32mpandas/_libs/hashtable_class_helper.pxi\u001b[0m in \u001b[0;36mpandas._libs.hashtable.PyObjectHashTable.get_item\u001b[0;34m()\u001b[0m\n",
      "\u001b[0;31mKeyError\u001b[0m: 'P'",
      "\nThe above exception was the direct cause of the following exception:\n",
      "\u001b[0;31mKeyError\u001b[0m                                  Traceback (most recent call last)",
      "\u001b[0;32m<ipython-input-28-c90c25262382>\u001b[0m in \u001b[0;36m<module>\u001b[0;34m\u001b[0m\n\u001b[0;32m----> 1\u001b[0;31m \u001b[0mpop_latest\u001b[0m \u001b[0;34m=\u001b[0m \u001b[0mpopulation_nl\u001b[0m\u001b[0;34m.\u001b[0m\u001b[0mloc\u001b[0m\u001b[0;34m[\u001b[0m\u001b[0mpopulation_nl\u001b[0m\u001b[0;34m[\u001b[0m\u001b[0;34m'P'\u001b[0m\u001b[0;34m]\u001b[0m\u001b[0;34m.\u001b[0m\u001b[0mmax\u001b[0m\u001b[0;34m(\u001b[0m\u001b[0;34m)\u001b[0m\u001b[0;34m,\u001b[0m\u001b[0;34m'Population'\u001b[0m\u001b[0;34m]\u001b[0m\u001b[0;34m\u001b[0m\u001b[0;34m\u001b[0m\u001b[0m\n\u001b[0m\u001b[1;32m      2\u001b[0m \u001b[0mpop_latest\u001b[0m\u001b[0;34m\u001b[0m\u001b[0;34m\u001b[0m\u001b[0m\n",
      "\u001b[0;32m/opt/conda/envs/Covid/lib/python3.9/site-packages/pandas/core/frame.py\u001b[0m in \u001b[0;36m__getitem__\u001b[0;34m(self, key)\u001b[0m\n\u001b[1;32m   3022\u001b[0m             \u001b[0;32mif\u001b[0m \u001b[0mself\u001b[0m\u001b[0;34m.\u001b[0m\u001b[0mcolumns\u001b[0m\u001b[0;34m.\u001b[0m\u001b[0mnlevels\u001b[0m \u001b[0;34m>\u001b[0m \u001b[0;36m1\u001b[0m\u001b[0;34m:\u001b[0m\u001b[0;34m\u001b[0m\u001b[0;34m\u001b[0m\u001b[0m\n\u001b[1;32m   3023\u001b[0m                 \u001b[0;32mreturn\u001b[0m \u001b[0mself\u001b[0m\u001b[0;34m.\u001b[0m\u001b[0m_getitem_multilevel\u001b[0m\u001b[0;34m(\u001b[0m\u001b[0mkey\u001b[0m\u001b[0;34m)\u001b[0m\u001b[0;34m\u001b[0m\u001b[0;34m\u001b[0m\u001b[0m\n\u001b[0;32m-> 3024\u001b[0;31m             \u001b[0mindexer\u001b[0m \u001b[0;34m=\u001b[0m \u001b[0mself\u001b[0m\u001b[0;34m.\u001b[0m\u001b[0mcolumns\u001b[0m\u001b[0;34m.\u001b[0m\u001b[0mget_loc\u001b[0m\u001b[0;34m(\u001b[0m\u001b[0mkey\u001b[0m\u001b[0;34m)\u001b[0m\u001b[0;34m\u001b[0m\u001b[0;34m\u001b[0m\u001b[0m\n\u001b[0m\u001b[1;32m   3025\u001b[0m             \u001b[0;32mif\u001b[0m \u001b[0mis_integer\u001b[0m\u001b[0;34m(\u001b[0m\u001b[0mindexer\u001b[0m\u001b[0;34m)\u001b[0m\u001b[0;34m:\u001b[0m\u001b[0;34m\u001b[0m\u001b[0;34m\u001b[0m\u001b[0m\n\u001b[1;32m   3026\u001b[0m                 \u001b[0mindexer\u001b[0m \u001b[0;34m=\u001b[0m \u001b[0;34m[\u001b[0m\u001b[0mindexer\u001b[0m\u001b[0;34m]\u001b[0m\u001b[0;34m\u001b[0m\u001b[0;34m\u001b[0m\u001b[0m\n",
      "\u001b[0;32m/opt/conda/envs/Covid/lib/python3.9/site-packages/pandas/core/indexes/base.py\u001b[0m in \u001b[0;36mget_loc\u001b[0;34m(self, key, method, tolerance)\u001b[0m\n\u001b[1;32m   3080\u001b[0m                 \u001b[0;32mreturn\u001b[0m \u001b[0mself\u001b[0m\u001b[0;34m.\u001b[0m\u001b[0m_engine\u001b[0m\u001b[0;34m.\u001b[0m\u001b[0mget_loc\u001b[0m\u001b[0;34m(\u001b[0m\u001b[0mcasted_key\u001b[0m\u001b[0;34m)\u001b[0m\u001b[0;34m\u001b[0m\u001b[0;34m\u001b[0m\u001b[0m\n\u001b[1;32m   3081\u001b[0m             \u001b[0;32mexcept\u001b[0m \u001b[0mKeyError\u001b[0m \u001b[0;32mas\u001b[0m \u001b[0merr\u001b[0m\u001b[0;34m:\u001b[0m\u001b[0;34m\u001b[0m\u001b[0;34m\u001b[0m\u001b[0m\n\u001b[0;32m-> 3082\u001b[0;31m                 \u001b[0;32mraise\u001b[0m \u001b[0mKeyError\u001b[0m\u001b[0;34m(\u001b[0m\u001b[0mkey\u001b[0m\u001b[0;34m)\u001b[0m \u001b[0;32mfrom\u001b[0m \u001b[0merr\u001b[0m\u001b[0;34m\u001b[0m\u001b[0;34m\u001b[0m\u001b[0m\n\u001b[0m\u001b[1;32m   3083\u001b[0m \u001b[0;34m\u001b[0m\u001b[0m\n\u001b[1;32m   3084\u001b[0m         \u001b[0;32mif\u001b[0m \u001b[0mtolerance\u001b[0m \u001b[0;32mis\u001b[0m \u001b[0;32mnot\u001b[0m \u001b[0;32mNone\u001b[0m\u001b[0;34m:\u001b[0m\u001b[0;34m\u001b[0m\u001b[0;34m\u001b[0m\u001b[0m\n",
      "\u001b[0;31mKeyError\u001b[0m: 'P'"
     ]
    }
   ],
   "source": [
    "pop_latest = population_nl.loc[population_nl['P'].max(),'Population']\n",
    "pop_latest"
   ]
  },
  {
   "cell_type": "code",
   "execution_count": null,
   "metadata": {
    "cell_id": "00019-5a013cd9-dc1d-4d5f-8bfa-f9a1f2a9963e",
    "output_cleared": false,
    "source_hash": "4a8d250a"
   },
   "outputs": [],
   "source": [
    "print(type(population_nl.P[0]))\n",
    "print(type(positive_tests_nl.P[0]))\n",
    "\n",
    "pd.merge_asof(positive_tests_nl,population_nl,left_on='P',right_on='P')"
   ]
  },
  {
   "cell_type": "markdown",
   "metadata": {
    "cell_id": "00020-5e1c81a9-68cf-47fb-beea-edcb93019c47",
    "output_cleared": false
   },
   "source": [
    "# Gemiddeld aantal positief geteste mensen per 100.000 inwoners\n",
    "## Dit getal laat zien van hoeveel mensen gisteren per 100.000 inwoners gemeld is dat ze positief getest zijn en COVID-19 hebben.\n",
    "positive_tests_nl['p100k'] = positive_tests_nl['Total_reported'] / population_nl.loc[if(positive_tests_nl['P'] > population_nl['P'].max()):\n",
    "                                                                                     population_nl.loc[positive_tests_nl['P'],'Population']\n",
    "                                                                                else:\n",
    "                                                                                     positive_tests_nl['P']\n",
    "                                                                                ,'Population'] * 100000\n",
    "\n",
    "\n",
    "#pt_agg['mov_avg_p100k'] = np.average(pt_agg['']])\n",
    "#np.mean(pt[len(pt.columns)-1].Total_reported)"
   ]
  },
  {
   "cell_type": "code",
   "execution_count": null,
   "metadata": {
    "cell_id": "00021-9c3169c9-8418-4646-b996-21c7e87f0abe",
    "output_cleared": false,
    "source_hash": "ea46dbb9"
   },
   "outputs": [],
   "source": [
    "# Aantal positief geteste mensen\n",
    "## Dit getal laat zien van hoeveel mensen gisteren gemeld is dat ze positief getest zijn en COVID-19 hebben."
   ]
  },
  {
   "cell_type": "code",
   "execution_count": null,
   "metadata": {
    "cell_id": "00022-621f7fa1-42f9-41ce-95b3-366ea50a8d01",
    "output_cleared": false,
    "source_hash": "34d06dc3"
   },
   "outputs": [],
   "source": [
    "#Verdeling positief geteste mensen in Nederland\n",
    "## per gemeente\n",
    "\n",
    "## per veiligheidsregio\n",
    "\n"
   ]
  },
  {
   "cell_type": "markdown",
   "metadata": {
    "cell_id": "00023-4861208b-4d99-4fec-89d6-b6bc7e272cfc",
    "output_cleared": false
   },
   "source": [
    "# TESTING BOKEH WITH OTHER DATA\n",
    "pt_agg = pt.groupby(by=['Date_of_report'],as_index=False).sum()\n",
    "\n",
    "q = figure(plot_width=800, plot_height=400, title=\"My Line Plot\", x_axis_type=\"datetime\")\n",
    "\n",
    "q.multi_line(\n",
    "    xs=[\n",
    "        pt_agg['Date_of_report'],\n",
    "        pt_agg['Date_of_report'],\n",
    "        pt_agg['Date_of_report']\n",
    "    ],\n",
    "    ys=[\n",
    "        pt_agg['Deceased'], \n",
    "        pt_agg['Hospital_admission'],\n",
    "        pt_agg['Total_reported']\n",
    "    ],\n",
    "    color=viridis(len(pt_agg.columns)-1)\n",
    ")\n",
    "\n",
    "show(q)"
   ]
  },
  {
   "cell_type": "code",
   "execution_count": null,
   "metadata": {
    "cell_id": "00024-77fd1f02-778c-4142-a125-0965925c1ba5",
    "output_cleared": false,
    "source_hash": "c2467e2a"
   },
   "outputs": [],
   "source": [
    "print(\"- Percentage positive tested of all tests done\")\n",
    "# https://www.rivm.nl/archief-weekrapportages-covid-19-in-nederland\n",
    "pt_perc = tabula.read_pdf('https://www.rivm.nl/sites/default/files/2020-10/COVID-19_WebSite_rapport_wekelijks_20201013_1159_0.pdf', pages=29, guess=True, stream=True)\n",
    "print(pt_perc)\n",
    "\n",
    "## To DO:\n",
    "## 1) extract data from latest pdf\n",
    "## 2) scrape all pdfs for data to compare data thought time"
   ]
  },
  {
   "cell_type": "code",
   "execution_count": null,
   "metadata": {
    "cell_id": "00025-0aba9257-4693-4cca-bf52-eff3410f9e15",
    "output_cleared": false,
    "source_hash": "ec60ed16"
   },
   "outputs": [],
   "source": [
    "print(\"- number of infectious people\")\n",
    "# https://data.rivm.nl/geonetwork/srv/dut/catalog.search#/metadata/097155aa-75eb-4caa-8ed3-4c6edb80467e\n",
    "infected = pd.read_json('https://data.rivm.nl/covid-19/COVID-19_prevalentie.json')\n",
    "print(infected.head())"
   ]
  },
  {
   "cell_type": "code",
   "execution_count": null,
   "metadata": {
    "cell_id": "00026-0a0758a0-da20-49e1-8b89-f6f45b2c1a3a",
    "output_cleared": false,
    "source_hash": "157def74"
   },
   "outputs": [],
   "source": [
    "print(\"- R (reproductionnumber)\")\n",
    "# https://data.rivm.nl/geonetwork/srv/dut/catalog.search#/metadata/ed0699d1-c9d5-4436-8517-27eb993eab6e\n",
    "R = pd.read_json('https://data.rivm.nl/covid-19/COVID-19_reproductiegetal.json')\n",
    "print(R.head())"
   ]
  },
  {
   "cell_type": "code",
   "execution_count": null,
   "metadata": {
    "cell_id": "00027-3f00b86a-c760-44fc-b1a4-6b2ae6eb8674",
    "output_cleared": false,
    "source_hash": "78527f76"
   },
   "outputs": [],
   "source": [
    "print(\"- hospital admissions per day\")\n",
    "# NICE https://www.databronnencovid19.nl/Bron?naam=Nationale-Intensive-Care-Evaluatie\n",
    "hosp_nice = pd.read_json('https://stichting-nice.nl/covid-19/public/intake-count/')\n",
    "print(hosp_nice.head())\n",
    "# LCPS https://lcps.nu/datafeed/\n",
    "hosp_lcps = pd.read_csv('https://lcps.nu/wp-content/uploads/covid-19.csv')\n",
    "print(hosp_lcps.head())\n",
    "# Dashbaord changed source data https://www.nu.nl/coronavirus/6083846/ministerie-meldde-maandenlang-veel-te-weinig-opnames-coronapatienten.html\n",
    "# other sources: https://www.stichting-nice.nl/covid-19-op-de-zkh.jsp\n",
    "# 37852, 84522NED"
   ]
  },
  {
   "cell_type": "code",
   "execution_count": null,
   "metadata": {
    "cell_id": "00028-259d46c5-1c9e-4a63-9055-347767519cb4",
    "output_cleared": false,
    "source_hash": "5d0d35d4"
   },
   "outputs": [],
   "source": [
    "print(\"- icu admissions per day\")\n",
    "# url\n",
    "ic_NICE_new_intake = pd.read_json('https://stichting-nice.nl/covid-19/public/new-intake/').T\n",
    "ic_NICE_new_intake0 = pd.DataFrame()\n",
    "for row in ic_NICE_new_intake[0]:\n",
    "    ic_NICE_new_intake0 = ic_NICE_new_intake0.append(row, ignore_index=True)\n",
    "print(ic_NICE_new_intake0)\n",
    "ic_NICE_new_intake0['date'] = ic_NICE_new_intake['date']\n",
    "ic_NICE_new_intake1 = pd.DataFrame()\n",
    "for row in ic_NICE_new_intake[1]:\n",
    "    ic_NICE_new_intake1 = ic_NICE_new_intake1.append(row, ignore_index=True)\n",
    "ic_NICE_new_intake01 = pd.concat([ic_NICE_new_intake0,ic_NICE_new_intake1])\n",
    "print(ic_NICE_new_intake01.head())\n",
    "ic_NICE_new_intake_confirmed = pd.read_json('https://stichting-nice.nl/covid-19/public/new-intake/confirmed/')\n",
    "#print(ic_NICE_new_intake_confirmed.head())\n",
    "ic_NICE_intake_count = pd.read_json('https://stichting-nice.nl/covid-19/public/intake-count/')\n",
    "#print(ic_NICE_intake_count.head())\n",
    "print('IC data: 3 sources IMPORTED')\n",
    "## To DO: conpare ic1 and ic2\n",
    "#other sources: "
   ]
  },
  {
   "cell_type": "code",
   "execution_count": null,
   "metadata": {
    "cell_id": "00029-6c5ff2ac-487b-4f72-81a9-cba95baf860c",
    "execution_millis": 0,
    "output_cleared": false,
    "source_hash": "b494ea87"
   },
   "outputs": [],
   "source": [
    "ic_NICE_new_intake0"
   ]
  },
  {
   "cell_type": "code",
   "execution_count": null,
   "metadata": {
    "cell_id": "00035-cb740d8f-ff22-473c-b994-9381304f1dc3",
    "output_cleared": false,
    "source_hash": "363e10e2",
    "tags": []
   },
   "outputs": [],
   "source": [
    "# 84069NED"
   ]
  },
  {
   "cell_type": "code",
   "execution_count": null,
   "metadata": {
    "cell_id": "00035-091d4618-91aa-4ce8-8f1f-95328fc36adb",
    "output_cleared": false,
    "source_hash": "b623e53d",
    "tags": []
   },
   "outputs": [],
   "source": []
  },
  {
   "cell_type": "code",
   "execution_count": null,
   "metadata": {
    "cell_id": "00035-cf81f33e-339d-4d33-800b-2f44a2b26409",
    "output_cleared": false,
    "source_hash": "b623e53d",
    "tags": []
   },
   "outputs": [],
   "source": []
  },
  {
   "cell_type": "code",
   "execution_count": null,
   "metadata": {
    "cell_id": "00035-1fe5fd54-31b1-4772-bb7a-f566744a5d94",
    "output_cleared": false,
    "source_hash": "b623e53d",
    "tags": []
   },
   "outputs": [],
   "source": []
  },
  {
   "cell_type": "markdown",
   "metadata": {
    "cell_id": "00030-a0837743-44b2-4d50-ada8-b7d5fd3834a6",
    "output_cleared": false
   },
   "source": [
    "# SINGLE LINE TEST\n",
    "# create a new plot (with a title) using figure\n",
    "ic_new_intake0 = figure(plot_width=800, plot_height=400, x_axis_type=\"datetime\", title=\"NICE new-intake\")\n",
    "# add a line renderer \n",
    "ic_new_intake0.line(\n",
    "    ic_NICE_new_intake0['date'], \n",
    "    ic_NICE_new_intake0['value']\n",
    ")\n",
    "show(ic_new_intake0)"
   ]
  },
  {
   "cell_type": "markdown",
   "metadata": {
    "cell_id": "00031-055045e9-6dd5-45d4-9b6d-bf5f46740db8",
    "output_cleared": false
   },
   "source": [
    "# SINGLE LINE TEST\n",
    "# create a new plot (with a title) using figure\n",
    "ic_new_intake_confirmed = figure(plot_width=800, plot_height=400, x_axis_type=\"datetime\", title=\"NICE new-intake confirmed\")\n",
    "# add a line renderer \n",
    "ic_new_intake_confirmed.line(\n",
    "    ic_NICE_new_intake_confirmed['date'], \n",
    "    ic_NICE_new_intake_confirmed['value']\n",
    ")"
   ]
  },
  {
   "cell_type": "markdown",
   "metadata": {
    "cell_id": "00032-5f51ae08-ce06-450e-94df-ce6b0387a391",
    "output_cleared": false
   },
   "source": [
    "# SINGLE LINE TEST\n",
    "# create a new plot (with a title) using figure\n",
    "ic_intake_count = figure(plot_width=800, plot_height=400, x_axis_type=\"datetime\", title=\"NICE intake count\")\n",
    "# add a line renderer \n",
    "ic_intake_count.line(\n",
    "    ic_NICE_intake_count['date'], \n",
    "    ic_NICE_intake_count['value']\n",
    ")"
   ]
  },
  {
   "cell_type": "markdown",
   "metadata": {
    "cell_id": "00033-41913077-5eda-44cc-afae-0f6cf8520d5c",
    "output_cleared": false
   },
   "source": [
    "## MULTIPLE LINE TEST\n",
    "ic_all = figure(title=\"IC1 & IC_opnames_NICE\", plot_width=800, plot_height=400, x_axis_type=\"datetime\")\n",
    "\n",
    "ic_all.multi_line([ic1.date, ic_opnames.date],\n",
    "              [ic1.value, ic_opnames.value],\n",
    "              color=viridis(3))"
   ]
  },
  {
   "cell_type": "markdown",
   "metadata": {
    "cell_id": "00034-c08587fe-4dbd-4768-bcba-f435798f8b6a",
    "output_cleared": false
   },
   "source": [
    "show(ic_new_intake)\n",
    "show(ic_new_intake_confirmed)\n",
    "show(ic_intake_count)\n",
    "show(ic_all)"
   ]
  },
  {
   "cell_type": "code",
   "execution_count": null,
   "metadata": {
    "cell_id": "00035-af075381-06b1-43c5-aeed-cb0ed01a0f62",
    "output_cleared": false,
    "source_hash": "2ae03f16"
   },
   "outputs": [],
   "source": [
    "## sources NICE for their website:\n",
    "# /covid-19/public/zkh/global\n",
    "# /covid-19/public/zkh/new-intake/\n",
    "# /covid-19/public/zkh/intake-count/\n",
    "# /covid-19/public/zkh/intake-cumulative/\n",
    "# /covid-19/public/zkh/died-and-survivors-cumulative/\n",
    "# /covid-19/public/zkh/age-distribution-died-and-survivors/\n",
    "# /covid-19/public/zkh/age-distribution-status/\n",
    "# /covid-19/public/zkh/behandelduur-distribution/\n",
    "# /covid-19/public/zkh/behandelduur-distribution/\n",
    "## TO DO: check which used and which to use extra.\n",
    "## sources LCPS?\n",
    "# https://lcps.nu/wp-content/uploads/\n",
    "## Maybe scrape website to find more public data: https://scrapy.org/ OR https://www.crummy.com/software/BeautifulSoup/bs4/doc/"
   ]
  },
  {
   "cell_type": "markdown",
   "metadata": {
    "cell_id": "00036-d501e9d3-e824-4536-9ec9-87d0f3d9c762",
    "output_cleared": false
   },
   "source": [
    "*early signs*"
   ]
  },
  {
   "cell_type": "code",
   "execution_count": null,
   "metadata": {
    "cell_id": "00037-57458370-a07b-492f-89ef-9750d2e21bf2",
    "output_cleared": false,
    "source_hash": "c2f55165"
   },
   "outputs": [],
   "source": [
    "print(\"- patient reporting covid symptoms at family doctor\")\n",
    "# https://www.nivel.nl/nl/nivel-zorgregistraties-eerste-lijn/nivel-zorgregistraties-eerste-lijn\n"
   ]
  },
  {
   "cell_type": "code",
   "execution_count": null,
   "metadata": {
    "cell_id": "00038-7a8572c8-3335-4d0c-a214-0d7c393b0dae",
    "output_cleared": false,
    "source_hash": "e9e66056"
   },
   "outputs": [],
   "source": [
    "print(\"- sewagewate\")\n",
    "# https://data.rivm.nl/geonetwork/srv/dut/catalog.search#/metadata/a2960b68-9d3f-4dc3-9485-600570cd52b9\n",
    "sw = pd.read_json('https://data.rivm.nl/covid-19/COVID-19_rioolwaterdata.json')\n",
    "print(sw.head())"
   ]
  },
  {
   "cell_type": "markdown",
   "metadata": {
    "cell_id": "00039-bf6ad82d-16a9-4321-bad7-0f3c3ba6e9cd",
    "output_cleared": false
   },
   "source": [
    "*homes for elderly*"
   ]
  },
  {
   "cell_type": "code",
   "execution_count": null,
   "metadata": {
    "cell_id": "00040-a57324b6-e86a-46e6-9750-50b10d39b623",
    "output_cleared": false,
    "source_hash": "270ed24b"
   },
   "outputs": [],
   "source": [
    "print(\"- positive testst\")\n",
    "# from pdf. https://www.rivm.nl/documenten/wekelijkse-update-epidemiologische-situatie-covid-19-in-nederland"
   ]
  },
  {
   "cell_type": "code",
   "execution_count": null,
   "metadata": {
    "cell_id": "00041-c33e3639-d55a-452a-8807-6149431b972b",
    "output_cleared": false,
    "source_hash": "f0e4e1d2"
   },
   "outputs": [],
   "source": [
    "print(\"- infected locations\")\n",
    "# from pdf. https://www.rivm.nl/documenten/wekelijkse-update-epidemiologische-situatie-covid-19-in-nederland"
   ]
  },
  {
   "cell_type": "code",
   "execution_count": null,
   "metadata": {
    "cell_id": "00042-4f92df9a-d991-451a-bf28-333276a707cd",
    "output_cleared": false,
    "source_hash": "cc94df93"
   },
   "outputs": [],
   "source": [
    "print(\"- number deseased\")\n",
    "# from pdf. https://www.rivm.nl/documenten/wekelijkse-update-epidemiologische-situatie-covid-19-in-nederland"
   ]
  },
  {
   "cell_type": "markdown",
   "metadata": {
    "cell_id": "00043-c9fa5537-9388-4227-acc4-c64c3c9fb7f1",
    "output_cleared": false
   },
   "source": [
    "**metadata**"
   ]
  },
  {
   "cell_type": "code",
   "execution_count": null,
   "metadata": {
    "cell_id": "00044-ab789607-ae73-4f6a-b4fb-a9648ba0c392",
    "output_cleared": false,
    "source_hash": "abefa8b4"
   },
   "outputs": [],
   "source": [
    "print(\"- municipalities in Netherlands\")\n",
    "## https://www.cbs.nl/nl-nl/onze-diensten/methoden/classificaties/overig/gemeentelijke-indelingen-per-jaar/indeling%20per%20jaar/gemeentelijke-indeling-op-1-januari-2020\n",
    "municipality = pd.read_excel('https://www.cbs.nl/-/media/_excel/2020/03/gemeenten-alfabetisch-2020.xlsx')\n",
    "print(municipality.head())\n",
    "# aantallen per gemeente: https://data.rivm.nl/geonetwork/srv/dut/catalog.search#/metadata/5f6bc429-1596-490e-8618-1ed8fd768427\n"
   ]
  },
  {
   "cell_type": "markdown",
   "metadata": {
    "cell_id": "00045-dcb546a2-a7ab-48ec-8363-46a648685e5f",
    "output_cleared": false
   },
   "source": [
    "### missing data, i would like to calculate of collect\n",
    "- covid numbers relitive to all data\n",
    "- deseased for whole country (possible source: https://data.rivm.nl/geonetwork/srv/dut/catalog.search#/metadata/1c0fcd57-1102-4620-9cfa-441e93ea5604)\n",
    "\n",
    "### more data"
   ]
  },
  {
   "cell_type": "markdown",
   "metadata": {
    "cell_id": "00046-2cbde6a9-a240-4171-8915-43c2b4012ebd",
    "output_cleared": false
   },
   "source": [
    "- Karakteristieken elke geteste persoon: https://data.rivm.nl/geonetwork/srv/dut/catalog.search#/metadata/2c4357c8-76e4-4662-9574-1deb8a73f724?tab=relations\n",
    "- https://data.rivm.nl"
   ]
  },
  {
   "cell_type": "code",
   "execution_count": null,
   "metadata": {
    "cell_id": "00047-232db9cf-c538-4c55-8aa8-e513b7f7bbc3",
    "output_cleared": false,
    "source_hash": "a637a860"
   },
   "outputs": [],
   "source": [
    "#check data collection\n",
    "from pivottablejs import pivot_ui\n",
    "from IPython.display import HTML\n",
    "\n",
    "df_to_check = ic1\n",
    "\n",
    "pivot_ui(df_to_check, outfile_path='pivottablejs.html')\n",
    "HTML('pivottablejs.html')"
   ]
  },
  {
   "cell_type": "code",
   "execution_count": null,
   "metadata": {
    "cell_id": "00048-353eaabc-86d7-4265-9601-326df1fea846",
    "output_cleared": false,
    "source_hash": "b623e53d"
   },
   "outputs": [],
   "source": []
  },
  {
   "cell_type": "code",
   "execution_count": null,
   "metadata": {},
   "outputs": [],
   "source": []
  }
 ],
 "metadata": {
  "deepnote_execution_queue": [],
  "deepnote_notebook_id": "057ef9e6-7042-4172-a7ca-da4122c96267",
  "kernelspec": {
   "display_name": "Covid",
   "language": "python",
   "name": "covid"
  },
  "language_info": {
   "codemirror_mode": {
    "name": "ipython",
    "version": 3
   },
   "file_extension": ".py",
   "mimetype": "text/x-python",
   "name": "python",
   "nbconvert_exporter": "python",
   "pygments_lexer": "ipython3",
   "version": "3.9.1"
  }
 },
 "nbformat": 4,
 "nbformat_minor": 4
}
