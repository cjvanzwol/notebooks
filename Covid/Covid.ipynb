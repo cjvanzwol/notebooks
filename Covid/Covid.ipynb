{
 "cells": [
  {
   "cell_type": "markdown",
   "metadata": {
    "cell_id": "00000-c087e9d7-6f70-4473-bd1a-e8288fdfad33",
    "output_cleared": false
   },
   "source": [
    "# Covid-19 data analysis for the Netherland\n",
    "## uses covid data to learn datascience in pyhton with Jupyterlab\n",
    "\n",
    "*Goals*\n",
    "1. learning datawcience\n",
    "2. learning python\n",
    "3. learning Jupyterlab\n",
    "4. maybe get some insight in covid"
   ]
  },
  {
   "cell_type": "code",
   "execution_count": null,
   "metadata": {
    "cell_id": "00001-7613d7a8-73ef-42cd-b9b4-832ce58f5791",
    "execution_millis": 1,
    "execution_start": 1604921726539,
    "output_cleared": false,
    "source_hash": "3b84bebe"
   },
   "outputs": [],
   "source": [
    "## install modules for Google Colab\n",
    "# uncomment line below and run cell\n",
    "#!pip install tabula-py cbsodata"
   ]
  },
  {
   "cell_type": "code",
   "execution_count": 60,
   "metadata": {
    "cell_id": "00002-31ca9e06-efb1-41d2-9676-0c8438d8dfe5",
    "execution": {
     "iopub.execute_input": "2021-01-08T13:32:39.941792Z",
     "iopub.status.busy": "2021-01-08T13:32:39.933232Z",
     "iopub.status.idle": "2021-01-08T13:32:40.002994Z",
     "shell.execute_reply": "2021-01-08T13:32:39.999414Z",
     "shell.execute_reply.started": "2021-01-08T13:32:39.941681Z"
    },
    "execution_millis": 2,
    "execution_start": 1604921727639,
    "output_cleared": false,
    "source_hash": "a1a7133b"
   },
   "outputs": [],
   "source": [
    "#from IPython.display import Markdown as md\n",
    "import os\n",
    "import pandas as pd\n",
    "import numpy as np\n",
    "import cbsodata as cbs\n",
    "from datetime import datetime\n",
    "import matplotlib.pyplot as plt\n",
    "%matplotlib widget\n",
    "import tabula\n",
    "\n",
    "## Revert to charts in pandas, for simplicity. \n",
    "#To DO: add Bokeh - https://docs.bokeh.org/\n",
    "#from bokeh.io import output_notebook\n",
    "#from bokeh.plotting import figure, show\n",
    "#from bokeh.palettes import viridis\n",
    "#import pandas_bokeh\n",
    "#output_notebook()"
   ]
  },
  {
   "cell_type": "code",
   "execution_count": 2,
   "metadata": {
    "cell_id": "00008-eb9c018f-bd94-4d74-8a95-8d7b4f29a097",
    "execution": {
     "iopub.execute_input": "2021-01-08T13:08:19.344637Z",
     "iopub.status.busy": "2021-01-08T13:08:19.343837Z",
     "iopub.status.idle": "2021-01-08T13:08:19.411567Z",
     "shell.execute_reply": "2021-01-08T13:08:19.393086Z",
     "shell.execute_reply.started": "2021-01-08T13:08:19.344587Z"
    },
    "execution_millis": 1,
    "execution_start": 1604927596819,
    "output_cleared": false,
    "source_hash": "8d10a70"
   },
   "outputs": [],
   "source": [
    "# defining function for calculating percentage\n",
    "def percentage(df, d, n):\n",
    "    name = '%_'+d+'_OF_'+n\n",
    "    df[name] = df[d]/df[n]*100\n",
    "    df[name].replace(np.nan, 0, inplace=True)\n",
    "\n",
    "def moving_average(df, n, p):\n",
    "    name = 'mva_'+n\n",
    "    windows = df[n].rolling(p)\n",
    "    positive_tests[name] = windows.mean()\n",
    "\n",
    "def running_total(df, n):\n",
    "    name = 'rt_'+n\n",
    "    df[name] = np.cumsum(df[n])"
   ]
  },
  {
   "cell_type": "code",
   "execution_count": 3,
   "metadata": {
    "execution": {
     "iopub.execute_input": "2021-01-08T13:08:19.416493Z",
     "iopub.status.busy": "2021-01-08T13:08:19.415916Z",
     "iopub.status.idle": "2021-01-08T13:08:19.432703Z",
     "shell.execute_reply": "2021-01-08T13:08:19.427835Z",
     "shell.execute_reply.started": "2021-01-08T13:08:19.416446Z"
    }
   },
   "outputs": [],
   "source": [
    "cbs_population_data_loc = './data/cbs_population.csv'\n",
    "cbs_deceased_data_loc = './data/cbs_deceased.csv'\n",
    "rivm_deceased_data_loc = './data/rivm_deceased.csv'\n",
    "rivm_positive_tests_loc = './data/rivm_positive_tests.csv'"
   ]
  },
  {
   "cell_type": "markdown",
   "metadata": {
    "cell_id": "00005-eb25f615-6736-4703-a256-c39ae4156f1d",
    "output_cleared": false
   },
   "source": [
    "## Collecting data\n",
    "\n",
    "### CBS\n",
    "https://opendata.cbs.nl/statline/portal.html"
   ]
  },
  {
   "cell_type": "code",
   "execution_count": 4,
   "metadata": {
    "execution": {
     "iopub.execute_input": "2021-01-08T13:08:19.435805Z",
     "iopub.status.busy": "2021-01-08T13:08:19.435384Z",
     "iopub.status.idle": "2021-01-08T13:08:20.109213Z",
     "shell.execute_reply": "2021-01-08T13:08:20.107596Z",
     "shell.execute_reply.started": "2021-01-08T13:08:19.435762Z"
    }
   },
   "outputs": [
    {
     "name": "stdout",
     "output_type": "stream",
     "text": [
      "Importing: Overledenen; geslacht en leeftijd, per week (Deseased; gender and age, per week)\n",
      "Dropping unnessecary rows\n",
      "DONE\n"
     ]
    }
   ],
   "source": [
    "print('Importing: Overledenen; geslacht en leeftijd, per week (Deseased; gender and age, per week)')\n",
    "try:\n",
    "    os.stat(cbs_deceased_data_loc)\n",
    "except:\n",
    "    deceased = pd.DataFrame(cbs.get_data('70895ned'))\n",
    "    deceased.to_csv(cbs_deceased_data_loc, index=False)\n",
    "finally:\n",
    "    deceased = pd.read_csv(cbs_deceased_data_loc, index_col='ID')\n",
    "\n",
    "# Start cleanup\n",
    "print('Dropping unnessecary rows')\n",
    "# Totals only\n",
    "deceased = deceased.loc[deceased['Geslacht'] == 'Totaal mannen en vrouwen',:]\n",
    "deceased = deceased.drop(columns='Geslacht')\n",
    "deceased = deceased.loc[deceased['LeeftijdOp31December'] != 'Totaal leeftijd',:]\n",
    "# weeks only, no totals\n",
    "deceased = deceased.loc[deceased.Perioden.str.len() != 4]\n",
    "deceased['year'] = deceased.loc[:,'Perioden'].str.slice(stop=4)\n",
    "deceased.year = deceased['year'].astype(int)\n",
    "# split Perioden into year and week\n",
    "deceased['week'] = deceased.loc[:,'Perioden'].str.slice(start=10,stop=12)\n",
    "deceased = deceased.loc[deceased.week != '']\n",
    "deceased['week'] = deceased['week'].astype(int)\n",
    "deceased['tmp_1'] = deceased.Perioden.str.slice(start=13,stop=14)\n",
    "deceased['tmp_2'] = deceased.Perioden.str.slice(start=14,stop=15)\n",
    "deceased['dagen_week'] = deceased['tmp_2'].combine(deceased['tmp_1'], max)\n",
    "deceased = deceased.drop(columns='tmp_1')\n",
    "deceased = deceased.drop(columns='tmp_2')\n",
    "deceased['dagen_week'].replace('',np.nan,inplace=True)\n",
    "deceased['dagen_week'] = deceased['dagen_week'].astype(float)\n",
    "# set Index\n",
    "deceased['YW'] = deceased['year']*100+deceased['week']\n",
    "deceased['YW'] = deceased['YW'].astype(int)\n",
    "#deceased.set_index(deceased.YW,inplace=True)\n",
    "deceased.reset_index(inplace=True)\n",
    "deceased = deceased.drop(columns='ID')\n",
    "\n",
    "# set seprate dataframe for total\n",
    "deceased_tot = deceased.groupby(by='YW',as_index=False).sum()\n",
    "deceased_tot['year'] = deceased_tot['YW'].astype(str).str.slice(stop=4)\n",
    "deceased_tot['year'] = deceased_tot['year'].astype(int)\n",
    "deceased_tot['week'] = deceased_tot['YW'].astype(str).str.slice(start=4)\n",
    "deceased_tot['week'] = deceased_tot['week'].astype(int)\n",
    "\n",
    "print('DONE')"
   ]
  },
  {
   "cell_type": "code",
   "execution_count": 5,
   "metadata": {
    "execution": {
     "iopub.execute_input": "2021-01-08T13:08:20.113147Z",
     "iopub.status.busy": "2021-01-08T13:08:20.112082Z",
     "iopub.status.idle": "2021-01-08T13:08:21.380327Z",
     "shell.execute_reply": "2021-01-08T13:08:21.378675Z",
     "shell.execute_reply.started": "2021-01-08T13:08:20.113062Z"
    }
   },
   "outputs": [
    {
     "name": "stdout",
     "output_type": "stream",
     "text": [
      "Covid-19 aantallen per gemeente per publicatiedatum\n",
      "DONE\n"
     ]
    }
   ],
   "source": [
    "print(\"Covid-19 aantallen per gemeente per publicatiedatum\")\n",
    "# https://data.rivm.nl/geonetwork/srv/dut/catalog.search#/metadata/5f6bc429-1596-490e-8618-1ed8fd768427\n",
    "try:\n",
    "    os.stat(rivm_deceased_data_loc)\n",
    "except:\n",
    "    c_deceased = pd.read_json('https://data.rivm.nl/covid-19/COVID-19_aantallen_gemeente_per_dag.json')\n",
    "    c_deceased.to_csv(rivm_deceased_data_loc, index=False)\n",
    "finally:\n",
    "    c_deceased = pd.read_csv(rivm_deceased_data_loc)\n",
    "\n",
    "\n",
    "\n",
    "c_deceased = c_deceased.groupby('Date_of_publication').sum()\n",
    "c_deceased.index = pd.PeriodIndex(c_deceased.index, freq='D')\n",
    "c_deceased['YW'] = c_deceased.index.year*100+c_deceased.index.week\n",
    "c_deceased = c_deceased.groupby(by='YW').sum()\n",
    "c_deceased = c_deceased[c_deceased.index < deceased_tot['YW'].max()]\n",
    "\n",
    "print('DONE')"
   ]
  },
  {
   "cell_type": "code",
   "execution_count": 6,
   "metadata": {
    "execution": {
     "iopub.execute_input": "2021-01-08T13:08:21.384764Z",
     "iopub.status.busy": "2021-01-08T13:08:21.383622Z",
     "iopub.status.idle": "2021-01-08T13:08:21.512676Z",
     "shell.execute_reply": "2021-01-08T13:08:21.499090Z",
     "shell.execute_reply.started": "2021-01-08T13:08:21.384605Z"
    }
   },
   "outputs": [
    {
     "data": {
      "text/html": [
       "<div>\n",
       "<style scoped>\n",
       "    .dataframe tbody tr th:only-of-type {\n",
       "        vertical-align: middle;\n",
       "    }\n",
       "\n",
       "    .dataframe tbody tr th {\n",
       "        vertical-align: top;\n",
       "    }\n",
       "\n",
       "    .dataframe thead th {\n",
       "        text-align: right;\n",
       "    }\n",
       "</style>\n",
       "<table border=\"1\" class=\"dataframe\">\n",
       "  <thead>\n",
       "    <tr style=\"text-align: right;\">\n",
       "      <th></th>\n",
       "      <th>year</th>\n",
       "      <th>week</th>\n",
       "      <th>dagen_week</th>\n",
       "      <th>Deceased</th>\n",
       "      <th>Deceased_covid</th>\n",
       "      <th>Deceased_other</th>\n",
       "      <th>Positive_tested</th>\n",
       "      <th>Hospital_admission</th>\n",
       "    </tr>\n",
       "    <tr>\n",
       "      <th>YW</th>\n",
       "      <th></th>\n",
       "      <th></th>\n",
       "      <th></th>\n",
       "      <th></th>\n",
       "      <th></th>\n",
       "      <th></th>\n",
       "      <th></th>\n",
       "      <th></th>\n",
       "    </tr>\n",
       "  </thead>\n",
       "  <tbody>\n",
       "    <tr>\n",
       "      <th>199500</th>\n",
       "      <td>1995.0</td>\n",
       "      <td>0.0</td>\n",
       "      <td>3.0</td>\n",
       "      <td>394.0</td>\n",
       "      <td>NaN</td>\n",
       "      <td>NaN</td>\n",
       "      <td>NaN</td>\n",
       "      <td>NaN</td>\n",
       "    </tr>\n",
       "    <tr>\n",
       "      <th>199501</th>\n",
       "      <td>1995.0</td>\n",
       "      <td>1.0</td>\n",
       "      <td>0.0</td>\n",
       "      <td>2719.0</td>\n",
       "      <td>NaN</td>\n",
       "      <td>NaN</td>\n",
       "      <td>NaN</td>\n",
       "      <td>NaN</td>\n",
       "    </tr>\n",
       "    <tr>\n",
       "      <th>199502</th>\n",
       "      <td>1995.0</td>\n",
       "      <td>2.0</td>\n",
       "      <td>0.0</td>\n",
       "      <td>2823.0</td>\n",
       "      <td>NaN</td>\n",
       "      <td>NaN</td>\n",
       "      <td>NaN</td>\n",
       "      <td>NaN</td>\n",
       "    </tr>\n",
       "    <tr>\n",
       "      <th>199503</th>\n",
       "      <td>1995.0</td>\n",
       "      <td>3.0</td>\n",
       "      <td>0.0</td>\n",
       "      <td>2609.0</td>\n",
       "      <td>NaN</td>\n",
       "      <td>NaN</td>\n",
       "      <td>NaN</td>\n",
       "      <td>NaN</td>\n",
       "    </tr>\n",
       "    <tr>\n",
       "      <th>199504</th>\n",
       "      <td>1995.0</td>\n",
       "      <td>4.0</td>\n",
       "      <td>0.0</td>\n",
       "      <td>2664.0</td>\n",
       "      <td>NaN</td>\n",
       "      <td>NaN</td>\n",
       "      <td>NaN</td>\n",
       "      <td>NaN</td>\n",
       "    </tr>\n",
       "    <tr>\n",
       "      <th>...</th>\n",
       "      <td>...</td>\n",
       "      <td>...</td>\n",
       "      <td>...</td>\n",
       "      <td>...</td>\n",
       "      <td>...</td>\n",
       "      <td>...</td>\n",
       "      <td>...</td>\n",
       "      <td>...</td>\n",
       "    </tr>\n",
       "    <tr>\n",
       "      <th>202048</th>\n",
       "      <td>2020.0</td>\n",
       "      <td>48.0</td>\n",
       "      <td>0.0</td>\n",
       "      <td>3393.0</td>\n",
       "      <td>457.0</td>\n",
       "      <td>2936.0</td>\n",
       "      <td>34367.0</td>\n",
       "      <td>487.0</td>\n",
       "    </tr>\n",
       "    <tr>\n",
       "      <th>202049</th>\n",
       "      <td>2020.0</td>\n",
       "      <td>49.0</td>\n",
       "      <td>0.0</td>\n",
       "      <td>3512.0</td>\n",
       "      <td>335.0</td>\n",
       "      <td>3177.0</td>\n",
       "      <td>38363.0</td>\n",
       "      <td>414.0</td>\n",
       "    </tr>\n",
       "    <tr>\n",
       "      <th>202050</th>\n",
       "      <td>2020.0</td>\n",
       "      <td>50.0</td>\n",
       "      <td>0.0</td>\n",
       "      <td>3580.0</td>\n",
       "      <td>366.0</td>\n",
       "      <td>3214.0</td>\n",
       "      <td>56400.0</td>\n",
       "      <td>510.0</td>\n",
       "    </tr>\n",
       "    <tr>\n",
       "      <th>202051</th>\n",
       "      <td>2020.0</td>\n",
       "      <td>51.0</td>\n",
       "      <td>0.0</td>\n",
       "      <td>3959.0</td>\n",
       "      <td>NaN</td>\n",
       "      <td>NaN</td>\n",
       "      <td>NaN</td>\n",
       "      <td>NaN</td>\n",
       "    </tr>\n",
       "    <tr>\n",
       "      <th>202010</th>\n",
       "      <td>NaN</td>\n",
       "      <td>NaN</td>\n",
       "      <td>NaN</td>\n",
       "      <td>NaN</td>\n",
       "      <td>2.0</td>\n",
       "      <td>NaN</td>\n",
       "      <td>158.0</td>\n",
       "      <td>28.0</td>\n",
       "    </tr>\n",
       "  </tbody>\n",
       "</table>\n",
       "<p>1378 rows × 8 columns</p>\n",
       "</div>"
      ],
      "text/plain": [
       "          year  week  dagen_week  Deceased  Deceased_covid  Deceased_other  \\\n",
       "YW                                                                           \n",
       "199500  1995.0   0.0         3.0     394.0             NaN             NaN   \n",
       "199501  1995.0   1.0         0.0    2719.0             NaN             NaN   \n",
       "199502  1995.0   2.0         0.0    2823.0             NaN             NaN   \n",
       "199503  1995.0   3.0         0.0    2609.0             NaN             NaN   \n",
       "199504  1995.0   4.0         0.0    2664.0             NaN             NaN   \n",
       "...        ...   ...         ...       ...             ...             ...   \n",
       "202048  2020.0  48.0         0.0    3393.0           457.0          2936.0   \n",
       "202049  2020.0  49.0         0.0    3512.0           335.0          3177.0   \n",
       "202050  2020.0  50.0         0.0    3580.0           366.0          3214.0   \n",
       "202051  2020.0  51.0         0.0    3959.0             NaN             NaN   \n",
       "202010     NaN   NaN         NaN       NaN             2.0             NaN   \n",
       "\n",
       "        Positive_tested  Hospital_admission  \n",
       "YW                                           \n",
       "199500              NaN                 NaN  \n",
       "199501              NaN                 NaN  \n",
       "199502              NaN                 NaN  \n",
       "199503              NaN                 NaN  \n",
       "199504              NaN                 NaN  \n",
       "...                 ...                 ...  \n",
       "202048          34367.0               487.0  \n",
       "202049          38363.0               414.0  \n",
       "202050          56400.0               510.0  \n",
       "202051              NaN                 NaN  \n",
       "202010            158.0                28.0  \n",
       "\n",
       "[1378 rows x 8 columns]"
      ]
     },
     "execution_count": 6,
     "metadata": {},
     "output_type": "execute_result"
    }
   ],
   "source": [
    "# merging cbs data with rivm data\n",
    "deceased_tot = deceased_tot.merge(c_deceased, on='YW', how='outer', suffixes=('_cbs', '_rivm'))\n",
    "deceased_tot = deceased_tot.rename(columns={'Overledenen_1':'Deceased','Total_reported':'Positive_tested','Deceased':'Deceased_covid'})\n",
    "deceased_tot['Deceased_other'] = deceased_tot['Deceased']-deceased_tot['Deceased_covid']\n",
    "deceased_tot.set_index('YW', inplace=True)\n",
    "deceased_tot = deceased_tot[[\"year\", \"week\", \"dagen_week\", \"Deceased\", \"Deceased_covid\", \"Deceased_other\", \"Positive_tested\", \"Hospital_admission\"]]"
   ]
  },
  {
   "cell_type": "code",
   "execution_count": 61,
   "metadata": {
    "execution": {
     "iopub.execute_input": "2021-01-08T13:32:45.408440Z",
     "iopub.status.busy": "2021-01-08T13:32:45.403628Z",
     "iopub.status.idle": "2021-01-08T13:32:45.928216Z",
     "shell.execute_reply": "2021-01-08T13:32:45.913557Z",
     "shell.execute_reply.started": "2021-01-08T13:32:45.408338Z"
    }
   },
   "outputs": [
    {
     "data": {
      "application/vnd.jupyter.widget-view+json": {
       "model_id": "31a1bdcf231e45b4915c7cff61887c5e",
       "version_major": 2,
       "version_minor": 0
      },
      "text/plain": [
       "Canvas(toolbar=Toolbar(toolitems=[('Home', 'Reset original view', 'home', 'home'), ('Back', 'Back to previous …"
      ]
     },
     "metadata": {},
     "output_type": "display_data"
    }
   ],
   "source": [
    "# set data\n",
    "x_tot = deceased_tot.index\n",
    "y_tot = deceased_tot.Deceased.rolling(window=4).mean()\n",
    "y_cov = deceased_tot.Deceased_covid.rolling(window=4).mean()\n",
    "y_oth = deceased_tot.Deceased_other.rolling(window=4).mean()\n",
    "\n",
    "x_ = deceased.YW[deceased['LeeftijdOp31December'] == '0 tot 65 jaar']\n",
    "y_0 = deceased.Overledenen_1[deceased['LeeftijdOp31December'] == '0 tot 65 jaar'].rolling(window=4).mean()\n",
    "y_65 = deceased.Overledenen_1[deceased['LeeftijdOp31December'] == '65 tot 80 jaar'].rolling(window=4).mean()\n",
    "y_80 = deceased.Overledenen_1[deceased['LeeftijdOp31December'] == '80 jaar of ouder'].rolling(window=4).mean()\n",
    "\n",
    "# set plot\n",
    "plt.plot(x_tot, y_tot, label='Total')\n",
    "plt.plot(x_tot, y_cov, label='Covid')\n",
    "plt.plot(x_tot, y_oth, label='other')\n",
    "plt.plot(x_, y_0, color='b', label='0 tot 65 jaar')\n",
    "plt.plot(x_, y_65, label='65 tot 80 jaar')\n",
    "plt.plot(x_, y_80, label='80 jaar of ouder')\n",
    "\n",
    "plt.title('Deceased per week 1995-2020')\n",
    "plt.xlabel('YearWeek')\n",
    "plt.ylabel('Count')\n",
    "plt.legend()\n",
    "\n",
    "# show plot\n",
    "plt.show()"
   ]
  },
  {
   "cell_type": "code",
   "execution_count": 62,
   "metadata": {
    "execution": {
     "iopub.execute_input": "2021-01-08T13:34:20.002704Z",
     "iopub.status.busy": "2021-01-08T13:34:20.001855Z",
     "iopub.status.idle": "2021-01-08T13:34:20.210595Z",
     "shell.execute_reply": "2021-01-08T13:34:20.206068Z",
     "shell.execute_reply.started": "2021-01-08T13:34:20.002545Z"
    }
   },
   "outputs": [
    {
     "data": {
      "text/html": [
       "<div>\n",
       "<style scoped>\n",
       "    .dataframe tbody tr th:only-of-type {\n",
       "        vertical-align: middle;\n",
       "    }\n",
       "\n",
       "    .dataframe tbody tr th {\n",
       "        vertical-align: top;\n",
       "    }\n",
       "\n",
       "    .dataframe thead th {\n",
       "        text-align: right;\n",
       "    }\n",
       "</style>\n",
       "<table border=\"1\" class=\"dataframe\">\n",
       "  <thead>\n",
       "    <tr style=\"text-align: right;\">\n",
       "      <th></th>\n",
       "      <th>year</th>\n",
       "      <th>week</th>\n",
       "      <th>dagen_week</th>\n",
       "      <th>Deceased</th>\n",
       "      <th>Deceased_covid</th>\n",
       "      <th>Deceased_other</th>\n",
       "      <th>Positive_tested</th>\n",
       "      <th>Hospital_admission</th>\n",
       "    </tr>\n",
       "  </thead>\n",
       "  <tbody>\n",
       "    <tr>\n",
       "      <th>year</th>\n",
       "      <td>1.000000</td>\n",
       "      <td>-0.002800</td>\n",
       "      <td>0.009263</td>\n",
       "      <td>0.243494</td>\n",
       "      <td>NaN</td>\n",
       "      <td>NaN</td>\n",
       "      <td>NaN</td>\n",
       "      <td>NaN</td>\n",
       "    </tr>\n",
       "    <tr>\n",
       "      <th>week</th>\n",
       "      <td>-0.002800</td>\n",
       "      <td>1.000000</td>\n",
       "      <td>-0.017385</td>\n",
       "      <td>-0.239333</td>\n",
       "      <td>-0.168763</td>\n",
       "      <td>-0.209452</td>\n",
       "      <td>0.744802</td>\n",
       "      <td>-0.262450</td>\n",
       "    </tr>\n",
       "    <tr>\n",
       "      <th>dagen_week</th>\n",
       "      <td>0.009263</td>\n",
       "      <td>-0.017385</td>\n",
       "      <td>1.000000</td>\n",
       "      <td>-0.344870</td>\n",
       "      <td>NaN</td>\n",
       "      <td>NaN</td>\n",
       "      <td>NaN</td>\n",
       "      <td>NaN</td>\n",
       "    </tr>\n",
       "    <tr>\n",
       "      <th>Deceased</th>\n",
       "      <td>0.243494</td>\n",
       "      <td>-0.239333</td>\n",
       "      <td>-0.344870</td>\n",
       "      <td>1.000000</td>\n",
       "      <td>0.899871</td>\n",
       "      <td>0.946202</td>\n",
       "      <td>0.270022</td>\n",
       "      <td>0.904308</td>\n",
       "    </tr>\n",
       "    <tr>\n",
       "      <th>Deceased_covid</th>\n",
       "      <td>NaN</td>\n",
       "      <td>-0.168763</td>\n",
       "      <td>NaN</td>\n",
       "      <td>0.899871</td>\n",
       "      <td>1.000000</td>\n",
       "      <td>0.710329</td>\n",
       "      <td>0.250287</td>\n",
       "      <td>0.801205</td>\n",
       "    </tr>\n",
       "    <tr>\n",
       "      <th>Deceased_other</th>\n",
       "      <td>NaN</td>\n",
       "      <td>-0.209452</td>\n",
       "      <td>NaN</td>\n",
       "      <td>0.946202</td>\n",
       "      <td>0.710329</td>\n",
       "      <td>1.000000</td>\n",
       "      <td>0.258327</td>\n",
       "      <td>0.866522</td>\n",
       "    </tr>\n",
       "    <tr>\n",
       "      <th>Positive_tested</th>\n",
       "      <td>NaN</td>\n",
       "      <td>0.744802</td>\n",
       "      <td>NaN</td>\n",
       "      <td>0.270022</td>\n",
       "      <td>0.250287</td>\n",
       "      <td>0.258327</td>\n",
       "      <td>1.000000</td>\n",
       "      <td>0.159288</td>\n",
       "    </tr>\n",
       "    <tr>\n",
       "      <th>Hospital_admission</th>\n",
       "      <td>NaN</td>\n",
       "      <td>-0.262450</td>\n",
       "      <td>NaN</td>\n",
       "      <td>0.904308</td>\n",
       "      <td>0.801205</td>\n",
       "      <td>0.866522</td>\n",
       "      <td>0.159288</td>\n",
       "      <td>1.000000</td>\n",
       "    </tr>\n",
       "  </tbody>\n",
       "</table>\n",
       "</div>"
      ],
      "text/plain": [
       "                        year      week  dagen_week  Deceased  Deceased_covid  \\\n",
       "year                1.000000 -0.002800    0.009263  0.243494             NaN   \n",
       "week               -0.002800  1.000000   -0.017385 -0.239333       -0.168763   \n",
       "dagen_week          0.009263 -0.017385    1.000000 -0.344870             NaN   \n",
       "Deceased            0.243494 -0.239333   -0.344870  1.000000        0.899871   \n",
       "Deceased_covid           NaN -0.168763         NaN  0.899871        1.000000   \n",
       "Deceased_other           NaN -0.209452         NaN  0.946202        0.710329   \n",
       "Positive_tested          NaN  0.744802         NaN  0.270022        0.250287   \n",
       "Hospital_admission       NaN -0.262450         NaN  0.904308        0.801205   \n",
       "\n",
       "                    Deceased_other  Positive_tested  Hospital_admission  \n",
       "year                           NaN              NaN                 NaN  \n",
       "week                     -0.209452         0.744802           -0.262450  \n",
       "dagen_week                     NaN              NaN                 NaN  \n",
       "Deceased                  0.946202         0.270022            0.904308  \n",
       "Deceased_covid            0.710329         0.250287            0.801205  \n",
       "Deceased_other            1.000000         0.258327            0.866522  \n",
       "Positive_tested           0.258327         1.000000            0.159288  \n",
       "Hospital_admission        0.866522         0.159288            1.000000  "
      ]
     },
     "execution_count": 62,
     "metadata": {},
     "output_type": "execute_result"
    }
   ],
   "source": [
    "deceased_tot.corr()"
   ]
  },
  {
   "cell_type": "code",
   "execution_count": null,
   "metadata": {
    "cell_id": "00006-7bca383e-5270-414d-aae1-6beb8c224746",
    "execution": {
     "iopub.execute_input": "2021-01-08T13:34:24.883990Z",
     "iopub.status.busy": "2021-01-08T13:34:24.882644Z"
    },
    "execution_millis": 87411,
    "execution_start": 1604934404995,
    "output_cleared": false,
    "source_hash": "44135caa"
   },
   "outputs": [
    {
     "name": "stdout",
     "output_type": "stream",
     "text": [
      "Importing: Bevolkingsontwikkeling; maand en jaar 2002-now (Population statistics, month and year)\n"
     ]
    }
   ],
   "source": [
    "print('Importing: Bevolkingsontwikkeling; maand en jaar 2002-now (Population statistics, month and year)')\n",
    "try:\n",
    "    os.stat(cbs_population_data_loc)\n",
    "except:\n",
    "    population = pd.DataFrame(cbs.get_data('37230ned'))\n",
    "    population.to_csv(cbs_population_data_loc, index=False)\n",
    "finally:\n",
    "    population = pd.read_csv(cbs_population_data_loc, index_col='ID')\n",
    "print('DONE')"
   ]
  },
  {
   "cell_type": "code",
   "execution_count": null,
   "metadata": {
    "cell_id": "00007-99b80138-53f3-4842-a5fe-42eca07f0a11",
    "execution_millis": 2,
    "execution_start": 1604934492408,
    "output_cleared": false,
    "source_hash": "f33bd192"
   },
   "outputs": [],
   "source": [
    "print('Preparing Dataframe for analyses')\n",
    "print('Dropping unnecessary columns')\n",
    "population = population.drop(columns=['BevolkingAanHetBeginVanDePeriode_1','TotaleVestiging_4',\n",
    "       'VestigingVanuitEenAndereGemeente_5', 'Immigratie_6',\n",
    "       'TotaalVertrekInclAdmCorrecties_7', 'VertrekNaarAndereGemeente_8',\n",
    "       'EmigratieInclusiefAdmCorrecties_9', 'OverigeCorrecties_10',\n",
    "       'Bevolkingsgroei_11', 'BevolkingsgroeiRelatief_12',\n",
    "       'BevolkingsgroeiSinds1Januari_13',\n",
    "       'BevolkingsgroeiSinds1JanuariRela_14'])\n",
    "population = population.rename(columns={\"LevendGeborenKinderen_2\": \"Born\", \"Overledenen_3\": \"Deceased\", \"BevolkingAanHetEindeVanDePeriode_15\": \"Population\"})\n",
    "print('DONE')"
   ]
  },
  {
   "cell_type": "code",
   "execution_count": null,
   "metadata": {
    "cell_id": "00012-de433ea3-0162-4f4f-be0e-a598a0b1bf6d",
    "execution_millis": 3152,
    "execution_start": 1604934379492,
    "output_cleared": false,
    "source_hash": "f8654fa4",
    "tags": []
   },
   "outputs": [],
   "source": [
    "print('Setting PeriodIndex')\n",
    "population['year'] = population.loc[:,'Perioden'].str.slice(stop=4)\n",
    "population['month'] = population.loc[:,'Perioden'].str.slice(start=5)\n",
    "population_y = population.loc[population['month'] == '',:]\n",
    "population_y = population_y.drop(columns='month')\n",
    "population_y = population_y.set_index(population_y['year'])\n",
    "population_y.index = pd.PeriodIndex(population_y.index,freq='Y')\n",
    "\n",
    "population = population.loc[population['month'] != '',:]\n",
    "population['month'] = population.loc[:,'month'].replace({\n",
    "    'januari': '01',\n",
    "    'februari': '02',\n",
    "    'maart': '03',\n",
    "    'april': '04',\n",
    "    'mei': '05',\n",
    "    'juni': '06',\n",
    "    'juli': '07',\n",
    "    'augustus': '08',\n",
    "    'september': '09',\n",
    "    'oktober': '10',\n",
    "    'november': '11',\n",
    "    'december': '12'})\n",
    "\n",
    "population = population.set_index(population['year'] + '-' + population['month'])\n",
    "population.index = pd.PeriodIndex(population.index, freq='M')\n",
    "print('DONE')"
   ]
  },
  {
   "cell_type": "code",
   "execution_count": null,
   "metadata": {
    "cell_id": "00008-905c3269-8bbb-4218-b91f-2dba8a352734",
    "execution_millis": 0,
    "execution_start": 1604934330891,
    "output_cleared": false,
    "source_hash": "be3bdb74",
    "tags": []
   },
   "outputs": [],
   "source": [
    "print('Calculating percentage deceased of population')\n",
    "percentage(population,'Deceased','Population')\n",
    "percentage(population_y,'Deceased', 'Population')\n",
    "print('DONE')"
   ]
  },
  {
   "cell_type": "code",
   "execution_count": null,
   "metadata": {
    "cell_id": "00011-f64e6707-802b-4566-98e6-f3c3a4db4b33",
    "execution_millis": 19,
    "execution_start": 1604927407570,
    "output_cleared": false,
    "source_hash": "7c436d14",
    "tags": []
   },
   "outputs": [],
   "source": [
    "print('Ceating dataframe for Nederland')\n",
    "population_nl = population[population['RegioS'] == 'Nederland']\n",
    "population = population[population['RegioS'] != 'Nederland']\n",
    "population_y_nl = population_y[population_y['RegioS'] == 'Nederland']\n",
    "population_y = population_y[population_y['RegioS'] != 'Nederland']\n",
    "print('DONE')"
   ]
  },
  {
   "cell_type": "code",
   "execution_count": null,
   "metadata": {
    "cell_id": "00013-ff08f7b3-30ff-4be4-b373-ccedaf56d2ea",
    "execution_millis": 1463,
    "execution_start": 1604927411641,
    "output_cleared": false,
    "source_hash": "196e35b6",
    "tags": []
   },
   "outputs": [],
   "source": [
    "population_nl.plot(subplots=True,figsize=(20,10))\n",
    "population_nl.pivot(index='month',columns='year', values='Deceased').plot(figsize=(20,10))\n",
    "population_nl.pivot(index='month',columns='year',values='%_Deceased_OF_Population').plot(figsize=(20,10))"
   ]
  },
  {
   "cell_type": "code",
   "execution_count": null,
   "metadata": {
    "cell_id": "00011-bd0d525d-5098-4022-b2e9-fd4eabf9c8cc",
    "execution_millis": 2,
    "execution_start": 1604927463015,
    "output_cleared": false,
    "source_hash": "cbc3ba2c",
    "tags": []
   },
   "outputs": [],
   "source": [
    "x=population_y_nl.index\n",
    "ax=population_y_nl.plot(kind='line', y='Deceased', color='DarkBlue',figsize=(20,10))\n",
    "ax2=population_y_nl.plot(kind='line',y='%_Deceased_OF_Population', secondary_y=True,color='Red', ax=ax)\n",
    "ax.set_ylabel('Deceased')\n",
    "ax2.set_ylabel('% of population')\n",
    "plt.tight_layout()\n",
    "plt.show()"
   ]
  },
  {
   "cell_type": "code",
   "execution_count": null,
   "metadata": {
    "cell_id": "00010-b41d4c0d-2ab3-4559-818b-11b714e6c2d7",
    "execution_millis": 372,
    "execution_start": 1604924308711,
    "output_cleared": false,
    "source_hash": "432dfd14"
   },
   "outputs": [],
   "source": [
    "#print('Ceating dataframe for Landsdeel')\n",
    "print('SKIPPING Landsdeel')\n",
    "#population_ld = population[population['RegioS'].str.slice(start=-4) == '(LD)']\n",
    "population = population[population['RegioS'].str.slice(start=-4) != '(LD)']\n",
    "#print('DONE')\n",
    "\n",
    "print('Ceating dataframe for Provincies')\n",
    "#print('SKIPPING Province')\n",
    "population_pv = population[population['RegioS'].str.slice(start=-4) == '(PV)']\n",
    "population_pv['RegioS'] = population_pv['RegioS'].str.slice(stop=-5)\n",
    "population = population[population['RegioS'].str.slice(start=-4) != '(PV)']\n",
    "print('DONE')\n",
    "\n",
    "print('Ceating dataframe for COROP-gebied')\n",
    "print('SKIPPING COROP-gebied')\n",
    "#population_cr = population[population['RegioS'].str.slice(start=-4) == '(CR)']\n",
    "population = population[population['RegioS'].str.slice(start=-4) != '(CR)']\n",
    "#print('DONE')\n",
    "\n",
    "print('Ceating dataframe for Gemeenten')\n",
    "population_gm = population\n",
    "print('DONE')\n",
    "#del(population)"
   ]
  },
  {
   "cell_type": "code",
   "execution_count": null,
   "metadata": {
    "cell_id": "00011-c016c714-5146-4563-91ea-0805f64d2bae",
    "execution_millis": 2320,
    "output_cleared": false,
    "source_hash": "67b3926c"
   },
   "outputs": [],
   "source": [
    "provincies = population_pv.pivot(columns='RegioS',values='%_Deceased_OF_Population')\n",
    "provincies.plot(figsize=(20,10))"
   ]
  },
  {
   "cell_type": "code",
   "execution_count": null,
   "metadata": {},
   "outputs": [],
   "source": [
    "provincies.plot(figsize=(20,50),subplots=True)"
   ]
  },
  {
   "cell_type": "code",
   "execution_count": null,
   "metadata": {},
   "outputs": [],
   "source": [
    "prov2020 = population_pv[population_pv.index >= '2020'].pivot(columns='RegioS',values='%_Deceased_OF_Population')\n",
    "prov2020.plot(figsize=(20,10))"
   ]
  },
  {
   "cell_type": "code",
   "execution_count": null,
   "metadata": {},
   "outputs": [],
   "source": [
    "prov2020.plot(figsize=(20,50),subplots=True)"
   ]
  },
  {
   "cell_type": "code",
   "execution_count": null,
   "metadata": {},
   "outputs": [],
   "source": []
  },
  {
   "cell_type": "raw",
   "metadata": {
    "cell_id": "00012-6e4c5232-d649-4761-ae9a-c448f1a9ced5",
    "execution_millis": 2,
    "output_cleared": false,
    "source_hash": "6a4b376f"
   },
   "source": [
    "#TO DO\n",
    "# add CBS oversterfte (look for source)\n",
    "# causes of death: 7052_95, 82899NED, 7233, 71426ned/71936ned verkeer,84726NED, 37360ned age, 70895ned, 7022gza, 80202ned, 71044NED, 71045NED\n",
    "# age of death 37979ned, 83194NED, 70895ned\n",
    "# 83110NED"
   ]
  },
  {
   "cell_type": "markdown",
   "metadata": {
    "cell_id": "00013-be83571f-8731-49d8-860a-eb4d20a17ae2",
    "output_cleared": false
   },
   "source": [
    "### and then reproducting the coronadashboard\n",
    "The data I use is the sources used formhet Coronadashbord of the Dutch government. https://coronadashboard.rijksoverheid.nl/\n",
    "  \n",
    "This contains:\n",
    "*medical indicators*"
   ]
  },
  {
   "cell_type": "code",
   "execution_count": null,
   "metadata": {
    "cell_id": "00014-99b1c62f-49aa-4861-b208-e1d728c252f6",
    "execution_millis": 55561,
    "output_cleared": false,
    "source_hash": "7cba26b7"
   },
   "outputs": [],
   "source": [
    "print(\"- number of positive tests\") #https://data.rivm.nl/geonetwork/srv/dut/catalog.search#/metadata/5f6bc429-1596-490e-8618-1ed8fd768427\n",
    "url = 'https://data.rivm.nl/covid-19/COVID-19_aantallen_gemeente_per_dag.json'\n",
    "try:\n",
    "    os.stat(rivm_positive_tests_loc)\n",
    "except:\n",
    "    positive_tests = pd.read_json(url)\n",
    "    positive_tests.to_csv(rivm_positive_tests_loc, index=False)\n",
    "finally:\n",
    "    positive_tests = pd.read_csv(rivm_positive_tests_loc)\n",
    "print('DONE')"
   ]
  },
  {
   "cell_type": "code",
   "execution_count": null,
   "metadata": {
    "cell_id": "00015-b259e4c8-8f7a-4572-ab6c-a5a05dd135d8",
    "execution_millis": 47,
    "output_cleared": false,
    "source_hash": "f98695e0"
   },
   "outputs": [],
   "source": [
    "rivm_date_of_report = positive_tests.loc[0,'Date_of_report']\n",
    "print('Date of report for RIVM positive tests data = ' + str(rivm_date_of_report))\n",
    "positive_tests = positive_tests.drop(columns='Date_of_report')"
   ]
  },
  {
   "cell_type": "code",
   "execution_count": null,
   "metadata": {},
   "outputs": [],
   "source": [
    "# cumulatives\n",
    "running_total(positive_tests, 'Total_reported')\n",
    "running_total(positive_tests, 'Hospital_admission')\n",
    "running_total(positive_tests, 'Deceased')"
   ]
  },
  {
   "cell_type": "code",
   "execution_count": null,
   "metadata": {},
   "outputs": [],
   "source": [
    "# percentages\n",
    "percentage(positive_tests, 'rt_Deceased', 'rt_Total_reported')\n",
    "percentage(positive_tests, 'rt_Deceased', 'rt_Hospital_admission')\n",
    "percentage(positive_tests, 'rt_Hospital_admission', 'rt_Total_reported')"
   ]
  },
  {
   "cell_type": "code",
   "execution_count": null,
   "metadata": {},
   "outputs": [],
   "source": [
    "pfr = positive_tests.loc[positive_tests.index.argmax(),'%_rt_Deceased_OF_rt_Total_reported']\n",
    "hfr = positive_tests.loc[positive_tests.index.argmax(),'%_rt_Deceased_OF_rt_Hospital_admission']\n",
    "print('pfr on '+rivm_date_of_report+ 'is '+str(pfr)+'%')\n",
    "print('hfr on '+rivm_date_of_report+ 'is '+str(hfr)+'%')"
   ]
  },
  {
   "cell_type": "code",
   "execution_count": null,
   "metadata": {},
   "outputs": [],
   "source": [
    "positive_tests.plot(figsize=(20,20),subplots=True)\n",
    "positive_tests.plot(y=['Total_reported', 'Hospital_admission', 'Deceased'], figsize=(20, 10))\n",
    "positive_tests.plot(y=['rt_Total_reported', 'rt_Hospital_admission', 'rt_Deceased'], figsize=(20, 10))\n",
    "positive_tests.plot(y=['%_rt_Deceased_OF_rt_Total_reported', '%_rt_Deceased_OF_rt_Hospital_admission', '%_rt_Hospital_admission_OF_rt_Total_reported'], figsize=(20, 10))"
   ]
  },
  {
   "cell_type": "code",
   "execution_count": null,
   "metadata": {
    "cell_id": "00016-d0b7c68c-d5fd-4129-b638-022f9aebadd8",
    "execution_millis": 126,
    "output_cleared": false,
    "source_hash": "27ec402e"
   },
   "outputs": [],
   "source": [
    "positive_tests = positive_tests.set_index(pd.PeriodIndex(positive_tests['Date_of_publication'], freq='d'))\n",
    "positive_tests = positive_tests.drop(columns='Date_of_publication')\n",
    "positive_tests['P'] = positive_tests.index.strftime('%Y-%m')\n",
    "positive_tests = positive_tests.rename(index={'Date_of_publication':'date'})\n",
    "positive_tests"
   ]
  },
  {
   "cell_type": "code",
   "execution_count": null,
   "metadata": {
    "cell_id": "00017-9ec23c25-b600-443f-912e-3b57525d4082",
    "output_cleared": false,
    "source_hash": "5ee24e6a"
   },
   "outputs": [],
   "source": [
    "positive_tests_nl = positive_tests.sum(level='Date_of_publication')\n",
    "positive_tests_nl['P'] = positive_tests_nl.index.strftime('%Y-%m')\n",
    "positive_tests_nl"
   ]
  },
  {
   "cell_type": "code",
   "execution_count": null,
   "metadata": {
    "cell_id": "00018-65586d41-905e-44f3-a954-997880aabaad",
    "output_cleared": false,
    "source_hash": "7f29ea4d"
   },
   "outputs": [],
   "source": [
    "pop_latest = population_nl.loc[population_nl['P'].max(),'Population']\n",
    "pop_latest"
   ]
  },
  {
   "cell_type": "code",
   "execution_count": null,
   "metadata": {
    "cell_id": "00019-5a013cd9-dc1d-4d5f-8bfa-f9a1f2a9963e",
    "output_cleared": false,
    "source_hash": "4a8d250a"
   },
   "outputs": [],
   "source": [
    "print(type(population_nl.P[0]))\n",
    "print(type(positive_tests_nl.P[0]))\n",
    "\n",
    "pd.merge_asof(positive_tests_nl,population_nl,left_on='P',right_on='P')"
   ]
  },
  {
   "cell_type": "markdown",
   "metadata": {
    "cell_id": "00020-5e1c81a9-68cf-47fb-beea-edcb93019c47",
    "output_cleared": false
   },
   "source": [
    "# Gemiddeld aantal positief geteste mensen per 100.000 inwoners\n",
    "## Dit getal laat zien van hoeveel mensen gisteren per 100.000 inwoners gemeld is dat ze positief getest zijn en COVID-19 hebben.\n",
    "positive_tests_nl['p100k'] = positive_tests_nl['Total_reported'] / population_nl.loc[if(positive_tests_nl['P'] > population_nl['P'].max()):\n",
    "                                                                                     population_nl.loc[positive_tests_nl['P'],'Population']\n",
    "                                                                                else:\n",
    "                                                                                     positive_tests_nl['P']\n",
    "                                                                                ,'Population'] * 100000\n",
    "\n",
    "\n",
    "#pt_agg['mov_avg_p100k'] = np.average(pt_agg['']])\n",
    "#np.mean(pt[len(pt.columns)-1].Total_reported)"
   ]
  },
  {
   "cell_type": "code",
   "execution_count": null,
   "metadata": {
    "cell_id": "00021-9c3169c9-8418-4646-b996-21c7e87f0abe",
    "output_cleared": false,
    "source_hash": "ea46dbb9"
   },
   "outputs": [],
   "source": [
    "# Aantal positief geteste mensen\n",
    "## Dit getal laat zien van hoeveel mensen gisteren gemeld is dat ze positief getest zijn en COVID-19 hebben."
   ]
  },
  {
   "cell_type": "code",
   "execution_count": null,
   "metadata": {
    "cell_id": "00022-621f7fa1-42f9-41ce-95b3-366ea50a8d01",
    "output_cleared": false,
    "source_hash": "34d06dc3"
   },
   "outputs": [],
   "source": [
    "#Verdeling positief geteste mensen in Nederland\n",
    "## per gemeente\n",
    "\n",
    "## per veiligheidsregio\n",
    "\n"
   ]
  },
  {
   "cell_type": "markdown",
   "metadata": {
    "cell_id": "00023-4861208b-4d99-4fec-89d6-b6bc7e272cfc",
    "output_cleared": false
   },
   "source": [
    "# TESTING BOKEH WITH OTHER DATA\n",
    "pt_agg = pt.groupby(by=['Date_of_report'],as_index=False).sum()\n",
    "\n",
    "q = figure(plot_width=800, plot_height=400, title=\"My Line Plot\", x_axis_type=\"datetime\")\n",
    "\n",
    "q.multi_line(\n",
    "    xs=[\n",
    "        pt_agg['Date_of_report'],\n",
    "        pt_agg['Date_of_report'],\n",
    "        pt_agg['Date_of_report']\n",
    "    ],\n",
    "    ys=[\n",
    "        pt_agg['Deceased'], \n",
    "        pt_agg['Hospital_admission'],\n",
    "        pt_agg['Total_reported']\n",
    "    ],\n",
    "    color=viridis(len(pt_agg.columns)-1)\n",
    ")\n",
    "\n",
    "show(q)"
   ]
  },
  {
   "cell_type": "code",
   "execution_count": null,
   "metadata": {
    "cell_id": "00024-77fd1f02-778c-4142-a125-0965925c1ba5",
    "output_cleared": false,
    "source_hash": "c2467e2a"
   },
   "outputs": [],
   "source": [
    "print(\"- Percentage positive tested of all tests done\")\n",
    "# https://www.rivm.nl/archief-weekrapportages-covid-19-in-nederland\n",
    "pt_perc = tabula.read_pdf('https://www.rivm.nl/sites/default/files/2020-10/COVID-19_WebSite_rapport_wekelijks_20201013_1159_0.pdf', pages=29, guess=True, stream=True)\n",
    "print(pt_perc)\n",
    "\n",
    "## To DO:\n",
    "## 1) extract data from latest pdf\n",
    "## 2) scrape all pdfs for data to compare data thought time"
   ]
  },
  {
   "cell_type": "code",
   "execution_count": null,
   "metadata": {
    "cell_id": "00025-0aba9257-4693-4cca-bf52-eff3410f9e15",
    "output_cleared": false,
    "source_hash": "ec60ed16"
   },
   "outputs": [],
   "source": [
    "print(\"- number of infectious people\")\n",
    "# https://data.rivm.nl/geonetwork/srv/dut/catalog.search#/metadata/097155aa-75eb-4caa-8ed3-4c6edb80467e\n",
    "infected = pd.read_json('https://data.rivm.nl/covid-19/COVID-19_prevalentie.json')\n",
    "print(infected.head())"
   ]
  },
  {
   "cell_type": "code",
   "execution_count": null,
   "metadata": {
    "cell_id": "00026-0a0758a0-da20-49e1-8b89-f6f45b2c1a3a",
    "output_cleared": false,
    "source_hash": "157def74"
   },
   "outputs": [],
   "source": [
    "print(\"- R (reproductionnumber)\")\n",
    "# https://data.rivm.nl/geonetwork/srv/dut/catalog.search#/metadata/ed0699d1-c9d5-4436-8517-27eb993eab6e\n",
    "R = pd.read_json('https://data.rivm.nl/covid-19/COVID-19_reproductiegetal.json')\n",
    "print(R.head())"
   ]
  },
  {
   "cell_type": "code",
   "execution_count": null,
   "metadata": {
    "cell_id": "00027-3f00b86a-c760-44fc-b1a4-6b2ae6eb8674",
    "output_cleared": false,
    "source_hash": "78527f76"
   },
   "outputs": [],
   "source": [
    "print(\"- hospital admissions per day\")\n",
    "# NICE https://www.databronnencovid19.nl/Bron?naam=Nationale-Intensive-Care-Evaluatie\n",
    "hosp_nice = pd.read_json('https://stichting-nice.nl/covid-19/public/intake-count/')\n",
    "print(hosp_nice.head())\n",
    "# LCPS https://lcps.nu/datafeed/\n",
    "hosp_lcps = pd.read_csv('https://lcps.nu/wp-content/uploads/covid-19.csv')\n",
    "print(hosp_lcps.head())\n",
    "# Dashbaord changed source data https://www.nu.nl/coronavirus/6083846/ministerie-meldde-maandenlang-veel-te-weinig-opnames-coronapatienten.html\n",
    "# other sources: https://www.stichting-nice.nl/covid-19-op-de-zkh.jsp\n",
    "# 37852, 84522NED"
   ]
  },
  {
   "cell_type": "code",
   "execution_count": null,
   "metadata": {
    "cell_id": "00028-259d46c5-1c9e-4a63-9055-347767519cb4",
    "output_cleared": false,
    "source_hash": "5d0d35d4"
   },
   "outputs": [],
   "source": [
    "print(\"- icu admissions per day\")\n",
    "# url\n",
    "ic_NICE_new_intake = pd.read_json('https://stichting-nice.nl/covid-19/public/new-intake/').T\n",
    "ic_NICE_new_intake0 = pd.DataFrame()\n",
    "for row in ic_NICE_new_intake[0]:\n",
    "    ic_NICE_new_intake0 = ic_NICE_new_intake0.append(row, ignore_index=True)\n",
    "print(ic_NICE_new_intake0)\n",
    "ic_NICE_new_intake0['date'] = ic_NICE_new_intake['date']\n",
    "ic_NICE_new_intake1 = pd.DataFrame()\n",
    "for row in ic_NICE_new_intake[1]:\n",
    "    ic_NICE_new_intake1 = ic_NICE_new_intake1.append(row, ignore_index=True)\n",
    "ic_NICE_new_intake01 = pd.concat([ic_NICE_new_intake0,ic_NICE_new_intake1])\n",
    "print(ic_NICE_new_intake01.head())\n",
    "ic_NICE_new_intake_confirmed = pd.read_json('https://stichting-nice.nl/covid-19/public/new-intake/confirmed/')\n",
    "#print(ic_NICE_new_intake_confirmed.head())\n",
    "ic_NICE_intake_count = pd.read_json('https://stichting-nice.nl/covid-19/public/intake-count/')\n",
    "#print(ic_NICE_intake_count.head())\n",
    "print('IC data: 3 sources IMPORTED')\n",
    "## To DO: conpare ic1 and ic2\n",
    "#other sources: "
   ]
  },
  {
   "cell_type": "code",
   "execution_count": null,
   "metadata": {
    "cell_id": "00029-6c5ff2ac-487b-4f72-81a9-cba95baf860c",
    "execution_millis": 0,
    "output_cleared": false,
    "source_hash": "b494ea87"
   },
   "outputs": [],
   "source": [
    "ic_NICE_new_intake0"
   ]
  },
  {
   "cell_type": "code",
   "execution_count": null,
   "metadata": {
    "cell_id": "00035-cb740d8f-ff22-473c-b994-9381304f1dc3",
    "output_cleared": false,
    "source_hash": "363e10e2",
    "tags": []
   },
   "outputs": [],
   "source": [
    "# 84069NED"
   ]
  },
  {
   "cell_type": "code",
   "execution_count": null,
   "metadata": {
    "cell_id": "00035-091d4618-91aa-4ce8-8f1f-95328fc36adb",
    "output_cleared": false,
    "source_hash": "b623e53d",
    "tags": []
   },
   "outputs": [],
   "source": []
  },
  {
   "cell_type": "code",
   "execution_count": null,
   "metadata": {
    "cell_id": "00035-cf81f33e-339d-4d33-800b-2f44a2b26409",
    "output_cleared": false,
    "source_hash": "b623e53d",
    "tags": []
   },
   "outputs": [],
   "source": []
  },
  {
   "cell_type": "code",
   "execution_count": null,
   "metadata": {
    "cell_id": "00035-1fe5fd54-31b1-4772-bb7a-f566744a5d94",
    "output_cleared": false,
    "source_hash": "b623e53d",
    "tags": []
   },
   "outputs": [],
   "source": []
  },
  {
   "cell_type": "markdown",
   "metadata": {
    "cell_id": "00030-a0837743-44b2-4d50-ada8-b7d5fd3834a6",
    "output_cleared": false
   },
   "source": [
    "# SINGLE LINE TEST\n",
    "# create a new plot (with a title) using figure\n",
    "ic_new_intake0 = figure(plot_width=800, plot_height=400, x_axis_type=\"datetime\", title=\"NICE new-intake\")\n",
    "# add a line renderer \n",
    "ic_new_intake0.line(\n",
    "    ic_NICE_new_intake0['date'], \n",
    "    ic_NICE_new_intake0['value']\n",
    ")\n",
    "show(ic_new_intake0)"
   ]
  },
  {
   "cell_type": "markdown",
   "metadata": {
    "cell_id": "00031-055045e9-6dd5-45d4-9b6d-bf5f46740db8",
    "output_cleared": false
   },
   "source": [
    "# SINGLE LINE TEST\n",
    "# create a new plot (with a title) using figure\n",
    "ic_new_intake_confirmed = figure(plot_width=800, plot_height=400, x_axis_type=\"datetime\", title=\"NICE new-intake confirmed\")\n",
    "# add a line renderer \n",
    "ic_new_intake_confirmed.line(\n",
    "    ic_NICE_new_intake_confirmed['date'], \n",
    "    ic_NICE_new_intake_confirmed['value']\n",
    ")"
   ]
  },
  {
   "cell_type": "markdown",
   "metadata": {
    "cell_id": "00032-5f51ae08-ce06-450e-94df-ce6b0387a391",
    "output_cleared": false
   },
   "source": [
    "# SINGLE LINE TEST\n",
    "# create a new plot (with a title) using figure\n",
    "ic_intake_count = figure(plot_width=800, plot_height=400, x_axis_type=\"datetime\", title=\"NICE intake count\")\n",
    "# add a line renderer \n",
    "ic_intake_count.line(\n",
    "    ic_NICE_intake_count['date'], \n",
    "    ic_NICE_intake_count['value']\n",
    ")"
   ]
  },
  {
   "cell_type": "markdown",
   "metadata": {
    "cell_id": "00033-41913077-5eda-44cc-afae-0f6cf8520d5c",
    "output_cleared": false
   },
   "source": [
    "## MULTIPLE LINE TEST\n",
    "ic_all = figure(title=\"IC1 & IC_opnames_NICE\", plot_width=800, plot_height=400, x_axis_type=\"datetime\")\n",
    "\n",
    "ic_all.multi_line([ic1.date, ic_opnames.date],\n",
    "              [ic1.value, ic_opnames.value],\n",
    "              color=viridis(3))"
   ]
  },
  {
   "cell_type": "markdown",
   "metadata": {
    "cell_id": "00034-c08587fe-4dbd-4768-bcba-f435798f8b6a",
    "output_cleared": false
   },
   "source": [
    "show(ic_new_intake)\n",
    "show(ic_new_intake_confirmed)\n",
    "show(ic_intake_count)\n",
    "show(ic_all)"
   ]
  },
  {
   "cell_type": "code",
   "execution_count": null,
   "metadata": {
    "cell_id": "00035-af075381-06b1-43c5-aeed-cb0ed01a0f62",
    "output_cleared": false,
    "source_hash": "2ae03f16"
   },
   "outputs": [],
   "source": [
    "## sources NICE for their website:\n",
    "# /covid-19/public/zkh/global\n",
    "# /covid-19/public/zkh/new-intake/\n",
    "# /covid-19/public/zkh/intake-count/\n",
    "# /covid-19/public/zkh/intake-cumulative/\n",
    "# /covid-19/public/zkh/died-and-survivors-cumulative/\n",
    "# /covid-19/public/zkh/age-distribution-died-and-survivors/\n",
    "# /covid-19/public/zkh/age-distribution-status/\n",
    "# /covid-19/public/zkh/behandelduur-distribution/\n",
    "# /covid-19/public/zkh/behandelduur-distribution/\n",
    "## TO DO: check which used and which to use extra.\n",
    "## sources LCPS?\n",
    "# https://lcps.nu/wp-content/uploads/\n",
    "## Maybe scrape website to find more public data: https://scrapy.org/ OR https://www.crummy.com/software/BeautifulSoup/bs4/doc/"
   ]
  },
  {
   "cell_type": "markdown",
   "metadata": {
    "cell_id": "00036-d501e9d3-e824-4536-9ec9-87d0f3d9c762",
    "output_cleared": false
   },
   "source": [
    "*early signs*"
   ]
  },
  {
   "cell_type": "code",
   "execution_count": null,
   "metadata": {
    "cell_id": "00037-57458370-a07b-492f-89ef-9750d2e21bf2",
    "output_cleared": false,
    "source_hash": "c2f55165"
   },
   "outputs": [],
   "source": [
    "print(\"- patient reporting covid symptoms at family doctor\")\n",
    "# https://www.nivel.nl/nl/nivel-zorgregistraties-eerste-lijn/nivel-zorgregistraties-eerste-lijn\n"
   ]
  },
  {
   "cell_type": "code",
   "execution_count": null,
   "metadata": {
    "cell_id": "00038-7a8572c8-3335-4d0c-a214-0d7c393b0dae",
    "output_cleared": false,
    "source_hash": "e9e66056"
   },
   "outputs": [],
   "source": [
    "print(\"- sewagewate\")\n",
    "# https://data.rivm.nl/geonetwork/srv/dut/catalog.search#/metadata/a2960b68-9d3f-4dc3-9485-600570cd52b9\n",
    "sw = pd.read_json('https://data.rivm.nl/covid-19/COVID-19_rioolwaterdata.json')\n",
    "print(sw.head())"
   ]
  },
  {
   "cell_type": "markdown",
   "metadata": {
    "cell_id": "00039-bf6ad82d-16a9-4321-bad7-0f3c3ba6e9cd",
    "output_cleared": false
   },
   "source": [
    "*homes for elderly*"
   ]
  },
  {
   "cell_type": "code",
   "execution_count": null,
   "metadata": {
    "cell_id": "00040-a57324b6-e86a-46e6-9750-50b10d39b623",
    "output_cleared": false,
    "source_hash": "270ed24b"
   },
   "outputs": [],
   "source": [
    "print(\"- positive testst\")\n",
    "# from pdf. https://www.rivm.nl/documenten/wekelijkse-update-epidemiologische-situatie-covid-19-in-nederland"
   ]
  },
  {
   "cell_type": "code",
   "execution_count": null,
   "metadata": {
    "cell_id": "00041-c33e3639-d55a-452a-8807-6149431b972b",
    "output_cleared": false,
    "source_hash": "f0e4e1d2"
   },
   "outputs": [],
   "source": [
    "print(\"- infected locations\")\n",
    "# from pdf. https://www.rivm.nl/documenten/wekelijkse-update-epidemiologische-situatie-covid-19-in-nederland"
   ]
  },
  {
   "cell_type": "code",
   "execution_count": null,
   "metadata": {
    "cell_id": "00042-4f92df9a-d991-451a-bf28-333276a707cd",
    "output_cleared": false,
    "source_hash": "cc94df93"
   },
   "outputs": [],
   "source": [
    "print(\"- number deseased\")\n",
    "# from pdf. https://www.rivm.nl/documenten/wekelijkse-update-epidemiologische-situatie-covid-19-in-nederland"
   ]
  },
  {
   "cell_type": "markdown",
   "metadata": {
    "cell_id": "00043-c9fa5537-9388-4227-acc4-c64c3c9fb7f1",
    "output_cleared": false
   },
   "source": [
    "**metadata**"
   ]
  },
  {
   "cell_type": "code",
   "execution_count": null,
   "metadata": {
    "cell_id": "00044-ab789607-ae73-4f6a-b4fb-a9648ba0c392",
    "output_cleared": false,
    "source_hash": "abefa8b4"
   },
   "outputs": [],
   "source": [
    "print(\"- municipalities in Netherlands\")\n",
    "## https://www.cbs.nl/nl-nl/onze-diensten/methoden/classificaties/overig/gemeentelijke-indelingen-per-jaar/indeling%20per%20jaar/gemeentelijke-indeling-op-1-januari-2020\n",
    "municipality = pd.read_excel('https://www.cbs.nl/-/media/_excel/2020/03/gemeenten-alfabetisch-2020.xlsx')\n",
    "print(municipality.head())\n",
    "# aantallen per gemeente: https://data.rivm.nl/geonetwork/srv/dut/catalog.search#/metadata/5f6bc429-1596-490e-8618-1ed8fd768427\n"
   ]
  },
  {
   "cell_type": "markdown",
   "metadata": {
    "cell_id": "00045-dcb546a2-a7ab-48ec-8363-46a648685e5f",
    "output_cleared": false
   },
   "source": [
    "### missing data, i would like to calculate of collect\n",
    "- covid numbers relitive to all data\n",
    "- deseased for whole country (possible source: https://data.rivm.nl/geonetwork/srv/dut/catalog.search#/metadata/1c0fcd57-1102-4620-9cfa-441e93ea5604)\n",
    "\n",
    "### more data"
   ]
  },
  {
   "cell_type": "markdown",
   "metadata": {
    "cell_id": "00046-2cbde6a9-a240-4171-8915-43c2b4012ebd",
    "output_cleared": false
   },
   "source": [
    "- Karakteristieken elke geteste persoon: https://data.rivm.nl/geonetwork/srv/dut/catalog.search#/metadata/2c4357c8-76e4-4662-9574-1deb8a73f724?tab=relations\n",
    "- https://data.rivm.nl"
   ]
  },
  {
   "cell_type": "code",
   "execution_count": null,
   "metadata": {
    "cell_id": "00047-232db9cf-c538-4c55-8aa8-e513b7f7bbc3",
    "output_cleared": false,
    "source_hash": "a637a860"
   },
   "outputs": [],
   "source": [
    "#check data collection\n",
    "from pivottablejs import pivot_ui\n",
    "from IPython.display import HTML\n",
    "\n",
    "df_to_check = ic1\n",
    "\n",
    "pivot_ui(df_to_check, outfile_path='pivottablejs.html')\n",
    "HTML('pivottablejs.html')"
   ]
  },
  {
   "cell_type": "code",
   "execution_count": null,
   "metadata": {
    "cell_id": "00048-353eaabc-86d7-4265-9601-326df1fea846",
    "output_cleared": false,
    "source_hash": "b623e53d"
   },
   "outputs": [],
   "source": []
  },
  {
   "cell_type": "code",
   "execution_count": null,
   "metadata": {},
   "outputs": [],
   "source": []
  }
 ],
 "metadata": {
  "deepnote_execution_queue": [],
  "deepnote_notebook_id": "057ef9e6-7042-4172-a7ca-da4122c96267",
  "kernelspec": {
   "display_name": "Covid",
   "language": "python",
   "name": "covid"
  },
  "language_info": {
   "codemirror_mode": {
    "name": "ipython",
    "version": 3
   },
   "file_extension": ".py",
   "mimetype": "text/x-python",
   "name": "python",
   "nbconvert_exporter": "python",
   "pygments_lexer": "ipython3",
   "version": "3.9.1"
  }
 },
 "nbformat": 4,
 "nbformat_minor": 4
}
