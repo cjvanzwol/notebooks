{
 "cells": [
  {
   "cell_type": "markdown",
   "metadata": {
    "cell_id": "00000-c087e9d7-6f70-4473-bd1a-e8288fdfad33",
    "output_cleared": false
   },
   "source": [
    "# Covid-19 data analysis for the Netherland"
   ]
  },
  {
   "cell_type": "code",
   "execution_count": 2,
   "metadata": {
    "cell_id": "00002-31ca9e06-efb1-41d2-9676-0c8438d8dfe5",
    "execution_millis": 2,
    "execution_start": 1604921727639,
    "output_cleared": false,
    "source_hash": "a1a7133b",
    "tags": []
   },
   "outputs": [
    {
     "name": "stdout",
     "output_type": "stream",
     "text": [
      "Pulling data from sources.json:\n",
      "(Source: CBS)  deceased @ https://opendata.cbs.nl/statline/portal.html?_catalog=CBS&_la=nl&tableId=70895ned&_theme=76\n",
      "(Source: CBS)  population @ https://opendata.cbs.nl/statline/portal.html?_catalog=CBS&_la=nl&tableId=37230ned&_theme=76\n",
      "(Source: RIVM) counts_per_municipality @ https://data.rivm.nl/geonetwork/srv/dut/catalog.search#/metadata/5f6bc429-1596-490e-8618-1ed8fd768427\n",
      "(Source: RIVM) prevalence @ https://data.rivm.nl/geonetwork/srv/dut/catalog.search#/metadata/097155aa-75eb-4caa-8ed3-4c6edb80467e\n",
      "(Source: RIVM) r @ https://data.rivm.nl/geonetwork/srv/dut/catalog.search#/metadata/ed0699d1-c9d5-4436-8517-27eb993eab6e\n",
      "(Source: RIVM) homes_for_elderly @ https://data.rivm.nl/geonetwork/srv/dut/catalog.search#/metadata/0179dd26-7bf6-4021-857f-8623aaf8e73a\n",
      "(Source: RIVM) homes_for_disabled @ https://data.rivm.nl/geonetwork/srv/dut/catalog.search#/metadata/aa28b74d-7150-47bc-a7cb-98876e93381b\n",
      "(Source: RIVM) seventy_plus_living_at_home @ https://data.rivm.nl/geonetwork/srv/dut/catalog.search#/metadata/40508e17-7296-4f39-ad25-8ddd0c904087\n",
      "(Source: RIVM) sewage @ https://data.rivm.nl/geonetwork/srv/dut/catalog.search#/metadata/a2960b68-9d3f-4dc3-9485-600570cd52b9\n",
      "(Source: RIVM) support_and_behavior @ https://data.rivm.nl/geonetwork/srv/dut/catalog.search#/metadata/8a72d78a-fcf8-4882-b0ab-cd594961a267?tab=relations\n",
      "(Source: NICE) hospital_admission @ https://data.rivm.nl/geonetwork/srv/dut/catalog.search#/metadata/4f4ad069-8f24-4fe8-b2a7-533ef27a899f\n",
      "(Source: NICE) ic_admission @ https://data.rivm.nl/geonetwork/srv/dut/catalog.search#/metadata/45f911c4-3a62-42f1-b594-524a75db2c94\n",
      "(Source: LCPS) hospital_occupation @ https://lcps.nu/datafeed/\n",
      "(Source: Nivel) general_practioner @ https://www.nivel.nl/nl/nivel-zorgregistraties-eerste-lijn/monitor-cijfers-covid-19-achtige-klachten-huisartsenpraktijken#opendata\n",
      "\n",
      "Creating dataframes for analysis:\n",
      "dataframe from cbs created, per week per agegroup: deceased_week_agegroup\n",
      "dataframe from cbs created, per week: deceased_per_week\n",
      "dataframe from cbs created, per year per agegroup: deceased_year_agegroup\n",
      "dataframe from cbs created, per year per agegroup: deceased_per_year\n",
      "dataframe from cbs created, per month per municipality: population_month_municipality\n",
      "dataframe from cbs created, per year per municipality: population_year_municipality\n",
      "dataframe from cbs created, per month: population_per_month\n",
      "dataframe from cbs created, per month: population_per_year\n",
      "dataframe for RIVM data created, per day: rivm_per_day\n",
      "dataframe for RIVM data created: rivm_per_week\n",
      "dataframe for RIVM data created, per month: rivm_per_month\n",
      "dataframe for RIVM data created, per month: rivm_per_month\n",
      "dataframe CBS and RIVM combined, per week: per_week\n",
      "dataframe CBS and RIVM combined, per month: per_month\n",
      "dataframe CBS and RIVM combined, per month: per_year\n"
     ]
    }
   ],
   "source": [
    "import pandas as pd\n",
    "import numpy as np\n",
    "from datetime import datetime\n",
    "import matplotlib.pyplot as plt\n",
    "import seaborn as sns\n",
    "import tabula\n",
    "\n",
    "#from IPython.display import Markdown as md\n",
    "\n",
    "%run ./data/data.ipynb"
   ]
  },
  {
   "cell_type": "code",
   "execution_count": 3,
   "metadata": {
    "cell_id": "00008-eb9c018f-bd94-4d74-8a95-8d7b4f29a097",
    "execution_millis": 1,
    "execution_start": 1604927596819,
    "output_cleared": false,
    "source_hash": "8d10a70",
    "tags": []
   },
   "outputs": [],
   "source": [
    "# defining function for calculating percentage\n",
    "def percentage(df, d, n):\n",
    "    name = '%_'+d+'_OF_'+n\n",
    "    df[name] = df[d]/df[n]*100\n",
    "    df[name].replace(np.nan, 0, inplace=True)\n",
    "\n",
    "def moving_average(df, n, p):\n",
    "    name = 'mva_'+n\n",
    "    windows = df[n].rolling(p)\n",
    "    positive_tests[name] = windows.mean()\n",
    "\n",
    "def running_total(df, n):\n",
    "    name = 'rt_'+n\n",
    "    df[name] = np.cumsum(df[n])"
   ]
  },
  {
   "cell_type": "code",
   "execution_count": 4,
   "metadata": {
    "tags": []
   },
   "outputs": [],
   "source": [
    "def bandwidth(df,s,t=None):\n",
    "    print(df)\n",
    "    print(s)\n",
    "    print(t)\n",
    "#deceased\n",
    "#bandwidth(deceased, 'Overledenen_1', 'LeeftijdOp31December')"
   ]
  },
  {
   "cell_type": "markdown",
   "metadata": {},
   "source": [
    "### deceased\n",
    "- flow per week:\n",
    "  - recent years vs. 2020\n",
    "  - average +- std.dev over this year/last year/last 2 years/5 years\n",
    "- flow per weekcorona data ()"
   ]
  },
  {
   "cell_type": "markdown",
   "metadata": {},
   "source": [
    "## Comparing deaths"
   ]
  },
  {
   "cell_type": "code",
   "execution_count": 5,
   "metadata": {},
   "outputs": [],
   "source": [
    "deaths = per_week[['Deceased','Deceased_covid']]\n",
    "deaths['Deceased_other'] = deaths['Deceased'] - deaths['Deceased_covid']\n",
    "\n",
    "# calculate stastics\n",
    "deaths['mean'] = deaths['Deceased'].mean()\n",
    "deaths['stddev'] = deaths['Deceased'].std()\n",
    "deaths['+z'] = deaths['mean']+deaths['stddev']\n",
    "deaths['-z'] = deaths['mean']-deaths['stddev']"
   ]
  },
  {
   "cell_type": "code",
   "execution_count": 13,
   "metadata": {},
   "outputs": [
    {
     "data": {
      "application/vnd.jupyter.widget-view+json": {
       "model_id": "6e18d6f51d06416d8836ea43f41d98c9",
       "version_major": 2,
       "version_minor": 0
      },
      "text/plain": [
       "Canvas(toolbar=Toolbar(toolitems=[('Home', 'Reset original view', 'home', 'home'), ('Back', 'Back to previous …"
      ]
     },
     "metadata": {},
     "output_type": "display_data"
    },
    {
     "data": {
      "text/plain": [
       "<seaborn.axisgrid.FacetGrid at 0x7a1eedd054f0>"
      ]
     },
     "execution_count": 13,
     "metadata": {},
     "output_type": "execute_result"
    }
   ],
   "source": [
    "%matplotlib widget\n",
    "# set data\n",
    "deaths['indexx'] = deaths.index.to_numpy()\n",
    "deaths['rolling'] = deaths.Deceased.rolling(window=4).mean()\n",
    "\n",
    "sns.set_theme(style=\"ticks\")\n",
    "\n",
    "# Show the results of a linear regression within each dataset\n",
    "sns.lmplot(x=\"year\", y=\"Deceased\", col=\"week\", hue=\"LeeftijdOp31December\", data=deceased_week_agegroup.reset_index(),\n",
    "           col_wrap=4, ci=None, palette=\"muted\", height=4,\n",
    "           scatter_kws={\"s\": 50, \"alpha\": 1})"
   ]
  },
  {
   "cell_type": "code",
   "execution_count": 6,
   "metadata": {},
   "outputs": [
    {
     "data": {
      "application/vnd.jupyter.widget-view+json": {
       "model_id": "e9b29c2f918b4c4fb635372630538235",
       "version_major": 2,
       "version_minor": 0
      },
      "text/plain": [
       "Canvas(toolbar=Toolbar(toolitems=[('Home', 'Reset original view', 'home', 'home'), ('Back', 'Back to previous …"
      ]
     },
     "metadata": {},
     "output_type": "display_data"
    },
    {
     "ename": "ValueError",
     "evalue": "setting an array element with a sequence.",
     "output_type": "error",
     "traceback": [
      "\u001b[0;31m---------------------------------------------------------------------------\u001b[0m",
      "\u001b[0;31mTypeError\u001b[0m                                 Traceback (most recent call last)",
      "\u001b[0;31mTypeError\u001b[0m: float() argument must be a string or a number, not 'tuple'",
      "\nThe above exception was the direct cause of the following exception:\n",
      "\u001b[0;31mValueError\u001b[0m                                Traceback (most recent call last)",
      "\u001b[0;32m<ipython-input-6-b86dc6e0d4ab>\u001b[0m in \u001b[0;36m<module>\u001b[0;34m\u001b[0m\n\u001b[1;32m     15\u001b[0m \u001b[0;34m\u001b[0m\u001b[0m\n\u001b[1;32m     16\u001b[0m \u001b[0;31m# set plot\u001b[0m\u001b[0;34m\u001b[0m\u001b[0;34m\u001b[0m\u001b[0;34m\u001b[0m\u001b[0m\n\u001b[0;32m---> 17\u001b[0;31m \u001b[0mplt\u001b[0m\u001b[0;34m.\u001b[0m\u001b[0mplot\u001b[0m\u001b[0;34m(\u001b[0m\u001b[0mx_tot\u001b[0m\u001b[0;34m,\u001b[0m \u001b[0my_tot\u001b[0m\u001b[0;34m,\u001b[0m \u001b[0mlabel\u001b[0m\u001b[0;34m=\u001b[0m\u001b[0;34m'Total'\u001b[0m\u001b[0;34m)\u001b[0m\u001b[0;34m\u001b[0m\u001b[0;34m\u001b[0m\u001b[0m\n\u001b[0m\u001b[1;32m     18\u001b[0m \u001b[0mplt\u001b[0m\u001b[0;34m.\u001b[0m\u001b[0mplot\u001b[0m\u001b[0;34m(\u001b[0m\u001b[0mx_tot\u001b[0m\u001b[0;34m,\u001b[0m \u001b[0mmean\u001b[0m\u001b[0;34m,\u001b[0m \u001b[0mlabel\u001b[0m\u001b[0;34m=\u001b[0m\u001b[0;34m'Mean'\u001b[0m\u001b[0;34m,\u001b[0m \u001b[0mcolor\u001b[0m\u001b[0;34m=\u001b[0m\u001b[0;34m'teal'\u001b[0m\u001b[0;34m,\u001b[0m \u001b[0mlinestyle\u001b[0m\u001b[0;34m=\u001b[0m\u001b[0;34m'-'\u001b[0m\u001b[0;34m)\u001b[0m\u001b[0;34m\u001b[0m\u001b[0;34m\u001b[0m\u001b[0m\n\u001b[1;32m     19\u001b[0m \u001b[0mplt\u001b[0m\u001b[0;34m.\u001b[0m\u001b[0mplot\u001b[0m\u001b[0;34m(\u001b[0m\u001b[0mx_tot\u001b[0m\u001b[0;34m,\u001b[0m \u001b[0mm_37\u001b[0m\u001b[0;34m,\u001b[0m \u001b[0mlabel\u001b[0m\u001b[0;34m=\u001b[0m\u001b[0;34m'-z'\u001b[0m\u001b[0;34m,\u001b[0m \u001b[0mcolor\u001b[0m\u001b[0;34m=\u001b[0m\u001b[0;34m'teal'\u001b[0m\u001b[0;34m,\u001b[0m \u001b[0mlinestyle\u001b[0m\u001b[0;34m=\u001b[0m\u001b[0;34m'--'\u001b[0m\u001b[0;34m)\u001b[0m\u001b[0;34m\u001b[0m\u001b[0;34m\u001b[0m\u001b[0m\n",
      "\u001b[0;32m~/miniconda3/envs/covid/lib/python3.9/site-packages/matplotlib/pyplot.py\u001b[0m in \u001b[0;36mplot\u001b[0;34m(scalex, scaley, data, *args, **kwargs)\u001b[0m\n\u001b[1;32m   2986\u001b[0m \u001b[0;34m@\u001b[0m\u001b[0m_copy_docstring_and_deprecators\u001b[0m\u001b[0;34m(\u001b[0m\u001b[0mAxes\u001b[0m\u001b[0;34m.\u001b[0m\u001b[0mplot\u001b[0m\u001b[0;34m)\u001b[0m\u001b[0;34m\u001b[0m\u001b[0;34m\u001b[0m\u001b[0m\n\u001b[1;32m   2987\u001b[0m \u001b[0;32mdef\u001b[0m \u001b[0mplot\u001b[0m\u001b[0;34m(\u001b[0m\u001b[0;34m*\u001b[0m\u001b[0margs\u001b[0m\u001b[0;34m,\u001b[0m \u001b[0mscalex\u001b[0m\u001b[0;34m=\u001b[0m\u001b[0;32mTrue\u001b[0m\u001b[0;34m,\u001b[0m \u001b[0mscaley\u001b[0m\u001b[0;34m=\u001b[0m\u001b[0;32mTrue\u001b[0m\u001b[0;34m,\u001b[0m \u001b[0mdata\u001b[0m\u001b[0;34m=\u001b[0m\u001b[0;32mNone\u001b[0m\u001b[0;34m,\u001b[0m \u001b[0;34m**\u001b[0m\u001b[0mkwargs\u001b[0m\u001b[0;34m)\u001b[0m\u001b[0;34m:\u001b[0m\u001b[0;34m\u001b[0m\u001b[0;34m\u001b[0m\u001b[0m\n\u001b[0;32m-> 2988\u001b[0;31m     return gca().plot(\n\u001b[0m\u001b[1;32m   2989\u001b[0m         \u001b[0;34m*\u001b[0m\u001b[0margs\u001b[0m\u001b[0;34m,\u001b[0m \u001b[0mscalex\u001b[0m\u001b[0;34m=\u001b[0m\u001b[0mscalex\u001b[0m\u001b[0;34m,\u001b[0m \u001b[0mscaley\u001b[0m\u001b[0;34m=\u001b[0m\u001b[0mscaley\u001b[0m\u001b[0;34m,\u001b[0m\u001b[0;34m\u001b[0m\u001b[0;34m\u001b[0m\u001b[0m\n\u001b[1;32m   2990\u001b[0m         **({\"data\": data} if data is not None else {}), **kwargs)\n",
      "\u001b[0;32m~/miniconda3/envs/covid/lib/python3.9/site-packages/matplotlib/axes/_axes.py\u001b[0m in \u001b[0;36mplot\u001b[0;34m(self, scalex, scaley, data, *args, **kwargs)\u001b[0m\n\u001b[1;32m   1605\u001b[0m         \u001b[0mlines\u001b[0m \u001b[0;34m=\u001b[0m \u001b[0;34m[\u001b[0m\u001b[0;34m*\u001b[0m\u001b[0mself\u001b[0m\u001b[0;34m.\u001b[0m\u001b[0m_get_lines\u001b[0m\u001b[0;34m(\u001b[0m\u001b[0;34m*\u001b[0m\u001b[0margs\u001b[0m\u001b[0;34m,\u001b[0m \u001b[0mdata\u001b[0m\u001b[0;34m=\u001b[0m\u001b[0mdata\u001b[0m\u001b[0;34m,\u001b[0m \u001b[0;34m**\u001b[0m\u001b[0mkwargs\u001b[0m\u001b[0;34m)\u001b[0m\u001b[0;34m]\u001b[0m\u001b[0;34m\u001b[0m\u001b[0;34m\u001b[0m\u001b[0m\n\u001b[1;32m   1606\u001b[0m         \u001b[0;32mfor\u001b[0m \u001b[0mline\u001b[0m \u001b[0;32min\u001b[0m \u001b[0mlines\u001b[0m\u001b[0;34m:\u001b[0m\u001b[0;34m\u001b[0m\u001b[0;34m\u001b[0m\u001b[0m\n\u001b[0;32m-> 1607\u001b[0;31m             \u001b[0mself\u001b[0m\u001b[0;34m.\u001b[0m\u001b[0madd_line\u001b[0m\u001b[0;34m(\u001b[0m\u001b[0mline\u001b[0m\u001b[0;34m)\u001b[0m\u001b[0;34m\u001b[0m\u001b[0;34m\u001b[0m\u001b[0m\n\u001b[0m\u001b[1;32m   1608\u001b[0m         \u001b[0mself\u001b[0m\u001b[0;34m.\u001b[0m\u001b[0m_request_autoscale_view\u001b[0m\u001b[0;34m(\u001b[0m\u001b[0mscalex\u001b[0m\u001b[0;34m=\u001b[0m\u001b[0mscalex\u001b[0m\u001b[0;34m,\u001b[0m \u001b[0mscaley\u001b[0m\u001b[0;34m=\u001b[0m\u001b[0mscaley\u001b[0m\u001b[0;34m)\u001b[0m\u001b[0;34m\u001b[0m\u001b[0;34m\u001b[0m\u001b[0m\n\u001b[1;32m   1609\u001b[0m         \u001b[0;32mreturn\u001b[0m \u001b[0mlines\u001b[0m\u001b[0;34m\u001b[0m\u001b[0;34m\u001b[0m\u001b[0m\n",
      "\u001b[0;32m~/miniconda3/envs/covid/lib/python3.9/site-packages/matplotlib/axes/_base.py\u001b[0m in \u001b[0;36madd_line\u001b[0;34m(self, line)\u001b[0m\n\u001b[1;32m   2103\u001b[0m             \u001b[0mline\u001b[0m\u001b[0;34m.\u001b[0m\u001b[0mset_clip_path\u001b[0m\u001b[0;34m(\u001b[0m\u001b[0mself\u001b[0m\u001b[0;34m.\u001b[0m\u001b[0mpatch\u001b[0m\u001b[0;34m)\u001b[0m\u001b[0;34m\u001b[0m\u001b[0;34m\u001b[0m\u001b[0m\n\u001b[1;32m   2104\u001b[0m \u001b[0;34m\u001b[0m\u001b[0m\n\u001b[0;32m-> 2105\u001b[0;31m         \u001b[0mself\u001b[0m\u001b[0;34m.\u001b[0m\u001b[0m_update_line_limits\u001b[0m\u001b[0;34m(\u001b[0m\u001b[0mline\u001b[0m\u001b[0;34m)\u001b[0m\u001b[0;34m\u001b[0m\u001b[0;34m\u001b[0m\u001b[0m\n\u001b[0m\u001b[1;32m   2106\u001b[0m         \u001b[0;32mif\u001b[0m \u001b[0;32mnot\u001b[0m \u001b[0mline\u001b[0m\u001b[0;34m.\u001b[0m\u001b[0mget_label\u001b[0m\u001b[0;34m(\u001b[0m\u001b[0;34m)\u001b[0m\u001b[0;34m:\u001b[0m\u001b[0;34m\u001b[0m\u001b[0;34m\u001b[0m\u001b[0m\n\u001b[1;32m   2107\u001b[0m             \u001b[0mline\u001b[0m\u001b[0;34m.\u001b[0m\u001b[0mset_label\u001b[0m\u001b[0;34m(\u001b[0m\u001b[0;34m'_line%d'\u001b[0m \u001b[0;34m%\u001b[0m \u001b[0mlen\u001b[0m\u001b[0;34m(\u001b[0m\u001b[0mself\u001b[0m\u001b[0;34m.\u001b[0m\u001b[0mlines\u001b[0m\u001b[0;34m)\u001b[0m\u001b[0;34m)\u001b[0m\u001b[0;34m\u001b[0m\u001b[0;34m\u001b[0m\u001b[0m\n",
      "\u001b[0;32m~/miniconda3/envs/covid/lib/python3.9/site-packages/matplotlib/axes/_base.py\u001b[0m in \u001b[0;36m_update_line_limits\u001b[0;34m(self, line)\u001b[0m\n\u001b[1;32m   2125\u001b[0m         \u001b[0mFigures\u001b[0m \u001b[0mout\u001b[0m \u001b[0mthe\u001b[0m \u001b[0mdata\u001b[0m \u001b[0mlimit\u001b[0m \u001b[0mof\u001b[0m \u001b[0mthe\u001b[0m \u001b[0mgiven\u001b[0m \u001b[0mline\u001b[0m\u001b[0;34m,\u001b[0m \u001b[0mupdating\u001b[0m \u001b[0mself\u001b[0m\u001b[0;34m.\u001b[0m\u001b[0mdataLim\u001b[0m\u001b[0;34m.\u001b[0m\u001b[0;34m\u001b[0m\u001b[0;34m\u001b[0m\u001b[0m\n\u001b[1;32m   2126\u001b[0m         \"\"\"\n\u001b[0;32m-> 2127\u001b[0;31m         \u001b[0mpath\u001b[0m \u001b[0;34m=\u001b[0m \u001b[0mline\u001b[0m\u001b[0;34m.\u001b[0m\u001b[0mget_path\u001b[0m\u001b[0;34m(\u001b[0m\u001b[0;34m)\u001b[0m\u001b[0;34m\u001b[0m\u001b[0;34m\u001b[0m\u001b[0m\n\u001b[0m\u001b[1;32m   2128\u001b[0m         \u001b[0;32mif\u001b[0m \u001b[0mpath\u001b[0m\u001b[0;34m.\u001b[0m\u001b[0mvertices\u001b[0m\u001b[0;34m.\u001b[0m\u001b[0msize\u001b[0m \u001b[0;34m==\u001b[0m \u001b[0;36m0\u001b[0m\u001b[0;34m:\u001b[0m\u001b[0;34m\u001b[0m\u001b[0;34m\u001b[0m\u001b[0m\n\u001b[1;32m   2129\u001b[0m             \u001b[0;32mreturn\u001b[0m\u001b[0;34m\u001b[0m\u001b[0;34m\u001b[0m\u001b[0m\n",
      "\u001b[0;32m~/miniconda3/envs/covid/lib/python3.9/site-packages/matplotlib/lines.py\u001b[0m in \u001b[0;36mget_path\u001b[0;34m(self)\u001b[0m\n\u001b[1;32m   1020\u001b[0m         \"\"\"\n\u001b[1;32m   1021\u001b[0m         \u001b[0;32mif\u001b[0m \u001b[0mself\u001b[0m\u001b[0;34m.\u001b[0m\u001b[0m_invalidy\u001b[0m \u001b[0;32mor\u001b[0m \u001b[0mself\u001b[0m\u001b[0;34m.\u001b[0m\u001b[0m_invalidx\u001b[0m\u001b[0;34m:\u001b[0m\u001b[0;34m\u001b[0m\u001b[0;34m\u001b[0m\u001b[0m\n\u001b[0;32m-> 1022\u001b[0;31m             \u001b[0mself\u001b[0m\u001b[0;34m.\u001b[0m\u001b[0mrecache\u001b[0m\u001b[0;34m(\u001b[0m\u001b[0;34m)\u001b[0m\u001b[0;34m\u001b[0m\u001b[0;34m\u001b[0m\u001b[0m\n\u001b[0m\u001b[1;32m   1023\u001b[0m         \u001b[0;32mreturn\u001b[0m \u001b[0mself\u001b[0m\u001b[0;34m.\u001b[0m\u001b[0m_path\u001b[0m\u001b[0;34m\u001b[0m\u001b[0;34m\u001b[0m\u001b[0m\n\u001b[1;32m   1024\u001b[0m \u001b[0;34m\u001b[0m\u001b[0m\n",
      "\u001b[0;32m~/miniconda3/envs/covid/lib/python3.9/site-packages/matplotlib/lines.py\u001b[0m in \u001b[0;36mrecache\u001b[0;34m(self, always)\u001b[0m\n\u001b[1;32m    661\u001b[0m         \u001b[0;32mif\u001b[0m \u001b[0malways\u001b[0m \u001b[0;32mor\u001b[0m \u001b[0mself\u001b[0m\u001b[0;34m.\u001b[0m\u001b[0m_invalidx\u001b[0m\u001b[0;34m:\u001b[0m\u001b[0;34m\u001b[0m\u001b[0;34m\u001b[0m\u001b[0m\n\u001b[1;32m    662\u001b[0m             \u001b[0mxconv\u001b[0m \u001b[0;34m=\u001b[0m \u001b[0mself\u001b[0m\u001b[0;34m.\u001b[0m\u001b[0mconvert_xunits\u001b[0m\u001b[0;34m(\u001b[0m\u001b[0mself\u001b[0m\u001b[0;34m.\u001b[0m\u001b[0m_xorig\u001b[0m\u001b[0;34m)\u001b[0m\u001b[0;34m\u001b[0m\u001b[0;34m\u001b[0m\u001b[0m\n\u001b[0;32m--> 663\u001b[0;31m             \u001b[0mx\u001b[0m \u001b[0;34m=\u001b[0m \u001b[0m_to_unmasked_float_array\u001b[0m\u001b[0;34m(\u001b[0m\u001b[0mxconv\u001b[0m\u001b[0;34m)\u001b[0m\u001b[0;34m.\u001b[0m\u001b[0mravel\u001b[0m\u001b[0;34m(\u001b[0m\u001b[0;34m)\u001b[0m\u001b[0;34m\u001b[0m\u001b[0;34m\u001b[0m\u001b[0m\n\u001b[0m\u001b[1;32m    664\u001b[0m         \u001b[0;32melse\u001b[0m\u001b[0;34m:\u001b[0m\u001b[0;34m\u001b[0m\u001b[0;34m\u001b[0m\u001b[0m\n\u001b[1;32m    665\u001b[0m             \u001b[0mx\u001b[0m \u001b[0;34m=\u001b[0m \u001b[0mself\u001b[0m\u001b[0;34m.\u001b[0m\u001b[0m_x\u001b[0m\u001b[0;34m\u001b[0m\u001b[0;34m\u001b[0m\u001b[0m\n",
      "\u001b[0;32m~/miniconda3/envs/covid/lib/python3.9/site-packages/matplotlib/cbook/__init__.py\u001b[0m in \u001b[0;36m_to_unmasked_float_array\u001b[0;34m(x)\u001b[0m\n\u001b[1;32m   1331\u001b[0m         \u001b[0;32mreturn\u001b[0m \u001b[0mnp\u001b[0m\u001b[0;34m.\u001b[0m\u001b[0mma\u001b[0m\u001b[0;34m.\u001b[0m\u001b[0masarray\u001b[0m\u001b[0;34m(\u001b[0m\u001b[0mx\u001b[0m\u001b[0;34m,\u001b[0m \u001b[0mfloat\u001b[0m\u001b[0;34m)\u001b[0m\u001b[0;34m.\u001b[0m\u001b[0mfilled\u001b[0m\u001b[0;34m(\u001b[0m\u001b[0mnp\u001b[0m\u001b[0;34m.\u001b[0m\u001b[0mnan\u001b[0m\u001b[0;34m)\u001b[0m\u001b[0;34m\u001b[0m\u001b[0;34m\u001b[0m\u001b[0m\n\u001b[1;32m   1332\u001b[0m     \u001b[0;32melse\u001b[0m\u001b[0;34m:\u001b[0m\u001b[0;34m\u001b[0m\u001b[0;34m\u001b[0m\u001b[0m\n\u001b[0;32m-> 1333\u001b[0;31m         \u001b[0;32mreturn\u001b[0m \u001b[0mnp\u001b[0m\u001b[0;34m.\u001b[0m\u001b[0masarray\u001b[0m\u001b[0;34m(\u001b[0m\u001b[0mx\u001b[0m\u001b[0;34m,\u001b[0m \u001b[0mfloat\u001b[0m\u001b[0;34m)\u001b[0m\u001b[0;34m\u001b[0m\u001b[0;34m\u001b[0m\u001b[0m\n\u001b[0m\u001b[1;32m   1334\u001b[0m \u001b[0;34m\u001b[0m\u001b[0m\n\u001b[1;32m   1335\u001b[0m \u001b[0;34m\u001b[0m\u001b[0m\n",
      "\u001b[0;32m~/miniconda3/envs/covid/lib/python3.9/site-packages/numpy/core/_asarray.py\u001b[0m in \u001b[0;36masarray\u001b[0;34m(a, dtype, order, like)\u001b[0m\n\u001b[1;32m    100\u001b[0m         \u001b[0;32mreturn\u001b[0m \u001b[0m_asarray_with_like\u001b[0m\u001b[0;34m(\u001b[0m\u001b[0ma\u001b[0m\u001b[0;34m,\u001b[0m \u001b[0mdtype\u001b[0m\u001b[0;34m=\u001b[0m\u001b[0mdtype\u001b[0m\u001b[0;34m,\u001b[0m \u001b[0morder\u001b[0m\u001b[0;34m=\u001b[0m\u001b[0morder\u001b[0m\u001b[0;34m,\u001b[0m \u001b[0mlike\u001b[0m\u001b[0;34m=\u001b[0m\u001b[0mlike\u001b[0m\u001b[0;34m)\u001b[0m\u001b[0;34m\u001b[0m\u001b[0;34m\u001b[0m\u001b[0m\n\u001b[1;32m    101\u001b[0m \u001b[0;34m\u001b[0m\u001b[0m\n\u001b[0;32m--> 102\u001b[0;31m     \u001b[0;32mreturn\u001b[0m \u001b[0marray\u001b[0m\u001b[0;34m(\u001b[0m\u001b[0ma\u001b[0m\u001b[0;34m,\u001b[0m \u001b[0mdtype\u001b[0m\u001b[0;34m,\u001b[0m \u001b[0mcopy\u001b[0m\u001b[0;34m=\u001b[0m\u001b[0;32mFalse\u001b[0m\u001b[0;34m,\u001b[0m \u001b[0morder\u001b[0m\u001b[0;34m=\u001b[0m\u001b[0morder\u001b[0m\u001b[0;34m)\u001b[0m\u001b[0;34m\u001b[0m\u001b[0;34m\u001b[0m\u001b[0m\n\u001b[0m\u001b[1;32m    103\u001b[0m \u001b[0;34m\u001b[0m\u001b[0m\n\u001b[1;32m    104\u001b[0m \u001b[0;34m\u001b[0m\u001b[0m\n",
      "\u001b[0;31mValueError\u001b[0m: setting an array element with a sequence."
     ]
    }
   ],
   "source": [
    "%matplotlib widget\n",
    "# set data\n",
    "x_tot = deaths.index\n",
    "y_tot = deaths.Deceased.rolling(window=4).mean()\n",
    "y_cov = deaths.Deceased_covid.rolling(window=4).mean()\n",
    "y_oth = deaths.Deceased_other.rolling(window=4).mean()\n",
    "mean = deaths['mean']\n",
    "m_37 = deaths['-z']\n",
    "m_62 = deaths['+z']\n",
    "\n",
    "x_ = deceased_week_agegroup.index[deceased_week_agegroup['LeeftijdOp31December'] == '0 tot 65 jaar']\n",
    "y_0 = deceased_week_agegroup.Deceased[deceased_week_agegroup['LeeftijdOp31December'] == '0 tot 65 jaar'].rolling(window=4).mean()\n",
    "y_65 = deceased_week_agegroup.Deceased[deceased_week_agegroup['LeeftijdOp31December'] == '65 tot 80 jaar'].rolling(window=4).mean()\n",
    "y_80 = deceased_week_agegroup.Deceased[deceased_week_agegroup['LeeftijdOp31December'] == '80 jaar of ouder'].rolling(window=4).mean()\n",
    "\n",
    "# set plot\n",
    "plt.plot(x_tot, y_tot, label='Total')\n",
    "plt.plot(x_tot, mean, label='Mean', color='teal', linestyle='-')\n",
    "plt.plot(x_tot, m_37, label='-z', color='teal', linestyle='--')\n",
    "plt.plot(x_tot, m_62, label='+z', color='teal', linestyle='--')\n",
    "#plt.plot(x_tot, y_cov, label='Covid')\n",
    "#plt.plot(x_tot, y_oth, label='other', color='y')\n",
    "plt.plot(x_, y_0, color='b', label='0 tot 65 jaar')\n",
    "plt.plot(x_, y_65, label='65 tot 80 jaar')\n",
    "plt.plot(x_, y_80, label='80 jaar of ouder')\n",
    "\n",
    "plt.title('Deceased per week 1995-2020')\n",
    "plt.xlabel('YearWeek')\n",
    "plt.ylabel('Count')\n",
    "plt.legend(loc='upper left')\n",
    "\n",
    "# show plot\n",
    "plt.show()"
   ]
  },
  {
   "cell_type": "code",
   "execution_count": null,
   "metadata": {},
   "outputs": [],
   "source": [
    "%matplotlib widget\n",
    "deceased_2020_tot = deaths.loc['2020']\n",
    "# set data\n",
    "x_tot = deceased_2020_tot.YW\n",
    "y_tot = deceased_2020_tot.Deceased.rolling(window=4).mean()\n",
    "y_cov = deceased_2020_tot.Deceased_covid.rolling(window=4).mean()\n",
    "y_oth = deceased_2020_tot.Deceased_other.rolling(window=4).mean()\n",
    "mean = deceased_2020_tot['mean']\n",
    "m_37 = deceased_2020_tot['-z']\n",
    "m_62 = deceased_2020_tot['+z']\n",
    "\n",
    "deceased_2020 = deceased[deceased.year == 2020]\n",
    "\n",
    "x_ = deceased_2020.YW[deceased['LeeftijdOp31December'] == '0 tot 65 jaar']\n",
    "y_0 = deceased_2020.Overledenen_1[deceased['LeeftijdOp31December'] == '0 tot 65 jaar'].rolling(window=4).mean()\n",
    "y_65 = deceased_2020.Overledenen_1[deceased['LeeftijdOp31December'] == '65 tot 80 jaar'].rolling(window=4).mean()\n",
    "y_80 = deceased_2020.Overledenen_1[deceased['LeeftijdOp31December'] == '80 jaar of ouder'].rolling(window=4).mean()\n",
    "\n",
    "# set plot\n",
    "plt.plot(x_tot, y_tot, label='Total')\n",
    "plt.plot(x_tot, mean, label='Mean', color='teal', linestyle='-')\n",
    "plt.plot(x_tot, m_37, label='-z', color='teal', linestyle='--')\n",
    "plt.plot(x_tot, m_62, label='+z', color='teal', linestyle='--')\n",
    "plt.plot(x_tot, y_cov, label='Covid')\n",
    "plt.plot(x_tot, y_oth, label='other', color='y')\n",
    "plt.plot(x_, y_0, color='b', label='0 tot 65 jaar')\n",
    "plt.plot(x_, y_65, label='65 tot 80 jaar')\n",
    "plt.plot(x_, y_80, label='80 jaar of ouder')\n",
    "\n",
    "plt.title('2020')\n",
    "plt.xlabel('YearWeek')\n",
    "plt.ylabel('Count')\n",
    "plt.legend(loc='upper left')\n",
    "\n",
    "# show plot\n",
    "plt.show()"
   ]
  },
  {
   "cell_type": "code",
   "execution_count": null,
   "metadata": {},
   "outputs": [],
   "source": [
    "df = deaths\n",
    "df = df.groupby('year').mean()\n",
    "df = df['Deceased']\n",
    "deceased_extra = deaths.merge(df, on='year', how='outer', suffixes=['','_mean_y'])\n",
    "df = deaths\n",
    "df = df.groupby('year').std()\n",
    "df = df['Deceased']\n",
    "deceased_extra = deceased_extra.merge(df, on='year', how='outer', suffixes=['','_std_y'])\n",
    "deceased_extra['Deceased-37'] = deceased_extra['Deceased_mean_y']-deceased_extra['Deceased_std_y']\n",
    "deceased_extra['Deceased+62'] = deceased_extra['Deceased_mean_y']+deceased_extra['Deceased_std_y']\n",
    "#deceased_extra"
   ]
  },
  {
   "cell_type": "code",
   "execution_count": null,
   "metadata": {},
   "outputs": [],
   "source": [
    "%matplotlib widget\n",
    "# set data\n",
    "deceased_hist = deceased_extra[deceased_extra.index == 2020]\n",
    "\n",
    "x_tot = deceased_hist.YW\n",
    "y_tot = deceased_hist.Deceased.rolling(window=4).mean()\n",
    "y_jaar = deceased_hist.Deceased.rolling(window=52).mean()\n",
    "y_ = deceased_hist.Deceased_mean_y\n",
    "m_37 = deceased_hist['Deceased-37']\n",
    "m_62 = deceased_hist['Deceased+62']\n",
    "\n",
    "# set plot\n",
    "plt.plot(x_tot, y_tot, label='Total')\n",
    "plt.plot(x_tot, y_jaar, label='rolling 52 weeks')\n",
    "plt.plot(x_tot, y_, color='g', linestyle='-', label='Total Year')\n",
    "plt.plot(x_tot, m_37, color='g', linestyle='--', label='-z')\n",
    "plt.plot(x_tot, m_62, color='g', linestyle='--', label='+z')\n",
    "\n",
    "plt.title('Deceased per week 1995-2019')\n",
    "plt.xlabel('YearWeek')\n",
    "plt.ylabel('Count')\n",
    "plt.legend()\n",
    "\n",
    "# show plot\n",
    "plt.show()"
   ]
  },
  {
   "cell_type": "code",
   "execution_count": null,
   "metadata": {},
   "outputs": [],
   "source": [
    "deceased_year = deaths.groupby('year').cumsum()\n",
    "deceased_year = deceased_year[['Deceased']]\n",
    "deceased_year.plot()"
   ]
  },
  {
   "cell_type": "code",
   "execution_count": null,
   "metadata": {},
   "outputs": [],
   "source": [
    "deaths"
   ]
  },
  {
   "cell_type": "code",
   "execution_count": null,
   "metadata": {},
   "outputs": [],
   "source": [
    "#df = deaths\n",
    "#df.reset_index(inplace=True)\n",
    "df = deaths.groupby('week').mean()\n",
    "df = df['Deceased']\n",
    "deceased_week = deaths.merge(df, on='week', how='outer', suffixes=['','_mean_w'])\n",
    "df = deaths.groupby('week').std()\n",
    "df = df['Deceased'] \n",
    "deceased_week = deceased_week.merge(df, on='week', how='outer', suffixes=['','_std_w'])\n",
    "deceased_week['Deceased-37'] = deceased_week['Deceased_mean_w']-deceased_week['Deceased_std_w']\n",
    "deceased_week['Deceased+62'] = deceased_week['Deceased_mean_w']+deceased_week['Deceased_std_w']\n",
    "deceased_week['year'] = deceased_week['YW']/100\n",
    "deceased_week['year'] = deceased_week['year'].astype(int)\n",
    "deceased_week"
   ]
  },
  {
   "cell_type": "code",
   "execution_count": null,
   "metadata": {},
   "outputs": [],
   "source": [
    "%matplotlib widget\n",
    "# set data\n",
    "deceased_week_hist = deceased_week[deceased_week.year == 2020]\n",
    "\n",
    "x_tot = deceased_week_hist.index\n",
    "y_tot = deceased_week_hist.Deceased.cumsum()\n",
    "y_ = deceased_week_hist.Deceased_mean_w.cumsum()\n",
    "m_37 = deceased_week_hist['Deceased-37'].cumsum()\n",
    "m_62 = deceased_week_hist['Deceased+62'].cumsum()\n",
    "\n",
    "# set plot\n",
    "plt.plot(x_tot, y_tot, label='Total')\n",
    "plt.plot(x_tot, y_jaar, label='rolling 52 weeks')\n",
    "plt.plot(x_tot, y_, color='g', linestyle='-', label='Total Year')\n",
    "plt.plot(x_tot, m_37, color='g', linestyle='--', label='-z')\n",
    "plt.plot(x_tot, m_62, color='g', linestyle='--', label='+z')\n",
    "\n",
    "plt.title('Deceased per week 1995-2019')\n",
    "plt.xlabel('YearWeek')\n",
    "plt.ylabel('Count')\n",
    "plt.legend()\n",
    "\n",
    "# show plot\n",
    "plt.show()"
   ]
  },
  {
   "cell_type": "code",
   "execution_count": null,
   "metadata": {},
   "outputs": [],
   "source": [
    "deaths.corr()"
   ]
  },
  {
   "cell_type": "markdown",
   "metadata": {},
   "source": [
    "# Deceased relative to population"
   ]
  },
  {
   "cell_type": "code",
   "execution_count": null,
   "metadata": {
    "cell_id": "00008-905c3269-8bbb-4218-b91f-2dba8a352734",
    "execution_millis": 0,
    "execution_start": 1604934330891,
    "output_cleared": false,
    "source_hash": "be3bdb74",
    "tags": []
   },
   "outputs": [],
   "source": [
    "print('Calculating percentage deceased of population')\n",
    "percentage(population,'Deceased','Population')\n",
    "percentage(population_y,'Deceased', 'Population')\n",
    "print('DONE')"
   ]
  },
  {
   "cell_type": "code",
   "execution_count": null,
   "metadata": {
    "cell_id": "00011-f64e6707-802b-4566-98e6-f3c3a4db4b33",
    "execution_millis": 19,
    "execution_start": 1604927407570,
    "output_cleared": false,
    "source_hash": "7c436d14",
    "tags": []
   },
   "outputs": [],
   "source": [
    "print('Ceating dataframe for Nederland')\n",
    "population_nl = population[population['RegioS'] == 'Nederland']\n",
    "population = population[population['RegioS'] != 'Nederland']\n",
    "population_y_nl = population_y[population_y['RegioS'] == 'Nederland']\n",
    "population_y = population_y[population_y['RegioS'] != 'Nederland']\n",
    "print('DONE')\n",
    "population_y_nl"
   ]
  },
  {
   "cell_type": "code",
   "execution_count": null,
   "metadata": {},
   "outputs": [],
   "source": [
    "# add total for 2020 if missing\n",
    "try:\n",
    "    population_y_nl.loc[pd.Period(\"2020\"),]\n",
    "    print('2020 in dataframe: skipping')\n",
    "except:\n",
    "    print('2020 missing in dataframe: adding total from other dataframe')\n",
    "    population_y_nl.loc[pd.Period(\"2020\"),'year'] = \"2020\"\n",
    "    population_y_nl.loc[pd.Period(\"2020\"),'Deceased'] = deaths.loc[(2020,),'Deceased'].sum()\n",
    "    population_y_nl['Born'] = population_nl['Born'].mean()\n",
    "    born2020 = population_nl.loc[\"2020\",'Born'].sum()/11/12\n",
    "    population_y_nl.loc[pd.Period(\"2020\"),'Population'] = born2020+population_y_nl.loc[pd.Period(\"2019\"),'Population']\n",
    "    percentage(population_y_nl,'Deceased','Population')\n",
    "population_y_nl['%_Deceased_OF_Population_1']= population_y_nl['%_Deceased_OF_Population']*200000\n",
    "#for year,born in population['year','Born']:\n",
    "#    population.loc[year,'Born'] = born.mean()\n",
    "#population_y_nl['Born'] = population_nl['Born'].mean()\n",
    "population_y_nl"
   ]
  },
  {
   "cell_type": "code",
   "execution_count": null,
   "metadata": {
    "cell_id": "00013-ff08f7b3-30ff-4be4-b373-ccedaf56d2ea",
    "execution_millis": 1463,
    "execution_start": 1604927411641,
    "output_cleared": false,
    "source_hash": "196e35b6",
    "tags": []
   },
   "outputs": [],
   "source": [
    "population_nl.plot(subplots=True,figsize=(10,10))\n",
    "population_nl.pivot(index='month',columns='year', values='Deceased').plot(figsize=(10,5))\n",
    "population_nl.pivot(index='month',columns='year',values='%_Deceased_OF_Population').plot(figsize=(10,))"
   ]
  },
  {
   "cell_type": "code",
   "execution_count": null,
   "metadata": {
    "cell_id": "00011-bd0d525d-5098-4022-b2e9-fd4eabf9c8cc",
    "execution_millis": 2,
    "execution_start": 1604927463015,
    "output_cleared": false,
    "source_hash": "cbc3ba2c",
    "tags": []
   },
   "outputs": [],
   "source": [
    "x=population_y_nl.index\n",
    "print(x)\n",
    "ax=population_y_nl.plot(kind='line', y='Deceased', color='DarkBlue',figsize=(10,5))\n",
    "ax2=population_y_nl.plot(kind='line',y='%_Deceased_OF_Population', secondary_y=True,color='Red', ax=ax)\n",
    "ax.set_ylabel('Deceased')\n",
    "ax2.set_ylabel('% of population')\n",
    "plt.tight_layout()\n",
    "plt.show()"
   ]
  },
  {
   "cell_type": "raw",
   "metadata": {
    "cell_id": "00012-6e4c5232-d649-4761-ae9a-c448f1a9ced5",
    "execution_millis": 2,
    "output_cleared": false,
    "source_hash": "6a4b376f"
   },
   "source": [
    "#TO DO\n",
    "# add CBS oversterfte (look for source)\n",
    "# causes of death: 7052_95, 82899NED, 7233, 71426ned/71936ned verkeer,84726NED, 37360ned age, 70895ned, 7022gza, 80202ned, 71044NED, 71045NED\n",
    "# age of death 37979ned, 83194NED, 70895ned\n",
    "# 83110NED"
   ]
  },
  {
   "cell_type": "markdown",
   "metadata": {
    "cell_id": "00013-be83571f-8731-49d8-860a-eb4d20a17ae2",
    "output_cleared": false
   },
   "source": [
    "### and then reproducting the coronadashboard\n",
    "The data I use is the sources used formhet Coronadashbord of the Dutch government. https://coronadashboard.rijksoverheid.nl/\n",
    "  \n",
    "This contains:\n",
    "*medical indicators*"
   ]
  },
  {
   "cell_type": "code",
   "execution_count": null,
   "metadata": {
    "cell_id": "00014-99b1c62f-49aa-4861-b208-e1d728c252f6",
    "execution_millis": 55561,
    "output_cleared": false,
    "source_hash": "7cba26b7"
   },
   "outputs": [],
   "source": [
    "positive_tests.corr()"
   ]
  },
  {
   "cell_type": "code",
   "execution_count": null,
   "metadata": {
    "cell_id": "00015-b259e4c8-8f7a-4572-ab6c-a5a05dd135d8",
    "execution_millis": 47,
    "output_cleared": false,
    "source_hash": "f98695e0"
   },
   "outputs": [],
   "source": [
    "rivm_date_of_report = positive_tests.loc[0,'Date_of_report']\n",
    "print('Date of report for RIVM positive tests data = ' + str(rivm_date_of_report))\n",
    "positive_tests = positive_tests.drop(columns='Date_of_report')"
   ]
  },
  {
   "cell_type": "code",
   "execution_count": null,
   "metadata": {},
   "outputs": [],
   "source": [
    "# cumulatives\n",
    "running_total(positive_tests, 'Total_reported')\n",
    "running_total(positive_tests, 'Hospital_admission')\n",
    "running_total(positive_tests, 'Deceased')"
   ]
  },
  {
   "cell_type": "code",
   "execution_count": null,
   "metadata": {},
   "outputs": [],
   "source": [
    "# percentages\n",
    "percentage(positive_tests, 'rt_Deceased', 'rt_Total_reported')\n",
    "percentage(positive_tests, 'rt_Deceased', 'rt_Hospital_admission')\n",
    "percentage(positive_tests, 'rt_Hospital_admission', 'rt_Total_reported')"
   ]
  },
  {
   "cell_type": "code",
   "execution_count": null,
   "metadata": {},
   "outputs": [],
   "source": [
    "pfr = positive_tests.loc[positive_tests.index.argmax(),'%_rt_Deceased_OF_rt_Total_reported']\n",
    "hfr = positive_tests.loc[positive_tests.index.argmax(),'%_rt_Deceased_OF_rt_Hospital_admission']\n",
    "print('pfr on '+rivm_date_of_report+ 'is '+str(pfr)+'%')\n",
    "print('hfr on '+rivm_date_of_report+ 'is '+str(hfr)+'%')"
   ]
  },
  {
   "cell_type": "code",
   "execution_count": null,
   "metadata": {},
   "outputs": [],
   "source": [
    "positive_tests.plot(figsize=(20,20),subplots=True)\n",
    "positive_tests.plot(y=['Total_reported', 'Hospital_admission', 'Deceased'], figsize=(20, 10))\n",
    "positive_tests.plot(y=['rt_Total_reported', 'rt_Hospital_admission', 'rt_Deceased'], figsize=(20, 10))\n",
    "positive_tests.plot(y=['%_rt_Deceased_OF_rt_Total_reported', '%_rt_Deceased_OF_rt_Hospital_admission', '%_rt_Hospital_admission_OF_rt_Total_reported'], figsize=(20, 10))"
   ]
  },
  {
   "cell_type": "code",
   "execution_count": null,
   "metadata": {
    "cell_id": "00016-d0b7c68c-d5fd-4129-b638-022f9aebadd8",
    "execution_millis": 126,
    "output_cleared": false,
    "source_hash": "27ec402e"
   },
   "outputs": [],
   "source": [
    "positive_tests = positive_tests.set_index(pd.PeriodIndex(positive_tests['Date_of_publication'], freq='d'))\n",
    "positive_tests = positive_tests.drop(columns='Date_of_publication')\n",
    "positive_tests['P'] = positive_tests.index.strftime('%Y-%m')\n",
    "positive_tests = positive_tests.rename(index={'Date_of_publication':'date'})\n",
    "positive_tests"
   ]
  },
  {
   "cell_type": "code",
   "execution_count": null,
   "metadata": {
    "cell_id": "00017-9ec23c25-b600-443f-912e-3b57525d4082",
    "output_cleared": false,
    "source_hash": "5ee24e6a"
   },
   "outputs": [],
   "source": [
    "positive_tests_nl = positive_tests.sum(level='Date_of_publication')\n",
    "positive_tests_nl['P'] = positive_tests_nl.index.strftime('%Y-%m')\n",
    "positive_tests_nl"
   ]
  },
  {
   "cell_type": "code",
   "execution_count": null,
   "metadata": {
    "cell_id": "00018-65586d41-905e-44f3-a954-997880aabaad",
    "output_cleared": false,
    "source_hash": "7f29ea4d"
   },
   "outputs": [],
   "source": [
    "pop_latest = population_nl.loc[population_nl['P'].max(),'Population']\n",
    "pop_latest"
   ]
  },
  {
   "cell_type": "code",
   "execution_count": null,
   "metadata": {
    "cell_id": "00019-5a013cd9-dc1d-4d5f-8bfa-f9a1f2a9963e",
    "output_cleared": false,
    "source_hash": "4a8d250a"
   },
   "outputs": [],
   "source": [
    "print(type(population_nl.P[0]))\n",
    "print(type(positive_tests_nl.P[0]))\n",
    "\n",
    "pd.merge_asof(positive_tests_nl,population_nl,left_on='P',right_on='P')"
   ]
  },
  {
   "cell_type": "markdown",
   "metadata": {
    "cell_id": "00020-5e1c81a9-68cf-47fb-beea-edcb93019c47",
    "output_cleared": false
   },
   "source": [
    "# Gemiddeld aantal positief geteste mensen per 100.000 inwoners\n",
    "## Dit getal laat zien van hoeveel mensen gisteren per 100.000 inwoners gemeld is dat ze positief getest zijn en COVID-19 hebben.\n",
    "positive_tests_nl['p100k'] = positive_tests_nl['Total_reported'] / population_nl.loc[if(positive_tests_nl['P'] > population_nl['P'].max()):\n",
    "                                                                                     population_nl.loc[positive_tests_nl['P'],'Population']\n",
    "                                                                                else:\n",
    "                                                                                     positive_tests_nl['P']\n",
    "                                                                                ,'Population'] * 100000\n",
    "\n",
    "\n",
    "#pt_agg['mov_avg_p100k'] = np.average(pt_agg['']])\n",
    "#np.mean(pt[len(pt.columns)-1].Total_reported)"
   ]
  },
  {
   "cell_type": "code",
   "execution_count": null,
   "metadata": {
    "cell_id": "00021-9c3169c9-8418-4646-b996-21c7e87f0abe",
    "output_cleared": false,
    "source_hash": "ea46dbb9"
   },
   "outputs": [],
   "source": [
    "# Aantal positief geteste mensen\n",
    "## Dit getal laat zien van hoeveel mensen gisteren gemeld is dat ze positief getest zijn en COVID-19 hebben."
   ]
  },
  {
   "cell_type": "code",
   "execution_count": null,
   "metadata": {
    "cell_id": "00022-621f7fa1-42f9-41ce-95b3-366ea50a8d01",
    "output_cleared": false,
    "source_hash": "34d06dc3"
   },
   "outputs": [],
   "source": [
    "#Verdeling positief geteste mensen in Nederland\n",
    "## per gemeente\n",
    "\n",
    "## per veiligheidsregio\n",
    "\n"
   ]
  },
  {
   "cell_type": "markdown",
   "metadata": {
    "cell_id": "00023-4861208b-4d99-4fec-89d6-b6bc7e272cfc",
    "output_cleared": false
   },
   "source": [
    "# TESTING BOKEH WITH OTHER DATA\n",
    "pt_agg = pt.groupby(by=['Date_of_report'],as_index=False).sum()\n",
    "\n",
    "q = figure(plot_width=800, plot_height=400, title=\"My Line Plot\", x_axis_type=\"datetime\")\n",
    "\n",
    "q.multi_line(\n",
    "    xs=[\n",
    "        pt_agg['Date_of_report'],\n",
    "        pt_agg['Date_of_report'],\n",
    "        pt_agg['Date_of_report']\n",
    "    ],\n",
    "    ys=[\n",
    "        pt_agg['Deceased'], \n",
    "        pt_agg['Hospital_admission'],\n",
    "        pt_agg['Total_reported']\n",
    "    ],\n",
    "    color=viridis(len(pt_agg.columns)-1)\n",
    ")\n",
    "\n",
    "show(q)"
   ]
  },
  {
   "cell_type": "code",
   "execution_count": null,
   "metadata": {
    "cell_id": "00024-77fd1f02-778c-4142-a125-0965925c1ba5",
    "output_cleared": false,
    "source_hash": "c2467e2a"
   },
   "outputs": [],
   "source": [
    "print(\"- Percentage positive tested of all tests done\")\n",
    "# https://www.rivm.nl/archief-weekrapportages-covid-19-in-nederland\n",
    "pt_perc = tabula.read_pdf('https://www.rivm.nl/sites/default/files/2020-10/COVID-19_WebSite_rapport_wekelijks_20201013_1159_0.pdf', pages=29, guess=True, stream=True)\n",
    "print(pt_perc)\n",
    "## To DO:\n",
    "## 1) extract data from latest pdf\n",
    "## 2) scrape all pdfs for data to compare data thought time"
   ]
  },
  {
   "cell_type": "code",
   "execution_count": null,
   "metadata": {
    "cell_id": "00025-0aba9257-4693-4cca-bf52-eff3410f9e15",
    "output_cleared": false,
    "source_hash": "ec60ed16"
   },
   "outputs": [],
   "source": [
    "print(\"- number of infectious people\")\n",
    "# https://data.rivm.nl/geonetwork/srv/dut/catalog.search#/metadata/097155aa-75eb-4caa-8ed3-4c6edb80467e\n",
    "infected = pd.read_json('https://data.rivm.nl/covid-19/COVID-19_prevalentie.json')\n",
    "print(infected.head())"
   ]
  },
  {
   "cell_type": "code",
   "execution_count": null,
   "metadata": {
    "cell_id": "00026-0a0758a0-da20-49e1-8b89-f6f45b2c1a3a",
    "output_cleared": false,
    "source_hash": "157def74"
   },
   "outputs": [],
   "source": [
    "print(\"- R (reproductionnumber)\")\n",
    "# https://data.rivm.nl/geonetwork/srv/dut/catalog.search#/metadata/ed0699d1-c9d5-4436-8517-27eb993eab6e\n",
    "R = pd.read_json('https://data.rivm.nl/covid-19/COVID-19_reproductiegetal.json')\n",
    "print(R.head())"
   ]
  },
  {
   "cell_type": "code",
   "execution_count": null,
   "metadata": {
    "cell_id": "00027-3f00b86a-c760-44fc-b1a4-6b2ae6eb8674",
    "output_cleared": false,
    "source_hash": "78527f76"
   },
   "outputs": [],
   "source": [
    "print(\"- hospital admissions per day\")\n",
    "# NICE https://www.databronnencovid19.nl/Bron?naam=Nationale-Intensive-Care-Evaluatie\n",
    "hosp_nice = pd.read_json('https://stichting-nice.nl/covid-19/public/intake-count/')\n",
    "print(hosp_nice.head())\n",
    "# LCPS https://lcps.nu/datafeed/\n",
    "hosp_lcps = pd.read_csv('https://lcps.nu/wp-content/uploads/covid-19.csv')\n",
    "print(hosp_lcps.head())\n",
    "# Dashbaord changed source data https://www.nu.nl/coronavirus/6083846/ministerie-meldde-maandenlang-veel-te-weinig-opnames-coronapatienten.html\n",
    "# other sources: https://www.stichting-nice.nl/covid-19-op-de-zkh.jsp\n",
    "# 37852, 84522NED"
   ]
  },
  {
   "cell_type": "code",
   "execution_count": null,
   "metadata": {
    "cell_id": "00028-259d46c5-1c9e-4a63-9055-347767519cb4",
    "output_cleared": false,
    "source_hash": "5d0d35d4"
   },
   "outputs": [],
   "source": [
    "print(\"- icu admissions per day\")\n",
    "# url\n",
    "ic_NICE_new_intake = pd.read_json('https://stichting-nice.nl/covid-19/public/new-intake/').T\n",
    "ic_NICE_new_intake0 = pd.DataFrame()\n",
    "for row in ic_NICE_new_intake[0]:\n",
    "    ic_NICE_new_intake0 = ic_NICE_new_intake0.append(row, ignore_index=True)\n",
    "print(ic_NICE_new_intake0)\n",
    "ic_NICE_new_intake0['date'] = ic_NICE_new_intake['date']\n",
    "ic_NICE_new_intake1 = pd.DataFrame()\n",
    "for row in ic_NICE_new_intake[1]:\n",
    "    ic_NICE_new_intake1 = ic_NICE_new_intake1.append(row, ignore_index=True)\n",
    "ic_NICE_new_intake01 = pd.concat([ic_NICE_new_intake0,ic_NICE_new_intake1])\n",
    "print(ic_NICE_new_intake01.head())\n",
    "ic_NICE_new_intake_confirmed = pd.read_json('https://stichting-nice.nl/covid-19/public/new-intake/confirmed/')\n",
    "#print(ic_NICE_new_intake_confirmed.head())\n",
    "ic_NICE_intake_count = pd.read_json('https://stichting-nice.nl/covid-19/public/intake-count/')\n",
    "#print(ic_NICE_intake_count.head())\n",
    "print('IC data: 3 sources IMPORTED')\n",
    "## To DO: conpare ic1 and ic2\n",
    "#other sources: "
   ]
  },
  {
   "cell_type": "code",
   "execution_count": null,
   "metadata": {
    "cell_id": "00029-6c5ff2ac-487b-4f72-81a9-cba95baf860c",
    "execution_millis": 0,
    "output_cleared": false,
    "source_hash": "b494ea87"
   },
   "outputs": [],
   "source": [
    "ic_NICE_new_intake0"
   ]
  },
  {
   "cell_type": "code",
   "execution_count": null,
   "metadata": {
    "cell_id": "00035-cb740d8f-ff22-473c-b994-9381304f1dc3",
    "output_cleared": false,
    "source_hash": "363e10e2",
    "tags": []
   },
   "outputs": [],
   "source": [
    "# 84069NED"
   ]
  },
  {
   "cell_type": "code",
   "execution_count": null,
   "metadata": {
    "cell_id": "00035-091d4618-91aa-4ce8-8f1f-95328fc36adb",
    "output_cleared": false,
    "source_hash": "b623e53d",
    "tags": []
   },
   "outputs": [],
   "source": []
  },
  {
   "cell_type": "code",
   "execution_count": null,
   "metadata": {
    "cell_id": "00035-cf81f33e-339d-4d33-800b-2f44a2b26409",
    "output_cleared": false,
    "source_hash": "b623e53d",
    "tags": []
   },
   "outputs": [],
   "source": []
  },
  {
   "cell_type": "code",
   "execution_count": null,
   "metadata": {
    "cell_id": "00035-1fe5fd54-31b1-4772-bb7a-f566744a5d94",
    "output_cleared": false,
    "source_hash": "b623e53d",
    "tags": []
   },
   "outputs": [],
   "source": []
  },
  {
   "cell_type": "markdown",
   "metadata": {
    "cell_id": "00030-a0837743-44b2-4d50-ada8-b7d5fd3834a6",
    "output_cleared": false
   },
   "source": [
    "# SINGLE LINE TEST\n",
    "# create a new plot (with a title) using figure\n",
    "ic_new_intake0 = figure(plot_width=800, plot_height=400, x_axis_type=\"datetime\", title=\"NICE new-intake\")\n",
    "# add a line renderer \n",
    "ic_new_intake0.line(\n",
    "    ic_NICE_new_intake0['date'], \n",
    "    ic_NICE_new_intake0['value']\n",
    ")\n",
    "show(ic_new_intake0)"
   ]
  },
  {
   "cell_type": "markdown",
   "metadata": {
    "cell_id": "00031-055045e9-6dd5-45d4-9b6d-bf5f46740db8",
    "output_cleared": false
   },
   "source": [
    "# SINGLE LINE TEST\n",
    "# create a new plot (with a title) using figure\n",
    "ic_new_intake_confirmed = figure(plot_width=800, plot_height=400, x_axis_type=\"datetime\", title=\"NICE new-intake confirmed\")\n",
    "# add a line renderer \n",
    "ic_new_intake_confirmed.line(\n",
    "    ic_NICE_new_intake_confirmed['date'], \n",
    "    ic_NICE_new_intake_confirmed['value']\n",
    ")"
   ]
  },
  {
   "cell_type": "markdown",
   "metadata": {
    "cell_id": "00032-5f51ae08-ce06-450e-94df-ce6b0387a391",
    "output_cleared": false
   },
   "source": [
    "# SINGLE LINE TEST\n",
    "# create a new plot (with a title) using figure\n",
    "ic_intake_count = figure(plot_width=800, plot_height=400, x_axis_type=\"datetime\", title=\"NICE intake count\")\n",
    "# add a line renderer \n",
    "ic_intake_count.line(\n",
    "    ic_NICE_intake_count['date'], \n",
    "    ic_NICE_intake_count['value']\n",
    ")"
   ]
  },
  {
   "cell_type": "markdown",
   "metadata": {
    "cell_id": "00033-41913077-5eda-44cc-afae-0f6cf8520d5c",
    "output_cleared": false
   },
   "source": [
    "## MULTIPLE LINE TEST\n",
    "ic_all = figure(title=\"IC1 & IC_opnames_NICE\", plot_width=800, plot_height=400, x_axis_type=\"datetime\")\n",
    "\n",
    "ic_all.multi_line([ic1.date, ic_opnames.date],\n",
    "              [ic1.value, ic_opnames.value],\n",
    "              color=viridis(3))"
   ]
  },
  {
   "cell_type": "markdown",
   "metadata": {
    "cell_id": "00034-c08587fe-4dbd-4768-bcba-f435798f8b6a",
    "output_cleared": false
   },
   "source": [
    "show(ic_new_intake)\n",
    "show(ic_new_intake_confirmed)\n",
    "show(ic_intake_count)\n",
    "show(ic_all)"
   ]
  },
  {
   "cell_type": "code",
   "execution_count": null,
   "metadata": {
    "cell_id": "00035-af075381-06b1-43c5-aeed-cb0ed01a0f62",
    "output_cleared": false,
    "source_hash": "2ae03f16"
   },
   "outputs": [],
   "source": [
    "## sources NICE for their website:\n",
    "# /covid-19/public/zkh/global\n",
    "# /covid-19/public/zkh/new-intake/\n",
    "# /covid-19/public/zkh/intake-count/\n",
    "# /covid-19/public/zkh/intake-cumulative/\n",
    "# /covid-19/public/zkh/died-and-survivors-cumulative/\n",
    "# /covid-19/public/zkh/age-distribution-died-and-survivors/\n",
    "# /covid-19/public/zkh/age-distribution-status/\n",
    "# /covid-19/public/zkh/behandelduur-distribution/\n",
    "# /covid-19/public/zkh/behandelduur-distribution/\n",
    "## TO DO: check which used and which to use extra.\n",
    "## sources LCPS?\n",
    "# https://lcps.nu/wp-content/uploads/\n",
    "## Maybe scrape website to find more public data: https://scrapy.org/ OR https://www.crummy.com/software/BeautifulSoup/bs4/doc/"
   ]
  },
  {
   "cell_type": "markdown",
   "metadata": {
    "cell_id": "00036-d501e9d3-e824-4536-9ec9-87d0f3d9c762",
    "output_cleared": false
   },
   "source": [
    "*early signs*"
   ]
  },
  {
   "cell_type": "code",
   "execution_count": null,
   "metadata": {
    "cell_id": "00037-57458370-a07b-492f-89ef-9750d2e21bf2",
    "output_cleared": false,
    "source_hash": "c2f55165"
   },
   "outputs": [],
   "source": [
    "print(\"- patient reporting covid symptoms at family doctor\")\n",
    "# https://www.nivel.nl/nl/nivel-zorgregistraties-eerste-lijn/nivel-zorgregistraties-eerste-lijn\n"
   ]
  },
  {
   "cell_type": "code",
   "execution_count": null,
   "metadata": {
    "cell_id": "00038-7a8572c8-3335-4d0c-a214-0d7c393b0dae",
    "output_cleared": false,
    "source_hash": "e9e66056"
   },
   "outputs": [],
   "source": [
    "print(\"- sewagewate\")\n",
    "# https://data.rivm.nl/geonetwork/srv/dut/catalog.search#/metadata/a2960b68-9d3f-4dc3-9485-600570cd52b9\n",
    "sw = pd.read_json('https://data.rivm.nl/covid-19/COVID-19_rioolwaterdata.json')\n",
    "print(sw.head())"
   ]
  },
  {
   "cell_type": "markdown",
   "metadata": {
    "cell_id": "00039-bf6ad82d-16a9-4321-bad7-0f3c3ba6e9cd",
    "output_cleared": false
   },
   "source": [
    "*homes for elderly*"
   ]
  },
  {
   "cell_type": "code",
   "execution_count": null,
   "metadata": {
    "cell_id": "00040-a57324b6-e86a-46e6-9750-50b10d39b623",
    "output_cleared": false,
    "source_hash": "270ed24b"
   },
   "outputs": [],
   "source": [
    "print(\"- positive testst\")\n",
    "# from pdf. https://www.rivm.nl/documenten/wekelijkse-update-epidemiologische-situatie-covid-19-in-nederland"
   ]
  },
  {
   "cell_type": "code",
   "execution_count": null,
   "metadata": {
    "cell_id": "00041-c33e3639-d55a-452a-8807-6149431b972b",
    "output_cleared": false,
    "source_hash": "f0e4e1d2"
   },
   "outputs": [],
   "source": [
    "print(\"- infected locations\")\n",
    "# from pdf. https://www.rivm.nl/documenten/wekelijkse-update-epidemiologische-situatie-covid-19-in-nederland"
   ]
  },
  {
   "cell_type": "code",
   "execution_count": null,
   "metadata": {
    "cell_id": "00042-4f92df9a-d991-451a-bf28-333276a707cd",
    "output_cleared": false,
    "source_hash": "cc94df93"
   },
   "outputs": [],
   "source": [
    "print(\"- number deseased\")\n",
    "# from pdf. https://www.rivm.nl/documenten/wekelijkse-update-epidemiologische-situatie-covid-19-in-nederland"
   ]
  },
  {
   "cell_type": "markdown",
   "metadata": {
    "cell_id": "00043-c9fa5537-9388-4227-acc4-c64c3c9fb7f1",
    "output_cleared": false
   },
   "source": [
    "**metadata**"
   ]
  },
  {
   "cell_type": "code",
   "execution_count": null,
   "metadata": {
    "cell_id": "00044-ab789607-ae73-4f6a-b4fb-a9648ba0c392",
    "output_cleared": false,
    "source_hash": "abefa8b4"
   },
   "outputs": [],
   "source": [
    "print(\"- municipalities in Netherlands\")\n",
    "## https://www.cbs.nl/nl-nl/onze-diensten/methoden/classificaties/overig/gemeentelijke-indelingen-per-jaar/indeling%20per%20jaar/gemeentelijke-indeling-op-1-januari-2020\n",
    "municipality = pd.read_excel('https://www.cbs.nl/-/media/_excel/2020/03/gemeenten-alfabetisch-2020.xlsx')\n",
    "print(municipality.head())\n",
    "# aantallen per gemeente: https://data.rivm.nl/geonetwork/srv/dut/catalog.search#/metadata/5f6bc429-1596-490e-8618-1ed8fd768427\n"
   ]
  },
  {
   "cell_type": "markdown",
   "metadata": {
    "cell_id": "00045-dcb546a2-a7ab-48ec-8363-46a648685e5f",
    "output_cleared": false
   },
   "source": [
    "### missing data, i would like to calculate of collect\n",
    "- covid numbers relitive to all data\n",
    "- deseased for whole country (possible source: https://data.rivm.nl/geonetwork/srv/dut/catalog.search#/metadata/1c0fcd57-1102-4620-9cfa-441e93ea5604)\n",
    "\n",
    "### more data"
   ]
  },
  {
   "cell_type": "markdown",
   "metadata": {
    "cell_id": "00046-2cbde6a9-a240-4171-8915-43c2b4012ebd",
    "output_cleared": false
   },
   "source": [
    "- Karakteristieken elke geteste persoon: https://data.rivm.nl/geonetwork/srv/dut/catalog.search#/metadata/2c4357c8-76e4-4662-9574-1deb8a73f724?tab=relations\n",
    "- https://data.rivm.nl"
   ]
  }
 ],
 "metadata": {
  "deepnote_execution_queue": [],
  "deepnote_notebook_id": "057ef9e6-7042-4172-a7ca-da4122c96267",
  "kernelspec": {
   "display_name": "Covid",
   "language": "python",
   "name": "covid"
  },
  "language_info": {
   "codemirror_mode": {
    "name": "ipython",
    "version": 3
   },
   "file_extension": ".py",
   "mimetype": "text/x-python",
   "name": "python",
   "nbconvert_exporter": "python",
   "pygments_lexer": "ipython3",
   "version": "3.9.2"
  },
  "widgets": {
   "application/vnd.jupyter.widget-state+json": {
    "state": {},
    "version_major": 2,
    "version_minor": 0
   }
  }
 },
 "nbformat": 4,
 "nbformat_minor": 4
}
