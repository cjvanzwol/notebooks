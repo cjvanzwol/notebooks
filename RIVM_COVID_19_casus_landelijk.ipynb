{
  "nbformat": 4,
  "nbformat_minor": 0,
  "metadata": {
    "colab": {
      "name": "RIVM COVID-19 casus landelijk.ipynb",
      "provenance": [],
      "mount_file_id": "1H7GeAIbt4HgM0dKBhqtZsFqFbAhvbl_v",
      "authorship_tag": "ABX9TyPXhuE9far/zXma4RDfsRPK",
      "include_colab_link": true
    },
    "kernelspec": {
      "name": "python3",
      "display_name": "Python 3"
    },
    "language_info": {
      "name": "python"
    },
    "accelerator": "TPU"
  },
  "cells": [
    {
      "cell_type": "markdown",
      "metadata": {
        "id": "view-in-github",
        "colab_type": "text"
      },
      "source": [
        "<a href=\"https://colab.research.google.com/github/cjvanzwol/notebooks/blob/main/RIVM_COVID_19_casus_landelijk.ipynb\" target=\"_parent\"><img src=\"https://colab.research.google.com/assets/colab-badge.svg\" alt=\"Open In Colab\"/></a>"
      ]
    },
    {
      "cell_type": "code",
      "metadata": {
        "id": "u4SJYHbBv0vm"
      },
      "source": [
        "import pandas as pd"
      ],
      "execution_count": 1,
      "outputs": []
    },
    {
      "cell_type": "code",
      "metadata": {
        "id": "iGLeoRLpv3yK"
      },
      "source": [
        "rivm = pd.read_json('https://data.rivm.nl/covid-19/COVID-19_casus_landelijk.json')"
      ],
      "execution_count": 2,
      "outputs": []
    },
    {
      "cell_type": "code",
      "metadata": {
        "id": "MaEB414RwVmS"
      },
      "source": [
        "rivm.to_pickle('./COVID-19_casus_landelijk.pkl')"
      ],
      "execution_count": 3,
      "outputs": []
    },
    {
      "cell_type": "code",
      "metadata": {
        "colab": {
          "base_uri": "https://localhost:8080/",
          "height": 597
        },
        "id": "2cpdtHB59s4A",
        "outputId": "4b55b080-e18a-4b61-ac2b-3a6f357d199e"
      },
      "source": [
        "rivm"
      ],
      "execution_count": 4,
      "outputs": [
        {
          "output_type": "execute_result",
          "data": {
            "text/html": [
              "<div>\n",
              "<style scoped>\n",
              "    .dataframe tbody tr th:only-of-type {\n",
              "        vertical-align: middle;\n",
              "    }\n",
              "\n",
              "    .dataframe tbody tr th {\n",
              "        vertical-align: top;\n",
              "    }\n",
              "\n",
              "    .dataframe thead th {\n",
              "        text-align: right;\n",
              "    }\n",
              "</style>\n",
              "<table border=\"1\" class=\"dataframe\">\n",
              "  <thead>\n",
              "    <tr style=\"text-align: right;\">\n",
              "      <th></th>\n",
              "      <th>Date_file</th>\n",
              "      <th>Date_statistics</th>\n",
              "      <th>Date_statistics_type</th>\n",
              "      <th>Agegroup</th>\n",
              "      <th>Sex</th>\n",
              "      <th>Province</th>\n",
              "      <th>Hospital_admission</th>\n",
              "      <th>Deceased</th>\n",
              "      <th>Week_of_death</th>\n",
              "      <th>Municipal_health_service</th>\n",
              "    </tr>\n",
              "  </thead>\n",
              "  <tbody>\n",
              "    <tr>\n",
              "      <th>0</th>\n",
              "      <td>2021-04-20 10:00:00</td>\n",
              "      <td>2020-01-01</td>\n",
              "      <td>DOO</td>\n",
              "      <td>40-49</td>\n",
              "      <td>Female</td>\n",
              "      <td>Noord-Holland</td>\n",
              "      <td>No</td>\n",
              "      <td>No</td>\n",
              "      <td>NaN</td>\n",
              "      <td>GGD Amsterdam</td>\n",
              "    </tr>\n",
              "    <tr>\n",
              "      <th>1</th>\n",
              "      <td>2021-04-20 10:00:00</td>\n",
              "      <td>2020-01-01</td>\n",
              "      <td>DOO</td>\n",
              "      <td>50-59</td>\n",
              "      <td>Male</td>\n",
              "      <td>Gelderland</td>\n",
              "      <td>No</td>\n",
              "      <td>No</td>\n",
              "      <td>NaN</td>\n",
              "      <td>Veiligheids- en Gezondheidsregio Gelderland-Mi...</td>\n",
              "    </tr>\n",
              "    <tr>\n",
              "      <th>2</th>\n",
              "      <td>2021-04-20 10:00:00</td>\n",
              "      <td>2020-01-01</td>\n",
              "      <td>DOO</td>\n",
              "      <td>20-29</td>\n",
              "      <td>Female</td>\n",
              "      <td>Zuid-Holland</td>\n",
              "      <td>No</td>\n",
              "      <td>No</td>\n",
              "      <td>NaN</td>\n",
              "      <td>GGD Hollands-Midden</td>\n",
              "    </tr>\n",
              "    <tr>\n",
              "      <th>3</th>\n",
              "      <td>2021-04-20 10:00:00</td>\n",
              "      <td>2020-01-01</td>\n",
              "      <td>DOO</td>\n",
              "      <td>60-69</td>\n",
              "      <td>Female</td>\n",
              "      <td>Noord-Holland</td>\n",
              "      <td>No</td>\n",
              "      <td>No</td>\n",
              "      <td>NaN</td>\n",
              "      <td>GGD Hollands-Noorden</td>\n",
              "    </tr>\n",
              "    <tr>\n",
              "      <th>4</th>\n",
              "      <td>2021-04-20 10:00:00</td>\n",
              "      <td>2020-01-04</td>\n",
              "      <td>DOO</td>\n",
              "      <td>10-19</td>\n",
              "      <td>Female</td>\n",
              "      <td>Gelderland</td>\n",
              "      <td>Unknown</td>\n",
              "      <td>No</td>\n",
              "      <td>NaN</td>\n",
              "      <td>GGD Gelderland-Zuid</td>\n",
              "    </tr>\n",
              "    <tr>\n",
              "      <th>...</th>\n",
              "      <td>...</td>\n",
              "      <td>...</td>\n",
              "      <td>...</td>\n",
              "      <td>...</td>\n",
              "      <td>...</td>\n",
              "      <td>...</td>\n",
              "      <td>...</td>\n",
              "      <td>...</td>\n",
              "      <td>...</td>\n",
              "      <td>...</td>\n",
              "    </tr>\n",
              "    <tr>\n",
              "      <th>1417767</th>\n",
              "      <td>2021-04-20 10:00:00</td>\n",
              "      <td>2021-04-20</td>\n",
              "      <td>DPL</td>\n",
              "      <td>20-29</td>\n",
              "      <td>Male</td>\n",
              "      <td>Overijssel</td>\n",
              "      <td>Unknown</td>\n",
              "      <td>No</td>\n",
              "      <td>NaN</td>\n",
              "      <td>GGD IJsselland</td>\n",
              "    </tr>\n",
              "    <tr>\n",
              "      <th>1417768</th>\n",
              "      <td>2021-04-20 10:00:00</td>\n",
              "      <td>2021-04-20</td>\n",
              "      <td>DPL</td>\n",
              "      <td>40-49</td>\n",
              "      <td>Male</td>\n",
              "      <td>Zuid-Holland</td>\n",
              "      <td>Unknown</td>\n",
              "      <td>Unknown</td>\n",
              "      <td>NaN</td>\n",
              "      <td>Dienst Gezondheid &amp; Jeugd ZHZ</td>\n",
              "    </tr>\n",
              "    <tr>\n",
              "      <th>1417769</th>\n",
              "      <td>2021-04-20 10:00:00</td>\n",
              "      <td>2021-04-20</td>\n",
              "      <td>DPL</td>\n",
              "      <td>0-9</td>\n",
              "      <td>Male</td>\n",
              "      <td>Zuid-Holland</td>\n",
              "      <td>Unknown</td>\n",
              "      <td>Unknown</td>\n",
              "      <td>NaN</td>\n",
              "      <td>GGD Hollands-Midden</td>\n",
              "    </tr>\n",
              "    <tr>\n",
              "      <th>1417770</th>\n",
              "      <td>2021-04-20 10:00:00</td>\n",
              "      <td>2021-04-20</td>\n",
              "      <td>DPL</td>\n",
              "      <td>40-49</td>\n",
              "      <td>Male</td>\n",
              "      <td>Zuid-Holland</td>\n",
              "      <td>Unknown</td>\n",
              "      <td>Unknown</td>\n",
              "      <td>NaN</td>\n",
              "      <td>GGD Hollands-Midden</td>\n",
              "    </tr>\n",
              "    <tr>\n",
              "      <th>1417771</th>\n",
              "      <td>2021-04-20 10:00:00</td>\n",
              "      <td>2021-04-20</td>\n",
              "      <td>DPL</td>\n",
              "      <td>30-39</td>\n",
              "      <td>Female</td>\n",
              "      <td>Zuid-Holland</td>\n",
              "      <td>Unknown</td>\n",
              "      <td>Unknown</td>\n",
              "      <td>NaN</td>\n",
              "      <td>GGD Haaglanden</td>\n",
              "    </tr>\n",
              "  </tbody>\n",
              "</table>\n",
              "<p>1417772 rows × 10 columns</p>\n",
              "</div>"
            ],
            "text/plain": [
              "                   Date_file  ...                           Municipal_health_service\n",
              "0        2021-04-20 10:00:00  ...                                      GGD Amsterdam\n",
              "1        2021-04-20 10:00:00  ...  Veiligheids- en Gezondheidsregio Gelderland-Mi...\n",
              "2        2021-04-20 10:00:00  ...                                GGD Hollands-Midden\n",
              "3        2021-04-20 10:00:00  ...                               GGD Hollands-Noorden\n",
              "4        2021-04-20 10:00:00  ...                                GGD Gelderland-Zuid\n",
              "...                      ...  ...                                                ...\n",
              "1417767  2021-04-20 10:00:00  ...                                     GGD IJsselland\n",
              "1417768  2021-04-20 10:00:00  ...                      Dienst Gezondheid & Jeugd ZHZ\n",
              "1417769  2021-04-20 10:00:00  ...                                GGD Hollands-Midden\n",
              "1417770  2021-04-20 10:00:00  ...                                GGD Hollands-Midden\n",
              "1417771  2021-04-20 10:00:00  ...                                     GGD Haaglanden\n",
              "\n",
              "[1417772 rows x 10 columns]"
            ]
          },
          "metadata": {
            "tags": []
          },
          "execution_count": 4
        }
      ]
    },
    {
      "cell_type": "code",
      "metadata": {
        "id": "wHCGgW6nZsSe"
      },
      "source": [
        ""
      ],
      "execution_count": null,
      "outputs": []
    }
  ]
}