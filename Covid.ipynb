{
 "cells": [
  {
   "cell_type": "markdown",
   "metadata": {},
   "source": [
    "# Covid-19 data analysis for the Netherland\n",
    "## uses covid data to learn datascience in pyhton woth Jupyterlab\n",
    "\n",
    "*Goals*\n",
    "1. learning datawcience\n",
    "2. learning python\n",
    "3. learning Jupyterlab\n",
    "4. maybe get some insight in covid"
   ]
  },
  {
   "cell_type": "code",
   "execution_count": null,
   "metadata": {},
   "outputs": [],
   "source": [
    "## install modules for Google Colab\n",
    "# uncomment line below and run cell\n",
    "#!pip install tabula-py cbsodata"
   ]
  },
  {
   "cell_type": "code",
   "execution_count": 2,
   "metadata": {},
   "outputs": [],
   "source": [
    "#from IPython.display import Markdown as md\n",
    "import numpy as np\n",
    "import pandas as pd\n",
    "import tabula\n",
    "from datetime import datetime\n",
    "import json\n",
    "\n",
    "import cbsodata as cbs\n",
    "\n",
    "## Revert to charts in pandas, for simplicity. \n",
    "#To DO: add Bokeh - https://docs.bokeh.org/\n",
    "#from bokeh.io import output_notebook\n",
    "#from bokeh.plotting import figure, show\n",
    "#from bokeh.palettes import viridis\n",
    "#import pandas_bokeh\n",
    "#output_notebook()"
   ]
  },
  {
   "cell_type": "markdown",
   "metadata": {},
   "source": [
    "## Collecting data\n",
    "\n",
    "### CBS\n",
    "https://opendata.cbs.nl/statline/portal.html"
   ]
  },
  {
   "cell_type": "code",
   "execution_count": 476,
   "metadata": {},
   "outputs": [
    {
     "name": "stdout",
     "output_type": "stream",
     "text": [
      "Importing: Bevolkingsontwikkeling; maand en jaar 2002-now (Population statistics, month and year)\n",
      "DONE\n"
     ]
    }
   ],
   "source": [
    "print('Importing: Bevolkingsontwikkeling; maand en jaar 2002-now (Population statistics, month and year)')\n",
    "population = pd.DataFrame(cbs.get_data('37230ned'))\n",
    "print('DONE')"
   ]
  },
  {
   "cell_type": "code",
   "execution_count": 477,
   "metadata": {},
   "outputs": [
    {
     "name": "stdout",
     "output_type": "stream",
     "text": [
      "Preparing Dataframe foor analyses\n",
      "Dropping unnecessary columns\n",
      "DONE\n"
     ]
    }
   ],
   "source": [
    "print('Preparing Dataframe foor analyses')\n",
    "print('Dropping unnecessary columns')\n",
    "population = population.drop(columns=['ID', 'BevolkingAanHetBeginVanDePeriode_1','TotaleVestiging_4',\n",
    "       'VestigingVanuitEenAndereGemeente_5', 'Immigratie_6',\n",
    "       'TotaalVertrekInclAdmCorrecties_7', 'VertrekNaarAndereGemeente_8',\n",
    "       'EmigratieInclusiefAdmCorrecties_9', 'OverigeCorrecties_10',\n",
    "       'Bevolkingsgroei_11', 'BevolkingsgroeiRelatief_12',\n",
    "       'BevolkingsgroeiSinds1Januari_13',\n",
    "       'BevolkingsgroeiSinds1JanuariRela_14'])\n",
    "population = population.rename(columns={\"LevendGeborenKinderen_2\": \"Born\", \"Overledenen_3\": \"Deceased\", \"BevolkingAanHetEindeVanDePeriode_15\": \"Population\"})\n",
    "print('DONE')"
   ]
  },
  {
   "cell_type": "code",
   "execution_count": 478,
   "metadata": {},
   "outputs": [
    {
     "name": "stdout",
     "output_type": "stream",
     "text": [
      "Calculating percentage deceased of population\n",
      "DONE\n"
     ]
    }
   ],
   "source": [
    "# defining function for calculating percentage\n",
    "def percentage(df,d,n):\n",
    "    df[d+'_perc'] = df[d]/df[n]*100\n",
    "\n",
    "print('Calculating percentage deceased of population')\n",
    "percentage(population,'Deceased','Population')\n",
    "print('DONE')"
   ]
  },
  {
   "cell_type": "code",
   "execution_count": 479,
   "metadata": {},
   "outputs": [
    {
     "name": "stdout",
     "output_type": "stream",
     "text": [
      "Setting Period\n",
      "DONE\n"
     ]
    }
   ],
   "source": [
    "print('Setting Period')\n",
    "population['year'] = population['Perioden'].str.slice(stop=4)\n",
    "population['month'] = population['Perioden'].str.slice(start=5)\n",
    "population = population[population['month'] != '']\n",
    "population['month'] = population['month'].replace({\n",
    "    'januari': '01',\n",
    "    'februari': '02',\n",
    "    'maart': '03',\n",
    "    'april': '04',\n",
    "    'mei': '05',\n",
    "    'juni': '06',\n",
    "    'juli': '07',\n",
    "    'augustus': '08',\n",
    "    'september': '09',\n",
    "    'oktober': '10',\n",
    "    'november': '11',\n",
    "    'december': '12'})\n",
    "population['Period'] = population['year'] + '-' + population['month']\n",
    "population = population.drop(columns=['Perioden','year','month'])\n",
    "population = population.set_index(pd.PeriodIndex(population['Period'], freq = 'M'))\n",
    "print('DONE')"
   ]
  },
  {
   "cell_type": "code",
   "execution_count": 480,
   "metadata": {},
   "outputs": [
    {
     "name": "stdout",
     "output_type": "stream",
     "text": [
      "Ceating dataframe for Nederland\n",
      "DONE\n",
      "Ceating dataframe for Landsdeel\n",
      "DONE\n",
      "Ceating dataframe for Provincies\n",
      "DONE\n",
      "Ceating dataframe for COROP-gebied\n",
      "DONE\n",
      "Ceating dataframe for Gemeenten\n",
      "DONE\n"
     ]
    }
   ],
   "source": [
    "print('Ceating dataframe for Nederland')\n",
    "population_nl = population[population['RegioS'] == 'Nederland']\n",
    "population_nl = population_nl.set_index(pd.PeriodIndex(population_nl['Period'], freq = 'M'))\n",
    "population_nl = population_nl.rename(columns={'Period':'P'})\n",
    "population = population[population['RegioS'] != 'Nederland']\n",
    "print('DONE')\n",
    "\n",
    "print('Ceating dataframe for Landsdeel')\n",
    "#population_ld = population[population['RegioS'].str.slice(start=-4) == '(LD)']\n",
    "#population_ld = population_ld.set_index(pd.PeriodIndex(population_ld['Period'], freq = 'M'))\n",
    "#population_ld = population_ld.rename(columns={'Period':'P'})\n",
    "population = population[population['RegioS'].str.slice(start=-4) != '(LD)']\n",
    "#print('DONE')\n",
    "print('Skipping Landsdeel')\n",
    "\n",
    "print('Ceating dataframe for Provincies')\n",
    "population_pv = population[population['RegioS'].str.slice(start=-4) == '(PV)']\n",
    "population_pv = population_pv.set_index(pd.PeriodIndex(population_pv['Period'], freq = 'M'))\n",
    "population_pv = population_pv.rename(columns={'Period':'P'})\n",
    "population = population[population['RegioS'].str.slice(start=-4) != '(PV)']\n",
    "print('DONE')\n",
    "\n",
    "print('Ceating dataframe for COROP-gebied')\n",
    "#population_cr = population[population['RegioS'].str.slice(start=-4) == '(CR)']\n",
    "#population_cr = population_cr.set_index(pd.PeriodIndex(population_cr['Period'], freq = 'M'))\n",
    "#population_cr = population_cr.rename(columns={'Period':'P'})\n",
    "population = population[population['RegioS'].str.slice(start=-4) != '(CR)']\n",
    "#print('DONE')\n",
    "print('Skipping COROP-gebied')\n",
    "\n",
    "print('Ceating dataframe for Gemeenten')\n",
    "population_gm = population\n",
    "population_gm = population_gm.set_index(pd.PeriodIndex(population_gm['Period'], freq = 'M'))\n",
    "population_nl = population_gm.rename(columns={'Period':'P'})\n",
    "print('DONE')\n",
    "#del(population)"
   ]
  },
  {
   "cell_type": "code",
   "execution_count": 483,
   "metadata": {},
   "outputs": [
    {
     "data": {
      "text/plain": [
       "array([<AxesSubplot:xlabel='Period'>, <AxesSubplot:xlabel='Period'>,\n",
       "       <AxesSubplot:xlabel='Period'>, <AxesSubplot:xlabel='Period'>],\n",
       "      dtype=object)"
      ]
     },
     "execution_count": 483,
     "metadata": {},
     "output_type": "execute_result"
    },
    {
     "data": {
      "image/png": "[encoded data removed]",
      "text/plain": [
       "<Figure size 432x288 with 1 Axes>"
      ]
     },
     "metadata": {
      "needs_background": "light"
     },
     "output_type": "display_data"
    },
    {
     "data": {
      "image/png": "[encoded data removed]",
      "text/plain": [
       "<Figure size 432x288 with 4 Axes>"
      ]
     },
     "metadata": {
      "needs_background": "light"
     },
     "output_type": "display_data"
    }
   ],
   "source": [
    "population_nl.plot()\n",
    "population_nl.plot(subplots=True)"
   ]
  },
  {
   "cell_type": "code",
   "execution_count": 52,
   "metadata": {},
   "outputs": [],
   "source": [
    "#TO DO: add CBS oversterfte (look for source)"
   ]
  },
  {
   "cell_type": "markdown",
   "metadata": {},
   "source": [
    "### and then reproducting the coronadashboard\n",
    "The data I use is the sources used formhet Coronadashbord of the Dutch government. https://coronadashboard.rijksoverheid.nl/\n",
    "  \n",
    "This contains:\n",
    "*medical indicators*"
   ]
  },
  {
   "cell_type": "code",
   "execution_count": 495,
   "metadata": {},
   "outputs": [
    {
     "name": "stdout",
     "output_type": "stream",
     "text": [
      "- number of positive tests\n"
     ]
    }
   ],
   "source": [
    "print(\"- number of positive tests\")\n",
    "# number of positive tests (https://data.rivm.nl/geonetwork/srv/dut/catalog.search#/metadata/5f6bc429-1596-490e-8618-1ed8fd768427)\n",
    "positive_tests = pd.read_json('https://data.rivm.nl/covid-19/COVID-19_aantallen_gemeente_per_dag.json')"
   ]
  },
  {
   "cell_type": "code",
   "execution_count": 496,
   "metadata": {},
   "outputs": [
    {
     "name": "stdout",
     "output_type": "stream",
     "text": [
      "Date of report for RIVM positive tests data = 2020-10-23 10:00:00\n"
     ]
    }
   ],
   "source": [
    "print('Date of report for RIVM positive tests data = ' + str(positive_tests.loc[0,'Date_of_report']))\n",
    "positive_tests = positive_tests.drop(columns='Date_of_report')"
   ]
  },
  {
   "cell_type": "code",
   "execution_count": 503,
   "metadata": {},
   "outputs": [
    {
     "ename": "KeyError",
     "evalue": "'Date_of_publication'",
     "output_type": "error",
     "traceback": [
      "\u001b[0;31m---------------------------------------------------------------------------\u001b[0m",
      "\u001b[0;31mKeyError\u001b[0m                                  Traceback (most recent call last)",
      "\u001b[0;32m~/.venv/jns/lib/python3.7/site-packages/pandas/core/indexes/base.py\u001b[0m in \u001b[0;36mget_loc\u001b[0;34m(self, key, method, tolerance)\u001b[0m\n\u001b[1;32m   2894\u001b[0m             \u001b[0;32mtry\u001b[0m\u001b[0;34m:\u001b[0m\u001b[0;34m\u001b[0m\u001b[0;34m\u001b[0m\u001b[0m\n\u001b[0;32m-> 2895\u001b[0;31m                 \u001b[0;32mreturn\u001b[0m \u001b[0mself\u001b[0m\u001b[0;34m.\u001b[0m\u001b[0m_engine\u001b[0m\u001b[0;34m.\u001b[0m\u001b[0mget_loc\u001b[0m\u001b[0;34m(\u001b[0m\u001b[0mcasted_key\u001b[0m\u001b[0;34m)\u001b[0m\u001b[0;34m\u001b[0m\u001b[0;34m\u001b[0m\u001b[0m\n\u001b[0m\u001b[1;32m   2896\u001b[0m             \u001b[0;32mexcept\u001b[0m \u001b[0mKeyError\u001b[0m \u001b[0;32mas\u001b[0m \u001b[0merr\u001b[0m\u001b[0;34m:\u001b[0m\u001b[0;34m\u001b[0m\u001b[0;34m\u001b[0m\u001b[0m\n",
      "\u001b[0;32mpandas/_libs/index.pyx\u001b[0m in \u001b[0;36mpandas._libs.index.IndexEngine.get_loc\u001b[0;34m()\u001b[0m\n",
      "\u001b[0;32mpandas/_libs/index.pyx\u001b[0m in \u001b[0;36mpandas._libs.index.IndexEngine.get_loc\u001b[0;34m()\u001b[0m\n",
      "\u001b[0;32mpandas/_libs/hashtable_class_helper.pxi\u001b[0m in \u001b[0;36mpandas._libs.hashtable.PyObjectHashTable.get_item\u001b[0;34m()\u001b[0m\n",
      "\u001b[0;32mpandas/_libs/hashtable_class_helper.pxi\u001b[0m in \u001b[0;36mpandas._libs.hashtable.PyObjectHashTable.get_item\u001b[0;34m()\u001b[0m\n",
      "\u001b[0;31mKeyError\u001b[0m: 'Date_of_publication'",
      "\nThe above exception was the direct cause of the following exception:\n",
      "\u001b[0;31mKeyError\u001b[0m                                  Traceback (most recent call last)",
      "\u001b[0;32m<ipython-input-503-c8f7bc54e807>\u001b[0m in \u001b[0;36m<module>\u001b[0;34m\u001b[0m\n\u001b[0;32m----> 1\u001b[0;31m \u001b[0mpositive_tests\u001b[0m \u001b[0;34m=\u001b[0m \u001b[0mpositive_tests\u001b[0m\u001b[0;34m.\u001b[0m\u001b[0mset_index\u001b[0m\u001b[0;34m(\u001b[0m\u001b[0mpd\u001b[0m\u001b[0;34m.\u001b[0m\u001b[0mPeriodIndex\u001b[0m\u001b[0;34m(\u001b[0m\u001b[0mpositive_tests\u001b[0m\u001b[0;34m[\u001b[0m\u001b[0;34m'Date_of_publication'\u001b[0m\u001b[0;34m]\u001b[0m\u001b[0;34m,\u001b[0m \u001b[0mfreq\u001b[0m\u001b[0;34m=\u001b[0m\u001b[0;34m'd'\u001b[0m\u001b[0;34m)\u001b[0m\u001b[0;34m)\u001b[0m\u001b[0;34m\u001b[0m\u001b[0;34m\u001b[0m\u001b[0m\n\u001b[0m\u001b[1;32m      2\u001b[0m \u001b[0mpositive_tests\u001b[0m \u001b[0;34m=\u001b[0m \u001b[0mpositive_tests\u001b[0m\u001b[0;34m.\u001b[0m\u001b[0mdrop\u001b[0m\u001b[0;34m(\u001b[0m\u001b[0mcolumns\u001b[0m\u001b[0;34m=\u001b[0m\u001b[0;34m'Date_of_publication'\u001b[0m\u001b[0;34m)\u001b[0m\u001b[0;34m\u001b[0m\u001b[0;34m\u001b[0m\u001b[0m\n\u001b[1;32m      3\u001b[0m \u001b[0mpositive_tests\u001b[0m\u001b[0;34m[\u001b[0m\u001b[0;34m'P'\u001b[0m\u001b[0;34m]\u001b[0m \u001b[0;34m=\u001b[0m \u001b[0mpositive_tests\u001b[0m\u001b[0;34m.\u001b[0m\u001b[0mindex\u001b[0m\u001b[0;34m.\u001b[0m\u001b[0mstrftime\u001b[0m\u001b[0;34m(\u001b[0m\u001b[0;34m'%Y-%m'\u001b[0m\u001b[0;34m)\u001b[0m\u001b[0;34m\u001b[0m\u001b[0;34m\u001b[0m\u001b[0m\n\u001b[1;32m      4\u001b[0m \u001b[0mpositive_tests\u001b[0m \u001b[0;34m=\u001b[0m \u001b[0mpositive_tests\u001b[0m\u001b[0;34m.\u001b[0m\u001b[0mrename\u001b[0m\u001b[0;34m(\u001b[0m\u001b[0mindex\u001b[0m\u001b[0;34m=\u001b[0m\u001b[0;34m{\u001b[0m\u001b[0;34m'Date_of_publication'\u001b[0m\u001b[0;34m:\u001b[0m\u001b[0;34m'date'\u001b[0m\u001b[0;34m}\u001b[0m\u001b[0;34m)\u001b[0m\u001b[0;34m\u001b[0m\u001b[0;34m\u001b[0m\u001b[0m\n\u001b[1;32m      5\u001b[0m \u001b[0mpositive_tests\u001b[0m\u001b[0;34m\u001b[0m\u001b[0;34m\u001b[0m\u001b[0m\n",
      "\u001b[0;32m~/.venv/jns/lib/python3.7/site-packages/pandas/core/frame.py\u001b[0m in \u001b[0;36m__getitem__\u001b[0;34m(self, key)\u001b[0m\n\u001b[1;32m   2900\u001b[0m             \u001b[0;32mif\u001b[0m \u001b[0mself\u001b[0m\u001b[0;34m.\u001b[0m\u001b[0mcolumns\u001b[0m\u001b[0;34m.\u001b[0m\u001b[0mnlevels\u001b[0m \u001b[0;34m>\u001b[0m \u001b[0;36m1\u001b[0m\u001b[0;34m:\u001b[0m\u001b[0;34m\u001b[0m\u001b[0;34m\u001b[0m\u001b[0m\n\u001b[1;32m   2901\u001b[0m                 \u001b[0;32mreturn\u001b[0m \u001b[0mself\u001b[0m\u001b[0;34m.\u001b[0m\u001b[0m_getitem_multilevel\u001b[0m\u001b[0;34m(\u001b[0m\u001b[0mkey\u001b[0m\u001b[0;34m)\u001b[0m\u001b[0;34m\u001b[0m\u001b[0;34m\u001b[0m\u001b[0m\n\u001b[0;32m-> 2902\u001b[0;31m             \u001b[0mindexer\u001b[0m \u001b[0;34m=\u001b[0m \u001b[0mself\u001b[0m\u001b[0;34m.\u001b[0m\u001b[0mcolumns\u001b[0m\u001b[0;34m.\u001b[0m\u001b[0mget_loc\u001b[0m\u001b[0;34m(\u001b[0m\u001b[0mkey\u001b[0m\u001b[0;34m)\u001b[0m\u001b[0;34m\u001b[0m\u001b[0;34m\u001b[0m\u001b[0m\n\u001b[0m\u001b[1;32m   2903\u001b[0m             \u001b[0;32mif\u001b[0m \u001b[0mis_integer\u001b[0m\u001b[0;34m(\u001b[0m\u001b[0mindexer\u001b[0m\u001b[0;34m)\u001b[0m\u001b[0;34m:\u001b[0m\u001b[0;34m\u001b[0m\u001b[0;34m\u001b[0m\u001b[0m\n\u001b[1;32m   2904\u001b[0m                 \u001b[0mindexer\u001b[0m \u001b[0;34m=\u001b[0m \u001b[0;34m[\u001b[0m\u001b[0mindexer\u001b[0m\u001b[0;34m]\u001b[0m\u001b[0;34m\u001b[0m\u001b[0;34m\u001b[0m\u001b[0m\n",
      "\u001b[0;32m~/.venv/jns/lib/python3.7/site-packages/pandas/core/indexes/base.py\u001b[0m in \u001b[0;36mget_loc\u001b[0;34m(self, key, method, tolerance)\u001b[0m\n\u001b[1;32m   2895\u001b[0m                 \u001b[0;32mreturn\u001b[0m \u001b[0mself\u001b[0m\u001b[0;34m.\u001b[0m\u001b[0m_engine\u001b[0m\u001b[0;34m.\u001b[0m\u001b[0mget_loc\u001b[0m\u001b[0;34m(\u001b[0m\u001b[0mcasted_key\u001b[0m\u001b[0;34m)\u001b[0m\u001b[0;34m\u001b[0m\u001b[0;34m\u001b[0m\u001b[0m\n\u001b[1;32m   2896\u001b[0m             \u001b[0;32mexcept\u001b[0m \u001b[0mKeyError\u001b[0m \u001b[0;32mas\u001b[0m \u001b[0merr\u001b[0m\u001b[0;34m:\u001b[0m\u001b[0;34m\u001b[0m\u001b[0;34m\u001b[0m\u001b[0m\n\u001b[0;32m-> 2897\u001b[0;31m                 \u001b[0;32mraise\u001b[0m \u001b[0mKeyError\u001b[0m\u001b[0;34m(\u001b[0m\u001b[0mkey\u001b[0m\u001b[0;34m)\u001b[0m \u001b[0;32mfrom\u001b[0m \u001b[0merr\u001b[0m\u001b[0;34m\u001b[0m\u001b[0;34m\u001b[0m\u001b[0m\n\u001b[0m\u001b[1;32m   2898\u001b[0m \u001b[0;34m\u001b[0m\u001b[0m\n\u001b[1;32m   2899\u001b[0m         \u001b[0;32mif\u001b[0m \u001b[0mtolerance\u001b[0m \u001b[0;32mis\u001b[0m \u001b[0;32mnot\u001b[0m \u001b[0;32mNone\u001b[0m\u001b[0;34m:\u001b[0m\u001b[0;34m\u001b[0m\u001b[0;34m\u001b[0m\u001b[0m\n",
      "\u001b[0;31mKeyError\u001b[0m: 'Date_of_publication'"
     ]
    }
   ],
   "source": [
    "positive_tests = positive_tests.set_index(pd.PeriodIndex(positive_tests['Date_of_publication'], freq='d'))\n",
    "positive_tests = positive_tests.drop(columns='Date_of_publication')\n",
    "positive_tests['P'] = positive_tests.index.strftime('%Y-%m')\n",
    "positive_tests = positive_tests.rename(index={'Date_of_publication':'date'})\n",
    "positive_tests"
   ]
  },
  {
   "cell_type": "code",
   "execution_count": 505,
   "metadata": {},
   "outputs": [],
   "source": [
    "total_nl = positive_tests.sum(level='Date_of_publication')"
   ]
  },
  {
   "cell_type": "code",
   "execution_count": 493,
   "metadata": {},
   "outputs": [
    {
     "name": "stdout",
     "output_type": "stream",
     "text": [
      "<bound method NDFrame.head of                     Municipality_code Municipality_name       Province  \\\n",
      "Date_of_publication                                                      \n",
      "2020-02-27                     GM0003        Appingedam      Groningen   \n",
      "2020-02-27                     GM0010          Delfzijl      Groningen   \n",
      "2020-02-27                     GM0014         Groningen      Groningen   \n",
      "2020-02-27                     GM0024         Loppersum      Groningen   \n",
      "2020-02-27                     GM0034            Almere      Flevoland   \n",
      "...                               ...               ...            ...   \n",
      "2020-10-23                       None              None        Limburg   \n",
      "2020-10-23                       None              None        Limburg   \n",
      "2020-10-23                       None              None   Zuid-Holland   \n",
      "2020-10-23                       None              None      Friesland   \n",
      "2020-10-23                       None              None  Noord-Holland   \n",
      "\n",
      "                    Security_region_code  Security_region_name  \\\n",
      "Date_of_publication                                              \n",
      "2020-02-27                          VR01             Groningen   \n",
      "2020-02-27                          VR01             Groningen   \n",
      "2020-02-27                          VR01             Groningen   \n",
      "2020-02-27                          VR01             Groningen   \n",
      "2020-02-27                          VR25             Flevoland   \n",
      "...                                  ...                   ...   \n",
      "2020-10-23                          VR23         Limburg-Noord   \n",
      "2020-10-23                          VR24          Limburg-Zuid   \n",
      "2020-10-23                          VR15            Haaglanden   \n",
      "2020-10-23                          VR02               Fryslân   \n",
      "2020-10-23                          VR11  Zaanstreek-Waterland   \n",
      "\n",
      "                     Municipal_health_service  \\\n",
      "Date_of_publication                             \n",
      "2020-02-27                      GGD Groningen   \n",
      "2020-02-27                      GGD Groningen   \n",
      "2020-02-27                      GGD Groningen   \n",
      "2020-02-27                      GGD Groningen   \n",
      "2020-02-27                      GGD Flevoland   \n",
      "...                                       ...   \n",
      "2020-10-23                  GGD Limburg-Noord   \n",
      "2020-10-23                   GGD Zuid-Limburg   \n",
      "2020-10-23                     GGD Haaglanden   \n",
      "2020-10-23                        GGD Fryslân   \n",
      "2020-10-23           GGD Zaanstreek/Waterland   \n",
      "\n",
      "                                           ROAZ_region  Total_reported  \\\n",
      "Date_of_publication                                                      \n",
      "2020-02-27           Acute Zorgnetwerk Noord Nederland               0   \n",
      "2020-02-27           Acute Zorgnetwerk Noord Nederland               0   \n",
      "2020-02-27           Acute Zorgnetwerk Noord Nederland               0   \n",
      "2020-02-27           Acute Zorgnetwerk Noord Nederland               0   \n",
      "2020-02-27                                SpoedZorgNet               0   \n",
      "...                                                ...             ...   \n",
      "2020-10-23                  Netwerk Acute Zorg Limburg               0   \n",
      "2020-10-23                  Netwerk Acute Zorg Limburg               1   \n",
      "2020-10-23                     Netwerk Acute Zorg West               4   \n",
      "2020-10-23           Acute Zorgnetwerk Noord Nederland               0   \n",
      "2020-10-23                                        None               0   \n",
      "\n",
      "                     Hospital_admission  Deceased        P  \n",
      "Date_of_publication                                         \n",
      "2020-02-27                            0         0  2020-02  \n",
      "2020-02-27                            0         0  2020-02  \n",
      "2020-02-27                            0         0  2020-02  \n",
      "2020-02-27                            0         0  2020-02  \n",
      "2020-02-27                            0         0  2020-02  \n",
      "...                                 ...       ...      ...  \n",
      "2020-10-23                            0         0  2020-10  \n",
      "2020-10-23                            0         0  2020-10  \n",
      "2020-10-23                            0         0  2020-10  \n",
      "2020-10-23                            0         0  2020-10  \n",
      "2020-10-23                            0         0  2020-10  \n",
      "\n",
      "[91440 rows x 11 columns]>\n",
      "<bound method NDFrame.head of          Total_reported  Hospital_admission  Deceased\n",
      "P                                                    \n",
      "2020-02               2                   2         0\n",
      "2020-03           12450                4578      1004\n",
      "2020-04           26620                6112      3751\n",
      "2020-05            7141                 997      1168\n",
      "2020-06            3856                 154       163\n",
      "2020-07            4185                  84        60\n",
      "2020-08           16364                 247        75\n",
      "2020-09           50176                 577       185\n",
      "2020-10          151610                1601       558>\n"
     ]
    }
   ],
   "source": [
    "# Gemiddeld aantal positief geteste mensen per 100.000 inwoners\n",
    "## Dit getal laat zien van hoeveel mensen gisteren per 100.000 inwoners gemeld is dat ze positief getest zijn en COVID-19 hebben.\n",
    "print(positive_tests.head)\n",
    "pt_agg = positive_tests.groupby(by='P').sum()\n",
    "print(pt_agg.head)\n",
    "pt_agg['p100k'] = pt_agg['Total_reported'] / population_nl['2020'].sum() * 100000\n",
    "#pt_agg\n",
    "#pt_agg['mov_avg_p100k'] = np.average(pt_agg['']])\n",
    "#np.mean(pt[len(pt.columns)-1].Total_reported)"
   ]
  },
  {
   "cell_type": "code",
   "execution_count": null,
   "metadata": {},
   "outputs": [],
   "source": [
    "# Aantal positief geteste mensen\n",
    "## Dit getal laat zien van hoeveel mensen gisteren gemeld is dat ze positief getest zijn en COVID-19 hebben."
   ]
  },
  {
   "cell_type": "code",
   "execution_count": null,
   "metadata": {},
   "outputs": [],
   "source": [
    "#Verdeling positief geteste mensen in Nederland\n",
    "## per gemeente\n",
    "\n",
    "## per veiligheidsregio\n",
    "\n"
   ]
  },
  {
   "cell_type": "code",
   "execution_count": null,
   "metadata": {},
   "outputs": [],
   "source": [
    "# TESTING BOKEH WITH OTHER DATA\n",
    "# pt_agg = pt.groupby(by=['Date_of_report'],as_index=False).sum()\n",
    "\n",
    "#q = figure(plot_width=800, plot_height=400, title=\"My Line Plot\", x_axis_type=\"datetime\")\n",
    "\"\"\"\n",
    "q.multi_line(\n",
    "    xs=[\n",
    "        pt_agg['Date_of_report'],\n",
    "        pt_agg['Date_of_report'],\n",
    "        pt_agg['Date_of_report']\n",
    "    ],\n",
    "    ys=[\n",
    "        pt_agg['Deceased'], \n",
    "        pt_agg['Hospital_admission'],\n",
    "        pt_agg['Total_reported']\n",
    "    ],\n",
    "    color=viridis(len(pt_agg.columns)-1)\n",
    ")\n",
    "\"\"\"\n",
    "#show(q)"
   ]
  },
  {
   "cell_type": "code",
   "execution_count": null,
   "metadata": {},
   "outputs": [],
   "source": [
    "print(\"- Percentage positive tested of all tests done\")\n",
    "# https://www.rivm.nl/archief-weekrapportages-covid-19-in-nederland\n",
    "pt_perc = tabula.read_pdf('https://www.rivm.nl/sites/default/files/2020-10/COVID-19_WebSite_rapport_wekelijks_20201013_1159_0.pdf', pages=29, guess=True, stream=True)\n",
    "print(pt_perc)\n",
    "\n",
    "## To DO:\n",
    "## 1) extract data from latest pdf\n",
    "## 2) scrape all pdfs for data to compare data thought time"
   ]
  },
  {
   "cell_type": "code",
   "execution_count": null,
   "metadata": {},
   "outputs": [],
   "source": [
    "print(\"- number of infectious people\")\n",
    "# https://data.rivm.nl/geonetwork/srv/dut/catalog.search#/metadata/097155aa-75eb-4caa-8ed3-4c6edb80467e\n",
    "infected = pd.read_json('https://data.rivm.nl/covid-19/COVID-19_prevalentie.json')\n",
    "print(infected.head())"
   ]
  },
  {
   "cell_type": "code",
   "execution_count": null,
   "metadata": {},
   "outputs": [],
   "source": [
    "print(\"- R (reproductionnumber)\")\n",
    "# https://data.rivm.nl/geonetwork/srv/dut/catalog.search#/metadata/ed0699d1-c9d5-4436-8517-27eb993eab6e\n",
    "R = pd.read_json('https://data.rivm.nl/covid-19/COVID-19_reproductiegetal.json')\n",
    "print(R.head())"
   ]
  },
  {
   "cell_type": "code",
   "execution_count": null,
   "metadata": {},
   "outputs": [],
   "source": [
    "print(\"- hospital admissions per day\")\n",
    "# NICE https://www.databronnencovid19.nl/Bron?naam=Nationale-Intensive-Care-Evaluatie\n",
    "hosp_nice = pd.read_json('https://stichting-nice.nl/covid-19/public/intake-count/')\n",
    "print(hosp_nice.head())\n",
    "# LCPS https://lcps.nu/datafeed/\n",
    "hosp_lcps = pd.read_csv('https://lcps.nu/wp-content/uploads/covid-19.csv')\n",
    "print(hosp_lcps.head())\n",
    "# Dashbaord changed source data https://www.nu.nl/coronavirus/6083846/ministerie-meldde-maandenlang-veel-te-weinig-opnames-coronapatienten.html\n",
    "# other sources: https://www.stichting-nice.nl/covid-19-op-de-zkh.jsp"
   ]
  },
  {
   "cell_type": "code",
   "execution_count": null,
   "metadata": {},
   "outputs": [],
   "source": [
    "print(\"- icu admissions per day\")\n",
    "# url\n",
    "ic_NICE_new_intake = pd.read_json('https://stichting-nice.nl/covid-19/public/new-intake/').T\n",
    "ic_NICE_new_intake0 = pd.DataFrame()\n",
    "for row in ic_NICE_new_intake[0]:\n",
    "    ic_NICE_new_intake0 = ic_NICE_new_intake0.append(row, ignore_index=True)\n",
    "print(ic_NICE_new_intake0)\n",
    "ic_NICE_new_intake0['date'] = ic_NICE_new_intake['date']\n",
    "ic_NICE_new_intake1 = pd.DataFrame()\n",
    "for row in ic_NICE_new_intake[1]:\n",
    "    ic_NICE_new_intake1 = ic_NICE_new_intake1.append(row, ignore_index=True)\n",
    "ic_NICE_new_intake01 = pd.concat([ic_NICE_new_intake0,ic_NICE_new_intake1])\n",
    "print(ic_NICE_new_intake01.head())\n",
    "ic_NICE_new_intake_confirmed = pd.read_json('https://stichting-nice.nl/covid-19/public/new-intake/confirmed/')\n",
    "#print(ic_NICE_new_intake_confirmed.head())\n",
    "ic_NICE_intake_count = pd.read_json('https://stichting-nice.nl/covid-19/public/intake-count/')\n",
    "#print(ic_NICE_intake_count.head())\n",
    "print('IC data: 3 sources IMPORTED')\n",
    "## To DO: conpare ic1 and ic2\n",
    "#other sources: "
   ]
  },
  {
   "cell_type": "code",
   "execution_count": null,
   "metadata": {},
   "outputs": [],
   "source": [
    "ic_NICE_new_intake0"
   ]
  },
  {
   "cell_type": "code",
   "execution_count": null,
   "metadata": {},
   "outputs": [],
   "source": [
    "# SINGLE LINE TEST\n",
    "# create a new plot (with a title) using figure\n",
    "ic_new_intake0 = figure(plot_width=800, plot_height=400, x_axis_type=\"datetime\", title=\"NICE new-intake\")\n",
    "# add a line renderer \n",
    "ic_new_intake0.line(\n",
    "    ic_NICE_new_intake0['date'], \n",
    "    ic_NICE_new_intake0['value']\n",
    ")\n",
    "show(ic_new_intake0)"
   ]
  },
  {
   "cell_type": "code",
   "execution_count": null,
   "metadata": {},
   "outputs": [],
   "source": [
    "# SINGLE LINE TEST\n",
    "# create a new plot (with a title) using figure\n",
    "ic_new_intake_confirmed = figure(plot_width=800, plot_height=400, x_axis_type=\"datetime\", title=\"NICE new-intake confirmed\")\n",
    "# add a line renderer \n",
    "ic_new_intake_confirmed.line(\n",
    "    ic_NICE_new_intake_confirmed['date'], \n",
    "    ic_NICE_new_intake_confirmed['value']\n",
    ")"
   ]
  },
  {
   "cell_type": "code",
   "execution_count": null,
   "metadata": {},
   "outputs": [],
   "source": [
    "# SINGLE LINE TEST\n",
    "# create a new plot (with a title) using figure\n",
    "ic_intake_count = figure(plot_width=800, plot_height=400, x_axis_type=\"datetime\", title=\"NICE intake count\")\n",
    "# add a line renderer \n",
    "ic_intake_count.line(\n",
    "    ic_NICE_intake_count['date'], \n",
    "    ic_NICE_intake_count['value']\n",
    ")"
   ]
  },
  {
   "cell_type": "code",
   "execution_count": null,
   "metadata": {},
   "outputs": [],
   "source": [
    "## MULTIPLE LINE TEST\n",
    "ic_all = figure(title=\"IC1 & IC_opnames_NICE\", plot_width=800, plot_height=400, x_axis_type=\"datetime\")\n",
    "\n",
    "ic_all.multi_line([ic1.date, ic_opnames.date],\n",
    "              [ic1.value, ic_opnames.value],\n",
    "              color=viridis(3))"
   ]
  },
  {
   "cell_type": "code",
   "execution_count": null,
   "metadata": {},
   "outputs": [],
   "source": [
    "show(ic_new_intake)\n",
    "show(ic_new_intake_confirmed)\n",
    "show(ic_intake_count)\n",
    "show(ic_all)"
   ]
  },
  {
   "cell_type": "code",
   "execution_count": null,
   "metadata": {},
   "outputs": [],
   "source": [
    "## sources NICE for their website:\n",
    "# /covid-19/public/zkh/global\n",
    "# /covid-19/public/zkh/new-intake/\n",
    "# /covid-19/public/zkh/intake-count/\n",
    "# /covid-19/public/zkh/intake-cumulative/\n",
    "# /covid-19/public/zkh/died-and-survivors-cumulative/\n",
    "# /covid-19/public/zkh/age-distribution-died-and-survivors/\n",
    "# /covid-19/public/zkh/age-distribution-status/\n",
    "# /covid-19/public/zkh/behandelduur-distribution/\n",
    "# /covid-19/public/zkh/behandelduur-distribution/\n",
    "## TO DO: check which used and which to use extra.\n",
    "## sources LCPS?\n",
    "# https://lcps.nu/wp-content/uploads/\n",
    "## Maybe scrape website to find more public data: https://scrapy.org/ OR https://www.crummy.com/software/BeautifulSoup/bs4/doc/"
   ]
  },
  {
   "cell_type": "markdown",
   "metadata": {},
   "source": [
    "*early signs*"
   ]
  },
  {
   "cell_type": "code",
   "execution_count": null,
   "metadata": {},
   "outputs": [],
   "source": [
    "print(\"- patient reporting covid symptoms at family doctor\")\n",
    "# https://www.nivel.nl/nl/nivel-zorgregistraties-eerste-lijn/nivel-zorgregistraties-eerste-lijn\n"
   ]
  },
  {
   "cell_type": "code",
   "execution_count": null,
   "metadata": {},
   "outputs": [],
   "source": [
    "print(\"- sewagewate\")\n",
    "# https://data.rivm.nl/geonetwork/srv/dut/catalog.search#/metadata/a2960b68-9d3f-4dc3-9485-600570cd52b9\n",
    "sw = pd.read_json('https://data.rivm.nl/covid-19/COVID-19_rioolwaterdata.json')\n",
    "print(sw.head())"
   ]
  },
  {
   "cell_type": "markdown",
   "metadata": {},
   "source": [
    "*homes for elderly*"
   ]
  },
  {
   "cell_type": "code",
   "execution_count": null,
   "metadata": {},
   "outputs": [],
   "source": [
    "print(\"- positive testst\")\n",
    "# from pdf. https://www.rivm.nl/documenten/wekelijkse-update-epidemiologische-situatie-covid-19-in-nederland"
   ]
  },
  {
   "cell_type": "code",
   "execution_count": null,
   "metadata": {},
   "outputs": [],
   "source": [
    "print(\"- infected locations\")\n",
    "# from pdf. https://www.rivm.nl/documenten/wekelijkse-update-epidemiologische-situatie-covid-19-in-nederland"
   ]
  },
  {
   "cell_type": "code",
   "execution_count": null,
   "metadata": {},
   "outputs": [],
   "source": [
    "print(\"- number deseased\")\n",
    "# from pdf. https://www.rivm.nl/documenten/wekelijkse-update-epidemiologische-situatie-covid-19-in-nederland"
   ]
  },
  {
   "cell_type": "markdown",
   "metadata": {},
   "source": [
    "**metadata**"
   ]
  },
  {
   "cell_type": "code",
   "execution_count": null,
   "metadata": {},
   "outputs": [],
   "source": [
    "print(\"- municipalities in Netherlands\")\n",
    "## https://www.cbs.nl/nl-nl/onze-diensten/methoden/classificaties/overig/gemeentelijke-indelingen-per-jaar/indeling%20per%20jaar/gemeentelijke-indeling-op-1-januari-2020\n",
    "municipality = pd.read_excel('https://www.cbs.nl/-/media/_excel/2020/03/gemeenten-alfabetisch-2020.xlsx')\n",
    "print(municipality.head())\n",
    "# aantallen per gemeente: https://data.rivm.nl/geonetwork/srv/dut/catalog.search#/metadata/5f6bc429-1596-490e-8618-1ed8fd768427\n"
   ]
  },
  {
   "cell_type": "markdown",
   "metadata": {},
   "source": [
    "### missing data, i would like to calculate of collect\n",
    "- covid numbers relitive to all data\n",
    "- deseased for whole country (possible source: https://data.rivm.nl/geonetwork/srv/dut/catalog.search#/metadata/1c0fcd57-1102-4620-9cfa-441e93ea5604)\n",
    "\n",
    "### more data"
   ]
  },
  {
   "cell_type": "markdown",
   "metadata": {},
   "source": [
    "- Karakteristieken elke geteste persoon: https://data.rivm.nl/geonetwork/srv/dut/catalog.search#/metadata/2c4357c8-76e4-4662-9574-1deb8a73f724?tab=relations\n",
    "- https://data.rivm.nl"
   ]
  },
  {
   "cell_type": "code",
   "execution_count": null,
   "metadata": {},
   "outputs": [],
   "source": [
    "#check data collection\n",
    "from pivottablejs import pivot_ui\n",
    "from IPython.display import HTML\n",
    "\n",
    "df_to_check = ic1\n",
    "\n",
    "pivot_ui(df_to_check, outfile_path='pivottablejs.html')\n",
    "HTML('pivottablejs.html')"
   ]
  },
  {
   "cell_type": "code",
   "execution_count": null,
   "metadata": {},
   "outputs": [],
   "source": []
  }
 ],
 "metadata": {
  "kernelspec": {
   "display_name": "Python 3",
   "language": "python",
   "name": "python3"
  },
  "language_info": {
   "codemirror_mode": {
    "name": "ipython",
    "version": 3
   },
   "file_extension": ".py",
   "mimetype": "text/x-python",
   "name": "python",
   "nbconvert_exporter": "python",
   "pygments_lexer": "ipython3",
   "version": "3.7.3"
  }
 },
 "nbformat": 4,
 "nbformat_minor": 4
}
