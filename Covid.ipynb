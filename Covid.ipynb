{
 "cells": [
  {
   "cell_type": "markdown",
   "metadata": {},
   "source": [
    "# Covid-19 data analysis for the Netherland\n",
    "## uses covid data to learn datascience in pyhton woth Jupyterlab\n",
    "\n",
    "*Goals*\n",
    "1. learning datawcience\n",
    "2. learning python\n",
    "3. learning Jupyterlab\n",
    "4. maybe get some insight in covid"
   ]
  },
  {
   "cell_type": "code",
   "execution_count": 1,
   "metadata": {},
   "outputs": [],
   "source": [
    "## install modules for Google Colab\n",
    "# uncomment line below and run cell\n",
    "#!pip install tabula-py cbsodata"
   ]
  },
  {
   "cell_type": "code",
   "execution_count": 2,
   "metadata": {},
   "outputs": [],
   "source": [
    "#from IPython.display import Markdown as md\n",
    "import numpy as np\n",
    "import pandas as pd\n",
    "import tabula\n",
    "from datetime import datetime\n",
    "import json\n",
    "\n",
    "import cbsodata as cbs\n",
    "\n",
    "## Revert to charts in pandas, for simplicity. \n",
    "#To DO: add Bokeh - https://docs.bokeh.org/\n",
    "#from bokeh.io import output_notebook\n",
    "#from bokeh.plotting import figure, show\n",
    "#from bokeh.palettes import viridis\n",
    "#import pandas_bokeh\n",
    "#output_notebook()"
   ]
  },
  {
   "cell_type": "markdown",
   "metadata": {},
   "source": [
    "## Collecting data\n",
    "\n",
    "### CBS\n",
    "https://opendata.cbs.nl/statline/portal.html"
   ]
  },
  {
   "cell_type": "code",
   "execution_count": 5,
   "metadata": {},
   "outputs": [
    {
     "name": "stdout",
     "output_type": "stream",
     "text": [
      "Bevolkingsontwikkeling; maand en jaar 2002-now (Population statistics, month and year): IMPORTED\n",
      "Unnecessary columns droped\n"
     ]
    }
   ],
   "source": [
    "pop_ym = pd.DataFrame(cbs.get_data('37230ned'))\n",
    "#print(population.head())\n",
    "print('Bevolkingsontwikkeling; maand en jaar 2002-now (Population statistics, month and year): IMPORTED')\n",
    "\n",
    "pop_ym = pop_ym.drop(columns=['ID', 'BevolkingAanHetBeginVanDePeriode_1','TotaleVestiging_4',\n",
    "       'VestigingVanuitEenAndereGemeente_5', 'Immigratie_6',\n",
    "       'TotaalVertrekInclAdmCorrecties_7', 'VertrekNaarAndereGemeente_8',\n",
    "       'EmigratieInclusiefAdmCorrecties_9', 'OverigeCorrecties_10',\n",
    "       'Bevolkingsgroei_11', 'BevolkingsgroeiRelatief_12',\n",
    "       'BevolkingsgroeiSinds1Januari_13',\n",
    "       'BevolkingsgroeiSinds1JanuariRela_14'])\n",
    "pop_ym = pop_ym.rename(columns={\"LevendGeborenKinderen_2\": \"Born\", \"Overledenen_3\": \"Deceased\", \"BevolkingAanHetEindeVanDePeriode_15\": \"Population\"})\n",
    "print('Unnecessary columns droped')"
   ]
  },
  {
   "cell_type": "code",
   "execution_count": 6,
   "metadata": {},
   "outputs": [],
   "source": [
    "# extract year & month from 'Perioden'\n",
    "pop_ym['year'] = pd.to_datetime(pop_ym['Perioden'].str.slice(stop=4),format='%Y').dt.year\n",
    "pop_ym['month'] = pop_ym['Perioden'].str.slice(start=5)\n",
    "pop_ym = pop_ym.drop(columns='Perioden')"
   ]
  },
  {
   "cell_type": "code",
   "execution_count": 7,
   "metadata": {},
   "outputs": [],
   "source": [
    "# make seperate df for year & month\n",
    "pop_y = pop_ym.loc[pop_ym['month'] == '']\n",
    "pop_y = pop_y.drop(columns='month')\n",
    "pop_m = pop_ym.loc[pop_ym['month'] != '']"
   ]
  },
  {
   "cell_type": "code",
   "execution_count": 8,
   "metadata": {},
   "outputs": [
    {
     "name": "stderr",
     "output_type": "stream",
     "text": [
      "/home/pi/.venv/jns/lib/python3.7/site-packages/ipykernel_launcher.py:1: SettingWithCopyWarning: \n",
      "A value is trying to be set on a copy of a slice from a DataFrame.\n",
      "Try using .loc[row_indexer,col_indexer] = value instead\n",
      "\n",
      "See the caveats in the documentation: https://pandas.pydata.org/pandas-docs/stable/user_guide/indexing.html#returning-a-view-versus-a-copy\n",
      "  \"\"\"Entry point for launching an IPython kernel.\n",
      "/home/pi/.venv/jns/lib/python3.7/site-packages/ipykernel_launcher.py:14: SettingWithCopyWarning: \n",
      "A value is trying to be set on a copy of a slice from a DataFrame.\n",
      "Try using .loc[row_indexer,col_indexer] = value instead\n",
      "\n",
      "See the caveats in the documentation: https://pandas.pydata.org/pandas-docs/stable/user_guide/indexing.html#returning-a-view-versus-a-copy\n",
      "  \n",
      "/home/pi/.venv/jns/lib/python3.7/site-packages/ipykernel_launcher.py:15: SettingWithCopyWarning: \n",
      "A value is trying to be set on a copy of a slice from a DataFrame.\n",
      "Try using .loc[row_indexer,col_indexer] = value instead\n",
      "\n",
      "See the caveats in the documentation: https://pandas.pydata.org/pandas-docs/stable/user_guide/indexing.html#returning-a-view-versus-a-copy\n",
      "  from ipykernel import kernelapp as app\n"
     ]
    }
   ],
   "source": [
    "pop_m['monthNr'] = pop_m['month'].copy()\n",
    "pop_m['monthNr'] = pop_m['monthNr'].replace({\n",
    "    'januari': '01',\n",
    "    'februari': '02',\n",
    "    'maart': '03',\n",
    "    'april': '04',\n",
    "    'mei': '05',\n",
    "    'juni': '06',\n",
    "    'juli': '07',\n",
    "    'augustus': '08',\n",
    "    'september': '09',\n",
    "    'oktober': '10',\n",
    "    'november': '11',\n",
    "    'december': '12'})\n",
    "pop_m['monthNr'] = pd.to_datetime(pop_m['monthNr'],format='%m').dt.month"
   ]
  },
  {
   "cell_type": "code",
   "execution_count": 9,
   "metadata": {},
   "outputs": [
    {
     "name": "stdout",
     "output_type": "stream",
     "text": [
      "Nederland\n",
      "        RegioS      Born  Deceased  Population  year\n",
      "12   Nederland  202083.0  142355.0  16192572.0  2002\n",
      "25   Nederland  200297.0  141936.0  16258032.0  2003\n",
      "38   Nederland  194007.0  136553.0  16305526.0  2004\n",
      "51   Nederland  187910.0  136402.0  16334210.0  2005\n",
      "64   Nederland  185057.0  135372.0  16357992.0  2006\n",
      "77   Nederland  181336.0  133022.0  16405399.0  2007\n",
      "90   Nederland  184634.0  135136.0  16485787.0  2008\n",
      "103  Nederland  184915.0  134235.0  16574989.0  2009\n",
      "116  Nederland  184397.0  136058.0  16655799.0  2010\n",
      "129  Nederland  180060.0  135741.0  16730348.0  2011\n",
      "142  Nederland  175959.0  140813.0  16779575.0  2012\n",
      "155  Nederland  171341.0  141245.0  16829289.0  2013\n",
      "168  Nederland  175181.0  139223.0  16900726.0  2014\n",
      "181  Nederland  170510.0  147134.0  16979120.0  2015\n",
      "194  Nederland  172520.0  148997.0  17081507.0  2016\n",
      "207  Nederland  169836.0  150214.0  17181084.0  2017\n",
      "220  Nederland  168525.0  153363.0  17282163.0  2018\n",
      "233  Nederland  169680.0  151885.0  17407585.0  2019\n",
      "        RegioS     Born  Deceased  Population  year     month  monthNr\n",
      "0    Nederland  17019.0   13469.0  16112900.0  2002   januari        1\n",
      "1    Nederland  15448.0   11735.0  16118953.0  2002  februari        2\n",
      "2    Nederland  16792.0   13281.0  16124125.0  2002     maart        3\n",
      "3    Nederland  15995.0   11968.0  16130246.0  2002     april        4\n",
      "4    Nederland  16800.0   11623.0  16136807.0  2002       mei        5\n",
      "..         ...      ...       ...         ...   ...       ...      ...\n",
      "237  Nederland  13322.0   18854.0  17417477.0  2020     april        4\n",
      "238  Nederland  13731.0   12616.0  17418808.0  2020       mei        5\n",
      "239  Nederland  13894.0   11486.0  17422478.0  2020      juni        6\n",
      "240  Nederland  15572.0   11615.0  17427806.0  2020      juli        7\n",
      "241  Nederland  15065.0   12533.0  17440679.0  2020  augustus        8\n",
      "\n",
      "[224 rows x 7 columns]\n"
     ]
    }
   ],
   "source": [
    "print('Nederland')\n",
    "pop_y_nl = pop_y[pop_y['RegioS'] == 'Nederland']\n",
    "pop_y = pop_y[pop_y['RegioS'] != 'Nederland']\n",
    "print(pop_y_nl)\n",
    "pop_m_nl = pop_m[pop_m['RegioS'] == 'Nederland']\n",
    "pop_m = pop_m[pop_m['RegioS'] != 'Nederland']\n",
    "print(pop_m_nl)"
   ]
  },
  {
   "cell_type": "code",
   "execution_count": 10,
   "metadata": {},
   "outputs": [
    {
     "name": "stdout",
     "output_type": "stream",
     "text": [
      "Landsdeel\n",
      "                      RegioS     Born  Deceased  Population  year\n",
      "254     Noord-Nederland (LD)  20273.0   16087.0   1694038.0  2002\n",
      "267     Noord-Nederland (LD)  19886.0   15840.0   1698865.0  2003\n",
      "280     Noord-Nederland (LD)  19012.0   15356.0   1701418.0  2004\n",
      "293     Noord-Nederland (LD)  18419.0   15171.0   1700753.0  2005\n",
      "306     Noord-Nederland (LD)  18084.0   15527.0   1702020.0  2006\n",
      "...                      ...      ...       ...         ...   ...\n",
      "147075                Zwolle   1491.0     967.0    124896.0  2015\n",
      "147088                Zwolle   1541.0     913.0    125548.0  2016\n",
      "147101                Zwolle   1443.0     977.0    126116.0  2017\n",
      "147114                Zwolle   1458.0     988.0    127497.0  2018\n",
      "147127                Zwolle   1460.0     953.0    128840.0  2019\n",
      "\n",
      "[10926 rows x 5 columns]\n",
      "                    RegioS     Born  Deceased  Population  year\n",
      "254   Noord-Nederland (LD)  20273.0   16087.0   1694038.0  2002\n",
      "267   Noord-Nederland (LD)  19886.0   15840.0   1698865.0  2003\n",
      "280   Noord-Nederland (LD)  19012.0   15356.0   1701418.0  2004\n",
      "293   Noord-Nederland (LD)  18419.0   15171.0   1700753.0  2005\n",
      "306   Noord-Nederland (LD)  18084.0   15527.0   1702020.0  2006\n",
      "...                    ...      ...       ...         ...   ...\n",
      "1149   Zuid-Nederland (LD)  32295.0   33752.0   3615009.0  2015\n",
      "1162   Zuid-Nederland (LD)  33001.0   33895.0   3630077.0  2016\n",
      "1175   Zuid-Nederland (LD)  32350.0   34547.0   3645484.0  2017\n",
      "1188   Zuid-Nederland (LD)  32202.0   35066.0   3660943.0  2018\n",
      "1201   Zuid-Nederland (LD)  32127.0   34893.0   3680156.0  2019\n",
      "\n",
      "[72 rows x 5 columns]\n",
      "                    RegioS    Born  Deceased  Population  year     month  \\\n",
      "242   Noord-Nederland (LD)  1690.0    1533.0   1686177.0  2002   januari   \n",
      "243   Noord-Nederland (LD)  1610.0    1242.0   1686673.0  2002  februari   \n",
      "244   Noord-Nederland (LD)  1711.0    1475.0   1686835.0  2002     maart   \n",
      "245   Noord-Nederland (LD)  1583.0    1404.0   1687049.0  2002     april   \n",
      "246   Noord-Nederland (LD)  1671.0    1339.0   1687580.0  2002       mei   \n",
      "...                    ...     ...       ...         ...   ...       ...   \n",
      "1205   Zuid-Nederland (LD)  2569.0    5186.0   3679313.0  2020     april   \n",
      "1206   Zuid-Nederland (LD)  2647.0    2993.0   3679611.0  2020       mei   \n",
      "1207   Zuid-Nederland (LD)  2623.0    2537.0   3680492.0  2020      juni   \n",
      "1208   Zuid-Nederland (LD)  3060.0    2584.0   3680973.0  2020      juli   \n",
      "1209   Zuid-Nederland (LD)  2916.0    2769.0   3683955.0  2020  augustus   \n",
      "\n",
      "      monthNr  \n",
      "242         1  \n",
      "243         2  \n",
      "244         3  \n",
      "245         4  \n",
      "246         5  \n",
      "...       ...  \n",
      "1205        4  \n",
      "1206        5  \n",
      "1207        6  \n",
      "1208        7  \n",
      "1209        8  \n",
      "\n",
      "[896 rows x 7 columns]\n"
     ]
    }
   ],
   "source": [
    "print('Landsdeel')\n",
    "print(pop_y)\n",
    "pop_y_ld = pop_y[pop_y['RegioS'].str.slice(start=-4) == '(LD)']\n",
    "pop_y = pop_y[pop_y['RegioS'].str.slice(start=-4) != '(LD)']\n",
    "print(pop_y_ld)\n",
    "pop_m_ld = pop_m[pop_m['RegioS'].str.slice(start=-4) == '(LD)']\n",
    "pop_m = pop_m[pop_m['RegioS'].str.slice(start=-4) != '(LD)']\n",
    "print(pop_m_ld)"
   ]
  },
  {
   "cell_type": "code",
   "execution_count": 11,
   "metadata": {},
   "outputs": [
    {
     "name": "stdout",
     "output_type": "stream",
     "text": [
      "Provincie\n",
      "                RegioS    Born  Deceased  Population  year\n",
      "1222    Groningen (PV)  6523.0    5550.0    572997.0  2002\n",
      "1235    Groningen (PV)  6438.0    5552.0    574384.0  2003\n",
      "1248    Groningen (PV)  6141.0    5311.0    575072.0  2004\n",
      "1261    Groningen (PV)  5943.0    5216.0    574042.0  2005\n",
      "1274    Groningen (PV)  5838.0    5258.0    573614.0  2006\n",
      "...                ...     ...       ...         ...   ...\n",
      "147075          Zwolle  1491.0     967.0    124896.0  2015\n",
      "147088          Zwolle  1541.0     913.0    125548.0  2016\n",
      "147101          Zwolle  1443.0     977.0    126116.0  2017\n",
      "147114          Zwolle  1458.0     988.0    127497.0  2018\n",
      "147127          Zwolle  1460.0     953.0    128840.0  2019\n",
      "\n",
      "[10854 rows x 5 columns]\n",
      "              RegioS    Born  Deceased  Population  year\n",
      "1222  Groningen (PV)  6523.0    5550.0    572997.0  2002\n",
      "1235  Groningen (PV)  6438.0    5552.0    574384.0  2003\n",
      "1248  Groningen (PV)  6141.0    5311.0    575072.0  2004\n",
      "1261  Groningen (PV)  5943.0    5216.0    574042.0  2005\n",
      "1274  Groningen (PV)  5838.0    5258.0    573614.0  2006\n",
      "...              ...     ...       ...         ...   ...\n",
      "4053    Limburg (PV)  8739.0   11814.0   1116260.0  2015\n",
      "4066    Limburg (PV)  8994.0   11539.0   1117546.0  2016\n",
      "4079    Limburg (PV)  8821.0   11845.0   1117198.0  2017\n",
      "4092    Limburg (PV)  8710.0   11916.0   1116137.0  2018\n",
      "4105    Limburg (PV)  8668.0   12007.0   1117201.0  2019\n",
      "\n",
      "[216 rows x 5 columns]\n",
      "              RegioS   Born  Deceased  Population  year     month  monthNr\n",
      "1210  Groningen (PV)  527.0     549.0    570488.0  2002   januari        1\n",
      "1211  Groningen (PV)  536.0     408.0    570510.0  2002  februari        2\n",
      "1212  Groningen (PV)  571.0     521.0    570458.0  2002     maart        3\n",
      "1213  Groningen (PV)  501.0     508.0    570365.0  2002     april        4\n",
      "1214  Groningen (PV)  540.0     460.0    570522.0  2002       mei        5\n",
      "...              ...    ...       ...         ...   ...       ...      ...\n",
      "4109    Limburg (PV)  702.0    1864.0   1115467.0  2020     april        4\n",
      "4110    Limburg (PV)  715.0    1067.0   1115171.0  2020       mei        5\n",
      "4111    Limburg (PV)  680.0     899.0   1114680.0  2020      juni        6\n",
      "4112    Limburg (PV)  832.0     914.0   1113757.0  2020      juli        7\n",
      "4113    Limburg (PV)  787.0     932.0   1114531.0  2020  augustus        8\n",
      "\n",
      "[2688 rows x 7 columns]\n"
     ]
    }
   ],
   "source": [
    "print('Provincie')\n",
    "print(pop_y)\n",
    "pop_y_pv = pop_y[pop_y['RegioS'].str.slice(start=-4) == '(PV)']\n",
    "pop_y = pop_y[pop_y['RegioS'].str.slice(start=-4) != '(PV)']\n",
    "print(pop_y_pv)\n",
    "pop_m_pv = pop_m[pop_m['RegioS'].str.slice(start=-4) == '(PV)']\n",
    "pop_m = pop_m[pop_m['RegioS'].str.slice(start=-4) != '(PV)']\n",
    "print(pop_m_pv)"
   ]
  },
  {
   "cell_type": "code",
   "execution_count": 12,
   "metadata": {},
   "outputs": [
    {
     "name": "stdout",
     "output_type": "stream",
     "text": [
      "COROP-gebied\n",
      "                     RegioS    Born  Deceased  Population  year\n",
      "4126    Oost-Groningen (CR)  1706.0    1741.0    154634.0  2002\n",
      "4139    Oost-Groningen (CR)  1592.0    1795.0    154611.0  2003\n",
      "4152    Oost-Groningen (CR)  1509.0    1633.0    153912.0  2004\n",
      "4165    Oost-Groningen (CR)  1477.0    1662.0    154302.0  2005\n",
      "4178    Oost-Groningen (CR)  1443.0    1659.0    153809.0  2006\n",
      "...                     ...     ...       ...         ...   ...\n",
      "147075               Zwolle  1491.0     967.0    124896.0  2015\n",
      "147088               Zwolle  1541.0     913.0    125548.0  2016\n",
      "147101               Zwolle  1443.0     977.0    126116.0  2017\n",
      "147114               Zwolle  1458.0     988.0    127497.0  2018\n",
      "147127               Zwolle  1460.0     953.0    128840.0  2019\n",
      "\n",
      "[10638 rows x 5 columns]\n",
      "                    RegioS    Born  Deceased  Population  year\n",
      "4126   Oost-Groningen (CR)  1706.0    1741.0    154634.0  2002\n",
      "4139   Oost-Groningen (CR)  1592.0    1795.0    154611.0  2003\n",
      "4152   Oost-Groningen (CR)  1509.0    1633.0    153912.0  2004\n",
      "4165   Oost-Groningen (CR)  1477.0    1662.0    154302.0  2005\n",
      "4178   Oost-Groningen (CR)  1443.0    1659.0    153809.0  2006\n",
      "...                    ...     ...       ...         ...   ...\n",
      "13733       Flevoland (CR)  4735.0    2260.0    404068.0  2015\n",
      "13746       Flevoland (CR)  4706.0    2377.0    407818.0  2016\n",
      "13759       Flevoland (CR)  4565.0    2282.0    411670.0  2017\n",
      "13772       Flevoland (CR)  4793.0    2486.0    416546.0  2018\n",
      "13785       Flevoland (CR)  4892.0    2469.0    423021.0  2019\n",
      "\n",
      "[720 rows x 5 columns]\n",
      "                    RegioS   Born  Deceased  Population  year     month  \\\n",
      "4114   Oost-Groningen (CR)  150.0     172.0    154615.0  2002   januari   \n",
      "4115   Oost-Groningen (CR)  147.0     142.0    154581.0  2002  februari   \n",
      "4116   Oost-Groningen (CR)  127.0     170.0    154585.0  2002     maart   \n",
      "4117   Oost-Groningen (CR)  125.0     152.0    154595.0  2002     april   \n",
      "4118   Oost-Groningen (CR)  140.0     147.0    154624.0  2002       mei   \n",
      "...                    ...    ...       ...         ...   ...       ...   \n",
      "13789       Flevoland (CR)  391.0     275.0    424957.0  2020     april   \n",
      "13790       Flevoland (CR)  382.0     206.0    425190.0  2020       mei   \n",
      "13791       Flevoland (CR)  369.0     203.0    425528.0  2020      juni   \n",
      "13792       Flevoland (CR)  485.0     169.0    426054.0  2020      juli   \n",
      "13793       Flevoland (CR)  406.0     224.0    426472.0  2020  augustus   \n",
      "\n",
      "       monthNr  \n",
      "4114         1  \n",
      "4115         2  \n",
      "4116         3  \n",
      "4117         4  \n",
      "4118         5  \n",
      "...        ...  \n",
      "13789        4  \n",
      "13790        5  \n",
      "13791        6  \n",
      "13792        7  \n",
      "13793        8  \n",
      "\n",
      "[8960 rows x 7 columns]\n"
     ]
    }
   ],
   "source": [
    "print('COROP-gebied')\n",
    "print(pop_y)\n",
    "pop_y_cr = pop_y[pop_y['RegioS'].str.slice(start=-4) == '(CR)']\n",
    "pop_y = pop_y[pop_y['RegioS'].str.slice(start=-4) != '(CR)']\n",
    "print(pop_y_cr)\n",
    "pop_m_cr = pop_m[pop_m['RegioS'].str.slice(start=-4) == '(CR)']\n",
    "pop_m = pop_m[pop_m['RegioS'].str.slice(start=-4) != '(CR)']\n",
    "print(pop_m_cr)"
   ]
  },
  {
   "cell_type": "code",
   "execution_count": 13,
   "metadata": {},
   "outputs": [
    {
     "name": "stdout",
     "output_type": "stream",
     "text": [
      "Gemeenten\n",
      "             RegioS    Born  Deceased  Population  year\n",
      "13806   Aa en Hunze   289.0     251.0     25305.0  2002\n",
      "13819   Aa en Hunze   279.0     241.0     25218.0  2003\n",
      "13832   Aa en Hunze   233.0     221.0     25329.0  2004\n",
      "13845   Aa en Hunze   230.0     231.0     25507.0  2005\n",
      "13858   Aa en Hunze   216.0     212.0     25563.0  2006\n",
      "...             ...     ...       ...         ...   ...\n",
      "147075       Zwolle  1491.0     967.0    124896.0  2015\n",
      "147088       Zwolle  1541.0     913.0    125548.0  2016\n",
      "147101       Zwolle  1443.0     977.0    126116.0  2017\n",
      "147114       Zwolle  1458.0     988.0    127497.0  2018\n",
      "147127       Zwolle  1460.0     953.0    128840.0  2019\n",
      "\n",
      "[9918 rows x 5 columns]\n",
      "             RegioS   Born  Deceased  Population  year     month  monthNr\n",
      "13794   Aa en Hunze   25.0      21.0     25578.0  2002   januari        1\n",
      "13795   Aa en Hunze   27.0      16.0     25606.0  2002  februari        2\n",
      "13796   Aa en Hunze   36.0      23.0     25594.0  2002     maart        3\n",
      "13797   Aa en Hunze   20.0      13.0     25625.0  2002     april        4\n",
      "13798   Aa en Hunze   28.0      20.0     25621.0  2002       mei        5\n",
      "...             ...    ...       ...         ...   ...       ...      ...\n",
      "147131       Zwolle  117.0     152.0    129038.0  2020     april        4\n",
      "147132       Zwolle  139.0      59.0    129152.0  2020       mei        5\n",
      "147133       Zwolle   97.0      72.0    129142.0  2020      juni        6\n",
      "147134       Zwolle  131.0      61.0    129213.0  2020      juli        7\n",
      "147135       Zwolle  120.0      74.0    129352.0  2020  augustus        8\n",
      "\n",
      "[123424 rows x 7 columns]\n"
     ]
    }
   ],
   "source": [
    "print('Gemeenten')\n",
    "pop_y_gm = pop_y\n",
    "del(pop_y)\n",
    "print(pop_y_gm)\n",
    "\n",
    "pop_m_gm = pop_m\n",
    "del(pop_m)\n",
    "print(pop_m_gm)"
   ]
  },
  {
   "cell_type": "code",
   "execution_count": 33,
   "metadata": {},
   "outputs": [
    {
     "data": {
      "text/plain": [
       "array([<AxesSubplot:>, <AxesSubplot:>, <AxesSubplot:>, <AxesSubplot:>,\n",
       "       <AxesSubplot:>], dtype=object)"
      ]
     },
     "execution_count": 33,
     "metadata": {},
     "output_type": "execute_result"
    },
    {
     "data": {
      "image/png": "[encoded data removed]",
      "text/plain": [
       "<Figure size 432x288 with 5 Axes>"
      ]
     },
     "metadata": {
      "needs_background": "light"
     },
     "output_type": "display_data"
    }
   ],
   "source": [
    "pop_m_nl.plot(subplots=True)"
   ]
  },
  {
   "cell_type": "code",
   "execution_count": 26,
   "metadata": {},
   "outputs": [
    {
     "data": {
      "text/plain": [
       "<AxesSubplot:xlabel='year'>"
      ]
     },
     "execution_count": 26,
     "metadata": {},
     "output_type": "execute_result"
    },
    {
     "data": {
      "image/png": "[encoded data removed]",
      "text/plain": [
       "<Figure size 432x288 with 1 Axes>"
      ]
     },
     "metadata": {
      "needs_background": "light"
     },
     "output_type": "display_data"
    }
   ],
   "source": [
    "pop_y_nl.plot(x='year',y=['Deceased','Population'])"
   ]
  },
  {
   "cell_type": "code",
   "execution_count": null,
   "metadata": {},
   "outputs": [],
   "source": [
    "pop_reg = pd.DataFrame(cbs.get_data('70072ned'))\n",
    "print(population.head())\n",
    "print('Regionale kerncijfers Nederland 1995-now (Population statistics, regional): IMPORTED')"
   ]
  },
  {
   "cell_type": "markdown",
   "metadata": {},
   "source": [
    "### and then reproducting the coronadashboard\n",
    "The data I use is the sources used formhet Coronadashbord of the Dutch government. https://coronadashboard.rijksoverheid.nl/\n",
    "  \n",
    "This contains:\n",
    "*medical indicators*"
   ]
  },
  {
   "cell_type": "code",
   "execution_count": null,
   "metadata": {},
   "outputs": [],
   "source": [
    "print(\"- number of positive tests\")\n",
    "# number of positive tests (https://data.rivm.nl/geonetwork/srv/dut/catalog.search#/metadata/5f6bc429-1596-490e-8618-1ed8fd768427)\n",
    "pt = pd.read_json('https://data.rivm.nl/covid-19/COVID-19_aantallen_gemeente_per_dag.json')\n",
    "#print(pt.head())"
   ]
  },
  {
   "cell_type": "code",
   "execution_count": null,
   "metadata": {},
   "outputs": [],
   "source": [
    "# correct dates\n",
    "pt['Date_of_report'] = pd.to_datetime(pt['Date_of_report']).dt.date\n",
    "pt['Date_of_publication'] = pd.to_datetime(pt['Date_of_publication']).dt.date\n",
    "#print(pt.head())"
   ]
  },
  {
   "cell_type": "code",
   "execution_count": null,
   "metadata": {},
   "outputs": [],
   "source": [
    "# Gemiddeld aantal positief geteste mensen per 100.000 inwoners\n",
    "## Dit getal laat zien van hoeveel mensen gisteren per 100.000 inwoners gemeld is dat ze positief getest zijn en COVID-19 hebben.\n",
    "pt_agg = pt.groupby('Date_of_publication').sum()\n",
    "pt_agg['p100k'] = pt_agg['Total_reported'] / population_total * 100000\n",
    "#pt_agg\n",
    "#pt_agg['mov_avg_p100k'] = np.average(pt_agg['']])\n",
    "#np.mean(pt[len(pt.columns)-1].Total_reported)"
   ]
  },
  {
   "cell_type": "code",
   "execution_count": null,
   "metadata": {},
   "outputs": [],
   "source": [
    "# Aantal positief geteste mensen\n",
    "## Dit getal laat zien van hoeveel mensen gisteren gemeld is dat ze positief getest zijn en COVID-19 hebben."
   ]
  },
  {
   "cell_type": "code",
   "execution_count": null,
   "metadata": {},
   "outputs": [],
   "source": [
    "#Verdeling positief geteste mensen in Nederland\n",
    "## per gemeente\n",
    "\n",
    "## per veiligheidsregio\n",
    "\n"
   ]
  },
  {
   "cell_type": "code",
   "execution_count": null,
   "metadata": {},
   "outputs": [],
   "source": [
    "# TESTING BOKEH WITH OTHER DATA\n",
    "# pt_agg = pt.groupby(by=['Date_of_report'],as_index=False).sum()\n",
    "\n",
    "#q = figure(plot_width=800, plot_height=400, title=\"My Line Plot\", x_axis_type=\"datetime\")\n",
    "\"\"\"\n",
    "q.multi_line(\n",
    "    xs=[\n",
    "        pt_agg['Date_of_report'],\n",
    "        pt_agg['Date_of_report'],\n",
    "        pt_agg['Date_of_report']\n",
    "    ],\n",
    "    ys=[\n",
    "        pt_agg['Deceased'], \n",
    "        pt_agg['Hospital_admission'],\n",
    "        pt_agg['Total_reported']\n",
    "    ],\n",
    "    color=viridis(len(pt_agg.columns)-1)\n",
    ")\n",
    "\"\"\"\n",
    "#show(q)"
   ]
  },
  {
   "cell_type": "code",
   "execution_count": null,
   "metadata": {},
   "outputs": [],
   "source": [
    "print(\"- Percentage positive tested of all tests done\")\n",
    "# https://www.rivm.nl/archief-weekrapportages-covid-19-in-nederland\n",
    "pt_perc = tabula.read_pdf('https://www.rivm.nl/sites/default/files/2020-10/COVID-19_WebSite_rapport_wekelijks_20201013_1159_0.pdf', pages=29, guess=True, stream=True)\n",
    "print(pt_perc)\n",
    "\n",
    "## To DO:\n",
    "## 1) extract data from latest pdf\n",
    "## 2) scrape all pdfs for data to compare data thought time"
   ]
  },
  {
   "cell_type": "code",
   "execution_count": null,
   "metadata": {},
   "outputs": [],
   "source": [
    "print(\"- number of infectious people\")\n",
    "# https://data.rivm.nl/geonetwork/srv/dut/catalog.search#/metadata/097155aa-75eb-4caa-8ed3-4c6edb80467e\n",
    "infected = pd.read_json('https://data.rivm.nl/covid-19/COVID-19_prevalentie.json')\n",
    "print(infected.head())"
   ]
  },
  {
   "cell_type": "code",
   "execution_count": null,
   "metadata": {},
   "outputs": [],
   "source": [
    "print(\"- R (reproductionnumber)\")\n",
    "# https://data.rivm.nl/geonetwork/srv/dut/catalog.search#/metadata/ed0699d1-c9d5-4436-8517-27eb993eab6e\n",
    "R = pd.read_json('https://data.rivm.nl/covid-19/COVID-19_reproductiegetal.json')\n",
    "print(R.head())"
   ]
  },
  {
   "cell_type": "code",
   "execution_count": null,
   "metadata": {},
   "outputs": [],
   "source": [
    "print(\"- hospital admissions per day\")\n",
    "# NICE https://www.databronnencovid19.nl/Bron?naam=Nationale-Intensive-Care-Evaluatie\n",
    "hosp_nice = pd.read_json('https://stichting-nice.nl/covid-19/public/intake-count/')\n",
    "print(hosp_nice.head())\n",
    "# LCPS https://lcps.nu/datafeed/\n",
    "hosp_lcps = pd.read_csv('https://lcps.nu/wp-content/uploads/covid-19.csv')\n",
    "print(hosp_lcps.head())\n",
    "# Dashbaord changed source data https://www.nu.nl/coronavirus/6083846/ministerie-meldde-maandenlang-veel-te-weinig-opnames-coronapatienten.html\n",
    "# other sources: https://www.stichting-nice.nl/covid-19-op-de-zkh.jsp"
   ]
  },
  {
   "cell_type": "code",
   "execution_count": null,
   "metadata": {},
   "outputs": [],
   "source": [
    "print(\"- icu admissions per day\")\n",
    "# url\n",
    "ic_NICE_new_intake = pd.read_json('https://stichting-nice.nl/covid-19/public/new-intake/').T\n",
    "ic_NICE_new_intake0 = pd.DataFrame()\n",
    "for row in ic_NICE_new_intake[0]:\n",
    "    ic_NICE_new_intake0 = ic_NICE_new_intake0.append(row, ignore_index=True)\n",
    "print(ic_NICE_new_intake0)\n",
    "ic_NICE_new_intake0['date'] = ic_NICE_new_intake['date']\n",
    "ic_NICE_new_intake1 = pd.DataFrame()\n",
    "for row in ic_NICE_new_intake[1]:\n",
    "    ic_NICE_new_intake1 = ic_NICE_new_intake1.append(row, ignore_index=True)\n",
    "ic_NICE_new_intake01 = pd.concat([ic_NICE_new_intake0,ic_NICE_new_intake1])\n",
    "print(ic_NICE_new_intake01.head())\n",
    "ic_NICE_new_intake_confirmed = pd.read_json('https://stichting-nice.nl/covid-19/public/new-intake/confirmed/')\n",
    "#print(ic_NICE_new_intake_confirmed.head())\n",
    "ic_NICE_intake_count = pd.read_json('https://stichting-nice.nl/covid-19/public/intake-count/')\n",
    "#print(ic_NICE_intake_count.head())\n",
    "print('IC data: 3 sources IMPORTED')\n",
    "## To DO: conpare ic1 and ic2\n",
    "#other sources: "
   ]
  },
  {
   "cell_type": "code",
   "execution_count": null,
   "metadata": {},
   "outputs": [],
   "source": [
    "ic_NICE_new_intake0"
   ]
  },
  {
   "cell_type": "code",
   "execution_count": null,
   "metadata": {},
   "outputs": [],
   "source": [
    "# SINGLE LINE TEST\n",
    "# create a new plot (with a title) using figure\n",
    "ic_new_intake0 = figure(plot_width=800, plot_height=400, x_axis_type=\"datetime\", title=\"NICE new-intake\")\n",
    "# add a line renderer \n",
    "ic_new_intake0.line(\n",
    "    ic_NICE_new_intake0['date'], \n",
    "    ic_NICE_new_intake0['value']\n",
    ")\n",
    "show(ic_new_intake0)"
   ]
  },
  {
   "cell_type": "code",
   "execution_count": null,
   "metadata": {},
   "outputs": [],
   "source": [
    "# SINGLE LINE TEST\n",
    "# create a new plot (with a title) using figure\n",
    "ic_new_intake_confirmed = figure(plot_width=800, plot_height=400, x_axis_type=\"datetime\", title=\"NICE new-intake confirmed\")\n",
    "# add a line renderer \n",
    "ic_new_intake_confirmed.line(\n",
    "    ic_NICE_new_intake_confirmed['date'], \n",
    "    ic_NICE_new_intake_confirmed['value']\n",
    ")"
   ]
  },
  {
   "cell_type": "code",
   "execution_count": null,
   "metadata": {},
   "outputs": [],
   "source": [
    "# SINGLE LINE TEST\n",
    "# create a new plot (with a title) using figure\n",
    "ic_intake_count = figure(plot_width=800, plot_height=400, x_axis_type=\"datetime\", title=\"NICE intake count\")\n",
    "# add a line renderer \n",
    "ic_intake_count.line(\n",
    "    ic_NICE_intake_count['date'], \n",
    "    ic_NICE_intake_count['value']\n",
    ")"
   ]
  },
  {
   "cell_type": "code",
   "execution_count": null,
   "metadata": {},
   "outputs": [],
   "source": [
    "## MULTIPLE LINE TEST\n",
    "ic_all = figure(title=\"IC1 & IC_opnames_NICE\", plot_width=800, plot_height=400, x_axis_type=\"datetime\")\n",
    "\n",
    "ic_all.multi_line([ic1.date, ic_opnames.date],\n",
    "              [ic1.value, ic_opnames.value],\n",
    "              color=viridis(3))"
   ]
  },
  {
   "cell_type": "code",
   "execution_count": null,
   "metadata": {},
   "outputs": [],
   "source": [
    "show(ic_new_intake)\n",
    "show(ic_new_intake_confirmed)\n",
    "show(ic_intake_count)\n",
    "show(ic_all)"
   ]
  },
  {
   "cell_type": "code",
   "execution_count": null,
   "metadata": {},
   "outputs": [],
   "source": [
    "## sources NICE for their website:\n",
    "# /covid-19/public/zkh/global\n",
    "# /covid-19/public/zkh/new-intake/\n",
    "# /covid-19/public/zkh/intake-count/\n",
    "# /covid-19/public/zkh/intake-cumulative/\n",
    "# /covid-19/public/zkh/died-and-survivors-cumulative/\n",
    "# /covid-19/public/zkh/age-distribution-died-and-survivors/\n",
    "# /covid-19/public/zkh/age-distribution-status/\n",
    "# /covid-19/public/zkh/behandelduur-distribution/\n",
    "# /covid-19/public/zkh/behandelduur-distribution/\n",
    "## TO DO: check which used and which to use extra.\n",
    "## sources LCPS?\n",
    "# https://lcps.nu/wp-content/uploads/\n",
    "## Maybe scrape website to find more public data: https://scrapy.org/ OR https://www.crummy.com/software/BeautifulSoup/bs4/doc/"
   ]
  },
  {
   "cell_type": "markdown",
   "metadata": {},
   "source": [
    "*early signs*"
   ]
  },
  {
   "cell_type": "code",
   "execution_count": null,
   "metadata": {},
   "outputs": [],
   "source": [
    "print(\"- patient reporting covid symptoms at family doctor\")\n",
    "# https://www.nivel.nl/nl/nivel-zorgregistraties-eerste-lijn/nivel-zorgregistraties-eerste-lijn\n"
   ]
  },
  {
   "cell_type": "code",
   "execution_count": null,
   "metadata": {},
   "outputs": [],
   "source": [
    "print(\"- sewagewate\")\n",
    "# https://data.rivm.nl/geonetwork/srv/dut/catalog.search#/metadata/a2960b68-9d3f-4dc3-9485-600570cd52b9\n",
    "sw = pd.read_json('https://data.rivm.nl/covid-19/COVID-19_rioolwaterdata.json')\n",
    "print(sw.head())"
   ]
  },
  {
   "cell_type": "markdown",
   "metadata": {},
   "source": [
    "*homes for elderly*"
   ]
  },
  {
   "cell_type": "code",
   "execution_count": null,
   "metadata": {},
   "outputs": [],
   "source": [
    "print(\"- positive testst\")\n",
    "# from pdf. https://www.rivm.nl/documenten/wekelijkse-update-epidemiologische-situatie-covid-19-in-nederland"
   ]
  },
  {
   "cell_type": "code",
   "execution_count": null,
   "metadata": {},
   "outputs": [],
   "source": [
    "print(\"- infected locations\")\n",
    "# from pdf. https://www.rivm.nl/documenten/wekelijkse-update-epidemiologische-situatie-covid-19-in-nederland"
   ]
  },
  {
   "cell_type": "code",
   "execution_count": null,
   "metadata": {},
   "outputs": [],
   "source": [
    "print(\"- number deseased\")\n",
    "# from pdf. https://www.rivm.nl/documenten/wekelijkse-update-epidemiologische-situatie-covid-19-in-nederland"
   ]
  },
  {
   "cell_type": "markdown",
   "metadata": {},
   "source": [
    "**metadata**"
   ]
  },
  {
   "cell_type": "code",
   "execution_count": null,
   "metadata": {},
   "outputs": [],
   "source": [
    "print(\"- municipalities in Netherlands\")\n",
    "## https://www.cbs.nl/nl-nl/onze-diensten/methoden/classificaties/overig/gemeentelijke-indelingen-per-jaar/indeling%20per%20jaar/gemeentelijke-indeling-op-1-januari-2020\n",
    "municipality = pd.read_excel('https://www.cbs.nl/-/media/_excel/2020/03/gemeenten-alfabetisch-2020.xlsx')\n",
    "print(municipality.head())\n",
    "# aantallen per gemeente: https://data.rivm.nl/geonetwork/srv/dut/catalog.search#/metadata/5f6bc429-1596-490e-8618-1ed8fd768427\n"
   ]
  },
  {
   "cell_type": "markdown",
   "metadata": {},
   "source": [
    "### missing data, i would like to calculate of collect\n",
    "- covid numbers relitive to all data\n",
    "- deseased for whole country (possible source: https://data.rivm.nl/geonetwork/srv/dut/catalog.search#/metadata/1c0fcd57-1102-4620-9cfa-441e93ea5604)\n",
    "\n",
    "### more data"
   ]
  },
  {
   "cell_type": "markdown",
   "metadata": {},
   "source": [
    "- Karakteristieken elke geteste persoon: https://data.rivm.nl/geonetwork/srv/dut/catalog.search#/metadata/2c4357c8-76e4-4662-9574-1deb8a73f724?tab=relations\n",
    "- https://data.rivm.nl"
   ]
  },
  {
   "cell_type": "code",
   "execution_count": null,
   "metadata": {},
   "outputs": [],
   "source": [
    "#check data collection\n",
    "from pivottablejs import pivot_ui\n",
    "from IPython.display import HTML\n",
    "\n",
    "df_to_check = ic1\n",
    "\n",
    "pivot_ui(df_to_check, outfile_path='pivottablejs.html')\n",
    "HTML('pivottablejs.html')"
   ]
  },
  {
   "cell_type": "code",
   "execution_count": null,
   "metadata": {},
   "outputs": [],
   "source": []
  }
 ],
 "metadata": {
  "kernelspec": {
   "display_name": "Python 3",
   "language": "python",
   "name": "python3"
  },
  "language_info": {
   "codemirror_mode": {
    "name": "ipython",
    "version": 3
   },
   "file_extension": ".py",
   "mimetype": "text/x-python",
   "name": "python",
   "nbconvert_exporter": "python",
   "pygments_lexer": "ipython3",
   "version": "3.7.3"
  }
 },
 "nbformat": 4,
 "nbformat_minor": 4
}
